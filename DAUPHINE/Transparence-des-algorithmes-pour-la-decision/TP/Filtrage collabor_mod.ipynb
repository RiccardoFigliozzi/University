{
 "cells": [
  {
   "cell_type": "code",
   "execution_count": 1,
   "metadata": {},
   "outputs": [],
   "source": [
    "import pandas as pd\n",
    "import math as ma"
   ]
  },
  {
   "cell_type": "code",
   "execution_count": 2,
   "metadata": {},
   "outputs": [],
   "source": [
    "data=pd.read_csv(\"film2.csv\")"
   ]
  },
  {
   "cell_type": "code",
   "execution_count": 3,
   "metadata": {},
   "outputs": [
    {
     "data": {
      "text/html": [
       "<div>\n",
       "<style scoped>\n",
       "    .dataframe tbody tr th:only-of-type {\n",
       "        vertical-align: middle;\n",
       "    }\n",
       "\n",
       "    .dataframe tbody tr th {\n",
       "        vertical-align: top;\n",
       "    }\n",
       "\n",
       "    .dataframe thead th {\n",
       "        text-align: right;\n",
       "    }\n",
       "</style>\n",
       "<table border=\"1\" class=\"dataframe\">\n",
       "  <thead>\n",
       "    <tr style=\"text-align: right;\">\n",
       "      <th></th>\n",
       "      <th>critique</th>\n",
       "      <th>Lady</th>\n",
       "      <th>Snakes</th>\n",
       "      <th>Luck</th>\n",
       "      <th>Superman</th>\n",
       "      <th>Dupree</th>\n",
       "      <th>Night</th>\n",
       "    </tr>\n",
       "  </thead>\n",
       "  <tbody>\n",
       "    <tr>\n",
       "      <th>0</th>\n",
       "      <td>Lisa Rose</td>\n",
       "      <td>2.5</td>\n",
       "      <td>3.5</td>\n",
       "      <td>3.0</td>\n",
       "      <td>3.5</td>\n",
       "      <td>2.5</td>\n",
       "      <td>3.0</td>\n",
       "    </tr>\n",
       "    <tr>\n",
       "      <th>1</th>\n",
       "      <td>Gene Seymour</td>\n",
       "      <td>3.0</td>\n",
       "      <td>3.5</td>\n",
       "      <td>1.5</td>\n",
       "      <td>5.0</td>\n",
       "      <td>3.5</td>\n",
       "      <td>3.0</td>\n",
       "    </tr>\n",
       "    <tr>\n",
       "      <th>2</th>\n",
       "      <td>Michael Phillips</td>\n",
       "      <td>2.5</td>\n",
       "      <td>3.0</td>\n",
       "      <td>NaN</td>\n",
       "      <td>3.5</td>\n",
       "      <td>NaN</td>\n",
       "      <td>4.0</td>\n",
       "    </tr>\n",
       "    <tr>\n",
       "      <th>3</th>\n",
       "      <td>Claudia Puig</td>\n",
       "      <td>NaN</td>\n",
       "      <td>3.5</td>\n",
       "      <td>3.0</td>\n",
       "      <td>4.0</td>\n",
       "      <td>2.5</td>\n",
       "      <td>4.5</td>\n",
       "    </tr>\n",
       "    <tr>\n",
       "      <th>4</th>\n",
       "      <td>Mick Lasalle</td>\n",
       "      <td>3.0</td>\n",
       "      <td>4.0</td>\n",
       "      <td>2.0</td>\n",
       "      <td>3.0</td>\n",
       "      <td>2.0</td>\n",
       "      <td>3.0</td>\n",
       "    </tr>\n",
       "    <tr>\n",
       "      <th>5</th>\n",
       "      <td>Jack Matthews</td>\n",
       "      <td>3.0</td>\n",
       "      <td>4.0</td>\n",
       "      <td>NaN</td>\n",
       "      <td>5.0</td>\n",
       "      <td>3.5</td>\n",
       "      <td>3.0</td>\n",
       "    </tr>\n",
       "    <tr>\n",
       "      <th>6</th>\n",
       "      <td>Toby</td>\n",
       "      <td>NaN</td>\n",
       "      <td>4.5</td>\n",
       "      <td>NaN</td>\n",
       "      <td>4.0</td>\n",
       "      <td>1.0</td>\n",
       "      <td>NaN</td>\n",
       "    </tr>\n",
       "    <tr>\n",
       "      <th>7</th>\n",
       "      <td>Anne</td>\n",
       "      <td>1.5</td>\n",
       "      <td>NaN</td>\n",
       "      <td>4.0</td>\n",
       "      <td>NaN</td>\n",
       "      <td>2.0</td>\n",
       "      <td>NaN</td>\n",
       "    </tr>\n",
       "  </tbody>\n",
       "</table>\n",
       "</div>"
      ],
      "text/plain": [
       "           critique  Lady  Snakes  Luck  Superman  Dupree  Night\n",
       "0         Lisa Rose   2.5     3.5   3.0       3.5     2.5    3.0\n",
       "1      Gene Seymour   3.0     3.5   1.5       5.0     3.5    3.0\n",
       "2  Michael Phillips   2.5     3.0   NaN       3.5     NaN    4.0\n",
       "3      Claudia Puig   NaN     3.5   3.0       4.0     2.5    4.5\n",
       "4      Mick Lasalle   3.0     4.0   2.0       3.0     2.0    3.0\n",
       "5     Jack Matthews   3.0     4.0   NaN       5.0     3.5    3.0\n",
       "6              Toby   NaN     4.5   NaN       4.0     1.0    NaN\n",
       "7              Anne   1.5     NaN   4.0       NaN     2.0    NaN"
      ]
     },
     "execution_count": 3,
     "metadata": {},
     "output_type": "execute_result"
    }
   ],
   "source": [
    "data"
   ]
  },
  {
   "cell_type": "code",
   "execution_count": 4,
   "metadata": {},
   "outputs": [],
   "source": [
    "data.fillna(\"No rating\", inplace = True)"
   ]
  },
  {
   "cell_type": "code",
   "execution_count": 5,
   "metadata": {},
   "outputs": [
    {
     "data": {
      "text/html": [
       "<div>\n",
       "<style scoped>\n",
       "    .dataframe tbody tr th:only-of-type {\n",
       "        vertical-align: middle;\n",
       "    }\n",
       "\n",
       "    .dataframe tbody tr th {\n",
       "        vertical-align: top;\n",
       "    }\n",
       "\n",
       "    .dataframe thead th {\n",
       "        text-align: right;\n",
       "    }\n",
       "</style>\n",
       "<table border=\"1\" class=\"dataframe\">\n",
       "  <thead>\n",
       "    <tr style=\"text-align: right;\">\n",
       "      <th></th>\n",
       "      <th>critique</th>\n",
       "      <th>Lady</th>\n",
       "      <th>Snakes</th>\n",
       "      <th>Luck</th>\n",
       "      <th>Superman</th>\n",
       "      <th>Dupree</th>\n",
       "      <th>Night</th>\n",
       "    </tr>\n",
       "  </thead>\n",
       "  <tbody>\n",
       "    <tr>\n",
       "      <th>6</th>\n",
       "      <td>Toby</td>\n",
       "      <td>No rating</td>\n",
       "      <td>4.5</td>\n",
       "      <td>No rating</td>\n",
       "      <td>4</td>\n",
       "      <td>1</td>\n",
       "      <td>No rating</td>\n",
       "    </tr>\n",
       "  </tbody>\n",
       "</table>\n",
       "</div>"
      ],
      "text/plain": [
       "  critique       Lady Snakes       Luck Superman Dupree      Night\n",
       "6     Toby  No rating    4.5  No rating        4      1  No rating"
      ]
     },
     "execution_count": 5,
     "metadata": {},
     "output_type": "execute_result"
    }
   ],
   "source": [
    "data[data['critique']=='Toby']"
   ]
  },
  {
   "cell_type": "markdown",
   "metadata": {},
   "source": [
    "### Manhattan"
   ]
  },
  {
   "cell_type": "code",
   "execution_count": 6,
   "metadata": {},
   "outputs": [],
   "source": [
    "def sim_distanceManhattan(pers1, pers2):\n",
    "    pers1 = data[data['critique']==pers1]\n",
    "    pers1= pers1.reset_index(drop=True)\n",
    "    pers2 = data[data['critique']==pers2]\n",
    "    pers2= pers2.reset_index(drop=True)\n",
    "    diff=0\n",
    "    for i in range(1, pers1.shape[1]):\n",
    "        if (pers1.iloc[0,i]==\"No rating\" or pers2.iloc[0,i] ==\"No rating\"):\n",
    "            continue\n",
    "        else:\n",
    "            diff+=abs(pers1.iloc[0,i]-pers2.iloc[0,i])\n",
    "    return diff"
   ]
  },
  {
   "cell_type": "code",
   "execution_count": 7,
   "metadata": {},
   "outputs": [
    {
     "data": {
      "text/plain": [
       "3.0"
      ]
     },
     "execution_count": 7,
     "metadata": {},
     "output_type": "execute_result"
    }
   ],
   "source": [
    "sim_distanceManhattan('Lisa Rose', 'Toby')"
   ]
  },
  {
   "cell_type": "code",
   "execution_count": 8,
   "metadata": {},
   "outputs": [
    {
     "data": {
      "text/plain": [
       "4.5"
      ]
     },
     "execution_count": 8,
     "metadata": {},
     "output_type": "execute_result"
    }
   ],
   "source": [
    "sim_distanceManhattan('Lisa Rose', 'Gene Seymour')"
   ]
  },
  {
   "cell_type": "markdown",
   "metadata": {},
   "source": [
    "### Euclidean"
   ]
  },
  {
   "cell_type": "code",
   "execution_count": 9,
   "metadata": {},
   "outputs": [],
   "source": [
    "def sim_distanceEuclidienne(pers1, pers2):\n",
    "    pers1 = data[data['critique']==pers1]\n",
    "    pers1= pers1.reset_index(drop=True)\n",
    "    pers2 = data[data['critique']==pers2]\n",
    "    pers2= pers2.reset_index(drop=True)\n",
    "    summ=0\n",
    "    for i in range(1, pers1.shape[1]):\n",
    "        if (pers1.iloc[0,i]==\"No rating\" or pers2.iloc[0,i] ==\"No rating\"):\n",
    "            continue\n",
    "        else:\n",
    "            summ+= ((pers1.iloc[0,i]-pers2.iloc[0,i])**2)\n",
    "    return ma.sqrt(summ)"
   ]
  },
  {
   "cell_type": "code",
   "execution_count": 10,
   "metadata": {},
   "outputs": [
    {
     "data": {
      "text/plain": [
       "2.3979157616563596"
      ]
     },
     "execution_count": 10,
     "metadata": {},
     "output_type": "execute_result"
    }
   ],
   "source": [
    "sim_distanceEuclidienne('Lisa Rose', 'Gene Seymour')"
   ]
  },
  {
   "cell_type": "code",
   "execution_count": 11,
   "metadata": {},
   "outputs": [
    {
     "data": {
      "text/plain": [
       "1.8708286933869707"
      ]
     },
     "execution_count": 11,
     "metadata": {},
     "output_type": "execute_result"
    }
   ],
   "source": [
    "sim_distanceEuclidienne('Lisa Rose', 'Toby')"
   ]
  },
  {
   "cell_type": "markdown",
   "metadata": {},
   "source": [
    "### Nearest Neighbor"
   ]
  },
  {
   "cell_type": "code",
   "execution_count": 12,
   "metadata": {},
   "outputs": [],
   "source": [
    "Critiques = [ ]\n",
    "for i in range(len(data)):\n",
    "    Critiques.append(data.iloc[i,0])"
   ]
  },
  {
   "cell_type": "code",
   "execution_count": 13,
   "metadata": {},
   "outputs": [
    {
     "data": {
      "text/plain": [
       "['Lisa Rose',\n",
       " 'Gene Seymour',\n",
       " 'Michael Phillips',\n",
       " 'Claudia Puig',\n",
       " 'Mick Lasalle',\n",
       " 'Jack Matthews',\n",
       " 'Toby',\n",
       " 'Anne']"
      ]
     },
     "execution_count": 13,
     "metadata": {},
     "output_type": "execute_result"
    }
   ],
   "source": [
    "Critiques"
   ]
  },
  {
   "cell_type": "code",
   "execution_count": 14,
   "metadata": {},
   "outputs": [],
   "source": [
    "def computeNearestNeighbor(nouveauCritique, Critiques): \n",
    "    distances=[ ]\n",
    "    for i in Critiques:\n",
    "        if nouveauCritique != i:\n",
    "            distances.append((sim_distanceManhattan(i, nouveauCritique),i))\n",
    "            distances.sort()\n",
    "        else :\n",
    "            continue\n",
    "    return distances"
   ]
  },
  {
   "cell_type": "code",
   "execution_count": 15,
   "metadata": {},
   "outputs": [
    {
     "data": {
      "text/plain": [
       "[(1.5, 'Michael Phillips'),\n",
       " (2.0, 'Claudia Puig'),\n",
       " (2.5, 'Anne'),\n",
       " (3.0, 'Mick Lasalle'),\n",
       " (3.0, 'Toby'),\n",
       " (3.5, 'Jack Matthews'),\n",
       " (4.5, 'Gene Seymour')]"
      ]
     },
     "execution_count": 15,
     "metadata": {},
     "output_type": "execute_result"
    }
   ],
   "source": [
    "computeNearestNeighbor('Lisa Rose', Critiques)"
   ]
  },
  {
   "cell_type": "code",
   "execution_count": 16,
   "metadata": {},
   "outputs": [],
   "source": [
    "def computeNearestNeighbor_Euclidean(nouveauCritique, Critiques): \n",
    "    distances=[ ]\n",
    "    for i in Critiques:\n",
    "        if nouveauCritique != i:\n",
    "            distances.append((sim_distanceEuclidienne(i, nouveauCritique),i))\n",
    "            distances.sort()\n",
    "        else :\n",
    "            continue\n",
    "    return distances"
   ]
  },
  {
   "cell_type": "code",
   "execution_count": 17,
   "metadata": {},
   "outputs": [
    {
     "data": {
      "text/plain": [
       "[(1.118033988749895, 'Michael Phillips'),\n",
       " (1.4142135623730951, 'Mick Lasalle'),\n",
       " (1.5, 'Anne'),\n",
       " (1.5811388300841898, 'Claudia Puig'),\n",
       " (1.8708286933869707, 'Toby'),\n",
       " (1.9364916731037085, 'Jack Matthews'),\n",
       " (2.3979157616563596, 'Gene Seymour')]"
      ]
     },
     "execution_count": 17,
     "metadata": {},
     "output_type": "execute_result"
    }
   ],
   "source": [
    "computeNearestNeighbor_Euclidean('Lisa Rose', Critiques)"
   ]
  },
  {
   "cell_type": "markdown",
   "metadata": {},
   "source": [
    "### Raccomandation"
   ]
  },
  {
   "cell_type": "code",
   "execution_count": 18,
   "metadata": {},
   "outputs": [],
   "source": [
    "def recommend(nouveauCritique):\n",
    "    nouveauCritique = data[data['critique']==nouveauCritique ]\n",
    "    nouveauCritique= nouveauCritique.reset_index(drop=True)\n",
    "    nn= [ ]\n",
    "    nn= computeNearestNeighbor(nouveauCritique.iloc[0,0], Critiques)\n",
    "    best=nn[0][1]\n",
    "    critique = data[data['critique']==nn[0][1]]\n",
    "    critique= critique.reset_index(drop=True)\n",
    "    if all(nouveauCritique.iloc[0] !=\"No rating\" )==True:\n",
    "        print('Il/elle a vu tous les films')\n",
    "        return\n",
    "    else:\n",
    "        for i in range(1, nouveauCritique.shape[1]):\n",
    "            if (nouveauCritique.iloc[0,i]==\"No rating\" and critique.iloc[0,i] !=\"No rating\"):\n",
    "                print('Film recommandé: ' +str(data.columns[i])+', Vote: '+str(critique.iloc[0,i])) \n",
    "        return"
   ]
  },
  {
   "cell_type": "code",
   "execution_count": 19,
   "metadata": {},
   "outputs": [],
   "source": [
    "def recommend_mod(nouveauCritique):\n",
    "    nouveauCritique = data[data['critique']==nouveauCritique ]\n",
    "    nouveauCritique= nouveauCritique.reset_index(drop=True)\n",
    "    nn= [ ]\n",
    "    nn= computeNearestNeighbor(nouveauCritique.iloc[0,0], Critiques)\n",
    "    recc=[]\n",
    "    critique = data[data['critique']==nn[0][1]]\n",
    "    critique= critique.reset_index(drop=True)\n",
    "    if all(nouveauCritique.iloc[0] !=\"No rating\" )==True:\n",
    "        print('Il/elle a vu tous les films')\n",
    "        return\n",
    "    else:\n",
    "        for i in range(1, nouveauCritique.shape[1]):\n",
    "            if (nouveauCritique.iloc[0,i]==\"No rating\" and critique.iloc[0,i] !=\"No rating\"):\n",
    "                recc.append((critique.iloc[0,i], data.columns[i]))\n",
    "                #recc.sort()\n",
    "                #print('Film recommandé: ' +str(data.columns[i])+', Vote: '+str(critique.iloc[0,i])) \n",
    "        return max(recc)"
   ]
  },
  {
   "cell_type": "code",
   "execution_count": 20,
   "metadata": {},
   "outputs": [
    {
     "data": {
      "text/plain": [
       "(4.0, 'Luck')"
      ]
     },
     "execution_count": 20,
     "metadata": {},
     "output_type": "execute_result"
    }
   ],
   "source": [
    "recommend_mod('Toby')"
   ]
  },
  {
   "cell_type": "code",
   "execution_count": 21,
   "metadata": {},
   "outputs": [
    {
     "name": "stdout",
     "output_type": "stream",
     "text": [
      "Il/elle a vu tous les films\n"
     ]
    }
   ],
   "source": [
    "recommend('Lisa Rose')"
   ]
  },
  {
   "cell_type": "code",
   "execution_count": 22,
   "metadata": {},
   "outputs": [
    {
     "name": "stdout",
     "output_type": "stream",
     "text": [
      "Film recommandé: Snakes, Vote: 3.0\n",
      "Film recommandé: Superman, Vote: 3.5\n",
      "Film recommandé: Night, Vote: 4.0\n"
     ]
    }
   ],
   "source": [
    "recommend('Anne')"
   ]
  },
  {
   "cell_type": "code",
   "execution_count": 23,
   "metadata": {},
   "outputs": [
    {
     "name": "stdout",
     "output_type": "stream",
     "text": [
      "Film recommandé: Lady, Vote: 1.5\n",
      "Film recommandé: Luck, Vote: 4.0\n"
     ]
    }
   ],
   "source": [
    "recommend('Toby')"
   ]
  },
  {
   "cell_type": "markdown",
   "metadata": {},
   "source": [
    "### Raccomandation b ii"
   ]
  },
  {
   "cell_type": "code",
   "execution_count": 24,
   "metadata": {},
   "outputs": [],
   "source": [
    "def recommend_complet(nouveauCritique, film):\n",
    "    nouveauCritique = data[data['critique']==nouveauCritique ]\n",
    "    nouveauCritique= nouveauCritique.reset_index(drop=True)\n",
    "    total=0\n",
    "    sim=0\n",
    "    if (nouveauCritique.iloc[0][film]==\"No rating\" ):\n",
    "        for j in Critiques:\n",
    "            critique= data[data['critique']==j]\n",
    "            critique= critique.reset_index(drop=True)\n",
    "            if (j!=nouveauCritique.iloc[0,0] and critique.iloc[0][film] !=\"No rating\"):\n",
    "                    total+=(1/(1+sim_distanceManhattan(nouveauCritique.iloc[0,0], j)))*critique.iloc[0][film]\n",
    "                    sim+=(1/(1+sim_distanceManhattan(nouveauCritique.iloc[0,0], j)))\n",
    "        print('Total:', total)\n",
    "        print('S(a):', sim)\n",
    "        print('Total/s(a):', total/sim)\n",
    "    else :\n",
    "        print('Film déjà voté')\n",
    "    return  "
   ]
  },
  {
   "cell_type": "code",
   "execution_count": 25,
   "metadata": {},
   "outputs": [
    {
     "name": "stdout",
     "output_type": "stream",
     "text": [
      "Total: 6.535347985347985\n",
      "S(a): 1.811782661782662\n",
      "Total/s(a): 3.6071368399770862\n"
     ]
    }
   ],
   "source": [
    "recommend_complet('Anne', 'Night')"
   ]
  },
  {
   "cell_type": "code",
   "execution_count": 26,
   "metadata": {},
   "outputs": [],
   "source": [
    "def recommend_complet_mod(nouveauCritique, film):\n",
    "    nouveauCritique = data[data['critique']==nouveauCritique ]\n",
    "    nouveauCritique= nouveauCritique.reset_index(drop=True)\n",
    "    total=0\n",
    "    sim=0\n",
    "    if (nouveauCritique.iloc[0][film]==\"No rating\" ):\n",
    "        for j in Critiques:\n",
    "            critique= data[data['critique']==j]\n",
    "            critique= critique.reset_index(drop=True)\n",
    "            if (j!=nouveauCritique.iloc[0][film] and critique.iloc[0][film] !=\"No rating\"):\n",
    "                    total+=(1/(1+sim_distanceManhattan(nouveauCritique.iloc[0,0], j)))*critique.iloc[0][film]\n",
    "                    sim+=(1/(1+sim_distanceManhattan(nouveauCritique.iloc[0,0], j)))\n",
    "    return  (total/sim)"
   ]
  },
  {
   "cell_type": "code",
   "execution_count": 27,
   "metadata": {},
   "outputs": [],
   "source": [
    "def Bestrecommend(nouveauCritique):\n",
    "    nouveauCritique = data[data['critique']==nouveauCritique ]\n",
    "    nouveauCritique= nouveauCritique.reset_index(drop=True)\n",
    "    res=[ ]\n",
    "    for i in range(1, nouveauCritique.shape[1]):\n",
    "        if (nouveauCritique.iloc[0,i]==\"No rating\" ):\n",
    "            res.append((recommend_complet_mod(nouveauCritique.iloc[0,0], nouveauCritique.columns[i]),nouveauCritique.columns[i]))\n",
    "    return max(res)"
   ]
  },
  {
   "cell_type": "code",
   "execution_count": 28,
   "metadata": {},
   "outputs": [
    {
     "data": {
      "text/plain": [
       "(3.908627564898196, 'Superman')"
      ]
     },
     "execution_count": 28,
     "metadata": {},
     "output_type": "execute_result"
    }
   ],
   "source": [
    "Bestrecommend('Anne')"
   ]
  },
  {
   "cell_type": "markdown",
   "metadata": {},
   "source": [
    "### Pearson"
   ]
  },
  {
   "cell_type": "code",
   "execution_count": 29,
   "metadata": {},
   "outputs": [],
   "source": [
    "def pearson(pers1, pers2):\n",
    "    pers1 = data[data['critique']==pers1]\n",
    "    pers1= pers1.reset_index(drop=True)\n",
    "    pers2 = data[data['critique']==pers2]\n",
    "    pers2= pers2.reset_index(drop=True)\n",
    "    sum_xy=0\n",
    "    sum_x=0 \n",
    "    sum_y=0\n",
    "    sum_x2=0\n",
    "    sum_y2=0\n",
    "    n=0\n",
    "    for i in range(1, pers1.shape[1]):\n",
    "        if (pers1.iloc[0,i] !=\"No rating\" and pers2.iloc[0,i] !=\"No rating\"):\n",
    "            n += 1 \n",
    "            x=pers1.iloc[0,i] \n",
    "            y=pers2.iloc[0,i] \n",
    "            sum_xy +=x*y \n",
    "            sum_x += x \n",
    "            sum_y += y\n",
    "            sum_x2 += x**2 \n",
    "            sum_y2 += y**2\n",
    "    denominator = ma.sqrt(sum_x2 - (sum_x**2) / n) * ma.sqrt(sum_y2 - (sum_y**2) / n)\n",
    "    if denominator == 0: \n",
    "        return 0\n",
    "    else:\n",
    "        return (sum_xy - (sum_x * sum_y) /n ) / denominator"
   ]
  },
  {
   "cell_type": "code",
   "execution_count": 30,
   "metadata": {},
   "outputs": [
    {
     "data": {
      "text/plain": [
       "0.39605901719066977"
      ]
     },
     "execution_count": 30,
     "metadata": {},
     "output_type": "execute_result"
    }
   ],
   "source": [
    "pearson('Lisa Rose', 'Gene Seymour')"
   ]
  },
  {
   "cell_type": "code",
   "execution_count": 31,
   "metadata": {},
   "outputs": [],
   "source": [
    "def PearsonRecommend(nouveauCritique):\n",
    "    nouveauCritique = data[data['critique']==nouveauCritique ]\n",
    "    nouveauCritique= nouveauCritique.reset_index(drop=True)\n",
    "    res=[ ]\n",
    "    best=0\n",
    "    best_film=[ ]\n",
    "    for j in Critiques:\n",
    "        if(j!=nouveauCritique.iloc[0,0]):\n",
    "            critique= data[data['critique']==j]\n",
    "            critique= critique.reset_index(drop=True)\n",
    "            res.append((pearson(nouveauCritique.iloc[0,0], j),j))\n",
    "    best= (max(res)[1])\n",
    "    prox=data[data['critique']==best]\n",
    "    prox=prox.reset_index(drop=True)\n",
    "    for i in range(1, nouveauCritique.shape[1]):\n",
    "        if (nouveauCritique.iloc[0,i]==\"No rating\" and prox.iloc[0,i] !='No rating'):\n",
    "            best_film.append((prox.iloc[0,i], nouveauCritique.columns[i]))\n",
    "    return (max(best_film))"
   ]
  },
  {
   "cell_type": "code",
   "execution_count": 32,
   "metadata": {},
   "outputs": [
    {
     "data": {
      "text/plain": [
       "(5.0, 'Superman')"
      ]
     },
     "execution_count": 32,
     "metadata": {},
     "output_type": "execute_result"
    }
   ],
   "source": [
    "PearsonRecommend('Anne')"
   ]
  },
  {
   "cell_type": "markdown",
   "metadata": {},
   "source": [
    "### Cosinus"
   ]
  },
  {
   "cell_type": "code",
   "execution_count": 33,
   "metadata": {},
   "outputs": [],
   "source": [
    "def cosinus(pers1, pers2):\n",
    "    pers1 = data[data['critique']==pers1]\n",
    "    pers1= pers1.reset_index(drop=True)\n",
    "    pers2 = data[data['critique']==pers2]\n",
    "    pers2= pers2.reset_index(drop=True)\n",
    "    sum_xy=0\n",
    "    sum_x=0 \n",
    "    sum_y=0\n",
    "    cos=0\n",
    "    for i in range(1, pers1.shape[1]):\n",
    "        if (pers1.iloc[0,i] !=\"No rating\" and pers2.iloc[0,i] !=\"No rating\"):\n",
    "            x=pers1.iloc[0,i] \n",
    "            y=pers2.iloc[0,i] \n",
    "            sum_xy +=x*y \n",
    "            sum_x += x \n",
    "            sum_y += y\n",
    "            cos= sum_xy/ (ma.sqrt(sum_x**2)* ma.sqrt(sum_y**2))\n",
    "    return cos"
   ]
  },
  {
   "cell_type": "code",
   "execution_count": 34,
   "metadata": {},
   "outputs": [
    {
     "data": {
      "text/plain": [
       "0.3458333333333333"
      ]
     },
     "execution_count": 34,
     "metadata": {},
     "output_type": "execute_result"
    }
   ],
   "source": [
    "cosinus('Anne', 'Lisa Rose')"
   ]
  },
  {
   "cell_type": "code",
   "execution_count": 35,
   "metadata": {},
   "outputs": [],
   "source": [
    "def CosinusRecommend(nouveauCritique):\n",
    "    nouveauCritique = data[data['critique']==nouveauCritique ]\n",
    "    nouveauCritique= nouveauCritique.reset_index(drop=True)\n",
    "    res=[ ]\n",
    "    best=0\n",
    "    best_film=[ ]\n",
    "    for j in Critiques:\n",
    "        if(j!=nouveauCritique.iloc[0,0]):\n",
    "            critique= data[data['critique']==j]\n",
    "            critique= critique.reset_index(drop=True)\n",
    "            res.append((cosinus(nouveauCritique.iloc[0,0], j),j))\n",
    "    best= (max(res)[1])\n",
    "    prox=data[data['critique']==best]\n",
    "    prox=prox.reset_index(drop=True)\n",
    "    for i in range(1, nouveauCritique.shape[1]):\n",
    "        if (nouveauCritique.iloc[0,i]==\"No rating\" and prox.iloc[0,i] !='No rating'):\n",
    "            best_film.append((prox.iloc[0,i], nouveauCritique.columns[i]))\n",
    "    return (max(best_film))"
   ]
  },
  {
   "cell_type": "code",
   "execution_count": 36,
   "metadata": {},
   "outputs": [
    {
     "data": {
      "text/plain": [
       "(4.5, 'Snakes')"
      ]
     },
     "execution_count": 36,
     "metadata": {},
     "output_type": "execute_result"
    }
   ],
   "source": [
    "CosinusRecommend('Anne')"
   ]
  },
  {
   "cell_type": "markdown",
   "metadata": {},
   "source": [
    "### Raccomandation 5"
   ]
  },
  {
   "cell_type": "code",
   "execution_count": 37,
   "metadata": {},
   "outputs": [],
   "source": [
    "def SuperRecommend(nouveauCritique):\n",
    "    r1=0\n",
    "    r2=0\n",
    "    r3=0\n",
    "    nouveauCritique = data[data['critique']==nouveauCritique ]\n",
    "    nouveauCritique= nouveauCritique.reset_index(drop=True)\n",
    "    for i in range(1, nouveauCritique.shape[1]):\n",
    "        if (nouveauCritique.iloc[0,i]==\"No rating\"):\n",
    "            r1= PearsonRecommend(nouveauCritique.iloc[0,0])\n",
    "            r2= CosinusRecommend(nouveauCritique.iloc[0,0])\n",
    "            r3=recommend_mod(nouveauCritique.iloc[0,0])\n",
    "    if(r1==0 and r2==0 and r3==0):\n",
    "        print('Il/elle a vu tous les films')\n",
    "        return\n",
    "    print('Pearson: ',r1)\n",
    "    print('Cosinus: ',r2)\n",
    "    print('Manhattan: ',r3)\n",
    "    return  "
   ]
  },
  {
   "cell_type": "code",
   "execution_count": 38,
   "metadata": {},
   "outputs": [
    {
     "name": "stdout",
     "output_type": "stream",
     "text": [
      "Pearson:  (5.0, 'Superman')\n",
      "Cosinus:  (4.5, 'Snakes')\n",
      "Manhattan:  (4.0, 'Night')\n"
     ]
    }
   ],
   "source": [
    " SuperRecommend('Anne')"
   ]
  },
  {
   "cell_type": "code",
   "execution_count": 39,
   "metadata": {},
   "outputs": [
    {
     "name": "stdout",
     "output_type": "stream",
     "text": [
      "Il/elle a vu tous les films\n"
     ]
    }
   ],
   "source": [
    " SuperRecommend('Lisa Rose')"
   ]
  },
  {
   "cell_type": "markdown",
   "metadata": {},
   "source": [
    "### New dataset"
   ]
  },
  {
   "cell_type": "code",
   "execution_count": 47,
   "metadata": {},
   "outputs": [],
   "source": [
    "data=pd.read_csv(\"new_film_mod.csv\")"
   ]
  },
  {
   "cell_type": "code",
   "execution_count": 48,
   "metadata": {},
   "outputs": [],
   "source": [
    "data.fillna(\"No rating\", inplace = True)"
   ]
  },
  {
   "cell_type": "code",
   "execution_count": 49,
   "metadata": {},
   "outputs": [
    {
     "data": {
      "text/html": [
       "<div>\n",
       "<style scoped>\n",
       "    .dataframe tbody tr th:only-of-type {\n",
       "        vertical-align: middle;\n",
       "    }\n",
       "\n",
       "    .dataframe tbody tr th {\n",
       "        vertical-align: top;\n",
       "    }\n",
       "\n",
       "    .dataframe thead th {\n",
       "        text-align: right;\n",
       "    }\n",
       "</style>\n",
       "<table border=\"1\" class=\"dataframe\">\n",
       "  <thead>\n",
       "    <tr style=\"text-align: right;\">\n",
       "      <th></th>\n",
       "      <th>critique</th>\n",
       "      <th>Lady</th>\n",
       "      <th>Snakes</th>\n",
       "      <th>Luck</th>\n",
       "      <th>Superman</th>\n",
       "      <th>Dupree</th>\n",
       "      <th>Night</th>\n",
       "    </tr>\n",
       "  </thead>\n",
       "  <tbody>\n",
       "    <tr>\n",
       "      <th>0</th>\n",
       "      <td>Pippo</td>\n",
       "      <td>1</td>\n",
       "      <td>0.5</td>\n",
       "      <td>3.5</td>\n",
       "      <td>No rating</td>\n",
       "      <td>2.5</td>\n",
       "      <td>1.0</td>\n",
       "    </tr>\n",
       "    <tr>\n",
       "      <th>1</th>\n",
       "      <td>Gennaro</td>\n",
       "      <td>2</td>\n",
       "      <td>No rating</td>\n",
       "      <td>1</td>\n",
       "      <td>3</td>\n",
       "      <td>5</td>\n",
       "      <td>0.5</td>\n",
       "    </tr>\n",
       "    <tr>\n",
       "      <th>2</th>\n",
       "      <td>Genevieve</td>\n",
       "      <td>No rating</td>\n",
       "      <td>2.5</td>\n",
       "      <td>No rating</td>\n",
       "      <td>No rating</td>\n",
       "      <td>2</td>\n",
       "      <td>1.0</td>\n",
       "    </tr>\n",
       "    <tr>\n",
       "      <th>3</th>\n",
       "      <td>Flavienne</td>\n",
       "      <td>5</td>\n",
       "      <td>No rating</td>\n",
       "      <td>3.5</td>\n",
       "      <td>4</td>\n",
       "      <td>No rating</td>\n",
       "      <td>4.5</td>\n",
       "    </tr>\n",
       "    <tr>\n",
       "      <th>4</th>\n",
       "      <td>Maccio</td>\n",
       "      <td>3</td>\n",
       "      <td>5</td>\n",
       "      <td>1.5</td>\n",
       "      <td>3</td>\n",
       "      <td>1</td>\n",
       "      <td>3.5</td>\n",
       "    </tr>\n",
       "  </tbody>\n",
       "</table>\n",
       "</div>"
      ],
      "text/plain": [
       "    critique       Lady     Snakes       Luck   Superman     Dupree  Night\n",
       "0      Pippo          1        0.5        3.5  No rating        2.5    1.0\n",
       "1    Gennaro          2  No rating          1          3          5    0.5\n",
       "2  Genevieve  No rating        2.5  No rating  No rating          2    1.0\n",
       "3  Flavienne          5  No rating        3.5          4  No rating    4.5\n",
       "4     Maccio          3          5        1.5          3          1    3.5"
      ]
     },
     "execution_count": 49,
     "metadata": {},
     "output_type": "execute_result"
    }
   ],
   "source": [
    "data"
   ]
  },
  {
   "cell_type": "code",
   "execution_count": 50,
   "metadata": {},
   "outputs": [],
   "source": [
    "Critiques = [ ]\n",
    "for i in range(len(data)):\n",
    "    Critiques.append(data.iloc[i,0])"
   ]
  },
  {
   "cell_type": "code",
   "execution_count": 51,
   "metadata": {},
   "outputs": [
    {
     "name": "stdout",
     "output_type": "stream",
     "text": [
      "Il/elle a vu tous les films\n"
     ]
    }
   ],
   "source": [
    " SuperRecommend('Maccio')"
   ]
  },
  {
   "cell_type": "code",
   "execution_count": 52,
   "metadata": {},
   "outputs": [
    {
     "name": "stdout",
     "output_type": "stream",
     "text": [
      "Pearson:  (3.0, 'Superman')\n",
      "Cosinus:  (5.0, 'Lady')\n",
      "Manhattan:  (3.5, 'Luck')\n"
     ]
    }
   ],
   "source": [
    "SuperRecommend('Genevieve')"
   ]
  },
  {
   "cell_type": "markdown",
   "metadata": {},
   "source": [
    "### Conclusion"
   ]
  },
  {
   "cell_type": "markdown",
   "metadata": {},
   "source": [
    "#### Pearson"
   ]
  },
  {
   "cell_type": "markdown",
   "metadata": {},
   "source": [
    "D'après la mesure de Pearson, la critique Genevieve a donné des notes similaires à celles de Gennaro. Pearson est la mesure la plus efficace mais la plus complexe en terme de calcul  "
   ]
  },
  {
   "cell_type": "markdown",
   "metadata": {},
   "source": [
    "#### Cosinus"
   ]
  },
  {
   "cell_type": "markdown",
   "metadata": {},
   "source": [
    "Pour cosinus, Flavienne est la critique la plus proche de Genevieve cependant il n'y a pas de notes similaires avec Genevieve. Dans cet exemple, la mesure cosinus n'est pas optimale"
   ]
  },
  {
   "cell_type": "markdown",
   "metadata": {},
   "source": [
    "#### Manhattan"
   ]
  },
  {
   "cell_type": "markdown",
   "metadata": {},
   "source": [
    "Nous avons des données manquantes donc la distance de Manhattan n'est pas la plus efficace "
   ]
  }
 ],
 "metadata": {
  "kernelspec": {
   "display_name": "Python 3",
   "language": "python",
   "name": "python3"
  },
  "language_info": {
   "codemirror_mode": {
    "name": "ipython",
    "version": 3
   },
   "file_extension": ".py",
   "mimetype": "text/x-python",
   "name": "python",
   "nbconvert_exporter": "python",
   "pygments_lexer": "ipython3",
   "version": "3.7.4"
  }
 },
 "nbformat": 4,
 "nbformat_minor": 4
}
