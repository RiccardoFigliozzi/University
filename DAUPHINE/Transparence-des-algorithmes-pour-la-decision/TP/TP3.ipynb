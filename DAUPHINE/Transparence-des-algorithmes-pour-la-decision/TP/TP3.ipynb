{
  "nbformat": 4,
  "nbformat_minor": 0,
  "metadata": {
    "colab": {
      "name": "TP3.ipynb",
      "provenance": [],
      "collapsed_sections": []
    },
    "kernelspec": {
      "name": "python3",
      "display_name": "Python 3"
    }
  },
  "cells": [
    {
      "cell_type": "code",
      "metadata": {
        "id": "Kq0A7FD3PV8t"
      },
      "source": [
        "import pandas as pd\n",
        "import random"
      ],
      "execution_count": 15,
      "outputs": []
    },
    {
      "cell_type": "code",
      "metadata": {
        "id": "ZMWcQbQlHBGM"
      },
      "source": [
        "data = pd.read_csv('dataFinal.csv')"
      ],
      "execution_count": 66,
      "outputs": []
    },
    {
      "cell_type": "code",
      "metadata": {
        "id": "kiQzAz2pP0dS",
        "outputId": "16a9be33-ff19-4f97-8ddb-d682844c0d23",
        "colab": {
          "base_uri": "https://localhost:8080/",
          "height": 935
        }
      },
      "source": [
        "data"
      ],
      "execution_count": 67,
      "outputs": [
        {
          "output_type": "execute_result",
          "data": {
            "text/html": [
              "<div>\n",
              "<style scoped>\n",
              "    .dataframe tbody tr th:only-of-type {\n",
              "        vertical-align: middle;\n",
              "    }\n",
              "\n",
              "    .dataframe tbody tr th {\n",
              "        vertical-align: top;\n",
              "    }\n",
              "\n",
              "    .dataframe thead th {\n",
              "        text-align: right;\n",
              "    }\n",
              "</style>\n",
              "<table border=\"1\" class=\"dataframe\">\n",
              "  <thead>\n",
              "    <tr style=\"text-align: right;\">\n",
              "      <th></th>\n",
              "      <th>Électeur</th>\n",
              "      <th>Candidat 1</th>\n",
              "      <th>Candidat 2</th>\n",
              "      <th>Candidat 3</th>\n",
              "      <th>Candidat 4</th>\n",
              "    </tr>\n",
              "  </thead>\n",
              "  <tbody>\n",
              "    <tr>\n",
              "      <th>0</th>\n",
              "      <td>Marie Dubois</td>\n",
              "      <td>2</td>\n",
              "      <td>3</td>\n",
              "      <td>1</td>\n",
              "      <td>4</td>\n",
              "    </tr>\n",
              "    <tr>\n",
              "      <th>1</th>\n",
              "      <td>Daniel Petit</td>\n",
              "      <td>2</td>\n",
              "      <td>4</td>\n",
              "      <td>1</td>\n",
              "      <td>3</td>\n",
              "    </tr>\n",
              "    <tr>\n",
              "      <th>2</th>\n",
              "      <td>Nicole</td>\n",
              "      <td>2</td>\n",
              "      <td>3</td>\n",
              "      <td>4</td>\n",
              "      <td>1</td>\n",
              "    </tr>\n",
              "    <tr>\n",
              "      <th>3</th>\n",
              "      <td>Stephane</td>\n",
              "      <td>2</td>\n",
              "      <td>4</td>\n",
              "      <td>1</td>\n",
              "      <td>3</td>\n",
              "    </tr>\n",
              "    <tr>\n",
              "      <th>4</th>\n",
              "      <td>Dominique</td>\n",
              "      <td>2</td>\n",
              "      <td>4</td>\n",
              "      <td>1</td>\n",
              "      <td>3</td>\n",
              "    </tr>\n",
              "    <tr>\n",
              "      <th>5</th>\n",
              "      <td>Corinne</td>\n",
              "      <td>1</td>\n",
              "      <td>3</td>\n",
              "      <td>4</td>\n",
              "      <td>2</td>\n",
              "    </tr>\n",
              "    <tr>\n",
              "      <th>6</th>\n",
              "      <td>Martin</td>\n",
              "      <td>2</td>\n",
              "      <td>4</td>\n",
              "      <td>1</td>\n",
              "      <td>3</td>\n",
              "    </tr>\n",
              "    <tr>\n",
              "      <th>7</th>\n",
              "      <td>Bernard</td>\n",
              "      <td>3</td>\n",
              "      <td>2</td>\n",
              "      <td>4</td>\n",
              "      <td>1</td>\n",
              "    </tr>\n",
              "    <tr>\n",
              "      <th>8</th>\n",
              "      <td>Thomas</td>\n",
              "      <td>2</td>\n",
              "      <td>3</td>\n",
              "      <td>1</td>\n",
              "      <td>4</td>\n",
              "    </tr>\n",
              "    <tr>\n",
              "      <th>9</th>\n",
              "      <td>Robert</td>\n",
              "      <td>4</td>\n",
              "      <td>2</td>\n",
              "      <td>1</td>\n",
              "      <td>3</td>\n",
              "    </tr>\n",
              "    <tr>\n",
              "      <th>10</th>\n",
              "      <td>Durand</td>\n",
              "      <td>3</td>\n",
              "      <td>4</td>\n",
              "      <td>1</td>\n",
              "      <td>2</td>\n",
              "    </tr>\n",
              "    <tr>\n",
              "      <th>11</th>\n",
              "      <td>Pippo</td>\n",
              "      <td>2</td>\n",
              "      <td>3</td>\n",
              "      <td>1</td>\n",
              "      <td>4</td>\n",
              "    </tr>\n",
              "    <tr>\n",
              "      <th>12</th>\n",
              "      <td>Simon</td>\n",
              "      <td>2</td>\n",
              "      <td>4</td>\n",
              "      <td>1</td>\n",
              "      <td>3</td>\n",
              "    </tr>\n",
              "    <tr>\n",
              "      <th>13</th>\n",
              "      <td>Michel</td>\n",
              "      <td>4</td>\n",
              "      <td>2</td>\n",
              "      <td>1</td>\n",
              "      <td>3</td>\n",
              "    </tr>\n",
              "    <tr>\n",
              "      <th>14</th>\n",
              "      <td>Pinco</td>\n",
              "      <td>1</td>\n",
              "      <td>2</td>\n",
              "      <td>4</td>\n",
              "      <td>3</td>\n",
              "    </tr>\n",
              "    <tr>\n",
              "      <th>15</th>\n",
              "      <td>Pallino</td>\n",
              "      <td>1</td>\n",
              "      <td>2</td>\n",
              "      <td>4</td>\n",
              "      <td>3</td>\n",
              "    </tr>\n",
              "    <tr>\n",
              "      <th>16</th>\n",
              "      <td>David</td>\n",
              "      <td>4</td>\n",
              "      <td>2</td>\n",
              "      <td>1</td>\n",
              "      <td>3</td>\n",
              "    </tr>\n",
              "    <tr>\n",
              "      <th>17</th>\n",
              "      <td>Qui</td>\n",
              "      <td>1</td>\n",
              "      <td>2</td>\n",
              "      <td>3</td>\n",
              "      <td>4</td>\n",
              "    </tr>\n",
              "    <tr>\n",
              "      <th>18</th>\n",
              "      <td>Quo</td>\n",
              "      <td>4</td>\n",
              "      <td>3</td>\n",
              "      <td>1</td>\n",
              "      <td>2</td>\n",
              "    </tr>\n",
              "    <tr>\n",
              "      <th>19</th>\n",
              "      <td>Qua</td>\n",
              "      <td>2</td>\n",
              "      <td>3</td>\n",
              "      <td>4</td>\n",
              "      <td>1</td>\n",
              "    </tr>\n",
              "    <tr>\n",
              "      <th>20</th>\n",
              "      <td>Gaston</td>\n",
              "      <td>3</td>\n",
              "      <td>2</td>\n",
              "      <td>1</td>\n",
              "      <td>4</td>\n",
              "    </tr>\n",
              "    <tr>\n",
              "      <th>21</th>\n",
              "      <td>Pluto</td>\n",
              "      <td>4</td>\n",
              "      <td>3</td>\n",
              "      <td>1</td>\n",
              "      <td>2</td>\n",
              "    </tr>\n",
              "    <tr>\n",
              "      <th>22</th>\n",
              "      <td>Donald</td>\n",
              "      <td>3</td>\n",
              "      <td>2</td>\n",
              "      <td>1</td>\n",
              "      <td>4</td>\n",
              "    </tr>\n",
              "    <tr>\n",
              "      <th>23</th>\n",
              "      <td>Silvio</td>\n",
              "      <td>1</td>\n",
              "      <td>3</td>\n",
              "      <td>4</td>\n",
              "      <td>2</td>\n",
              "    </tr>\n",
              "    <tr>\n",
              "      <th>24</th>\n",
              "      <td>Peppe</td>\n",
              "      <td>4</td>\n",
              "      <td>1</td>\n",
              "      <td>2</td>\n",
              "      <td>3</td>\n",
              "    </tr>\n",
              "    <tr>\n",
              "      <th>25</th>\n",
              "      <td>Gigi</td>\n",
              "      <td>4</td>\n",
              "      <td>3</td>\n",
              "      <td>1</td>\n",
              "      <td>2</td>\n",
              "    </tr>\n",
              "    <tr>\n",
              "      <th>26</th>\n",
              "      <td>Ciccio</td>\n",
              "      <td>4</td>\n",
              "      <td>3</td>\n",
              "      <td>1</td>\n",
              "      <td>2</td>\n",
              "    </tr>\n",
              "    <tr>\n",
              "      <th>27</th>\n",
              "      <td>Laurent</td>\n",
              "      <td>3</td>\n",
              "      <td>2</td>\n",
              "      <td>4</td>\n",
              "      <td>1</td>\n",
              "    </tr>\n",
              "    <tr>\n",
              "      <th>28</th>\n",
              "      <td>Girard</td>\n",
              "      <td>3</td>\n",
              "      <td>1</td>\n",
              "      <td>4</td>\n",
              "      <td>2</td>\n",
              "    </tr>\n",
              "    <tr>\n",
              "      <th>29</th>\n",
              "      <td>Axel</td>\n",
              "      <td>3</td>\n",
              "      <td>1</td>\n",
              "      <td>2</td>\n",
              "      <td>4</td>\n",
              "    </tr>\n",
              "  </tbody>\n",
              "</table>\n",
              "</div>"
            ],
            "text/plain": [
              "        Électeur  Candidat 1  Candidat 2  Candidat 3  Candidat 4\n",
              "0   Marie Dubois           2           3           1           4\n",
              "1   Daniel Petit           2           4           1           3\n",
              "2         Nicole           2           3           4           1\n",
              "3       Stephane           2           4           1           3\n",
              "4      Dominique           2           4           1           3\n",
              "5        Corinne           1           3           4           2\n",
              "6         Martin           2           4           1           3\n",
              "7        Bernard           3           2           4           1\n",
              "8         Thomas           2           3           1           4\n",
              "9         Robert           4           2           1           3\n",
              "10        Durand           3           4           1           2\n",
              "11         Pippo           2           3           1           4\n",
              "12         Simon           2           4           1           3\n",
              "13        Michel           4           2           1           3\n",
              "14         Pinco           1           2           4           3\n",
              "15       Pallino           1           2           4           3\n",
              "16         David           4           2           1           3\n",
              "17           Qui           1           2           3           4\n",
              "18           Quo           4           3           1           2\n",
              "19           Qua           2           3           4           1\n",
              "20        Gaston           3           2           1           4\n",
              "21         Pluto           4           3           1           2\n",
              "22        Donald           3           2           1           4\n",
              "23        Silvio           1           3           4           2\n",
              "24         Peppe           4           1           2           3\n",
              "25          Gigi           4           3           1           2\n",
              "26        Ciccio           4           3           1           2\n",
              "27       Laurent           3           2           4           1\n",
              "28        Girard           3           1           4           2\n",
              "29          Axel           3           1           2           4"
            ]
          },
          "metadata": {
            "tags": []
          },
          "execution_count": 67
        }
      ]
    },
    {
      "cell_type": "code",
      "metadata": {
        "id": "HfnVIMT_caWh"
      },
      "source": [
        "candidates = data.columns"
      ],
      "execution_count": 68,
      "outputs": []
    },
    {
      "cell_type": "markdown",
      "metadata": {
        "id": "y1PEMxD3S3ka"
      },
      "source": [
        "Vote à la majorité simple\n"
      ]
    },
    {
      "cell_type": "code",
      "metadata": {
        "id": "O0MXIttyS-CE"
      },
      "source": [
        "def MajorityRule(cand1,cand2):\n",
        "  somm_cand1=0\n",
        "  somm_cand2=0\n",
        "  for i in range((len(data))):\n",
        "    if data.iloc[i][cand1] > data.iloc[i][cand2] :\n",
        "      somm_cand1 +=1\n",
        "    else:\n",
        "      somm_cand2 +=1\n",
        "  if somm_cand1 > somm_cand2:\n",
        "    print('Candidat élu :',cand1)\n",
        "    return\n",
        "  if somm_cand1 < somm_cand2:\n",
        "    print('Candidat élu :',cand2)\n",
        "  if somm_cand1 == somm_cand2:\n",
        "    print('Égalité')\n",
        "    return\n",
        "  return"
      ],
      "execution_count": 69,
      "outputs": []
    },
    {
      "cell_type": "code",
      "metadata": {
        "id": "lBqsV7k1dpDJ",
        "outputId": "4fb0ac7f-c420-4a2d-b06a-7b8c311dd75d",
        "colab": {
          "base_uri": "https://localhost:8080/",
          "height": 34
        }
      },
      "source": [
        "MajorityRule('Candidat 1','Candidat 2')"
      ],
      "execution_count": 70,
      "outputs": [
        {
          "output_type": "stream",
          "text": [
            "Candidat élu : Candidat 2\n"
          ],
          "name": "stdout"
        }
      ]
    },
    {
      "cell_type": "markdown",
      "metadata": {
        "id": "Oqpa-G_sjNAj"
      },
      "source": [
        "VoteUnTour"
      ]
    },
    {
      "cell_type": "code",
      "metadata": {
        "id": "zHz2LQfUtHbk"
      },
      "source": [
        "def VoteUnTour():\n",
        "  vote_final=[]\n",
        "  equo=[]\n",
        "  for j in range(1, len(candidates)):\n",
        "    sum =0\n",
        "    for vote in data[candidates[j]]:\n",
        "        if vote == (len(candidates)-1):\n",
        "           sum +=1\n",
        "    vote_final.append((sum,candidates[j]))\n",
        "  sort_cand=[]\n",
        "  sort_cand= sorted(vote_final, reverse=True)\n",
        "  if sort_cand[0][0] > sort_cand[1][0] :\n",
        "    return print('Candidat élu :', sort_cand[0][1])\n",
        "  else :\n",
        "    for j in range(0, len(candidates)-1):\n",
        "      if sort_cand[j][0]==sort_cand[0][0]:\n",
        "        equo.append(sort_cand[j][1])\n",
        "    print('Candidats ex aequo: ',equo)\n",
        "    print('Candidat élu au sort :',random.choice(equo))        \n",
        "    return\n",
        "  return "
      ],
      "execution_count": 71,
      "outputs": []
    },
    {
      "cell_type": "code",
      "metadata": {
        "id": "8UKU1sczrrQf",
        "outputId": "6053a1ed-5b0e-4270-875a-355c31938912",
        "colab": {
          "base_uri": "https://localhost:8080/",
          "height": 34
        }
      },
      "source": [
        "VoteUnTour()"
      ],
      "execution_count": 72,
      "outputs": [
        {
          "output_type": "stream",
          "text": [
            "Candidat élu : Candidat 3\n"
          ],
          "name": "stdout"
        }
      ]
    },
    {
      "cell_type": "markdown",
      "metadata": {
        "id": "2RPIVpeGl8D1"
      },
      "source": [
        "Élection à deux tours"
      ]
    },
    {
      "cell_type": "code",
      "metadata": {
        "id": "2VOJieYXl8vu"
      },
      "source": [
        "def VoteDeuxTour():\n",
        "  vote_final=[]\n",
        "  for j in range(1, len(candidates)):\n",
        "    sum =0\n",
        "    for vote in data[candidates[j]]:\n",
        "        if vote == (len(candidates)-1):\n",
        "           sum +=1\n",
        "    vote_final.append((sum,candidates[j]))\n",
        "  total=0\n",
        "  for i in range(len(vote_final)):\n",
        "    total+=vote_final[i][0]\n",
        "  if max(vote_final)[0] > (total/2):\n",
        "   print('Candidat élu au premier tour:', max(vote_final)[1])\n",
        "  else:\n",
        "    sort_cand=[]\n",
        "    sort_cand= sorted(vote_final, reverse=True)\n",
        "    sort_cand=sort_cand[0:2]\n",
        "    cand_final=[]\n",
        "    cand_final.append(sort_cand[0][1])\n",
        "    cand_final.append(sort_cand[1][1])\n",
        "    #print(\"Candidats au deuxième tour:\",cand_final)\n",
        "    vote_deux=[]\n",
        "    vote1=0\n",
        "    vote2=0\n",
        "    for i in range(len(data)):\n",
        "      if data.iloc [i] [cand_final[0]]>data.iloc [i] [cand_final[1]]:\n",
        "        vote1 +=1\n",
        "      else:\n",
        "        vote2 +=1\n",
        "    if vote1 > vote2:\n",
        "      print('Candidat élu au deuxième tour:', cand_final[0])\n",
        "    else :\n",
        "      print('Candidat élu au deuxième tour:', cand_final[1])               \n",
        "  return "
      ],
      "execution_count": 73,
      "outputs": []
    },
    {
      "cell_type": "code",
      "metadata": {
        "id": "NxwcxpxJm6cr",
        "outputId": "fe722d86-88da-482e-ed59-34b9fbb4163c",
        "colab": {
          "base_uri": "https://localhost:8080/",
          "height": 34
        }
      },
      "source": [
        "VoteDeuxTour()"
      ],
      "execution_count": 74,
      "outputs": [
        {
          "output_type": "stream",
          "text": [
            "Candidat élu au deuxième tour: Candidat 1\n"
          ],
          "name": "stdout"
        }
      ]
    },
    {
      "cell_type": "markdown",
      "metadata": {
        "id": "lXKmxfn55Fva"
      },
      "source": [
        "VoteCondorcet"
      ]
    },
    {
      "cell_type": "code",
      "metadata": {
        "id": "mVez3pCk0mOG"
      },
      "source": [
        "def Majority(cand1,cand2):\n",
        "  somm_cand1=0\n",
        "  somm_cand2=0\n",
        "  for i in range((len(data))):\n",
        "    if data.iloc[i][cand1] > data.iloc[i][cand2] :\n",
        "      somm_cand1 +=1\n",
        "    if data.iloc[i][cand1] < data.iloc[i][cand2] :\n",
        "      somm_cand2 +=1\n",
        "    if data.iloc[i][cand1] == data.iloc[i][cand2] :\n",
        "      somm_cand1 +=1\n",
        "      somm_cand2 +=1\n",
        "  if somm_cand1 > somm_cand2:\n",
        "    return cand1\n",
        "  if somm_cand1 < somm_cand2:\n",
        "    return cand2\n",
        "  if somm_cand1 == somm_cand2:\n",
        "    return None\n",
        "  return"
      ],
      "execution_count": 75,
      "outputs": []
    },
    {
      "cell_type": "code",
      "metadata": {
        "id": "l_zHZ13GJkhe"
      },
      "source": [
        "def VoteCondorcet():\n",
        "    for i in  range(1, len(candidates)):\n",
        "      j=1 \n",
        "      count=0 \n",
        "      while ( j < len(candidates)):\n",
        "        cand1=candidates[i]\n",
        "        cand2=candidates[j]\n",
        "        if cand1==cand2:\n",
        "          j+=1\n",
        "        else:  \n",
        "          #print('cand1:',cand1)\n",
        "          #print('cand2:',cand2)\n",
        "          if Majority(cand1, cand2)==cand1 :\n",
        "            j=j+1\n",
        "            count +=1\n",
        "            #print(count)\n",
        "            #print('Win cand1', cand1)\n",
        "            champion = cand1\n",
        "            if count==len(candidates)-2:\n",
        "                return print('Candidat élu avec Condorcet:', champion)          \n",
        "            continue\n",
        "          if Majority(cand1, cand2)==cand2:\n",
        "            #print('Win cand2', cand2)\n",
        "            champion = cand2\n",
        "            break\n",
        "          if Majority(cand1, cand2)==None:\n",
        "            j+=1\n",
        "            champion='Aucun candidat'\n",
        "            #print('Parité')    \n",
        "    return print('Candidat élu avec Condorcet:', champion)          "
      ],
      "execution_count": 76,
      "outputs": []
    },
    {
      "cell_type": "code",
      "metadata": {
        "id": "sXYBAuxE3tEo",
        "outputId": "b778dac8-4a23-4be9-9a9c-d4cd51a404ce",
        "colab": {
          "base_uri": "https://localhost:8080/",
          "height": 34
        }
      },
      "source": [
        "VoteCondorcet()"
      ],
      "execution_count": 77,
      "outputs": [
        {
          "output_type": "stream",
          "text": [
            "Candidat élu avec Condorcet: Candidat 2\n"
          ],
          "name": "stdout"
        }
      ]
    },
    {
      "cell_type": "markdown",
      "metadata": {
        "id": "qcLJs45oHKBm"
      },
      "source": [
        "VoteBorda"
      ]
    },
    {
      "cell_type": "code",
      "metadata": {
        "id": "Yo9UVcYGHK0Z"
      },
      "source": [
        "def VoteBorda():\n",
        "  cand=[]\n",
        "  for j in range(1, len(candidates)):\n",
        "    iter=[]\n",
        "    tot=0\n",
        "    for vote in data[candidates[j]]:\n",
        "      iter.append(vote)\n",
        "    cand.append((sum(iter),candidates[j]))\n",
        "  sort_cand=[]\n",
        "  sort_cand= sorted(cand, reverse=True) \n",
        "  if sort_cand[0][0] == sort_cand[1][0]:\n",
        "     return print('Égalité, pas de candidat élu avec Borda') \n",
        "  return print('Candidat élu avec Borda:', max(cand)[1])"
      ],
      "execution_count": 78,
      "outputs": []
    },
    {
      "cell_type": "code",
      "metadata": {
        "id": "K3TdDuH0JFZc",
        "outputId": "b76d7537-34e2-43ff-e58f-7d406408d483",
        "colab": {
          "base_uri": "https://localhost:8080/",
          "height": 34
        }
      },
      "source": [
        "VoteBorda()"
      ],
      "execution_count": 79,
      "outputs": [
        {
          "output_type": "stream",
          "text": [
            "Candidat élu avec Borda: Candidat 4\n"
          ],
          "name": "stdout"
        }
      ]
    },
    {
      "cell_type": "markdown",
      "metadata": {
        "id": "kDPnfSolJ3fV"
      },
      "source": [
        "SuperVote"
      ]
    },
    {
      "cell_type": "code",
      "metadata": {
        "id": "lRB1nVArS1Om"
      },
      "source": [
        "def SuperVote():\n",
        "  VoteUnTour()\n",
        "  VoteDeuxTour()\n",
        "  VoteCondorcet()\n",
        "  VoteBorda()\n",
        "  return"
      ],
      "execution_count": 80,
      "outputs": []
    },
    {
      "cell_type": "code",
      "metadata": {
        "id": "Akmba4d9KuH6",
        "outputId": "f953e44c-18e1-4d65-8132-e055f380c10a",
        "colab": {
          "base_uri": "https://localhost:8080/",
          "height": 84
        }
      },
      "source": [
        "SuperVote()"
      ],
      "execution_count": 81,
      "outputs": [
        {
          "output_type": "stream",
          "text": [
            "Candidat élu : Candidat 3\n",
            "Candidat élu au deuxième tour: Candidat 1\n",
            "Candidat élu avec Condorcet: Candidat 2\n",
            "Candidat élu avec Borda: Candidat 4\n"
          ],
          "name": "stdout"
        }
      ]
    },
    {
      "cell_type": "code",
      "metadata": {
        "id": "lzLKlZmrM00K"
      },
      "source": [
        ""
      ],
      "execution_count": null,
      "outputs": []
    }
  ]
}