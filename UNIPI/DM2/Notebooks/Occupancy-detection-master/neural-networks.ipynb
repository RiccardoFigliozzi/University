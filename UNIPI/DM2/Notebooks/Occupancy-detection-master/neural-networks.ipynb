{
 "cells": [
  {
   "cell_type": "code",
   "execution_count": 1,
   "metadata": {},
   "outputs": [],
   "source": [
    "%matplotlib inline\n",
    "\n",
    "import numpy as np\n",
    "import pandas as pd\n",
    "import matplotlib.pyplot as plt\n",
    "\n",
    "from collections import defaultdict"
   ]
  },
  {
   "cell_type": "markdown",
   "metadata": {},
   "source": [
    "### Data preparation, Data partitioning and normalization"
   ]
  },
  {
   "cell_type": "code",
   "execution_count": 2,
   "metadata": {},
   "outputs": [],
   "source": [
    "class_name = 'Occupancy'\n",
    "df1 = pd.read_csv('datatraining.txt', skipinitialspace=True, na_values='?', \n",
    "                 keep_default_na=True)\n",
    "df2 =pd.read_csv('datatest.txt', skipinitialspace=True, na_values='?', \n",
    "                 keep_default_na=True)\n",
    "df3=pd.read_csv('datatest2.txt', skipinitialspace=True, na_values='?', \n",
    "                 keep_default_na=True)\n",
    "df4=pd.merge(df1, df2, how='outer')\n",
    "df=pd.merge(df4, df3, how='outer')"
   ]
  },
  {
   "cell_type": "code",
   "execution_count": 3,
   "metadata": {},
   "outputs": [],
   "source": [
    "df['Day']=pd.to_datetime(df['date']).dt.day\n",
    "df['Hour']=pd.to_datetime(df['date']).dt.hour\n",
    "df['Month']=pd.to_datetime(df['date']).dt.month\n",
    "df['Year']=pd.to_datetime(df['date']).dt.year\n",
    "df['Data']=pd.to_datetime(df['date']).dt.normalize()\n",
    "del df['date']"
   ]
  },
  {
   "cell_type": "code",
   "execution_count": 4,
   "metadata": {},
   "outputs": [],
   "source": [
    "df['Day']=df['Data'].dt.dayofweek\n",
    "df.drop(['Year','Month','Data'], axis='columns', inplace=True)\n",
    "del df['HumidityRatio']"
   ]
  },
  {
   "cell_type": "code",
   "execution_count": 5,
   "metadata": {},
   "outputs": [],
   "source": [
    "from data_preparation import prepare_dataset"
   ]
  },
  {
   "cell_type": "code",
   "execution_count": 6,
   "metadata": {},
   "outputs": [
    {
     "data": {
      "text/html": [
       "<div>\n",
       "<style scoped>\n",
       "    .dataframe tbody tr th:only-of-type {\n",
       "        vertical-align: middle;\n",
       "    }\n",
       "\n",
       "    .dataframe tbody tr th {\n",
       "        vertical-align: top;\n",
       "    }\n",
       "\n",
       "    .dataframe thead th {\n",
       "        text-align: right;\n",
       "    }\n",
       "</style>\n",
       "<table border=\"1\" class=\"dataframe\">\n",
       "  <thead>\n",
       "    <tr style=\"text-align: right;\">\n",
       "      <th></th>\n",
       "      <th>Temperature</th>\n",
       "      <th>Humidity</th>\n",
       "      <th>Light</th>\n",
       "      <th>CO2</th>\n",
       "      <th>Day</th>\n",
       "      <th>Hour</th>\n",
       "      <th>Occupancy</th>\n",
       "    </tr>\n",
       "  </thead>\n",
       "  <tbody>\n",
       "    <tr>\n",
       "      <th>0</th>\n",
       "      <td>23.18</td>\n",
       "      <td>27.2720</td>\n",
       "      <td>426.0</td>\n",
       "      <td>721.25</td>\n",
       "      <td>2</td>\n",
       "      <td>17</td>\n",
       "      <td>1</td>\n",
       "    </tr>\n",
       "    <tr>\n",
       "      <th>1</th>\n",
       "      <td>23.15</td>\n",
       "      <td>27.2675</td>\n",
       "      <td>429.5</td>\n",
       "      <td>714.00</td>\n",
       "      <td>2</td>\n",
       "      <td>17</td>\n",
       "      <td>1</td>\n",
       "    </tr>\n",
       "    <tr>\n",
       "      <th>2</th>\n",
       "      <td>23.15</td>\n",
       "      <td>27.2450</td>\n",
       "      <td>426.0</td>\n",
       "      <td>713.50</td>\n",
       "      <td>2</td>\n",
       "      <td>17</td>\n",
       "      <td>1</td>\n",
       "    </tr>\n",
       "    <tr>\n",
       "      <th>3</th>\n",
       "      <td>23.15</td>\n",
       "      <td>27.2000</td>\n",
       "      <td>426.0</td>\n",
       "      <td>708.25</td>\n",
       "      <td>2</td>\n",
       "      <td>17</td>\n",
       "      <td>1</td>\n",
       "    </tr>\n",
       "    <tr>\n",
       "      <th>4</th>\n",
       "      <td>23.10</td>\n",
       "      <td>27.2000</td>\n",
       "      <td>426.0</td>\n",
       "      <td>704.50</td>\n",
       "      <td>2</td>\n",
       "      <td>17</td>\n",
       "      <td>1</td>\n",
       "    </tr>\n",
       "  </tbody>\n",
       "</table>\n",
       "</div>"
      ],
      "text/plain": [
       "   Temperature  Humidity  Light     CO2  Day  Hour  Occupancy\n",
       "0        23.18   27.2720  426.0  721.25    2    17          1\n",
       "1        23.15   27.2675  429.5  714.00    2    17          1\n",
       "2        23.15   27.2450  426.0  713.50    2    17          1\n",
       "3        23.15   27.2000  426.0  708.25    2    17          1\n",
       "4        23.10   27.2000  426.0  704.50    2    17          1"
      ]
     },
     "execution_count": 6,
     "metadata": {},
     "output_type": "execute_result"
    }
   ],
   "source": [
    "res = prepare_dataset(df, class_name)\n",
    "df, feature_names, class_values, numeric_columns, rdf, real_feature_names, features_map = res\n",
    "df.head()"
   ]
  },
  {
   "cell_type": "code",
   "execution_count": 7,
   "metadata": {},
   "outputs": [],
   "source": [
    "from sklearn.model_selection import train_test_split, cross_val_score, GridSearchCV\n",
    "\n",
    "from sklearn.metrics import accuracy_score, f1_score, classification_report\n",
    "from sklearn.metrics import roc_curve, auc, roc_auc_score"
   ]
  },
  {
   "cell_type": "code",
   "execution_count": 8,
   "metadata": {},
   "outputs": [],
   "source": [
    "attributes = [col for col in df.columns if col != class_name]\n",
    "X = df[attributes].values\n",
    "y = df[class_name]\n",
    "\n",
    "X_train, X_test, y_train, y_test = train_test_split(X, y, test_size=0.3, random_state=100, stratify=y)"
   ]
  },
  {
   "cell_type": "code",
   "execution_count": 9,
   "metadata": {},
   "outputs": [],
   "source": [
    "from sklearn.preprocessing import StandardScaler"
   ]
  },
  {
   "cell_type": "code",
   "execution_count": 10,
   "metadata": {},
   "outputs": [],
   "source": [
    "scaler = StandardScaler()\n",
    "scaler.fit(X_train)\n",
    "X_train = scaler.transform(X_train)\n",
    "X_test = scaler.transform(X_test)"
   ]
  },
  {
   "cell_type": "markdown",
   "metadata": {},
   "source": [
    "## Single layer network"
   ]
  },
  {
   "cell_type": "code",
   "execution_count": 11,
   "metadata": {},
   "outputs": [],
   "source": [
    "from sklearn.linear_model import Perceptron"
   ]
  },
  {
   "cell_type": "code",
   "execution_count": 12,
   "metadata": {},
   "outputs": [],
   "source": [
    "sln=Perceptron()"
   ]
  },
  {
   "cell_type": "code",
   "execution_count": 13,
   "metadata": {},
   "outputs": [
    {
     "data": {
      "text/plain": [
       "Perceptron(alpha=0.0001, class_weight=None, early_stopping=False, eta0=1.0,\n",
       "           fit_intercept=True, max_iter=1000, n_iter_no_change=5, n_jobs=None,\n",
       "           penalty=None, random_state=0, shuffle=True, tol=0.001,\n",
       "           validation_fraction=0.1, verbose=0, warm_start=False)"
      ]
     },
     "execution_count": 13,
     "metadata": {},
     "output_type": "execute_result"
    }
   ],
   "source": [
    "sln.fit(X_train, y_train)"
   ]
  },
  {
   "cell_type": "code",
   "execution_count": 14,
   "metadata": {},
   "outputs": [],
   "source": [
    "y_pred_sln = sln.predict(X_test)"
   ]
  },
  {
   "cell_type": "code",
   "execution_count": 15,
   "metadata": {},
   "outputs": [
    {
     "name": "stdout",
     "output_type": "stream",
     "text": [
      "Accuracy 0.9854085603112841\n",
      "F1-score [0.99049028 0.96866295]\n",
      "              precision    recall  f1-score   support\n",
      "\n",
      "           0       0.99      0.99      0.99      4743\n",
      "           1       0.96      0.98      0.97      1425\n",
      "\n",
      "    accuracy                           0.99      6168\n",
      "   macro avg       0.98      0.98      0.98      6168\n",
      "weighted avg       0.99      0.99      0.99      6168\n",
      "\n"
     ]
    }
   ],
   "source": [
    "print('Accuracy %s' % accuracy_score(y_test, y_pred_sln))\n",
    "print('F1-score %s' % f1_score(y_test, y_pred_sln, average=None))\n",
    "print(classification_report(y_test, y_pred_sln))"
   ]
  },
  {
   "cell_type": "markdown",
   "metadata": {},
   "source": [
    "non posso fare roc curve ne lift chart perchè questo classificatore non ha clf.proba (Perceptrons do not output a class probability; rather,\n",
    "they just make predictions based on a hard threshold. This is one of the good reasons to prefer Logistic\n",
    "Regression over Perceptrons.)\n"
   ]
  },
  {
   "cell_type": "markdown",
   "metadata": {},
   "source": [
    "## Multiple layer network"
   ]
  },
  {
   "cell_type": "code",
   "execution_count": 16,
   "metadata": {},
   "outputs": [],
   "source": [
    "from sklearn.neural_network import MLPClassifier"
   ]
  },
  {
   "cell_type": "code",
   "execution_count": 21,
   "metadata": {},
   "outputs": [
    {
     "name": "stdout",
     "output_type": "stream",
     "text": [
      "Accuracy 0.9920557717250325\n",
      "F1-score [0.99481317 0.98303911]\n",
      "              precision    recall  f1-score   support\n",
      "\n",
      "           0       1.00      0.99      0.99      4743\n",
      "           1       0.97      1.00      0.98      1425\n",
      "\n",
      "    accuracy                           0.99      6168\n",
      "   macro avg       0.98      0.99      0.99      6168\n",
      "weighted avg       0.99      0.99      0.99      6168\n",
      "\n"
     ]
    }
   ],
   "source": [
    "mln = MLPClassifier(random_state=0)\n",
    "\n",
    "mln.fit(X_train, y_train)\n",
    "\n",
    "y_pred_mln = mln.predict(X_test)\n",
    "\n",
    "print('Accuracy %s' % accuracy_score(y_test, y_pred_mln))\n",
    "print('F1-score %s' % f1_score(y_test, y_pred_mln, average=None))\n",
    "print(classification_report(y_test, y_pred_mln))"
   ]
  },
  {
   "cell_type": "code",
   "execution_count": 22,
   "metadata": {},
   "outputs": [
    {
     "data": {
      "image/png": "[encoded data removed]",
      "text/plain": [
       "<Figure size 432x288 with 1 Axes>"
      ]
     },
     "metadata": {
      "needs_background": "light"
     },
     "output_type": "display_data"
    }
   ],
   "source": [
    "plt.plot(mln.loss_curve_)\n",
    "plt.show()"
   ]
  },
  {
   "cell_type": "markdown",
   "metadata": {},
   "source": [
    "non sembrano esserci problemi ne di overfitting ne di underfitting:\n",
    "    - overfitting: The plot of training loss continues to decrease with experience or The plot of validation loss decreases to a point and begins increasing again.\n",
    "    - underfitting:The training loss remains flat regardless of training or The training loss continues to decrease until the end of training."
   ]
  },
  {
   "cell_type": "markdown",
   "metadata": {},
   "source": [
    "This example visualizes some training loss curves for different stochastic learning strategies, including SGD and Adam. "
   ]
  },
  {
   "cell_type": "code",
   "execution_count": 19,
   "metadata": {},
   "outputs": [],
   "source": [
    "params = [{'solver': 'sgd', 'learning_rate': 'constant', 'momentum': 0,\n",
    "           'learning_rate_init': 0.2},\n",
    "          {'solver': 'sgd', 'learning_rate': 'constant', 'momentum': .9,\n",
    "           'nesterovs_momentum': False, 'learning_rate_init': 0.2},\n",
    "          {'solver': 'sgd', 'learning_rate': 'constant', 'momentum': .9,\n",
    "           'nesterovs_momentum': True, 'learning_rate_init': 0.2},\n",
    "          {'solver': 'sgd', 'learning_rate': 'invscaling', 'momentum': 0,\n",
    "           'learning_rate_init': 0.2},\n",
    "          {'solver': 'sgd', 'learning_rate': 'invscaling', 'momentum': .9,\n",
    "           'nesterovs_momentum': True, 'learning_rate_init': 0.2},\n",
    "          {'solver': 'sgd', 'learning_rate': 'invscaling', 'momentum': .9,\n",
    "           'nesterovs_momentum': False, 'learning_rate_init': 0.2},\n",
    "          {'solver': 'adam', 'learning_rate_init': 0.01}]\n",
    "\n",
    "labels = [\"constant learning-rate\", \"constant with momentum\",\n",
    "          \"constant with Nesterov's momentum\",\n",
    "          \"inv-scaling learning-rate\", \"inv-scaling with momentum\",\n",
    "          \"inv-scaling with Nesterov's momentum\", \"adam\"]"
   ]
  },
  {
   "cell_type": "code",
   "execution_count": 20,
   "metadata": {},
   "outputs": [],
   "source": [
    "import warnings\n",
    "from sklearn.exceptions import ConvergenceWarning"
   ]
  },
  {
   "cell_type": "code",
   "execution_count": 21,
   "metadata": {},
   "outputs": [
    {
     "name": "stdout",
     "output_type": "stream",
     "text": [
      "constant learning-rate\n",
      "training set score and loss: 0.769, 5.606281\n"
     ]
    },
    {
     "data": {
      "image/png": "[encoded data removed]",
      "text/plain": [
       "<Figure size 432x288 with 1 Axes>"
      ]
     },
     "metadata": {
      "needs_background": "light"
     },
     "output_type": "display_data"
    },
    {
     "name": "stdout",
     "output_type": "stream",
     "text": [
      "constant with momentum\n",
      "training set score and loss: 0.769, 488.868846\n"
     ]
    },
    {
     "data": {
      "image/png": "[encoded data removed]",
      "text/plain": [
       "<Figure size 432x288 with 1 Axes>"
      ]
     },
     "metadata": {
      "needs_background": "light"
     },
     "output_type": "display_data"
    },
    {
     "name": "stdout",
     "output_type": "stream",
     "text": [
      "constant with Nesterov's momentum\n",
      "training set score and loss: 0.769, 1603.213153\n"
     ]
    },
    {
     "data": {
      "image/png": "[encoded data removed]",
      "text/plain": [
       "<Figure size 432x288 with 1 Axes>"
      ]
     },
     "metadata": {
      "needs_background": "light"
     },
     "output_type": "display_data"
    },
    {
     "name": "stdout",
     "output_type": "stream",
     "text": [
      "inv-scaling learning-rate\n",
      "training set score and loss: 0.769, 5.627009\n"
     ]
    },
    {
     "data": {
      "image/png": "[encoded data removed]",
      "text/plain": [
       "<Figure size 432x288 with 1 Axes>"
      ]
     },
     "metadata": {
      "needs_background": "light"
     },
     "output_type": "display_data"
    },
    {
     "name": "stdout",
     "output_type": "stream",
     "text": [
      "inv-scaling with momentum\n",
      "training set score and loss: 0.769, 1670.178766\n"
     ]
    },
    {
     "data": {
      "image/png": "[encoded data removed]",
      "text/plain": [
       "<Figure size 432x288 with 1 Axes>"
      ]
     },
     "metadata": {
      "needs_background": "light"
     },
     "output_type": "display_data"
    },
    {
     "name": "stdout",
     "output_type": "stream",
     "text": [
      "inv-scaling with Nesterov's momentum\n",
      "training set score and loss: 0.769, 509.280629\n"
     ]
    },
    {
     "data": {
      "image/png": "[encoded data removed]",
      "text/plain": [
       "<Figure size 432x288 with 1 Axes>"
      ]
     },
     "metadata": {
      "needs_background": "light"
     },
     "output_type": "display_data"
    },
    {
     "name": "stdout",
     "output_type": "stream",
     "text": [
      "adam\n",
      "training set score and loss: 0.990, 0.051007\n"
     ]
    },
    {
     "data": {
      "image/png": "[encoded data removed]",
      "text/plain": [
       "<Figure size 432x288 with 1 Axes>"
      ]
     },
     "metadata": {
      "needs_background": "light"
     },
     "output_type": "display_data"
    }
   ],
   "source": [
    "for label, param in zip(labels, params):\n",
    "    print(label)\n",
    "    mlp = MLPClassifier(random_state=0, max_iter=200, **param)\n",
    "\n",
    "    # some parameter combinations will not converge as can be seen on the\n",
    "    # plots so they are ignored here\n",
    "    with warnings.catch_warnings():\n",
    "        warnings.filterwarnings(\"ignore\", category=ConvergenceWarning, module=\"sklearn\")\n",
    "        mlp.fit(X, y)\n",
    "\n",
    "    print(\"training set score and loss: %.3f, %f\" % (mlp.score(X, y), mlp.loss_))\n",
    "    plt.plot(mlp.loss_curve_, label=label)\n",
    "    plt.legend(loc=\"upper center\")\n",
    "    plt.show()"
   ]
  },
  {
   "cell_type": "markdown",
   "metadata": {},
   "source": [
    " le strategie portano ad overfitting: le prime sei perche la loss curve continuano a decrescere con l'esperienza"
   ]
  },
  {
   "cell_type": "markdown",
   "metadata": {},
   "source": [
    "## keras DNN"
   ]
  },
  {
   "cell_type": "code",
   "execution_count": 24,
   "metadata": {},
   "outputs": [
    {
     "name": "stderr",
     "output_type": "stream",
     "text": [
      "Using TensorFlow backend.\n"
     ]
    }
   ],
   "source": [
    "from keras.models import Sequential\n",
    "from keras.layers import Dense"
   ]
  },
  {
   "cell_type": "code",
   "execution_count": 25,
   "metadata": {},
   "outputs": [],
   "source": [
    "def build_model():\n",
    "    \n",
    "    n_feature = X_train.shape[1]\n",
    "    model = Sequential()\n",
    "    model.add(Dense(128, input_dim=n_feature, activation='relu'))\n",
    "    model.add(Dense(64, activation='relu'))\n",
    "    model.add(Dense(1, activation='sigmoid'))\n",
    "\n",
    "    model.compile(loss='binary_crossentropy', optimizer='adam', metrics=['accuracy'])\n",
    "    return model"
   ]
  },
  {
   "cell_type": "markdown",
   "metadata": {},
   "source": [
    "-The batch size is a hyperparameter of gradient descent that controls the number of training samples to work through before the model’s internal parameters are updated.(The batch size is a number of samples processed before the model is updated)\n",
    "\n",
    "\n",
    "-The number of epochs is a hyperparameter of gradient descent that controls the number of complete passes through the training dataset.(The number of epochs is the number of complete passes through the training dataset)\n",
    "\n",
    "https://machinelearningmastery.com/difference-between-a-batch-and-an-epoch/"
   ]
  },
  {
   "cell_type": "code",
   "execution_count": 29,
   "metadata": {},
   "outputs": [
    {
     "name": "stdout",
     "output_type": "stream",
     "text": [
      "Epoch 1/100\n",
      "14392/14392 [==============================] - 1s 77us/step - loss: 0.0799 - accuracy: 0.9806\n",
      "Epoch 2/100\n",
      "14392/14392 [==============================] - 1s 56us/step - loss: 0.0415 - accuracy: 0.9892\n",
      "Epoch 3/100\n",
      "14392/14392 [==============================] - 1s 53us/step - loss: 0.0392 - accuracy: 0.9892\n",
      "Epoch 4/100\n",
      "14392/14392 [==============================] - 1s 53us/step - loss: 0.0375 - accuracy: 0.9894\n",
      "Epoch 5/100\n",
      "14392/14392 [==============================] - 1s 53us/step - loss: 0.0363 - accuracy: 0.9895\n",
      "Epoch 6/100\n",
      "14392/14392 [==============================] - 1s 54us/step - loss: 0.0345 - accuracy: 0.9894\n",
      "Epoch 7/100\n",
      "14392/14392 [==============================] - 1s 54us/step - loss: 0.0333 - accuracy: 0.9894\n",
      "Epoch 8/100\n",
      "14392/14392 [==============================] - 1s 53us/step - loss: 0.0315 - accuracy: 0.9898\n",
      "Epoch 9/100\n",
      "14392/14392 [==============================] - 1s 53us/step - loss: 0.0306 - accuracy: 0.9899\n",
      "Epoch 10/100\n",
      "14392/14392 [==============================] - 1s 53us/step - loss: 0.0304 - accuracy: 0.9902\n",
      "Epoch 11/100\n",
      "14392/14392 [==============================] - 1s 59us/step - loss: 0.0295 - accuracy: 0.9906\n",
      "Epoch 12/100\n",
      "14392/14392 [==============================] - 1s 52us/step - loss: 0.0295 - accuracy: 0.9909\n",
      "Epoch 13/100\n",
      "14392/14392 [==============================] - 1s 51us/step - loss: 0.0285 - accuracy: 0.9915\n",
      "Epoch 14/100\n",
      "14392/14392 [==============================] - 1s 52us/step - loss: 0.0287 - accuracy: 0.9912\n",
      "Epoch 15/100\n",
      "14392/14392 [==============================] - 1s 59us/step - loss: 0.0281 - accuracy: 0.9908\n",
      "Epoch 16/100\n",
      "14392/14392 [==============================] - 1s 54us/step - loss: 0.0280 - accuracy: 0.9912\n",
      "Epoch 17/100\n",
      "14392/14392 [==============================] - 1s 63us/step - loss: 0.0278 - accuracy: 0.9912\n",
      "Epoch 18/100\n",
      "14392/14392 [==============================] - 1s 53us/step - loss: 0.0272 - accuracy: 0.9917\n",
      "Epoch 19/100\n",
      "14392/14392 [==============================] - 1s 56us/step - loss: 0.0276 - accuracy: 0.9914\n",
      "Epoch 20/100\n",
      "14392/14392 [==============================] - 1s 52us/step - loss: 0.0274 - accuracy: 0.9914\n",
      "Epoch 21/100\n",
      "14392/14392 [==============================] - 1s 53us/step - loss: 0.0270 - accuracy: 0.9914\n",
      "Epoch 22/100\n",
      "14392/14392 [==============================] - 1s 53us/step - loss: 0.0266 - accuracy: 0.9915\n",
      "Epoch 23/100\n",
      "14392/14392 [==============================] - 1s 54us/step - loss: 0.0268 - accuracy: 0.9910\n",
      "Epoch 24/100\n",
      "14392/14392 [==============================] - 1s 53us/step - loss: 0.0256 - accuracy: 0.9913\n",
      "Epoch 25/100\n",
      "14392/14392 [==============================] - 1s 58us/step - loss: 0.0265 - accuracy: 0.9913\n",
      "Epoch 26/100\n",
      "14392/14392 [==============================] - 1s 53us/step - loss: 0.0262 - accuracy: 0.9920\n",
      "Epoch 27/100\n",
      "14392/14392 [==============================] - 1s 53us/step - loss: 0.0261 - accuracy: 0.9912\n",
      "Epoch 28/100\n",
      "14392/14392 [==============================] - 1s 53us/step - loss: 0.0261 - accuracy: 0.9916\n",
      "Epoch 29/100\n",
      "14392/14392 [==============================] - 1s 52us/step - loss: 0.0259 - accuracy: 0.9916\n",
      "Epoch 30/100\n",
      "14392/14392 [==============================] - 1s 59us/step - loss: 0.0259 - accuracy: 0.9914\n",
      "Epoch 31/100\n",
      "14392/14392 [==============================] - 1s 65us/step - loss: 0.0256 - accuracy: 0.9915\n",
      "Epoch 32/100\n",
      "14392/14392 [==============================] - 1s 60us/step - loss: 0.0254 - accuracy: 0.9917\n",
      "Epoch 33/100\n",
      "14392/14392 [==============================] - 1s 51us/step - loss: 0.0260 - accuracy: 0.9917\n",
      "Epoch 34/100\n",
      "14392/14392 [==============================] - 1s 53us/step - loss: 0.0255 - accuracy: 0.9916\n",
      "Epoch 35/100\n",
      "14392/14392 [==============================] - 1s 52us/step - loss: 0.0252 - accuracy: 0.9916\n",
      "Epoch 36/100\n",
      "14392/14392 [==============================] - 1s 53us/step - loss: 0.0249 - accuracy: 0.9915\n",
      "Epoch 37/100\n",
      "14392/14392 [==============================] - 1s 52us/step - loss: 0.0252 - accuracy: 0.9912\n",
      "Epoch 38/100\n",
      "14392/14392 [==============================] - 1s 51us/step - loss: 0.0247 - accuracy: 0.9917\n",
      "Epoch 39/100\n",
      "14392/14392 [==============================] - 1s 51us/step - loss: 0.0248 - accuracy: 0.9911 0s - loss: 0\n",
      "Epoch 40/100\n",
      "14392/14392 [==============================] - 1s 51us/step - loss: 0.0251 - accuracy: 0.9914\n",
      "Epoch 41/100\n",
      "14392/14392 [==============================] - 1s 51us/step - loss: 0.0246 - accuracy: 0.9914\n",
      "Epoch 42/100\n",
      "14392/14392 [==============================] - 1s 51us/step - loss: 0.0249 - accuracy: 0.9915\n",
      "Epoch 43/100\n",
      "14392/14392 [==============================] - 1s 51us/step - loss: 0.0241 - accuracy: 0.9916\n",
      "Epoch 44/100\n",
      "14392/14392 [==============================] - 1s 54us/step - loss: 0.0239 - accuracy: 0.9919\n",
      "Epoch 45/100\n",
      "14392/14392 [==============================] - 1s 57us/step - loss: 0.0241 - accuracy: 0.9917\n",
      "Epoch 46/100\n",
      "14392/14392 [==============================] - 1s 59us/step - loss: 0.0245 - accuracy: 0.9918\n",
      "Epoch 47/100\n",
      "14392/14392 [==============================] - 1s 53us/step - loss: 0.0239 - accuracy: 0.9915\n",
      "Epoch 48/100\n",
      "14392/14392 [==============================] - 1s 54us/step - loss: 0.0238 - accuracy: 0.9912\n",
      "Epoch 49/100\n",
      "14392/14392 [==============================] - 1s 54us/step - loss: 0.0235 - accuracy: 0.9919\n",
      "Epoch 50/100\n",
      "14392/14392 [==============================] - ETA: 0s - loss: 0.0246 - accuracy: 0.99 - 1s 55us/step - loss: 0.0244 - accuracy: 0.9910\n",
      "Epoch 51/100\n",
      "14392/14392 [==============================] - 1s 54us/step - loss: 0.0240 - accuracy: 0.9916\n",
      "Epoch 52/100\n",
      "14392/14392 [==============================] - 1s 54us/step - loss: 0.0235 - accuracy: 0.9919\n",
      "Epoch 53/100\n",
      "14392/14392 [==============================] - 1s 54us/step - loss: 0.0242 - accuracy: 0.9912\n",
      "Epoch 54/100\n",
      "14392/14392 [==============================] - 1s 56us/step - loss: 0.0226 - accuracy: 0.9920\n",
      "Epoch 55/100\n",
      "14392/14392 [==============================] - 1s 56us/step - loss: 0.0238 - accuracy: 0.9912\n",
      "Epoch 56/100\n",
      "14392/14392 [==============================] - 1s 56us/step - loss: 0.0237 - accuracy: 0.9912\n",
      "Epoch 57/100\n",
      "14392/14392 [==============================] - 1s 52us/step - loss: 0.0235 - accuracy: 0.9912\n",
      "Epoch 58/100\n",
      "14392/14392 [==============================] - 1s 54us/step - loss: 0.0226 - accuracy: 0.9919\n",
      "Epoch 59/100\n",
      "14392/14392 [==============================] - 1s 53us/step - loss: 0.0233 - accuracy: 0.9922\n",
      "Epoch 60/100\n",
      "14392/14392 [==============================] - 1s 63us/step - loss: 0.0234 - accuracy: 0.9917\n",
      "Epoch 61/100\n",
      "14392/14392 [==============================] - 1s 60us/step - loss: 0.0229 - accuracy: 0.9921\n",
      "Epoch 62/100\n",
      "14392/14392 [==============================] - 1s 56us/step - loss: 0.0234 - accuracy: 0.9917\n",
      "Epoch 63/100\n",
      "14392/14392 [==============================] - 1s 54us/step - loss: 0.0230 - accuracy: 0.9920\n",
      "Epoch 64/100\n",
      "14392/14392 [==============================] - 1s 55us/step - loss: 0.0233 - accuracy: 0.9922\n",
      "Epoch 65/100\n",
      "14392/14392 [==============================] - 1s 56us/step - loss: 0.0228 - accuracy: 0.9922\n",
      "Epoch 66/100\n",
      "14392/14392 [==============================] - 1s 58us/step - loss: 0.0232 - accuracy: 0.9915\n",
      "Epoch 67/100\n",
      "14392/14392 [==============================] - 1s 60us/step - loss: 0.0225 - accuracy: 0.9920\n",
      "Epoch 68/100\n",
      "14392/14392 [==============================] - 1s 54us/step - loss: 0.0230 - accuracy: 0.9917\n",
      "Epoch 69/100\n",
      "14392/14392 [==============================] - 1s 51us/step - loss: 0.0223 - accuracy: 0.9915\n",
      "Epoch 70/100\n",
      "14392/14392 [==============================] - 1s 53us/step - loss: 0.0226 - accuracy: 0.9921\n",
      "Epoch 71/100\n",
      "14392/14392 [==============================] - 1s 52us/step - loss: 0.0230 - accuracy: 0.9915\n",
      "Epoch 72/100\n",
      "14392/14392 [==============================] - 1s 54us/step - loss: 0.0226 - accuracy: 0.9922\n",
      "Epoch 73/100\n",
      "14392/14392 [==============================] - 1s 52us/step - loss: 0.0226 - accuracy: 0.9917\n",
      "Epoch 74/100\n",
      "14392/14392 [==============================] - 1s 53us/step - loss: 0.0227 - accuracy: 0.9920\n",
      "Epoch 75/100\n",
      "14392/14392 [==============================] - 1s 52us/step - loss: 0.0224 - accuracy: 0.9919\n",
      "Epoch 76/100\n",
      "14392/14392 [==============================] - 1s 53us/step - loss: 0.0223 - accuracy: 0.9923\n",
      "Epoch 77/100\n"
     ]
    },
    {
     "name": "stdout",
     "output_type": "stream",
     "text": [
      "14392/14392 [==============================] - 1s 53us/step - loss: 0.0220 - accuracy: 0.9922\n",
      "Epoch 78/100\n",
      "14392/14392 [==============================] - 1s 51us/step - loss: 0.0223 - accuracy: 0.9924\n",
      "Epoch 79/100\n",
      "14392/14392 [==============================] - 1s 50us/step - loss: 0.0223 - accuracy: 0.9924\n",
      "Epoch 80/100\n",
      "14392/14392 [==============================] - 1s 51us/step - loss: 0.0217 - accuracy: 0.9918\n",
      "Epoch 81/100\n",
      "14392/14392 [==============================] - 1s 49us/step - loss: 0.0221 - accuracy: 0.9922\n",
      "Epoch 82/100\n",
      "14392/14392 [==============================] - 1s 49us/step - loss: 0.0223 - accuracy: 0.9919\n",
      "Epoch 83/100\n",
      "14392/14392 [==============================] - 1s 51us/step - loss: 0.0215 - accuracy: 0.9925\n",
      "Epoch 84/100\n",
      "14392/14392 [==============================] - 1s 60us/step - loss: 0.0216 - accuracy: 0.9922\n",
      "Epoch 85/100\n",
      "14392/14392 [==============================] - 1s 61us/step - loss: 0.0220 - accuracy: 0.9917\n",
      "Epoch 86/100\n",
      "14392/14392 [==============================] - 1s 58us/step - loss: 0.0221 - accuracy: 0.9913\n",
      "Epoch 87/100\n",
      "14392/14392 [==============================] - 1s 59us/step - loss: 0.0214 - accuracy: 0.9919\n",
      "Epoch 88/100\n",
      "14392/14392 [==============================] - 1s 60us/step - loss: 0.0219 - accuracy: 0.9921\n",
      "Epoch 89/100\n",
      "14392/14392 [==============================] - 1s 60us/step - loss: 0.0222 - accuracy: 0.9917\n",
      "Epoch 90/100\n",
      "14392/14392 [==============================] - 1s 63us/step - loss: 0.0212 - accuracy: 0.9921\n",
      "Epoch 91/100\n",
      "14392/14392 [==============================] - 1s 62us/step - loss: 0.0217 - accuracy: 0.9921\n",
      "Epoch 92/100\n",
      "14392/14392 [==============================] - 1s 75us/step - loss: 0.0216 - accuracy: 0.9923\n",
      "Epoch 93/100\n",
      "14392/14392 [==============================] - 1s 66us/step - loss: 0.0221 - accuracy: 0.9918\n",
      "Epoch 94/100\n",
      "14392/14392 [==============================] - 1s 61us/step - loss: 0.0217 - accuracy: 0.9918\n",
      "Epoch 95/100\n",
      "14392/14392 [==============================] - 1s 52us/step - loss: 0.0212 - accuracy: 0.9918\n",
      "Epoch 96/100\n",
      "14392/14392 [==============================] - 1s 52us/step - loss: 0.0215 - accuracy: 0.9924\n",
      "Epoch 97/100\n",
      "14392/14392 [==============================] - 1s 51us/step - loss: 0.0207 - accuracy: 0.9930\n",
      "Epoch 98/100\n",
      "14392/14392 [==============================] - 1s 52us/step - loss: 0.0213 - accuracy: 0.9920\n",
      "Epoch 99/100\n",
      "14392/14392 [==============================] - 1s 53us/step - loss: 0.0210 - accuracy: 0.9919\n",
      "Epoch 100/100\n",
      "14392/14392 [==============================] - 1s 52us/step - loss: 0.0214 - accuracy: 0.9922\n"
     ]
    }
   ],
   "source": [
    "model1 = build_model()\n",
    "\n",
    "history1 = model1.fit(X_train, y_train, epochs=100, batch_size=30).history"
   ]
  },
  {
   "cell_type": "code",
   "execution_count": 30,
   "metadata": {},
   "outputs": [
    {
     "name": "stdout",
     "output_type": "stream",
     "text": [
      "Epoch 1/100\n",
      "14392/14392 [==============================] - 0s 32us/step - loss: 0.1453 - accuracy: 0.9573\n",
      "Epoch 2/100\n",
      "14392/14392 [==============================] - 0s 20us/step - loss: 0.0455 - accuracy: 0.9891\n",
      "Epoch 3/100\n",
      "14392/14392 [==============================] - 0s 19us/step - loss: 0.0423 - accuracy: 0.9893\n",
      "Epoch 4/100\n",
      "14392/14392 [==============================] - 0s 18us/step - loss: 0.0410 - accuracy: 0.9893\n",
      "Epoch 5/100\n",
      "14392/14392 [==============================] - 0s 18us/step - loss: 0.0394 - accuracy: 0.9893\n",
      "Epoch 6/100\n",
      "14392/14392 [==============================] - 0s 18us/step - loss: 0.0386 - accuracy: 0.9892\n",
      "Epoch 7/100\n",
      "14392/14392 [==============================] - 0s 19us/step - loss: 0.0374 - accuracy: 0.9894\n",
      "Epoch 8/100\n",
      "14392/14392 [==============================] - 0s 20us/step - loss: 0.0369 - accuracy: 0.9894\n",
      "Epoch 9/100\n",
      "14392/14392 [==============================] - 0s 20us/step - loss: 0.0359 - accuracy: 0.9894\n",
      "Epoch 10/100\n",
      "14392/14392 [==============================] - 0s 18us/step - loss: 0.0354 - accuracy: 0.9896\n",
      "Epoch 11/100\n",
      "14392/14392 [==============================] - 0s 18us/step - loss: 0.0346 - accuracy: 0.9895\n",
      "Epoch 12/100\n",
      "14392/14392 [==============================] - 0s 18us/step - loss: 0.0341 - accuracy: 0.9896\n",
      "Epoch 13/100\n",
      "14392/14392 [==============================] - 0s 19us/step - loss: 0.0329 - accuracy: 0.9894\n",
      "Epoch 14/100\n",
      "14392/14392 [==============================] - 0s 18us/step - loss: 0.0322 - accuracy: 0.9898\n",
      "Epoch 15/100\n",
      "14392/14392 [==============================] - 0s 18us/step - loss: 0.0316 - accuracy: 0.9897\n",
      "Epoch 16/100\n",
      "14392/14392 [==============================] - 0s 18us/step - loss: 0.0312 - accuracy: 0.9898\n",
      "Epoch 17/100\n",
      "14392/14392 [==============================] - 0s 18us/step - loss: 0.0309 - accuracy: 0.9897\n",
      "Epoch 18/100\n",
      "14392/14392 [==============================] - 0s 19us/step - loss: 0.0302 - accuracy: 0.9899\n",
      "Epoch 19/100\n",
      "14392/14392 [==============================] - 0s 19us/step - loss: 0.0299 - accuracy: 0.9902\n",
      "Epoch 20/100\n",
      "14392/14392 [==============================] - 0s 19us/step - loss: 0.0292 - accuracy: 0.9903\n",
      "Epoch 21/100\n",
      "14392/14392 [==============================] - 0s 19us/step - loss: 0.0290 - accuracy: 0.9908\n",
      "Epoch 22/100\n",
      "14392/14392 [==============================] - 0s 19us/step - loss: 0.0289 - accuracy: 0.9908\n",
      "Epoch 23/100\n",
      "14392/14392 [==============================] - 0s 21us/step - loss: 0.0290 - accuracy: 0.9910\n",
      "Epoch 24/100\n",
      "14392/14392 [==============================] - 0s 23us/step - loss: 0.0284 - accuracy: 0.9912\n",
      "Epoch 25/100\n",
      "14392/14392 [==============================] - 0s 19us/step - loss: 0.0282 - accuracy: 0.9913\n",
      "Epoch 26/100\n",
      "14392/14392 [==============================] - 0s 20us/step - loss: 0.0280 - accuracy: 0.9910\n",
      "Epoch 27/100\n",
      "14392/14392 [==============================] - 0s 21us/step - loss: 0.0276 - accuracy: 0.9914\n",
      "Epoch 28/100\n",
      "14392/14392 [==============================] - 0s 21us/step - loss: 0.0271 - accuracy: 0.9913\n",
      "Epoch 29/100\n",
      "14392/14392 [==============================] - 0s 21us/step - loss: 0.0273 - accuracy: 0.9916\n",
      "Epoch 30/100\n",
      "14392/14392 [==============================] - 0s 19us/step - loss: 0.0278 - accuracy: 0.9912\n",
      "Epoch 31/100\n",
      "14392/14392 [==============================] - 0s 22us/step - loss: 0.0278 - accuracy: 0.9917\n",
      "Epoch 32/100\n",
      "14392/14392 [==============================] - 0s 19us/step - loss: 0.0267 - accuracy: 0.9915\n",
      "Epoch 33/100\n",
      "14392/14392 [==============================] - 0s 19us/step - loss: 0.0267 - accuracy: 0.9917\n",
      "Epoch 34/100\n",
      "14392/14392 [==============================] - 0s 21us/step - loss: 0.0259 - accuracy: 0.9913\n",
      "Epoch 35/100\n",
      "14392/14392 [==============================] - 0s 18us/step - loss: 0.0267 - accuracy: 0.9912\n",
      "Epoch 36/100\n",
      "14392/14392 [==============================] - 0s 19us/step - loss: 0.0263 - accuracy: 0.9917\n",
      "Epoch 37/100\n",
      "14392/14392 [==============================] - 0s 18us/step - loss: 0.0264 - accuracy: 0.9918\n",
      "Epoch 38/100\n",
      "14392/14392 [==============================] - 0s 19us/step - loss: 0.0259 - accuracy: 0.9919\n",
      "Epoch 39/100\n",
      "14392/14392 [==============================] - 0s 18us/step - loss: 0.0262 - accuracy: 0.9916\n",
      "Epoch 40/100\n",
      "14392/14392 [==============================] - 0s 18us/step - loss: 0.0261 - accuracy: 0.9915\n",
      "Epoch 41/100\n",
      "14392/14392 [==============================] - 0s 18us/step - loss: 0.0262 - accuracy: 0.9915\n",
      "Epoch 42/100\n",
      "14392/14392 [==============================] - 0s 18us/step - loss: 0.0258 - accuracy: 0.9910\n",
      "Epoch 43/100\n",
      "14392/14392 [==============================] - 0s 18us/step - loss: 0.0256 - accuracy: 0.9915\n",
      "Epoch 44/100\n",
      "14392/14392 [==============================] - 0s 18us/step - loss: 0.0254 - accuracy: 0.9915\n",
      "Epoch 45/100\n",
      "14392/14392 [==============================] - 0s 18us/step - loss: 0.0253 - accuracy: 0.9915\n",
      "Epoch 46/100\n",
      "14392/14392 [==============================] - 0s 18us/step - loss: 0.0254 - accuracy: 0.9917\n",
      "Epoch 47/100\n",
      "14392/14392 [==============================] - 0s 18us/step - loss: 0.0249 - accuracy: 0.9911\n",
      "Epoch 48/100\n",
      "14392/14392 [==============================] - 0s 19us/step - loss: 0.0253 - accuracy: 0.9917\n",
      "Epoch 49/100\n",
      "14392/14392 [==============================] - 0s 19us/step - loss: 0.0250 - accuracy: 0.9919\n",
      "Epoch 50/100\n",
      "14392/14392 [==============================] - 0s 18us/step - loss: 0.0246 - accuracy: 0.9920\n",
      "Epoch 51/100\n",
      "14392/14392 [==============================] - 0s 18us/step - loss: 0.0252 - accuracy: 0.9917\n",
      "Epoch 52/100\n",
      "14392/14392 [==============================] - 0s 19us/step - loss: 0.0246 - accuracy: 0.9917\n",
      "Epoch 53/100\n",
      "14392/14392 [==============================] - 0s 19us/step - loss: 0.0248 - accuracy: 0.9915\n",
      "Epoch 54/100\n",
      "14392/14392 [==============================] - 0s 19us/step - loss: 0.0250 - accuracy: 0.9916\n",
      "Epoch 55/100\n",
      "14392/14392 [==============================] - 0s 18us/step - loss: 0.0250 - accuracy: 0.9916\n",
      "Epoch 56/100\n",
      "14392/14392 [==============================] - 0s 18us/step - loss: 0.0244 - accuracy: 0.9921\n",
      "Epoch 57/100\n",
      "14392/14392 [==============================] - 0s 18us/step - loss: 0.0241 - accuracy: 0.9917\n",
      "Epoch 58/100\n",
      "14392/14392 [==============================] - 0s 18us/step - loss: 0.0248 - accuracy: 0.9912\n",
      "Epoch 59/100\n",
      "14392/14392 [==============================] - 0s 18us/step - loss: 0.0236 - accuracy: 0.9919\n",
      "Epoch 60/100\n",
      "14392/14392 [==============================] - 0s 18us/step - loss: 0.0242 - accuracy: 0.9914\n",
      "Epoch 61/100\n",
      "14392/14392 [==============================] - 0s 18us/step - loss: 0.0236 - accuracy: 0.9917\n",
      "Epoch 62/100\n",
      "14392/14392 [==============================] - 0s 19us/step - loss: 0.0236 - accuracy: 0.9917\n",
      "Epoch 63/100\n",
      "14392/14392 [==============================] - 0s 18us/step - loss: 0.0239 - accuracy: 0.9917\n",
      "Epoch 64/100\n",
      "14392/14392 [==============================] - 0s 19us/step - loss: 0.0241 - accuracy: 0.9919\n",
      "Epoch 65/100\n",
      "14392/14392 [==============================] - 0s 18us/step - loss: 0.0239 - accuracy: 0.9917\n",
      "Epoch 66/100\n",
      "14392/14392 [==============================] - 0s 19us/step - loss: 0.0234 - accuracy: 0.9921\n",
      "Epoch 67/100\n",
      "14392/14392 [==============================] - 0s 20us/step - loss: 0.0236 - accuracy: 0.9917\n",
      "Epoch 68/100\n",
      "14392/14392 [==============================] - 0s 19us/step - loss: 0.0239 - accuracy: 0.9911\n",
      "Epoch 69/100\n",
      "14392/14392 [==============================] - 0s 20us/step - loss: 0.0231 - accuracy: 0.9916\n",
      "Epoch 70/100\n",
      "14392/14392 [==============================] - 0s 20us/step - loss: 0.0242 - accuracy: 0.9910\n",
      "Epoch 71/100\n",
      "14392/14392 [==============================] - 0s 20us/step - loss: 0.0228 - accuracy: 0.9921\n",
      "Epoch 72/100\n",
      "14392/14392 [==============================] - 0s 20us/step - loss: 0.0231 - accuracy: 0.9921\n",
      "Epoch 73/100\n",
      "14392/14392 [==============================] - 0s 19us/step - loss: 0.0227 - accuracy: 0.9919 0s - loss: 0.0236 - accuracy: \n",
      "Epoch 74/100\n",
      "14392/14392 [==============================] - 0s 19us/step - loss: 0.0237 - accuracy: 0.9919\n",
      "Epoch 75/100\n",
      "14392/14392 [==============================] - 0s 19us/step - loss: 0.0229 - accuracy: 0.9915\n",
      "Epoch 76/100\n",
      "14392/14392 [==============================] - 0s 19us/step - loss: 0.0227 - accuracy: 0.9921\n",
      "Epoch 77/100\n"
     ]
    },
    {
     "name": "stdout",
     "output_type": "stream",
     "text": [
      "14392/14392 [==============================] - 0s 19us/step - loss: 0.0234 - accuracy: 0.9916\n",
      "Epoch 78/100\n",
      "14392/14392 [==============================] - 0s 18us/step - loss: 0.0224 - accuracy: 0.9922\n",
      "Epoch 79/100\n",
      "14392/14392 [==============================] - 0s 18us/step - loss: 0.0229 - accuracy: 0.9920\n",
      "Epoch 80/100\n",
      "14392/14392 [==============================] - 0s 18us/step - loss: 0.0230 - accuracy: 0.9919\n",
      "Epoch 81/100\n",
      "14392/14392 [==============================] - 0s 19us/step - loss: 0.0232 - accuracy: 0.9919\n",
      "Epoch 82/100\n",
      "14392/14392 [==============================] - 0s 20us/step - loss: 0.0221 - accuracy: 0.9920\n",
      "Epoch 83/100\n",
      "14392/14392 [==============================] - 0s 19us/step - loss: 0.0227 - accuracy: 0.9916\n",
      "Epoch 84/100\n",
      "14392/14392 [==============================] - 0s 20us/step - loss: 0.0230 - accuracy: 0.9918\n",
      "Epoch 85/100\n",
      "14392/14392 [==============================] - 0s 20us/step - loss: 0.0223 - accuracy: 0.9914\n",
      "Epoch 86/100\n",
      "14392/14392 [==============================] - 0s 20us/step - loss: 0.0222 - accuracy: 0.9918\n",
      "Epoch 87/100\n",
      "14392/14392 [==============================] - 0s 20us/step - loss: 0.0224 - accuracy: 0.9925\n",
      "Epoch 88/100\n",
      "14392/14392 [==============================] - 0s 19us/step - loss: 0.0231 - accuracy: 0.9917\n",
      "Epoch 89/100\n",
      "14392/14392 [==============================] - 0s 19us/step - loss: 0.0225 - accuracy: 0.9913\n",
      "Epoch 90/100\n",
      "14392/14392 [==============================] - 0s 20us/step - loss: 0.0224 - accuracy: 0.9917\n",
      "Epoch 91/100\n",
      "14392/14392 [==============================] - 0s 20us/step - loss: 0.0220 - accuracy: 0.9918\n",
      "Epoch 92/100\n",
      "14392/14392 [==============================] - 0s 20us/step - loss: 0.0220 - accuracy: 0.9917\n",
      "Epoch 93/100\n",
      "14392/14392 [==============================] - 0s 20us/step - loss: 0.0217 - accuracy: 0.9917\n",
      "Epoch 94/100\n",
      "14392/14392 [==============================] - 0s 20us/step - loss: 0.0218 - accuracy: 0.9919\n",
      "Epoch 95/100\n",
      "14392/14392 [==============================] - 0s 20us/step - loss: 0.0219 - accuracy: 0.9921\n",
      "Epoch 96/100\n",
      "14392/14392 [==============================] - 0s 20us/step - loss: 0.0218 - accuracy: 0.9924\n",
      "Epoch 97/100\n",
      "14392/14392 [==============================] - 0s 20us/step - loss: 0.0230 - accuracy: 0.9914\n",
      "Epoch 98/100\n",
      "14392/14392 [==============================] - 0s 19us/step - loss: 0.0216 - accuracy: 0.9921\n",
      "Epoch 99/100\n",
      "14392/14392 [==============================] - 0s 19us/step - loss: 0.0213 - accuracy: 0.9917\n",
      "Epoch 100/100\n",
      "14392/14392 [==============================] - 0s 19us/step - loss: 0.0221 - accuracy: 0.9920\n"
     ]
    }
   ],
   "source": [
    "model2 = build_model()\n",
    "\n",
    "history2 = model2.fit(X_train, y_train, epochs=100, batch_size=100).history"
   ]
  },
  {
   "cell_type": "code",
   "execution_count": 31,
   "metadata": {},
   "outputs": [
    {
     "data": {
      "image/png": "[encoded data removed]",
      "text/plain": [
       "<Figure size 432x288 with 1 Axes>"
      ]
     },
     "metadata": {
      "needs_background": "light"
     },
     "output_type": "display_data"
    }
   ],
   "source": [
    "plt.plot(history1['loss'], label='Loss 30')\n",
    "plt.plot(history2['loss'], label='Loss 100')\n",
    "plt.xlabel('Epochs')\n",
    "plt.ylabel('Cross-Entropy')\n",
    "plt.legend()\n",
    "plt.show()"
   ]
  },
  {
   "cell_type": "code",
   "execution_count": 32,
   "metadata": {},
   "outputs": [
    {
     "name": "stdout",
     "output_type": "stream",
     "text": [
      "6168/6168 [==============================] - 0s 27us/step\n",
      "6168/6168 [==============================] - 0s 24us/step\n",
      "Loss 0.028199, Accuracy 0.991732\n",
      "Loss 0.029829, Accuracy 0.991407\n"
     ]
    }
   ],
   "source": [
    "test_loss_1, test_acc_1 = model1.evaluate(X_test, y_test)\n",
    "test_loss_2, test_acc_2 = model2.evaluate(X_test, y_test)\n",
    "\n",
    "print('Loss %f, Accuracy %f' % (test_loss_1, test_acc_1))\n",
    "print('Loss %f, Accuracy %f' % (test_loss_2, test_acc_2))"
   ]
  },
  {
   "cell_type": "code",
   "execution_count": 42,
   "metadata": {},
   "outputs": [
    {
     "name": "stdout",
     "output_type": "stream",
     "text": [
      "Accuracy 0.7691309987029832\n",
      "F1-score [0.86947754 0.00140252]\n",
      "              precision    recall  f1-score   support\n",
      "\n",
      "           0       0.77      1.00      0.87      4743\n",
      "           1       1.00      0.00      0.00      1425\n",
      "\n",
      "    accuracy                           0.77      6168\n",
      "   macro avg       0.88      0.50      0.44      6168\n",
      "weighted avg       0.82      0.77      0.67      6168\n",
      "\n"
     ]
    }
   ],
   "source": [
    "y_pred = model2.predict(X_test).astype(int)\n",
    "\n",
    "print('Accuracy %s' % accuracy_score(y_test, y_pred))\n",
    "print('F1-score %s' % f1_score(y_test, y_pred, average=None))\n",
    "print(classification_report(y_test, y_pred))"
   ]
  },
  {
   "cell_type": "code",
   "execution_count": 33,
   "metadata": {},
   "outputs": [
    {
     "name": "stdout",
     "output_type": "stream",
     "text": [
      "Train on 14392 samples, validate on 6168 samples\n",
      "Epoch 1/200\n",
      "14392/14392 [==============================] - 1s 39us/step - loss: 0.1265 - accuracy: 0.9750 - val_loss: 0.0417 - val_accuracy: 0.9909\n",
      "Epoch 2/200\n",
      "14392/14392 [==============================] - 0s 25us/step - loss: 0.0443 - accuracy: 0.9891 - val_loss: 0.0363 - val_accuracy: 0.9912\n",
      "Epoch 3/200\n",
      "14392/14392 [==============================] - 0s 27us/step - loss: 0.0415 - accuracy: 0.9892 - val_loss: 0.0346 - val_accuracy: 0.9914\n",
      "Epoch 4/200\n",
      "14392/14392 [==============================] - 0s 27us/step - loss: 0.0402 - accuracy: 0.9893 - val_loss: 0.0336 - val_accuracy: 0.9914\n",
      "Epoch 5/200\n",
      "14392/14392 [==============================] - 0s 26us/step - loss: 0.0389 - accuracy: 0.9894 - val_loss: 0.0333 - val_accuracy: 0.9914\n",
      "Epoch 6/200\n",
      "14392/14392 [==============================] - 0s 24us/step - loss: 0.0382 - accuracy: 0.9893 - val_loss: 0.0332 - val_accuracy: 0.9914\n",
      "Epoch 7/200\n",
      "14392/14392 [==============================] - 0s 25us/step - loss: 0.0368 - accuracy: 0.9895 - val_loss: 0.0328 - val_accuracy: 0.9914\n",
      "Epoch 8/200\n",
      "14392/14392 [==============================] - 0s 26us/step - loss: 0.0362 - accuracy: 0.9894 - val_loss: 0.0325 - val_accuracy: 0.9916\n",
      "Epoch 9/200\n",
      "14392/14392 [==============================] - 0s 28us/step - loss: 0.0352 - accuracy: 0.9896 - val_loss: 0.0329 - val_accuracy: 0.9912\n",
      "Epoch 10/200\n",
      "14392/14392 [==============================] - 0s 25us/step - loss: 0.0347 - accuracy: 0.9895 - val_loss: 0.0314 - val_accuracy: 0.9914\n",
      "Epoch 11/200\n",
      "14392/14392 [==============================] - 0s 29us/step - loss: 0.0339 - accuracy: 0.9896 - val_loss: 0.0310 - val_accuracy: 0.9916\n",
      "Epoch 12/200\n",
      "14392/14392 [==============================] - 0s 29us/step - loss: 0.0334 - accuracy: 0.9894 - val_loss: 0.0310 - val_accuracy: 0.9914\n",
      "Epoch 13/200\n",
      "14392/14392 [==============================] - 0s 29us/step - loss: 0.0321 - accuracy: 0.9894 - val_loss: 0.0314 - val_accuracy: 0.9911\n",
      "Epoch 14/200\n",
      "14392/14392 [==============================] - 0s 22us/step - loss: 0.0314 - accuracy: 0.9899 - val_loss: 0.0307 - val_accuracy: 0.9916\n",
      "Epoch 15/200\n",
      "14392/14392 [==============================] - 0s 29us/step - loss: 0.0306 - accuracy: 0.9899 - val_loss: 0.0294 - val_accuracy: 0.9916\n",
      "Epoch 16/200\n",
      "14392/14392 [==============================] - 0s 27us/step - loss: 0.0298 - accuracy: 0.9899 - val_loss: 0.0311 - val_accuracy: 0.9914\n",
      "Epoch 17/200\n",
      "14392/14392 [==============================] - 0s 25us/step - loss: 0.0294 - accuracy: 0.9906 - val_loss: 0.0304 - val_accuracy: 0.9921\n",
      "Epoch 18/200\n",
      "14392/14392 [==============================] - 0s 27us/step - loss: 0.0290 - accuracy: 0.9908 - val_loss: 0.0287 - val_accuracy: 0.9922\n",
      "Epoch 19/200\n",
      "14392/14392 [==============================] - 0s 26us/step - loss: 0.0285 - accuracy: 0.9915 - val_loss: 0.0314 - val_accuracy: 0.9911\n",
      "Epoch 20/200\n",
      "14392/14392 [==============================] - 0s 27us/step - loss: 0.0283 - accuracy: 0.9918 - val_loss: 0.0291 - val_accuracy: 0.9927\n",
      "Epoch 21/200\n",
      "14392/14392 [==============================] - 0s 23us/step - loss: 0.0278 - accuracy: 0.9913 - val_loss: 0.0289 - val_accuracy: 0.9925\n",
      "Epoch 22/200\n",
      "14392/14392 [==============================] - 0s 27us/step - loss: 0.0279 - accuracy: 0.9910 - val_loss: 0.0292 - val_accuracy: 0.9924\n",
      "Epoch 23/200\n",
      "14392/14392 [==============================] - 0s 22us/step - loss: 0.0273 - accuracy: 0.9916 - val_loss: 0.0296 - val_accuracy: 0.9921\n",
      "Epoch 24/200\n",
      "14392/14392 [==============================] - 0s 24us/step - loss: 0.0276 - accuracy: 0.9915 - val_loss: 0.0335 - val_accuracy: 0.9903\n",
      "Epoch 25/200\n",
      "14392/14392 [==============================] - 0s 23us/step - loss: 0.0274 - accuracy: 0.9910 - val_loss: 0.0283 - val_accuracy: 0.9927\n",
      "Epoch 26/200\n",
      "14392/14392 [==============================] - 0s 23us/step - loss: 0.0265 - accuracy: 0.9917 - val_loss: 0.0276 - val_accuracy: 0.9927\n",
      "Epoch 27/200\n",
      "14392/14392 [==============================] - 0s 23us/step - loss: 0.0265 - accuracy: 0.9915 - val_loss: 0.0281 - val_accuracy: 0.9927\n",
      "Epoch 28/200\n",
      "14392/14392 [==============================] - 0s 25us/step - loss: 0.0267 - accuracy: 0.9916 - val_loss: 0.0288 - val_accuracy: 0.9924\n",
      "Epoch 29/200\n",
      "14392/14392 [==============================] - 0s 26us/step - loss: 0.0270 - accuracy: 0.9911 - val_loss: 0.0285 - val_accuracy: 0.9925\n",
      "Epoch 30/200\n",
      "14392/14392 [==============================] - 0s 25us/step - loss: 0.0269 - accuracy: 0.9914 - val_loss: 0.0281 - val_accuracy: 0.9929\n",
      "Epoch 31/200\n",
      "14392/14392 [==============================] - 0s 27us/step - loss: 0.0265 - accuracy: 0.9917 - val_loss: 0.0297 - val_accuracy: 0.9925\n",
      "Epoch 32/200\n",
      "14392/14392 [==============================] - 0s 26us/step - loss: 0.0265 - accuracy: 0.9915 - val_loss: 0.0291 - val_accuracy: 0.9929\n",
      "Epoch 33/200\n",
      "14392/14392 [==============================] - 0s 24us/step - loss: 0.0263 - accuracy: 0.9909 - val_loss: 0.0266 - val_accuracy: 0.9930\n",
      "Epoch 34/200\n",
      "14392/14392 [==============================] - 0s 25us/step - loss: 0.0262 - accuracy: 0.9913 - val_loss: 0.0287 - val_accuracy: 0.9924\n",
      "Epoch 35/200\n",
      "14392/14392 [==============================] - 0s 24us/step - loss: 0.0257 - accuracy: 0.9919 - val_loss: 0.0290 - val_accuracy: 0.9912\n",
      "Epoch 36/200\n",
      "14392/14392 [==============================] - 0s 23us/step - loss: 0.0257 - accuracy: 0.9912 - val_loss: 0.0313 - val_accuracy: 0.9906\n",
      "Epoch 37/200\n",
      "14392/14392 [==============================] - 0s 21us/step - loss: 0.0257 - accuracy: 0.9917 - val_loss: 0.0288 - val_accuracy: 0.9924\n",
      "Epoch 38/200\n",
      "14392/14392 [==============================] - 0s 22us/step - loss: 0.0252 - accuracy: 0.9918 - val_loss: 0.0276 - val_accuracy: 0.9929\n",
      "Epoch 39/200\n",
      "14392/14392 [==============================] - 0s 21us/step - loss: 0.0254 - accuracy: 0.9915 - val_loss: 0.0284 - val_accuracy: 0.9922\n",
      "Epoch 40/200\n",
      "14392/14392 [==============================] - 0s 22us/step - loss: 0.0255 - accuracy: 0.9919 - val_loss: 0.0276 - val_accuracy: 0.9929\n",
      "Epoch 41/200\n",
      "14392/14392 [==============================] - 0s 23us/step - loss: 0.0254 - accuracy: 0.9915 - val_loss: 0.0278 - val_accuracy: 0.9932\n",
      "Epoch 42/200\n",
      "14392/14392 [==============================] - 0s 23us/step - loss: 0.0248 - accuracy: 0.9923 - val_loss: 0.0281 - val_accuracy: 0.9927\n",
      "Epoch 43/200\n",
      "14392/14392 [==============================] - 0s 22us/step - loss: 0.0251 - accuracy: 0.9918 - val_loss: 0.0281 - val_accuracy: 0.9924\n",
      "Epoch 44/200\n",
      "14392/14392 [==============================] - 0s 21us/step - loss: 0.0256 - accuracy: 0.9917 - val_loss: 0.0270 - val_accuracy: 0.9930\n",
      "Epoch 45/200\n",
      "14392/14392 [==============================] - 0s 21us/step - loss: 0.0252 - accuracy: 0.9915 - val_loss: 0.0270 - val_accuracy: 0.9930\n",
      "Epoch 46/200\n",
      "14392/14392 [==============================] - 0s 21us/step - loss: 0.0250 - accuracy: 0.9917 - val_loss: 0.0286 - val_accuracy: 0.9924\n",
      "Epoch 47/200\n",
      "14392/14392 [==============================] - 0s 22us/step - loss: 0.0244 - accuracy: 0.9915 - val_loss: 0.0291 - val_accuracy: 0.9914\n",
      "Epoch 48/200\n",
      "14392/14392 [==============================] - 0s 21us/step - loss: 0.0248 - accuracy: 0.9918 - val_loss: 0.0279 - val_accuracy: 0.9921\n",
      "Epoch 49/200\n",
      "14392/14392 [==============================] - 0s 21us/step - loss: 0.0244 - accuracy: 0.9917 - val_loss: 0.0274 - val_accuracy: 0.9929\n",
      "Epoch 50/200\n",
      "14392/14392 [==============================] - 0s 21us/step - loss: 0.0241 - accuracy: 0.9919 - val_loss: 0.0295 - val_accuracy: 0.9925\n",
      "Epoch 51/200\n",
      "14392/14392 [==============================] - 0s 22us/step - loss: 0.0244 - accuracy: 0.9919 - val_loss: 0.0283 - val_accuracy: 0.9917\n",
      "Epoch 52/200\n",
      "14392/14392 [==============================] - 0s 22us/step - loss: 0.0242 - accuracy: 0.9916 - val_loss: 0.0262 - val_accuracy: 0.9930\n",
      "Epoch 53/200\n",
      "14392/14392 [==============================] - 0s 23us/step - loss: 0.0243 - accuracy: 0.9917 - val_loss: 0.0299 - val_accuracy: 0.9917\n",
      "Epoch 54/200\n",
      "14392/14392 [==============================] - 0s 23us/step - loss: 0.0240 - accuracy: 0.9919 - val_loss: 0.0275 - val_accuracy: 0.9924\n",
      "Epoch 55/200\n",
      "14392/14392 [==============================] - 0s 23us/step - loss: 0.0239 - accuracy: 0.9922 - val_loss: 0.0274 - val_accuracy: 0.9917\n"
     ]
    },
    {
     "name": "stdout",
     "output_type": "stream",
     "text": [
      "Epoch 56/200\n",
      "14392/14392 [==============================] - 0s 21us/step - loss: 0.0237 - accuracy: 0.9921 - val_loss: 0.0279 - val_accuracy: 0.9932\n",
      "Epoch 57/200\n",
      "14392/14392 [==============================] - 0s 21us/step - loss: 0.0237 - accuracy: 0.9915 - val_loss: 0.0281 - val_accuracy: 0.9927\n",
      "Epoch 58/200\n",
      "14392/14392 [==============================] - 0s 22us/step - loss: 0.0237 - accuracy: 0.9924 - val_loss: 0.0276 - val_accuracy: 0.9929\n",
      "Epoch 59/200\n",
      "14392/14392 [==============================] - 0s 22us/step - loss: 0.0236 - accuracy: 0.9917 - val_loss: 0.0286 - val_accuracy: 0.9914\n",
      "Epoch 60/200\n",
      "14392/14392 [==============================] - 0s 23us/step - loss: 0.0237 - accuracy: 0.9915 - val_loss: 0.0294 - val_accuracy: 0.9909\n",
      "Epoch 61/200\n",
      "14392/14392 [==============================] - 0s 23us/step - loss: 0.0232 - accuracy: 0.9919 - val_loss: 0.0274 - val_accuracy: 0.9922\n",
      "Epoch 62/200\n",
      "14392/14392 [==============================] - 0s 24us/step - loss: 0.0231 - accuracy: 0.9926 - val_loss: 0.0252 - val_accuracy: 0.9929\n",
      "Epoch 63/200\n",
      "14392/14392 [==============================] - 0s 24us/step - loss: 0.0237 - accuracy: 0.9916 - val_loss: 0.0291 - val_accuracy: 0.9925\n",
      "Epoch 64/200\n",
      "14392/14392 [==============================] - 0s 22us/step - loss: 0.0233 - accuracy: 0.9920 - val_loss: 0.0266 - val_accuracy: 0.9925\n",
      "Epoch 65/200\n",
      "14392/14392 [==============================] - 0s 24us/step - loss: 0.0233 - accuracy: 0.9917 - val_loss: 0.0259 - val_accuracy: 0.9930\n",
      "Epoch 66/200\n",
      "14392/14392 [==============================] - 0s 26us/step - loss: 0.0235 - accuracy: 0.9915 - val_loss: 0.0270 - val_accuracy: 0.9924\n",
      "Epoch 67/200\n",
      "14392/14392 [==============================] - 0s 22us/step - loss: 0.0228 - accuracy: 0.9917 - val_loss: 0.0254 - val_accuracy: 0.9930\n",
      "Epoch 68/200\n",
      "14392/14392 [==============================] - 0s 23us/step - loss: 0.0225 - accuracy: 0.9923 - val_loss: 0.0279 - val_accuracy: 0.9922\n",
      "Epoch 69/200\n",
      "14392/14392 [==============================] - ETA: 0s - loss: 0.0231 - accuracy: 0.99 - 0s 23us/step - loss: 0.0229 - accuracy: 0.9921 - val_loss: 0.0263 - val_accuracy: 0.9927\n",
      "Epoch 70/200\n",
      "14392/14392 [==============================] - 0s 34us/step - loss: 0.0229 - accuracy: 0.9915 - val_loss: 0.0270 - val_accuracy: 0.9927\n",
      "Epoch 71/200\n",
      "14392/14392 [==============================] - 0s 27us/step - loss: 0.0226 - accuracy: 0.9919 - val_loss: 0.0293 - val_accuracy: 0.9919\n",
      "Epoch 72/200\n",
      "14392/14392 [==============================] - 0s 21us/step - loss: 0.0226 - accuracy: 0.9921 - val_loss: 0.0291 - val_accuracy: 0.9925\n",
      "Epoch 73/200\n",
      "14392/14392 [==============================] - 0s 22us/step - loss: 0.0227 - accuracy: 0.9921 - val_loss: 0.0267 - val_accuracy: 0.9924\n",
      "Epoch 74/200\n",
      "14392/14392 [==============================] - 0s 26us/step - loss: 0.0223 - accuracy: 0.9917 - val_loss: 0.0281 - val_accuracy: 0.9924\n",
      "Epoch 75/200\n",
      "14392/14392 [==============================] - 0s 22us/step - loss: 0.0226 - accuracy: 0.9917 - val_loss: 0.0291 - val_accuracy: 0.9914\n",
      "Epoch 76/200\n",
      "14392/14392 [==============================] - 0s 22us/step - loss: 0.0227 - accuracy: 0.9917 - val_loss: 0.0296 - val_accuracy: 0.9919\n",
      "Epoch 77/200\n",
      "14392/14392 [==============================] - 0s 23us/step - loss: 0.0226 - accuracy: 0.9921 - val_loss: 0.0267 - val_accuracy: 0.9922\n",
      "Epoch 78/200\n",
      "14392/14392 [==============================] - 0s 26us/step - loss: 0.0223 - accuracy: 0.9921 - val_loss: 0.0271 - val_accuracy: 0.9925\n",
      "Epoch 79/200\n",
      "14392/14392 [==============================] - 0s 27us/step - loss: 0.0218 - accuracy: 0.9923 - val_loss: 0.0290 - val_accuracy: 0.9919\n",
      "Epoch 80/200\n",
      "14392/14392 [==============================] - 0s 24us/step - loss: 0.0223 - accuracy: 0.9923 - val_loss: 0.0302 - val_accuracy: 0.9924\n",
      "Epoch 81/200\n",
      "14392/14392 [==============================] - 0s 21us/step - loss: 0.0227 - accuracy: 0.9918 - val_loss: 0.0260 - val_accuracy: 0.9925\n",
      "Epoch 82/200\n",
      "14392/14392 [==============================] - 0s 20us/step - loss: 0.0221 - accuracy: 0.9920 - val_loss: 0.0280 - val_accuracy: 0.9916\n",
      "Epoch 83/200\n",
      "14392/14392 [==============================] - 0s 20us/step - loss: 0.0226 - accuracy: 0.9920 - val_loss: 0.0293 - val_accuracy: 0.9911\n",
      "Epoch 84/200\n",
      "14392/14392 [==============================] - 0s 20us/step - loss: 0.0229 - accuracy: 0.9918 - val_loss: 0.0275 - val_accuracy: 0.9924\n",
      "Epoch 85/200\n",
      "14392/14392 [==============================] - 0s 19us/step - loss: 0.0219 - accuracy: 0.9918 - val_loss: 0.0262 - val_accuracy: 0.9925\n",
      "Epoch 86/200\n",
      "14392/14392 [==============================] - 0s 19us/step - loss: 0.0220 - accuracy: 0.9919 - val_loss: 0.0316 - val_accuracy: 0.9914\n",
      "Epoch 87/200\n",
      "14392/14392 [==============================] - 0s 21us/step - loss: 0.0222 - accuracy: 0.9923 - val_loss: 0.0281 - val_accuracy: 0.9927\n",
      "Epoch 88/200\n",
      "14392/14392 [==============================] - 0s 20us/step - loss: 0.0220 - accuracy: 0.9919 - val_loss: 0.0288 - val_accuracy: 0.9927\n",
      "Epoch 89/200\n",
      "14392/14392 [==============================] - 0s 19us/step - loss: 0.0216 - accuracy: 0.9921 - val_loss: 0.0256 - val_accuracy: 0.9924\n",
      "Epoch 90/200\n",
      "14392/14392 [==============================] - 0s 19us/step - loss: 0.0218 - accuracy: 0.9919 - val_loss: 0.0280 - val_accuracy: 0.9906\n",
      "Epoch 91/200\n",
      "14392/14392 [==============================] - 0s 20us/step - loss: 0.0212 - accuracy: 0.9917 - val_loss: 0.0284 - val_accuracy: 0.9909\n",
      "Epoch 92/200\n",
      "14392/14392 [==============================] - 0s 19us/step - loss: 0.0215 - accuracy: 0.9919 - val_loss: 0.0276 - val_accuracy: 0.9925\n",
      "Epoch 93/200\n",
      "14392/14392 [==============================] - 0s 19us/step - loss: 0.0222 - accuracy: 0.9915 - val_loss: 0.0259 - val_accuracy: 0.9922\n",
      "Epoch 94/200\n",
      "14392/14392 [==============================] - 0s 22us/step - loss: 0.0217 - accuracy: 0.9925 - val_loss: 0.0311 - val_accuracy: 0.9895\n",
      "Epoch 95/200\n",
      "14392/14392 [==============================] - 0s 20us/step - loss: 0.0217 - accuracy: 0.9921 - val_loss: 0.0258 - val_accuracy: 0.9930\n",
      "Epoch 96/200\n",
      "14392/14392 [==============================] - 0s 21us/step - loss: 0.0210 - accuracy: 0.9918 - val_loss: 0.0268 - val_accuracy: 0.9924\n",
      "Epoch 97/200\n",
      "14392/14392 [==============================] - 0s 21us/step - loss: 0.0211 - accuracy: 0.9923 - val_loss: 0.0289 - val_accuracy: 0.9912\n",
      "Epoch 98/200\n",
      "14392/14392 [==============================] - 0s 21us/step - loss: 0.0208 - accuracy: 0.9921 - val_loss: 0.0269 - val_accuracy: 0.9929\n",
      "Epoch 99/200\n",
      "14392/14392 [==============================] - 0s 25us/step - loss: 0.0211 - accuracy: 0.9920 - val_loss: 0.0263 - val_accuracy: 0.9916\n",
      "Epoch 100/200\n",
      "14392/14392 [==============================] - 0s 21us/step - loss: 0.0211 - accuracy: 0.9921 - val_loss: 0.0280 - val_accuracy: 0.9912\n",
      "Epoch 101/200\n",
      "14392/14392 [==============================] - 0s 19us/step - loss: 0.0216 - accuracy: 0.9921 - val_loss: 0.0282 - val_accuracy: 0.9930\n",
      "Epoch 102/200\n",
      "14392/14392 [==============================] - 0s 20us/step - loss: 0.0220 - accuracy: 0.9919 - val_loss: 0.0274 - val_accuracy: 0.9921\n",
      "Epoch 103/200\n",
      "14392/14392 [==============================] - 0s 21us/step - loss: 0.0206 - accuracy: 0.9924 - val_loss: 0.0264 - val_accuracy: 0.9914\n",
      "Epoch 104/200\n",
      "14392/14392 [==============================] - 0s 20us/step - loss: 0.0207 - accuracy: 0.9923 - val_loss: 0.0286 - val_accuracy: 0.9932\n",
      "Epoch 105/200\n",
      "14392/14392 [==============================] - 0s 20us/step - loss: 0.0211 - accuracy: 0.9926 - val_loss: 0.0283 - val_accuracy: 0.9924\n",
      "Epoch 106/200\n",
      "14392/14392 [==============================] - 0s 21us/step - loss: 0.0208 - accuracy: 0.9923 - val_loss: 0.0261 - val_accuracy: 0.9924\n",
      "Epoch 107/200\n",
      "14392/14392 [==============================] - 0s 20us/step - loss: 0.0206 - accuracy: 0.9922 - val_loss: 0.0288 - val_accuracy: 0.9911\n",
      "Epoch 108/200\n",
      "14392/14392 [==============================] - 0s 21us/step - loss: 0.0221 - accuracy: 0.9918 - val_loss: 0.0267 - val_accuracy: 0.9921\n",
      "Epoch 109/200\n",
      "14392/14392 [==============================] - 0s 20us/step - loss: 0.0205 - accuracy: 0.9923 - val_loss: 0.0273 - val_accuracy: 0.9927\n",
      "Epoch 110/200\n"
     ]
    },
    {
     "name": "stdout",
     "output_type": "stream",
     "text": [
      "14392/14392 [==============================] - 0s 20us/step - loss: 0.0206 - accuracy: 0.9924 - val_loss: 0.0272 - val_accuracy: 0.9925\n",
      "Epoch 111/200\n",
      "14392/14392 [==============================] - 0s 19us/step - loss: 0.0213 - accuracy: 0.9919 - val_loss: 0.0281 - val_accuracy: 0.9922\n",
      "Epoch 112/200\n",
      "14392/14392 [==============================] - 0s 20us/step - loss: 0.0208 - accuracy: 0.9920 - val_loss: 0.0274 - val_accuracy: 0.9921\n",
      "Epoch 113/200\n",
      "14392/14392 [==============================] - 0s 20us/step - loss: 0.0208 - accuracy: 0.9919 - val_loss: 0.0255 - val_accuracy: 0.9932\n",
      "Epoch 114/200\n",
      "14392/14392 [==============================] - 0s 21us/step - loss: 0.0211 - accuracy: 0.9917 - val_loss: 0.0266 - val_accuracy: 0.9930\n",
      "Epoch 115/200\n",
      "14392/14392 [==============================] - 0s 20us/step - loss: 0.0208 - accuracy: 0.9924 - val_loss: 0.0281 - val_accuracy: 0.9921\n",
      "Epoch 116/200\n",
      "14392/14392 [==============================] - 0s 21us/step - loss: 0.0202 - accuracy: 0.9921 - val_loss: 0.0262 - val_accuracy: 0.9924\n",
      "Epoch 117/200\n",
      "14392/14392 [==============================] - 0s 20us/step - loss: 0.0203 - accuracy: 0.9925 - val_loss: 0.0271 - val_accuracy: 0.9932\n",
      "Epoch 118/200\n",
      "14392/14392 [==============================] - 0s 20us/step - loss: 0.0207 - accuracy: 0.9926 - val_loss: 0.0288 - val_accuracy: 0.9908\n",
      "Epoch 119/200\n",
      "14392/14392 [==============================] - 0s 21us/step - loss: 0.0208 - accuracy: 0.9923 - val_loss: 0.0276 - val_accuracy: 0.9925\n",
      "Epoch 120/200\n",
      "14392/14392 [==============================] - 0s 21us/step - loss: 0.0201 - accuracy: 0.9926 - val_loss: 0.0281 - val_accuracy: 0.9917\n",
      "Epoch 121/200\n",
      "14392/14392 [==============================] - 0s 24us/step - loss: 0.0204 - accuracy: 0.9931 - val_loss: 0.0275 - val_accuracy: 0.9927\n",
      "Epoch 122/200\n",
      "14392/14392 [==============================] - 0s 26us/step - loss: 0.0206 - accuracy: 0.9919 - val_loss: 0.0261 - val_accuracy: 0.9935\n",
      "Epoch 123/200\n",
      "14392/14392 [==============================] - 0s 22us/step - loss: 0.0200 - accuracy: 0.9923 - val_loss: 0.0260 - val_accuracy: 0.9929\n",
      "Epoch 124/200\n",
      "14392/14392 [==============================] - 0s 20us/step - loss: 0.0210 - accuracy: 0.9919 - val_loss: 0.0265 - val_accuracy: 0.9921\n",
      "Epoch 125/200\n",
      "14392/14392 [==============================] - 0s 20us/step - loss: 0.0205 - accuracy: 0.9926 - val_loss: 0.0260 - val_accuracy: 0.9934\n",
      "Epoch 126/200\n",
      "14392/14392 [==============================] - 0s 21us/step - loss: 0.0203 - accuracy: 0.9915 - val_loss: 0.0289 - val_accuracy: 0.9904\n",
      "Epoch 127/200\n",
      "14392/14392 [==============================] - 0s 20us/step - loss: 0.0202 - accuracy: 0.9922 - val_loss: 0.0276 - val_accuracy: 0.9917\n",
      "Epoch 128/200\n",
      "14392/14392 [==============================] - 0s 19us/step - loss: 0.0200 - accuracy: 0.9926 - val_loss: 0.0289 - val_accuracy: 0.9929\n",
      "Epoch 129/200\n",
      "14392/14392 [==============================] - 0s 19us/step - loss: 0.0210 - accuracy: 0.9921 - val_loss: 0.0302 - val_accuracy: 0.9922\n",
      "Epoch 130/200\n",
      "14392/14392 [==============================] - 0s 20us/step - loss: 0.0204 - accuracy: 0.9926 - val_loss: 0.0278 - val_accuracy: 0.9924\n",
      "Epoch 131/200\n",
      "14392/14392 [==============================] - 0s 19us/step - loss: 0.0217 - accuracy: 0.9921 - val_loss: 0.0296 - val_accuracy: 0.9890\n",
      "Epoch 132/200\n",
      "14392/14392 [==============================] - 0s 19us/step - loss: 0.0201 - accuracy: 0.9924 - val_loss: 0.0267 - val_accuracy: 0.9927\n",
      "Epoch 133/200\n",
      "14392/14392 [==============================] - 0s 19us/step - loss: 0.0201 - accuracy: 0.9927 - val_loss: 0.0285 - val_accuracy: 0.9911\n",
      "Epoch 134/200\n",
      "14392/14392 [==============================] - 0s 19us/step - loss: 0.0203 - accuracy: 0.9926 - val_loss: 0.0272 - val_accuracy: 0.9917\n",
      "Epoch 135/200\n",
      "14392/14392 [==============================] - 0s 19us/step - loss: 0.0200 - accuracy: 0.9926 - val_loss: 0.0280 - val_accuracy: 0.9924\n",
      "Epoch 136/200\n",
      "14392/14392 [==============================] - 0s 18us/step - loss: 0.0202 - accuracy: 0.9922 - val_loss: 0.0286 - val_accuracy: 0.9917\n",
      "Epoch 137/200\n",
      "14392/14392 [==============================] - 0s 19us/step - loss: 0.0200 - accuracy: 0.9922 - val_loss: 0.0308 - val_accuracy: 0.9904\n",
      "Epoch 138/200\n",
      "14392/14392 [==============================] - 0s 22us/step - loss: 0.0207 - accuracy: 0.9924 - val_loss: 0.0265 - val_accuracy: 0.9927\n",
      "Epoch 139/200\n",
      "14392/14392 [==============================] - 0s 20us/step - loss: 0.0202 - accuracy: 0.9923 - val_loss: 0.0273 - val_accuracy: 0.9919\n",
      "Epoch 140/200\n",
      "14392/14392 [==============================] - 0s 19us/step - loss: 0.0194 - accuracy: 0.9928 - val_loss: 0.0265 - val_accuracy: 0.9922\n",
      "Epoch 141/200\n",
      "14392/14392 [==============================] - 0s 22us/step - loss: 0.0200 - accuracy: 0.9921 - val_loss: 0.0255 - val_accuracy: 0.9927\n",
      "Epoch 142/200\n",
      "14392/14392 [==============================] - 0s 21us/step - loss: 0.0197 - accuracy: 0.9923 - val_loss: 0.0298 - val_accuracy: 0.9914\n",
      "Epoch 143/200\n",
      "14392/14392 [==============================] - 0s 19us/step - loss: 0.0200 - accuracy: 0.9927 - val_loss: 0.0256 - val_accuracy: 0.9932\n",
      "Epoch 144/200\n",
      "14392/14392 [==============================] - 0s 20us/step - loss: 0.0200 - accuracy: 0.9927 - val_loss: 0.0263 - val_accuracy: 0.9929\n",
      "Epoch 145/200\n",
      "14392/14392 [==============================] - 0s 19us/step - loss: 0.0202 - accuracy: 0.9926 - val_loss: 0.0271 - val_accuracy: 0.9925\n",
      "Epoch 146/200\n",
      "14392/14392 [==============================] - 0s 20us/step - loss: 0.0200 - accuracy: 0.9926 - val_loss: 0.0276 - val_accuracy: 0.9927\n",
      "Epoch 147/200\n",
      "14392/14392 [==============================] - 0s 19us/step - loss: 0.0197 - accuracy: 0.9923 - val_loss: 0.0280 - val_accuracy: 0.9916\n",
      "Epoch 148/200\n",
      "14392/14392 [==============================] - 0s 19us/step - loss: 0.0203 - accuracy: 0.9917 - val_loss: 0.0276 - val_accuracy: 0.9917\n",
      "Epoch 149/200\n",
      "14392/14392 [==============================] - 0s 19us/step - loss: 0.0196 - accuracy: 0.9926 - val_loss: 0.0319 - val_accuracy: 0.9912\n",
      "Epoch 150/200\n",
      "14392/14392 [==============================] - 0s 20us/step - loss: 0.0195 - accuracy: 0.9929 - val_loss: 0.0265 - val_accuracy: 0.9935\n",
      "Epoch 151/200\n",
      "14392/14392 [==============================] - 0s 19us/step - loss: 0.0197 - accuracy: 0.9920 - val_loss: 0.0283 - val_accuracy: 0.9911\n",
      "Epoch 152/200\n",
      "14392/14392 [==============================] - 0s 19us/step - loss: 0.0199 - accuracy: 0.9923 - val_loss: 0.0280 - val_accuracy: 0.9919\n",
      "Epoch 153/200\n",
      "14392/14392 [==============================] - 0s 24us/step - loss: 0.0197 - accuracy: 0.9929 - val_loss: 0.0255 - val_accuracy: 0.9930\n",
      "Epoch 154/200\n",
      "14392/14392 [==============================] - 0s 22us/step - loss: 0.0198 - accuracy: 0.9926 - val_loss: 0.0278 - val_accuracy: 0.9919\n",
      "Epoch 155/200\n",
      "14392/14392 [==============================] - 0s 24us/step - loss: 0.0190 - accuracy: 0.9931 - val_loss: 0.0281 - val_accuracy: 0.9927\n",
      "Epoch 156/200\n",
      "14392/14392 [==============================] - 0s 19us/step - loss: 0.0200 - accuracy: 0.9926 - val_loss: 0.0297 - val_accuracy: 0.9901\n",
      "Epoch 157/200\n",
      "14392/14392 [==============================] - 0s 19us/step - loss: 0.0191 - accuracy: 0.9926 - val_loss: 0.0295 - val_accuracy: 0.9916\n",
      "Epoch 158/200\n",
      "14392/14392 [==============================] - 0s 20us/step - loss: 0.0201 - accuracy: 0.9923 - val_loss: 0.0250 - val_accuracy: 0.9935\n",
      "Epoch 159/200\n",
      "14392/14392 [==============================] - 0s 20us/step - loss: 0.0191 - accuracy: 0.9928 - val_loss: 0.0301 - val_accuracy: 0.9908\n",
      "Epoch 160/200\n",
      "14392/14392 [==============================] - 0s 21us/step - loss: 0.0189 - accuracy: 0.9931 - val_loss: 0.0283 - val_accuracy: 0.9927\n",
      "Epoch 161/200\n",
      "14392/14392 [==============================] - 0s 20us/step - loss: 0.0188 - accuracy: 0.9928 - val_loss: 0.0270 - val_accuracy: 0.9919\n",
      "Epoch 162/200\n",
      "14392/14392 [==============================] - 0s 20us/step - loss: 0.0197 - accuracy: 0.9922 - val_loss: 0.0280 - val_accuracy: 0.9914\n",
      "Epoch 163/200\n",
      "14392/14392 [==============================] - 0s 22us/step - loss: 0.0195 - accuracy: 0.9928 - val_loss: 0.0292 - val_accuracy: 0.9911\n",
      "Epoch 164/200\n",
      "14392/14392 [==============================] - 0s 21us/step - loss: 0.0191 - accuracy: 0.9926 - val_loss: 0.0309 - val_accuracy: 0.9919\n"
     ]
    },
    {
     "name": "stdout",
     "output_type": "stream",
     "text": [
      "Epoch 165/200\n",
      "14392/14392 [==============================] - 0s 20us/step - loss: 0.0190 - accuracy: 0.9929 - val_loss: 0.0273 - val_accuracy: 0.9932\n",
      "Epoch 166/200\n",
      "14392/14392 [==============================] - 0s 19us/step - loss: 0.0194 - accuracy: 0.9921 - val_loss: 0.0264 - val_accuracy: 0.9934\n",
      "Epoch 167/200\n",
      "14392/14392 [==============================] - 0s 19us/step - loss: 0.0188 - accuracy: 0.9933 - val_loss: 0.0288 - val_accuracy: 0.9909\n",
      "Epoch 168/200\n",
      "14392/14392 [==============================] - 0s 19us/step - loss: 0.0188 - accuracy: 0.9931 - val_loss: 0.0303 - val_accuracy: 0.9922\n",
      "Epoch 169/200\n",
      "14392/14392 [==============================] - 0s 25us/step - loss: 0.0191 - accuracy: 0.9924 - val_loss: 0.0270 - val_accuracy: 0.9925\n",
      "Epoch 170/200\n",
      "14392/14392 [==============================] - 0s 21us/step - loss: 0.0189 - accuracy: 0.9926 - val_loss: 0.0283 - val_accuracy: 0.9925\n",
      "Epoch 171/200\n",
      "14392/14392 [==============================] - 0s 21us/step - loss: 0.0191 - accuracy: 0.9924 - val_loss: 0.0290 - val_accuracy: 0.9909\n",
      "Epoch 172/200\n",
      "14392/14392 [==============================] - 0s 20us/step - loss: 0.0189 - accuracy: 0.9926 - val_loss: 0.0306 - val_accuracy: 0.9911\n",
      "Epoch 173/200\n",
      "14392/14392 [==============================] - 0s 21us/step - loss: 0.0194 - accuracy: 0.9929 - val_loss: 0.0290 - val_accuracy: 0.9909\n",
      "Epoch 174/200\n",
      "14392/14392 [==============================] - 0s 20us/step - loss: 0.0200 - accuracy: 0.9926 - val_loss: 0.0298 - val_accuracy: 0.9914\n",
      "Epoch 175/200\n",
      "14392/14392 [==============================] - 0s 20us/step - loss: 0.0188 - accuracy: 0.9931 - val_loss: 0.0265 - val_accuracy: 0.9930\n",
      "Epoch 176/200\n",
      "14392/14392 [==============================] - 0s 20us/step - loss: 0.0185 - accuracy: 0.9931 - val_loss: 0.0288 - val_accuracy: 0.9908\n",
      "Epoch 177/200\n",
      "14392/14392 [==============================] - 0s 20us/step - loss: 0.0192 - accuracy: 0.9931 - val_loss: 0.0260 - val_accuracy: 0.9927\n",
      "Epoch 178/200\n",
      "14392/14392 [==============================] - 0s 20us/step - loss: 0.0187 - accuracy: 0.9929 - val_loss: 0.0288 - val_accuracy: 0.9912\n",
      "Epoch 179/200\n",
      "14392/14392 [==============================] - 0s 20us/step - loss: 0.0188 - accuracy: 0.9926 - val_loss: 0.0283 - val_accuracy: 0.9921\n",
      "Epoch 180/200\n",
      "14392/14392 [==============================] - 0s 20us/step - loss: 0.0184 - accuracy: 0.9934 - val_loss: 0.0278 - val_accuracy: 0.9909\n",
      "Epoch 181/200\n",
      "14392/14392 [==============================] - 0s 21us/step - loss: 0.0187 - accuracy: 0.9931 - val_loss: 0.0305 - val_accuracy: 0.9908\n",
      "Epoch 182/200\n",
      "14392/14392 [==============================] - 0s 20us/step - loss: 0.0183 - accuracy: 0.9933 - val_loss: 0.0279 - val_accuracy: 0.9912\n",
      "Epoch 183/200\n",
      "14392/14392 [==============================] - 0s 20us/step - loss: 0.0187 - accuracy: 0.9927 - val_loss: 0.0293 - val_accuracy: 0.9909\n",
      "Epoch 184/200\n",
      "14392/14392 [==============================] - 0s 20us/step - loss: 0.0185 - accuracy: 0.9932 - val_loss: 0.0310 - val_accuracy: 0.9912\n",
      "Epoch 185/200\n",
      "14392/14392 [==============================] - 0s 20us/step - loss: 0.0186 - accuracy: 0.9933 - val_loss: 0.0300 - val_accuracy: 0.9916\n",
      "Epoch 186/200\n",
      "14392/14392 [==============================] - 0s 21us/step - loss: 0.0186 - accuracy: 0.9931 - val_loss: 0.0290 - val_accuracy: 0.9912\n",
      "Epoch 187/200\n",
      "14392/14392 [==============================] - 0s 19us/step - loss: 0.0188 - accuracy: 0.9933 - val_loss: 0.0293 - val_accuracy: 0.9917\n",
      "Epoch 188/200\n",
      "14392/14392 [==============================] - 0s 19us/step - loss: 0.0187 - accuracy: 0.9925 - val_loss: 0.0262 - val_accuracy: 0.9925\n",
      "Epoch 189/200\n",
      "14392/14392 [==============================] - 0s 20us/step - loss: 0.0185 - accuracy: 0.9922 - val_loss: 0.0269 - val_accuracy: 0.9934\n",
      "Epoch 190/200\n",
      "14392/14392 [==============================] - 0s 21us/step - loss: 0.0192 - accuracy: 0.9922 - val_loss: 0.0272 - val_accuracy: 0.9912\n",
      "Epoch 191/200\n",
      "14392/14392 [==============================] - 0s 20us/step - loss: 0.0186 - accuracy: 0.9926 - val_loss: 0.0272 - val_accuracy: 0.9929\n",
      "Epoch 192/200\n",
      "14392/14392 [==============================] - 0s 20us/step - loss: 0.0185 - accuracy: 0.9932 - val_loss: 0.0281 - val_accuracy: 0.9925\n",
      "Epoch 193/200\n",
      "14392/14392 [==============================] - 0s 19us/step - loss: 0.0182 - accuracy: 0.9933 - val_loss: 0.0289 - val_accuracy: 0.9914\n",
      "Epoch 194/200\n",
      "14392/14392 [==============================] - 0s 19us/step - loss: 0.0181 - accuracy: 0.9929 - val_loss: 0.0264 - val_accuracy: 0.9924\n",
      "Epoch 195/200\n",
      "14392/14392 [==============================] - 0s 19us/step - loss: 0.0184 - accuracy: 0.9932 - val_loss: 0.0304 - val_accuracy: 0.9909\n",
      "Epoch 196/200\n",
      "14392/14392 [==============================] - 0s 20us/step - loss: 0.0185 - accuracy: 0.9929 - val_loss: 0.0297 - val_accuracy: 0.9906\n",
      "Epoch 197/200\n",
      "14392/14392 [==============================] - 0s 19us/step - loss: 0.0187 - accuracy: 0.9928 - val_loss: 0.0284 - val_accuracy: 0.9919\n",
      "Epoch 198/200\n",
      "14392/14392 [==============================] - 0s 21us/step - loss: 0.0178 - accuracy: 0.9933 - val_loss: 0.0293 - val_accuracy: 0.9914\n",
      "Epoch 199/200\n",
      "14392/14392 [==============================] - 0s 20us/step - loss: 0.0184 - accuracy: 0.9929 - val_loss: 0.0294 - val_accuracy: 0.9929\n",
      "Epoch 200/200\n",
      "14392/14392 [==============================] - 0s 20us/step - loss: 0.0182 - accuracy: 0.9932 - val_loss: 0.0287 - val_accuracy: 0.9924\n"
     ]
    }
   ],
   "source": [
    "model3 = build_model()\n",
    "\n",
    "history3 = model3.fit(X_train, y_train, validation_data=(X_test, y_test), epochs=200, batch_size=100).history"
   ]
  },
  {
   "cell_type": "code",
   "execution_count": 36,
   "metadata": {},
   "outputs": [
    {
     "name": "stdout",
     "output_type": "stream",
     "text": [
      "6168/6168 [==============================] - 0s 28us/step\n",
      "Loss 0.028199, Accuracy 0.991732\n",
      "Loss 0.029829, Accuracy 0.991407\n",
      "Loss 0.028715, Accuracy 0.992380\n"
     ]
    }
   ],
   "source": [
    "test_loss_3, test_acc_3 = model3.evaluate(X_test, y_test)\n",
    "\n",
    "print('Loss %f, Accuracy %f' % (test_loss_1, test_acc_1))\n",
    "print('Loss %f, Accuracy %f' % (test_loss_2, test_acc_2))\n",
    "print('Loss %f, Accuracy %f' % (test_loss_3, test_acc_3))"
   ]
  },
  {
   "cell_type": "code",
   "execution_count": 40,
   "metadata": {},
   "outputs": [
    {
     "data": {
      "text/plain": [
       "<matplotlib.legend.Legend at 0x20f235ab9c8>"
      ]
     },
     "execution_count": 40,
     "metadata": {},
     "output_type": "execute_result"
    },
    {
     "data": {
      "image/png": "[encoded data removed]",
      "text/plain": [
       "<Figure size 2160x720 with 2 Axes>"
      ]
     },
     "metadata": {
      "needs_background": "light"
     },
     "output_type": "display_data"
    }
   ],
   "source": [
    "fig = plt.figure(figsize=(30, 10)) \n",
    "fig_dims = (1, 2)\n",
    "\n",
    "#plot loss during training\n",
    "plt.subplot2grid(fig_dims, (0, 0))\n",
    "plt.title('Loss')\n",
    "plt.plot(history3['loss'], label='Train')\n",
    "plt.plot(history3['val_loss'], label='Val')\n",
    "plt.xlabel('Epochs')\n",
    "plt.ylabel('Cross-Entropy')\n",
    "plt.legend()\n",
    "#plt.show()\n",
    "\n",
    "# plot accuracy during training\n",
    "plt.subplot2grid(fig_dims, (0,1))\n",
    "plt.title('Accuracy')\n",
    "plt.plot(history3['accuracy'], label='train')\n",
    "plt.plot(history3['val_accuracy'], label='Val')\n",
    "plt.legend()\n",
    "#plt.show()"
   ]
  },
  {
   "cell_type": "markdown",
   "metadata": {},
   "source": [
    "https://machinelearningmastery.com/how-to-choose-loss-functions-when-training-deep-learning-neural-networks/"
   ]
  },
  {
   "cell_type": "code",
   "execution_count": 43,
   "metadata": {},
   "outputs": [],
   "source": [
    "X_train, X_val, y_train, y_val = train_test_split(X_train, y_train, test_size=0.2)"
   ]
  },
  {
   "cell_type": "markdown",
   "metadata": {},
   "source": [
    "## Early stopping"
   ]
  },
  {
   "cell_type": "code",
   "execution_count": 44,
   "metadata": {},
   "outputs": [],
   "source": [
    "from keras.callbacks import EarlyStopping, ModelCheckpoint"
   ]
  },
  {
   "cell_type": "code",
   "execution_count": 55,
   "metadata": {},
   "outputs": [
    {
     "name": "stdout",
     "output_type": "stream",
     "text": [
      "Train on 11513 samples, validate on 2879 samples\n",
      "Epoch 1/200\n",
      "11513/11513 [==============================] - 0s 38us/step - loss: 0.1488 - accuracy: 0.9700 - val_loss: 0.0500 - val_accuracy: 0.9882\n",
      "Epoch 2/200\n",
      "11513/11513 [==============================] - 0s 22us/step - loss: 0.0459 - accuracy: 0.9893 - val_loss: 0.0450 - val_accuracy: 0.9892\n",
      "Epoch 3/200\n",
      "11513/11513 [==============================] - 0s 22us/step - loss: 0.0426 - accuracy: 0.9893 - val_loss: 0.0442 - val_accuracy: 0.9885\n",
      "Epoch 4/200\n",
      "11513/11513 [==============================] - 0s 24us/step - loss: 0.0412 - accuracy: 0.9894 - val_loss: 0.0421 - val_accuracy: 0.9889\n",
      "Epoch 5/200\n",
      "11513/11513 [==============================] - 0s 25us/step - loss: 0.0407 - accuracy: 0.9893 - val_loss: 0.0416 - val_accuracy: 0.9889\n",
      "Epoch 6/200\n",
      "11513/11513 [==============================] - 0s 23us/step - loss: 0.0394 - accuracy: 0.9894 - val_loss: 0.0410 - val_accuracy: 0.9889\n",
      "Epoch 7/200\n",
      "11513/11513 [==============================] - 0s 26us/step - loss: 0.0381 - accuracy: 0.9893 - val_loss: 0.0402 - val_accuracy: 0.9889\n",
      "Epoch 8/200\n",
      "11513/11513 [==============================] - 0s 22us/step - loss: 0.0373 - accuracy: 0.9893 - val_loss: 0.0399 - val_accuracy: 0.9889\n",
      "Epoch 9/200\n",
      "11513/11513 [==============================] - 0s 22us/step - loss: 0.0364 - accuracy: 0.9895 - val_loss: 0.0398 - val_accuracy: 0.9889\n",
      "Epoch 10/200\n",
      "11513/11513 [==============================] - 0s 23us/step - loss: 0.0353 - accuracy: 0.9894 - val_loss: 0.0400 - val_accuracy: 0.9889\n",
      "Epoch 11/200\n",
      "11513/11513 [==============================] - 0s 22us/step - loss: 0.0350 - accuracy: 0.9891 - val_loss: 0.0400 - val_accuracy: 0.9885\n",
      "Epoch 12/200\n",
      "11513/11513 [==============================] - 0s 22us/step - loss: 0.0337 - accuracy: 0.9896 - val_loss: 0.0383 - val_accuracy: 0.9892\n",
      "Epoch 13/200\n",
      "11513/11513 [==============================] - 0s 24us/step - loss: 0.0338 - accuracy: 0.9894 - val_loss: 0.0377 - val_accuracy: 0.9885\n",
      "Epoch 14/200\n",
      "11513/11513 [==============================] - 0s 23us/step - loss: 0.0326 - accuracy: 0.9891 - val_loss: 0.0385 - val_accuracy: 0.9889\n",
      "Epoch 15/200\n",
      "11513/11513 [==============================] - 0s 24us/step - loss: 0.0325 - accuracy: 0.9891 - val_loss: 0.0382 - val_accuracy: 0.9885\n",
      "Epoch 16/200\n",
      "11513/11513 [==============================] - 0s 23us/step - loss: 0.0313 - accuracy: 0.9894 - val_loss: 0.0369 - val_accuracy: 0.9885\n",
      "Epoch 17/200\n",
      "11513/11513 [==============================] - 0s 22us/step - loss: 0.0307 - accuracy: 0.9896 - val_loss: 0.0366 - val_accuracy: 0.9885\n",
      "Epoch 18/200\n",
      "11513/11513 [==============================] - 0s 22us/step - loss: 0.0299 - accuracy: 0.9896 - val_loss: 0.0356 - val_accuracy: 0.9899\n",
      "Epoch 19/200\n",
      "11513/11513 [==============================] - 0s 21us/step - loss: 0.0302 - accuracy: 0.9898 - val_loss: 0.0373 - val_accuracy: 0.9885\n",
      "Epoch 20/200\n",
      "11513/11513 [==============================] - 0s 22us/step - loss: 0.0291 - accuracy: 0.9898 - val_loss: 0.0391 - val_accuracy: 0.9899\n",
      "Epoch 21/200\n",
      "11513/11513 [==============================] - 0s 23us/step - loss: 0.0291 - accuracy: 0.9897 - val_loss: 0.0363 - val_accuracy: 0.9899\n",
      "Epoch 22/200\n",
      "11513/11513 [==============================] - 0s 24us/step - loss: 0.0287 - accuracy: 0.9907 - val_loss: 0.0355 - val_accuracy: 0.9903\n",
      "Epoch 23/200\n",
      "11513/11513 [==============================] - 0s 26us/step - loss: 0.0282 - accuracy: 0.9903 - val_loss: 0.0368 - val_accuracy: 0.9903\n",
      "Epoch 24/200\n",
      "11513/11513 [==============================] - 0s 24us/step - loss: 0.0278 - accuracy: 0.9908 - val_loss: 0.0375 - val_accuracy: 0.9903\n",
      "Epoch 25/200\n",
      "11513/11513 [==============================] - 0s 24us/step - loss: 0.0282 - accuracy: 0.9913 - val_loss: 0.0349 - val_accuracy: 0.9903\n",
      "Epoch 26/200\n",
      "11513/11513 [==============================] - 0s 24us/step - loss: 0.0271 - accuracy: 0.9914 - val_loss: 0.0386 - val_accuracy: 0.9892\n",
      "Epoch 27/200\n",
      "11513/11513 [==============================] - 0s 22us/step - loss: 0.0266 - accuracy: 0.9913 - val_loss: 0.0385 - val_accuracy: 0.9892\n",
      "Epoch 28/200\n",
      "11513/11513 [==============================] - 0s 22us/step - loss: 0.0267 - accuracy: 0.9916 - val_loss: 0.0351 - val_accuracy: 0.9910\n",
      "Epoch 29/200\n",
      "11513/11513 [==============================] - 0s 22us/step - loss: 0.0267 - accuracy: 0.9917 - val_loss: 0.0371 - val_accuracy: 0.9899\n",
      "Epoch 30/200\n",
      "11513/11513 [==============================] - 0s 22us/step - loss: 0.0268 - accuracy: 0.9912 - val_loss: 0.0359 - val_accuracy: 0.9896\n",
      "Epoch 31/200\n",
      "11513/11513 [==============================] - 0s 22us/step - loss: 0.0265 - accuracy: 0.9916 - val_loss: 0.0393 - val_accuracy: 0.9885\n",
      "Epoch 32/200\n",
      "11513/11513 [==============================] - 0s 22us/step - loss: 0.0260 - accuracy: 0.9915 - val_loss: 0.0379 - val_accuracy: 0.9903\n",
      "Epoch 33/200\n",
      "11513/11513 [==============================] - 0s 22us/step - loss: 0.0265 - accuracy: 0.9915 - val_loss: 0.0353 - val_accuracy: 0.9910\n",
      "Epoch 34/200\n",
      "11513/11513 [==============================] - 0s 23us/step - loss: 0.0255 - accuracy: 0.9921 - val_loss: 0.0412 - val_accuracy: 0.9882\n",
      "Epoch 35/200\n",
      "11513/11513 [==============================] - 0s 22us/step - loss: 0.0261 - accuracy: 0.9915 - val_loss: 0.0380 - val_accuracy: 0.9899\n"
     ]
    }
   ],
   "source": [
    "es = EarlyStopping(monitor='val_loss', patience=10)\n",
    "mc = ModelCheckpoint('best_model_NOREG.h5', monitor='val_loss', save_best_only=True)\n",
    "\n",
    "model4 = build_model()\n",
    "history4 = model4.fit(X_train, y_train, validation_data=(X_val, y_val), epochs=200, \n",
    "                      batch_size=100, callbacks=[es,mc]).history"
   ]
  },
  {
   "cell_type": "code",
   "execution_count": 56,
   "metadata": {},
   "outputs": [
    {
     "name": "stdout",
     "output_type": "stream",
     "text": [
      "6168/6168 [==============================] - 0s 24us/step\n",
      "Loss 0.028199, Accuracy 0.991732\n",
      "Loss 0.029829, Accuracy 0.991407\n",
      "Loss 0.028715, Accuracy 0.992380\n",
      "Loss 0.030221, Accuracy 0.992380\n"
     ]
    }
   ],
   "source": [
    "test_loss_4, test_acc_4 = model4.evaluate(X_test, y_test)\n",
    "\n",
    "print('Loss %f, Accuracy %f' % (test_loss_1, test_acc_1))\n",
    "print('Loss %f, Accuracy %f' % (test_loss_2, test_acc_2))\n",
    "print('Loss %f, Accuracy %f' % (test_loss_3, test_acc_3))\n",
    "print('Loss %f, Accuracy %f' % (test_loss_4, test_acc_4))"
   ]
  },
  {
   "cell_type": "markdown",
   "metadata": {},
   "source": [
    "## L2 regularization"
   ]
  },
  {
   "cell_type": "code",
   "execution_count": 48,
   "metadata": {},
   "outputs": [],
   "source": [
    "from keras.regularizers import l2\n",
    "\n",
    "def build_L2_model():\n",
    "    # define the model\n",
    "    model = Sequential()\n",
    "\n",
    "    n_feature = X_train.shape[1]\n",
    "    h_dim=100\n",
    "    model.add(Dense(h_dim, activation='relu', input_shape=(n_feature,), kernel_regularizer=l2(0.01)))\n",
    "    model.add(Dense(h_dim, activation='relu', kernel_regularizer=l2(0.01)))\n",
    "    model.add(Dense(h_dim, activation='relu', kernel_regularizer=l2(0.01)))\n",
    "    model.add(Dense(h_dim, activation='relu', kernel_regularizer=l2(0.01)))\n",
    "    #linear activation\n",
    "    model.add(Dense(1))\n",
    "\n",
    "    #compile the model\n",
    "    model.compile(loss='binary_crossentropy', optimizer='adam', metrics=['accuracy'])\n",
    "    \n",
    "    return model"
   ]
  },
  {
   "cell_type": "code",
   "execution_count": 54,
   "metadata": {},
   "outputs": [
    {
     "name": "stdout",
     "output_type": "stream",
     "text": [
      "Train on 11513 samples, validate on 2879 samples\n",
      "Epoch 1/200\n",
      "11513/11513 [==============================] - 1s 64us/step - loss: 2.1482 - accuracy: 0.9176 - val_loss: 1.2515 - val_accuracy: 0.9479\n",
      "Epoch 2/200\n",
      "11513/11513 [==============================] - 0s 35us/step - loss: 0.9176 - accuracy: 0.9385 - val_loss: 0.6919 - val_accuracy: 0.9531\n",
      "Epoch 3/200\n",
      "11513/11513 [==============================] - 0s 33us/step - loss: 0.5508 - accuracy: 0.9499 - val_loss: 0.4220 - val_accuracy: 0.9774\n",
      "Epoch 4/200\n",
      "11513/11513 [==============================] - 0s 33us/step - loss: 0.3784 - accuracy: 0.9606 - val_loss: 0.3152 - val_accuracy: 0.9729\n",
      "Epoch 5/200\n",
      "11513/11513 [==============================] - 0s 35us/step - loss: 0.2827 - accuracy: 0.9699 - val_loss: 0.2322 - val_accuracy: 0.9837\n",
      "Epoch 6/200\n",
      "11513/11513 [==============================] - 0s 38us/step - loss: 0.2236 - accuracy: 0.9769 - val_loss: 0.2218 - val_accuracy: 0.9705\n",
      "Epoch 7/200\n",
      "11513/11513 [==============================] - 0s 35us/step - loss: 0.2254 - accuracy: 0.9588 - val_loss: 0.1989 - val_accuracy: 0.9573\n",
      "Epoch 8/200\n",
      "11513/11513 [==============================] - 0s 34us/step - loss: 0.1753 - accuracy: 0.9749 - val_loss: 0.2106 - val_accuracy: 0.9608\n",
      "Epoch 9/200\n",
      "11513/11513 [==============================] - 0s 35us/step - loss: 0.1941 - accuracy: 0.9467 - val_loss: 0.1530 - val_accuracy: 0.9802\n",
      "Epoch 10/200\n",
      "11513/11513 [==============================] - 0s 36us/step - loss: 0.1691 - accuracy: 0.9758 - val_loss: 0.2015 - val_accuracy: 0.9548\n",
      "Epoch 11/200\n",
      "11513/11513 [==============================] - 0s 34us/step - loss: 0.1515 - accuracy: 0.9801 - val_loss: 0.1315 - val_accuracy: 0.9889\n",
      "Epoch 12/200\n",
      "11513/11513 [==============================] - 0s 35us/step - loss: 0.1331 - accuracy: 0.9858 - val_loss: 0.1826 - val_accuracy: 0.9729\n",
      "Epoch 13/200\n",
      "11513/11513 [==============================] - 0s 34us/step - loss: 0.1261 - accuracy: 0.9865 - val_loss: 0.1337 - val_accuracy: 0.9882\n",
      "Epoch 14/200\n",
      "11513/11513 [==============================] - 0s 32us/step - loss: 0.2126 - accuracy: 0.9021 - val_loss: 0.1596 - val_accuracy: 0.9875\n",
      "Epoch 15/200\n",
      "11513/11513 [==============================] - 0s 33us/step - loss: 0.1495 - accuracy: 0.9780 - val_loss: 0.1334 - val_accuracy: 0.9837\n",
      "Epoch 16/200\n",
      "11513/11513 [==============================] - 0s 35us/step - loss: 0.1239 - accuracy: 0.9858 - val_loss: 0.1307 - val_accuracy: 0.9889\n",
      "Epoch 17/200\n",
      "11513/11513 [==============================] - 0s 36us/step - loss: 0.1172 - accuracy: 0.9874 - val_loss: 0.1286 - val_accuracy: 0.9885\n",
      "Epoch 18/200\n",
      "11513/11513 [==============================] - ETA: 0s - loss: 0.1202 - accuracy: 0.98 - 0s 35us/step - loss: 0.1210 - accuracy: 0.9884 - val_loss: 0.1265 - val_accuracy: 0.9885\n",
      "Epoch 19/200\n",
      "11513/11513 [==============================] - 0s 37us/step - loss: 0.1118 - accuracy: 0.9884 - val_loss: 0.1216 - val_accuracy: 0.9889\n",
      "Epoch 20/200\n",
      "11513/11513 [==============================] - 0s 32us/step - loss: 0.1128 - accuracy: 0.9884 - val_loss: 0.1083 - val_accuracy: 0.9889\n",
      "Epoch 21/200\n",
      "11513/11513 [==============================] - 0s 32us/step - loss: 0.1112 - accuracy: 0.9885 - val_loss: 0.1269 - val_accuracy: 0.9889\n",
      "Epoch 22/200\n",
      "11513/11513 [==============================] - 0s 33us/step - loss: 0.2303 - accuracy: 0.9593 - val_loss: 0.4342 - val_accuracy: 0.7728\n",
      "Epoch 23/200\n",
      "11513/11513 [==============================] - 0s 33us/step - loss: 0.3168 - accuracy: 0.8096 - val_loss: 0.1482 - val_accuracy: 0.9882\n",
      "Epoch 24/200\n",
      "11513/11513 [==============================] - 0s 33us/step - loss: 0.1279 - accuracy: 0.9880 - val_loss: 0.1321 - val_accuracy: 0.9882\n",
      "Epoch 25/200\n",
      "11513/11513 [==============================] - 0s 33us/step - loss: 0.1205 - accuracy: 0.9884 - val_loss: 0.1249 - val_accuracy: 0.9889\n",
      "Epoch 26/200\n",
      "11513/11513 [==============================] - 0s 32us/step - loss: 0.1097 - accuracy: 0.9884 - val_loss: 0.1021 - val_accuracy: 0.9885\n",
      "Epoch 27/200\n",
      "11513/11513 [==============================] - 0s 32us/step - loss: 0.1028 - accuracy: 0.9885 - val_loss: 0.1067 - val_accuracy: 0.9889\n",
      "Epoch 28/200\n",
      "11513/11513 [==============================] - 0s 32us/step - loss: 0.1015 - accuracy: 0.9886 - val_loss: 0.1178 - val_accuracy: 0.9889\n",
      "Epoch 29/200\n",
      "11513/11513 [==============================] - 0s 32us/step - loss: 0.1051 - accuracy: 0.9887 - val_loss: 0.1035 - val_accuracy: 0.9889\n",
      "Epoch 30/200\n",
      "11513/11513 [==============================] - 0s 31us/step - loss: 0.1019 - accuracy: 0.9886 - val_loss: 0.1157 - val_accuracy: 0.9889\n",
      "Epoch 31/200\n",
      "11513/11513 [==============================] - 0s 32us/step - loss: 0.1283 - accuracy: 0.9774 - val_loss: 0.5026 - val_accuracy: 0.7728\n",
      "Epoch 32/200\n",
      "11513/11513 [==============================] - 0s 32us/step - loss: 0.3033 - accuracy: 0.7681 - val_loss: 0.2478 - val_accuracy: 0.7728\n",
      "Epoch 33/200\n",
      "11513/11513 [==============================] - 0s 32us/step - loss: 0.1758 - accuracy: 0.9518 - val_loss: 0.1408 - val_accuracy: 0.9896\n",
      "Epoch 34/200\n",
      "11513/11513 [==============================] - 0s 32us/step - loss: 0.1293 - accuracy: 0.9884 - val_loss: 0.1374 - val_accuracy: 0.9892\n",
      "Epoch 35/200\n",
      "11513/11513 [==============================] - 0s 36us/step - loss: 0.1205 - accuracy: 0.9884 - val_loss: 0.1245 - val_accuracy: 0.9892\n",
      "Epoch 36/200\n",
      "11513/11513 [==============================] - 0s 35us/step - loss: 0.1171 - accuracy: 0.9885 - val_loss: 0.1221 - val_accuracy: 0.9896\n"
     ]
    }
   ],
   "source": [
    "mc = ModelCheckpoint('best_model_L2.h5', monitor='val_loss', save_best_only=True)\n",
    "\n",
    "L2_model = build_L2_model()\n",
    "h_L2 = L2_model.fit(X_train, y_train, validation_data=(X_val, y_val), epochs=200, \n",
    "                    batch_size=100, callbacks=[es,mc]).history"
   ]
  },
  {
   "cell_type": "code",
   "execution_count": 50,
   "metadata": {},
   "outputs": [],
   "source": [
    "from keras.layers import Dropout\n",
    "\n",
    "def build_DROPOUT_model():\n",
    "    # define the model\n",
    "    model = Sequential()\n",
    "\n",
    "    n_feature = X_train.shape[1]\n",
    "    h_dim=100\n",
    "    model.add(Dense(h_dim, activation='relu', input_shape=(n_feature,)))\n",
    "    model.add(Dropout(0.2))\n",
    "    model.add(Dense(h_dim, activation='relu'))\n",
    "    model.add(Dropout(0.2))\n",
    "    model.add(Dense(h_dim, activation='relu'))\n",
    "    model.add(Dropout(0.2))\n",
    "    model.add(Dense(h_dim, activation='relu'))\n",
    "    #linear activation\n",
    "    model.add(Dense(1))\n",
    "\n",
    "    #compile the model\n",
    "    model.compile(loss='binary_crossentropy', optimizer='adam', metrics=['accuracy'])\n",
    "    \n",
    "    return model"
   ]
  },
  {
   "cell_type": "code",
   "execution_count": 53,
   "metadata": {},
   "outputs": [
    {
     "name": "stdout",
     "output_type": "stream",
     "text": [
      "Train on 11513 samples, validate on 2879 samples\n",
      "Epoch 1/200\n",
      "11513/11513 [==============================] - 1s 84us/step - loss: 0.1971 - accuracy: 0.5194 - val_loss: 0.1603 - val_accuracy: 0.1643\n",
      "Epoch 2/200\n",
      "11513/11513 [==============================] - 1s 46us/step - loss: 0.1557 - accuracy: 0.2086 - val_loss: 0.1550 - val_accuracy: 0.0240\n",
      "Epoch 3/200\n",
      "11513/11513 [==============================] - 1s 45us/step - loss: 0.1594 - accuracy: 0.1233 - val_loss: 0.1500 - val_accuracy: 0.0257\n",
      "Epoch 4/200\n",
      "11513/11513 [==============================] - 1s 45us/step - loss: 0.1551 - accuracy: 0.0745 - val_loss: 0.1652 - val_accuracy: 0.0049\n",
      "Epoch 5/200\n",
      "11513/11513 [==============================] - 1s 45us/step - loss: 0.1597 - accuracy: 0.0545 - val_loss: 0.1494 - val_accuracy: 0.0024\n",
      "Epoch 6/200\n",
      "11513/11513 [==============================] - 1s 46us/step - loss: 0.1623 - accuracy: 0.0360 - val_loss: 0.1495 - val_accuracy: 0.0014\n",
      "Epoch 7/200\n",
      "11513/11513 [==============================] - 1s 45us/step - loss: 0.1564 - accuracy: 0.0221 - val_loss: 0.1497 - val_accuracy: 0.0017\n",
      "Epoch 8/200\n",
      "11513/11513 [==============================] - 1s 49us/step - loss: 0.1571 - accuracy: 0.0252 - val_loss: 0.1488 - val_accuracy: 0.0087\n",
      "Epoch 9/200\n",
      "11513/11513 [==============================] - 1s 49us/step - loss: 0.1596 - accuracy: 0.0233 - val_loss: 0.1494 - val_accuracy: 0.0021\n",
      "Epoch 10/200\n",
      "11513/11513 [==============================] - 1s 50us/step - loss: 0.1581 - accuracy: 0.0114 - val_loss: 0.1564 - val_accuracy: 0.0087\n",
      "Epoch 11/200\n",
      "11513/11513 [==============================] - 1s 46us/step - loss: 0.1613 - accuracy: 0.0092 - val_loss: 0.1659 - val_accuracy: 0.0010\n",
      "Epoch 12/200\n",
      "11513/11513 [==============================] - 1s 49us/step - loss: 0.1570 - accuracy: 0.0098 - val_loss: 0.1657 - val_accuracy: 0.0014\n",
      "Epoch 13/200\n",
      "11513/11513 [==============================] - 1s 47us/step - loss: 0.1589 - accuracy: 0.0088 - val_loss: 0.1510 - val_accuracy: 0.0010\n",
      "Epoch 14/200\n",
      "11513/11513 [==============================] - 1s 47us/step - loss: 0.1593 - accuracy: 0.0090 - val_loss: 0.1497 - val_accuracy: 0.0010\n",
      "Epoch 15/200\n",
      "11513/11513 [==============================] - 1s 47us/step - loss: 0.1605 - accuracy: 0.0073 - val_loss: 0.1486 - val_accuracy: 0.0010\n",
      "Epoch 16/200\n",
      "11513/11513 [==============================] - 1s 47us/step - loss: 0.1603 - accuracy: 0.0060 - val_loss: 0.1487 - val_accuracy: 0.0010\n",
      "Epoch 17/200\n",
      "11513/11513 [==============================] - 1s 46us/step - loss: 0.1600 - accuracy: 0.0069 - val_loss: 0.1486 - val_accuracy: 0.0010\n",
      "Epoch 18/200\n",
      "11513/11513 [==============================] - 1s 47us/step - loss: 0.1600 - accuracy: 0.0036 - val_loss: 0.1485 - val_accuracy: 0.0010\n",
      "Epoch 19/200\n",
      "11513/11513 [==============================] - 1s 48us/step - loss: 0.1600 - accuracy: 0.0034 - val_loss: 0.1484 - val_accuracy: 0.0049\n",
      "Epoch 20/200\n",
      "11513/11513 [==============================] - 1s 48us/step - loss: 0.1627 - accuracy: 0.0065 - val_loss: 0.1491 - val_accuracy: 0.0010\n",
      "Epoch 21/200\n",
      "11513/11513 [==============================] - 1s 49us/step - loss: 0.1594 - accuracy: 0.0064 - val_loss: 0.1485 - val_accuracy: 0.0010\n",
      "Epoch 22/200\n",
      "11513/11513 [==============================] - 1s 50us/step - loss: 0.1599 - accuracy: 0.0025 - val_loss: 0.1496 - val_accuracy: 6.9469e-04\n",
      "Epoch 23/200\n",
      "11513/11513 [==============================] - 1s 51us/step - loss: 0.1611 - accuracy: 0.0090 - val_loss: 0.1499 - val_accuracy: 0.0000e+00\n",
      "Epoch 24/200\n",
      "11513/11513 [==============================] - 1s 50us/step - loss: 0.1602 - accuracy: 0.0028 - val_loss: 0.1486 - val_accuracy: 0.0010\n",
      "Epoch 25/200\n",
      "11513/11513 [==============================] - 1s 50us/step - loss: 0.1613 - accuracy: 0.0024 - val_loss: 0.1556 - val_accuracy: 3.4734e-04\n",
      "Epoch 26/200\n",
      "11513/11513 [==============================] - 1s 49us/step - loss: 0.1602 - accuracy: 0.0027 - val_loss: 0.1539 - val_accuracy: 0.0014\n",
      "Epoch 27/200\n",
      "11513/11513 [==============================] - 1s 47us/step - loss: 0.1599 - accuracy: 0.0018 - val_loss: 0.1554 - val_accuracy: 6.9469e-04\n",
      "Epoch 28/200\n",
      "11513/11513 [==============================] - 1s 48us/step - loss: 0.1608 - accuracy: 0.0020 - val_loss: 0.1604 - val_accuracy: 0.0010\n",
      "Epoch 29/200\n",
      "11513/11513 [==============================] - 1s 47us/step - loss: 0.1586 - accuracy: 0.0023 - val_loss: 0.1501 - val_accuracy: 3.4734e-04\n"
     ]
    }
   ],
   "source": [
    "mc = ModelCheckpoint('best_model_DROPOUT.h5', monitor='val_loss', save_best_only=True)\n",
    "\n",
    "DROPOUT_model = build_DROPOUT_model()\n",
    "h_DROPOUT = DROPOUT_model.fit(X_train, y_train, validation_data=(X_val, y_val), \n",
    "                              epochs=200, batch_size=100, callbacks=[es,mc]).history"
   ]
  },
  {
   "cell_type": "code",
   "execution_count": 57,
   "metadata": {},
   "outputs": [
    {
     "name": "stdout",
     "output_type": "stream",
     "text": [
      "6168/6168 [==============================] - 0s 24us/step\n",
      "6168/6168 [==============================] - 0s 35us/step\n",
      "6168/6168 [==============================] - 0s 38us/step\n"
     ]
    }
   ],
   "source": [
    "# laod best models and test them\n",
    "from keras.models import load_model\n",
    "\n",
    "best_NOREG_model = load_model('best_model_NOREG.h5')\n",
    "best_L2_model = load_model('best_model_L2.h5')\n",
    "best_DROPOUT_model = load_model('best_model_DROPOUT.h5')\n",
    "\n",
    "loss_NOREG, acc_NOREG = best_NOREG_model.evaluate(X_test, y_test)\n",
    "loss_L2, acc_L2 = best_L2_model.evaluate(X_test, y_test)\n",
    "loss_DROPOUT, acc_DROPOUT = best_DROPOUT_model.evaluate(X_test, y_test)"
   ]
  },
  {
   "cell_type": "code",
   "execution_count": 58,
   "metadata": {},
   "outputs": [
    {
     "name": "stdout",
     "output_type": "stream",
     "text": [
      "Loss 0.030018, Accuracy 0.992380\n",
      "Loss 0.096211, Accuracy 0.991245\n",
      "Loss 0.126610, Accuracy 0.004377\n"
     ]
    }
   ],
   "source": [
    "print('Loss %f, Accuracy %f' % (loss_NOREG, acc_NOREG))\n",
    "print('Loss %f, Accuracy %f' % (loss_L2, acc_L2))\n",
    "print('Loss %f, Accuracy %f' % (loss_DROPOUT, acc_DROPOUT))"
   ]
  },
  {
   "cell_type": "markdown",
   "metadata": {},
   "source": [
    "## Hyper-Parameter Tuning"
   ]
  },
  {
   "cell_type": "code",
   "execution_count": 66,
   "metadata": {},
   "outputs": [],
   "source": [
    "from keras.wrappers.scikit_learn import KerasRegressor #which implements the Scikit-Learn regressor interface\n",
    "from sklearn.model_selection import RandomizedSearchCV"
   ]
  },
  {
   "cell_type": "code",
   "execution_count": 67,
   "metadata": {},
   "outputs": [],
   "source": [
    "def build_model(n_layers=2, h_dim=64, activation='relu', optimizer='adam'):\n",
    "    # define the model\n",
    "    model = Sequential()\n",
    "\n",
    "    n_feature = X_train.shape[1]\n",
    "    \n",
    "    model.add(Dense(h_dim, activation=activation, input_shape=(n_feature,)))\n",
    "    for i in range(n_layers-1):\n",
    "        model.add(Dense(h_dim, activation=activation))\n",
    "    #linear activation\n",
    "    model.add(Dense(1))\n",
    "\n",
    "    #compile the model\n",
    "    model.compile(loss='binary_crossentropy', optimizer=optimizer, metrics=['accuracy'])\n",
    "    \n",
    "    return model"
   ]
  },
  {
   "cell_type": "code",
   "execution_count": 68,
   "metadata": {},
   "outputs": [],
   "source": [
    "n_layers = [1, 2, 3]\n",
    "h_dim = [32, 64, 128]\n",
    "activation = ['relu', 'tanh']\n",
    "optimizer = ['adagrad', 'adam']\n",
    "params = dict(optimizer=optimizer, n_layers=n_layers, h_dim=h_dim, activation=activation)"
   ]
  },
  {
   "cell_type": "code",
   "execution_count": 69,
   "metadata": {},
   "outputs": [
    {
     "name": "stdout",
     "output_type": "stream",
     "text": [
      "3838/3838 [==============================] - 0s 27us/step\n",
      "3838/3838 [==============================] - 0s 24us/step\n",
      "3837/3837 [==============================] - 0s 33us/step\n",
      "3838/3838 [==============================] - 0s 32us/step\n",
      "3838/3838 [==============================] - 0s 36us/step\n",
      "3837/3837 [==============================] - 0s 32us/step\n",
      "3838/3838 [==============================] - 0s 24us/step\n",
      "3838/3838 [==============================] - 0s 21us/step\n",
      "3837/3837 [==============================] - 0s 23us/step\n",
      "3838/3838 [==============================] - 0s 21us/step\n",
      "3838/3838 [==============================] - 0s 23us/step\n",
      "3837/3837 [==============================] - 0s 31us/step\n",
      "3838/3838 [==============================] - 0s 22us/step\n",
      "3838/3838 [==============================] - 0s 28us/step\n",
      "3837/3837 [==============================] - 0s 22us/step\n"
     ]
    }
   ],
   "source": [
    "model = KerasRegressor(build_fn=build_model)\n",
    "\n",
    "rnd = RandomizedSearchCV(estimator=model, param_distributions=params, n_iter=5, cv=3)\n",
    "rnd_result = rnd.fit(X_train, y_train, epochs=200, batch_size=100, verbose=0)"
   ]
  },
  {
   "cell_type": "code",
   "execution_count": 64,
   "metadata": {},
   "outputs": [
    {
     "name": "stdout",
     "output_type": "stream",
     "text": [
      "Best: 0.062114 using {'optimizer': 'adam', 'n_layers': 2, 'h_dim': 32, 'activation': 'tanh'}\n",
      "0.079585 (0.026060) with: {'optimizer': 'adagrad', 'n_layers': 2, 'h_dim': 32, 'activation': 'relu'}\n",
      "0.089362 (0.009124) with: {'optimizer': 'adagrad', 'n_layers': 1, 'h_dim': 128, 'activation': 'tanh'}\n",
      "0.138012 (0.094906) with: {'optimizer': 'adam', 'n_layers': 1, 'h_dim': 32, 'activation': 'tanh'}\n",
      "0.062114 (0.013748) with: {'optimizer': 'adam', 'n_layers': 2, 'h_dim': 32, 'activation': 'tanh'}\n",
      "0.100799 (0.039294) with: {'optimizer': 'adagrad', 'n_layers': 3, 'h_dim': 32, 'activation': 'tanh'}\n"
     ]
    }
   ],
   "source": [
    "print(\"Best: %f using %s\" % (-rnd_result.best_score_, rnd_result.best_params_))\n",
    "means = rnd_result.cv_results_['mean_test_score']\n",
    "stds = rnd_result.cv_results_['std_test_score']\n",
    "params = rnd_result.cv_results_['params']\n",
    "for mean, stdev, param in zip(means, stds, params):\n",
    "    print(\"%f (%f) with: %r\" % (-mean, stdev, param))"
   ]
  },
  {
   "cell_type": "code",
   "execution_count": 65,
   "metadata": {},
   "outputs": [
    {
     "name": "stdout",
     "output_type": "stream",
     "text": [
      "6168/6168 [==============================] - 0s 23us/step\n",
      "Loss 0.119694, Accuracy 0.008755\n"
     ]
    }
   ],
   "source": [
    "clf = rnd_result.best_estimator_.model\n",
    "\n",
    "loss, acc = clf.evaluate(X_test, y_test)\n",
    "print('Loss %f, Accuracy %f' % (loss, acc))"
   ]
  },
  {
   "cell_type": "markdown",
   "metadata": {},
   "source": [
    "https://towardsdatascience.com/hyperparameter-optimization-with-keras-b82e6364ca53"
   ]
  },
  {
   "cell_type": "code",
   "execution_count": null,
   "metadata": {},
   "outputs": [],
   "source": [
    "y_pred= clf.predict(X_test)\n",
    "\n"
   ]
  }
 ],
 "metadata": {
  "kernelspec": {
   "display_name": "Python 3",
   "language": "python",
   "name": "python3"
  },
  "language_info": {
   "codemirror_mode": {
    "name": "ipython",
    "version": 3
   },
   "file_extension": ".py",
   "mimetype": "text/x-python",
   "name": "python",
   "nbconvert_exporter": "python",
   "pygments_lexer": "ipython3",
   "version": "3.7.7"
  }
 },
 "nbformat": 4,
 "nbformat_minor": 4
}
