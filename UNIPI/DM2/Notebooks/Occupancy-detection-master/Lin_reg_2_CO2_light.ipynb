{
 "cells": [
  {
   "cell_type": "code",
   "execution_count": 2,
   "metadata": {
    "colab": {},
    "colab_type": "code",
    "id": "5qst6fJrcGAJ"
   },
   "outputs": [],
   "source": [
    "%matplotlib inline\n",
    "\n",
    "import numpy as np\n",
    "import pandas as pd\n",
    "import matplotlib.pyplot as plt\n",
    "\n",
    "from collections import defaultdict"
   ]
  },
  {
   "cell_type": "code",
   "execution_count": 3,
   "metadata": {
    "colab": {},
    "colab_type": "code",
    "id": "TpHR8xYfcGAf",
    "outputId": "5cd30fe4-06cd-4316-a0e6-4d0ecd36bcff"
   },
   "outputs": [
    {
     "data": {
      "text/plain": [
       "(20560, 7)"
      ]
     },
     "execution_count": 3,
     "metadata": {},
     "output_type": "execute_result"
    }
   ],
   "source": [
    "y_name = 'Light'\n",
    "df1 = pd.read_csv('datatraining.txt', skipinitialspace=True, na_values='?', \n",
    "                 keep_default_na=True)\n",
    "df2 =pd.read_csv('datatest.txt', skipinitialspace=True, na_values='?', \n",
    "                 keep_default_na=True)\n",
    "df3=pd.read_csv('datatest2.txt', skipinitialspace=True, na_values='?', \n",
    "                 keep_default_na=True)\n",
    "df4=pd.merge(df1, df2, how='outer')\n",
    "df=pd.merge(df4, df3, how='outer')\n",
    "df.shape\n"
   ]
  },
  {
   "cell_type": "code",
   "execution_count": 4,
   "metadata": {
    "colab": {},
    "colab_type": "code",
    "id": "vlAFQXUWcGAs"
   },
   "outputs": [],
   "source": [
    "df['Day']=pd.to_datetime(df['date']).dt.day\n",
    "df['Hour']=pd.to_datetime(df['date']).dt.hour\n",
    "df['Month']=pd.to_datetime(df['date']).dt.month\n",
    "df['Year']=pd.to_datetime(df['date']).dt.year\n",
    "df['Data']=pd.to_datetime(df['date']).dt.normalize()\n",
    "del df['date']"
   ]
  },
  {
   "cell_type": "code",
   "execution_count": 5,
   "metadata": {
    "colab": {},
    "colab_type": "code",
    "id": "2fAy7g5CcGA2",
    "outputId": "e7adb686-6785-4724-f53f-b53fe095815f"
   },
   "outputs": [
    {
     "data": {
      "text/html": [
       "<div>\n",
       "<style scoped>\n",
       "    .dataframe tbody tr th:only-of-type {\n",
       "        vertical-align: middle;\n",
       "    }\n",
       "\n",
       "    .dataframe tbody tr th {\n",
       "        vertical-align: top;\n",
       "    }\n",
       "\n",
       "    .dataframe thead th {\n",
       "        text-align: right;\n",
       "    }\n",
       "</style>\n",
       "<table border=\"1\" class=\"dataframe\">\n",
       "  <thead>\n",
       "    <tr style=\"text-align: right;\">\n",
       "      <th></th>\n",
       "      <th>Light</th>\n",
       "      <th>CO2</th>\n",
       "    </tr>\n",
       "  </thead>\n",
       "  <tbody>\n",
       "    <tr>\n",
       "      <th>0</th>\n",
       "      <td>426.0</td>\n",
       "      <td>721.25</td>\n",
       "    </tr>\n",
       "    <tr>\n",
       "      <th>1</th>\n",
       "      <td>429.5</td>\n",
       "      <td>714.00</td>\n",
       "    </tr>\n",
       "    <tr>\n",
       "      <th>2</th>\n",
       "      <td>426.0</td>\n",
       "      <td>713.50</td>\n",
       "    </tr>\n",
       "    <tr>\n",
       "      <th>3</th>\n",
       "      <td>426.0</td>\n",
       "      <td>708.25</td>\n",
       "    </tr>\n",
       "    <tr>\n",
       "      <th>4</th>\n",
       "      <td>426.0</td>\n",
       "      <td>704.50</td>\n",
       "    </tr>\n",
       "  </tbody>\n",
       "</table>\n",
       "</div>"
      ],
      "text/plain": [
       "   Light     CO2\n",
       "0  426.0  721.25\n",
       "1  429.5  714.00\n",
       "2  426.0  713.50\n",
       "3  426.0  708.25\n",
       "4  426.0  704.50"
      ]
     },
     "execution_count": 5,
     "metadata": {},
     "output_type": "execute_result"
    }
   ],
   "source": [
    "del df[\"Humidity\"], df[\"HumidityRatio\"], df[\"Day\"], df[\"Month\"], df[\"Hour\"], df[\"Temperature\"], df[\"Year\"], df[\"Data\"], df[\"Occupancy\"]\n",
    "df.head()"
   ]
  },
  {
   "cell_type": "markdown",
   "metadata": {
    "colab_type": "text",
    "id": "j0egLL7bcGBD"
   },
   "source": [
    "Data Partitioning"
   ]
  },
  {
   "cell_type": "code",
   "execution_count": 6,
   "metadata": {
    "colab": {},
    "colab_type": "code",
    "id": "09NgAWUhcGBL"
   },
   "outputs": [],
   "source": [
    "from sklearn.model_selection import train_test_split, cross_val_score \n",
    "\n",
    "from sklearn.metrics import r2_score, mean_squared_error, mean_absolute_error"
   ]
  },
  {
   "cell_type": "code",
   "execution_count": 7,
   "metadata": {
    "colab": {},
    "colab_type": "code",
    "id": "bxZuT30-cGBW"
   },
   "outputs": [],
   "source": [
    "attributes = [col for col in df.columns if col != y_name]\n",
    "X = df[attributes].values\n",
    "y = df[y_name]\n",
    "\n",
    "X_train, X_test, y_train, y_test = train_test_split(X, y, test_size=0.3, random_state=100)"
   ]
  },
  {
   "cell_type": "markdown",
   "metadata": {
    "colab_type": "text",
    "id": "axZ5d5XMcGBj"
   },
   "source": [
    "Linear Regression"
   ]
  },
  {
   "cell_type": "code",
   "execution_count": 8,
   "metadata": {
    "colab": {},
    "colab_type": "code",
    "id": "2r4f1nlrcGBl"
   },
   "outputs": [],
   "source": [
    "from sklearn.linear_model import LinearRegression, Ridge, Lasso"
   ]
  },
  {
   "cell_type": "code",
   "execution_count": 9,
   "metadata": {
    "colab": {},
    "colab_type": "code",
    "id": "XLUlp5micGB1",
    "outputId": "a1f93709-e2a7-4eb1-b088-db1ce86807c3"
   },
   "outputs": [
    {
     "name": "stdout",
     "output_type": "stream",
     "text": [
      "R2: 0.196\n",
      "MSE: 36429.811\n",
      "MAE: 145.144\n"
     ]
    }
   ],
   "source": [
    "reg = LinearRegression()\n",
    "reg.fit(X_train.T[0].reshape(-1, 1), y_train)\n",
    "y_pred = reg.predict(X_test.T[0].reshape(-1, 1))\n",
    "\n",
    "print('R2: %.3f' % r2_score(y_test, y_pred))\n",
    "print('MSE: %.3f' % mean_squared_error(y_test, y_pred))\n",
    "print('MAE: %.3f' % mean_absolute_error(y_test, y_pred))"
   ]
  },
  {
   "cell_type": "code",
   "execution_count": 10,
   "metadata": {
    "colab": {},
    "colab_type": "code",
    "id": "oMD7BxQZcGCB",
    "outputId": "02ebabf5-0609-40aa-f953-2c913b6cb71c"
   },
   "outputs": [
    {
     "data": {
      "image/png": "[encoded data removed]",
      "text/plain": [
       "<Figure size 432x288 with 1 Axes>"
      ]
     },
     "metadata": {
      "needs_background": "light"
     },
     "output_type": "display_data"
    }
   ],
   "source": [
    "plt.scatter(X_test.T[0], y_test,  color='black')\n",
    "plt.plot(X_test.T[0], y_pred, color='blue', linewidth=3)\n",
    "plt.show()"
   ]
  },
  {
   "cell_type": "markdown",
   "metadata": {
    "colab_type": "text",
    "id": "bYuVg6j4cGCN"
   },
   "source": [
    "LASSO"
   ]
  },
  {
   "cell_type": "code",
   "execution_count": 11,
   "metadata": {
    "colab": {},
    "colab_type": "code",
    "id": "pjSR1SwUcGCP",
    "outputId": "61793af0-5560-4e50-b473-ba2b0c7882ae"
   },
   "outputs": [
    {
     "name": "stdout",
     "output_type": "stream",
     "text": [
      "Coefficients: \n",
      " [0.30310991]\n",
      "Intercept: \n",
      " -80.25571673564653\n"
     ]
    }
   ],
   "source": [
    "reg = Lasso()\n",
    "reg.fit(X_train, y_train)\n",
    "print('Coefficients: \\n', reg.coef_)\n",
    "print('Intercept: \\n', reg.intercept_)"
   ]
  },
  {
   "cell_type": "code",
   "execution_count": 12,
   "metadata": {
    "colab": {},
    "colab_type": "code",
    "id": "eFFjOWzucGCt",
    "outputId": "2e5c4524-4826-42f5-d2d2-11bd09514712"
   },
   "outputs": [
    {
     "name": "stdout",
     "output_type": "stream",
     "text": [
      "R2: 0.196\n",
      "MSE: 36429.810\n",
      "MAE: 145.145\n"
     ]
    }
   ],
   "source": [
    "y_pred = reg.predict(X_test)\n",
    "print('R2: %.3f' % r2_score(y_test, y_pred))\n",
    "print('MSE: %.3f' % mean_squared_error(y_test, y_pred))\n",
    "print('MAE: %.3f' % mean_absolute_error(y_test, y_pred))"
   ]
  },
  {
   "cell_type": "markdown",
   "metadata": {
    "colab_type": "text",
    "id": "9JQE6SEFcGDI"
   },
   "source": [
    "RIDGE"
   ]
  },
  {
   "cell_type": "code",
   "execution_count": 13,
   "metadata": {
    "colab": {},
    "colab_type": "code",
    "id": "-1drIEr1cGDJ",
    "outputId": "3200580f-8d80-49bf-d3fd-6e2ef95681f4"
   },
   "outputs": [
    {
     "name": "stdout",
     "output_type": "stream",
     "text": [
      "Coefficients: \n",
      " [0.30312024]\n",
      "Intercept: \n",
      " -80.26284905430941\n"
     ]
    }
   ],
   "source": [
    "reg = Ridge()\n",
    "reg.fit(X_train, y_train)\n",
    "print('Coefficients: \\n', reg.coef_)\n",
    "print('Intercept: \\n', reg.intercept_)"
   ]
  },
  {
   "cell_type": "code",
   "execution_count": 14,
   "metadata": {
    "colab": {},
    "colab_type": "code",
    "id": "CrWX64xfcGDS",
    "outputId": "f9727f16-d5ac-4b3f-fab9-8c0c89acf316"
   },
   "outputs": [
    {
     "name": "stdout",
     "output_type": "stream",
     "text": [
      "R2: 0.196\n",
      "MSE: 36429.811\n",
      "MAE: 145.144\n"
     ]
    }
   ],
   "source": [
    "y_pred = reg.predict(X_test)\n",
    "print('R2: %.3f' % r2_score(y_test, y_pred))\n",
    "print('MSE: %.3f' % mean_squared_error(y_test, y_pred))\n",
    "print('MAE: %.3f' % mean_absolute_error(y_test, y_pred))"
   ]
  },
  {
   "cell_type": "code",
   "execution_count": 0,
   "metadata": {
    "colab": {},
    "colab_type": "code",
    "id": "POaUNO-DcGDa"
   },
   "outputs": [],
   "source": []
  }
 ],
 "metadata": {
  "colab": {
   "collapsed_sections": [],
   "name": "Lin_reg_2",
   "provenance": []
  },
  "kernelspec": {
   "display_name": "Python 3",
   "language": "python",
   "name": "python3"
  },
  "language_info": {
   "codemirror_mode": {
    "name": "ipython",
    "version": 3
   },
   "file_extension": ".py",
   "mimetype": "text/x-python",
   "name": "python",
   "nbconvert_exporter": "python",
   "pygments_lexer": "ipython3",
   "version": "3.6.10"
  }
 },
 "nbformat": 4,
 "nbformat_minor": 1
}
