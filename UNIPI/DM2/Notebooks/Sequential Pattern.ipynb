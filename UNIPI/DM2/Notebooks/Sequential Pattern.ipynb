{
 "cells": [
  {
   "cell_type": "code",
   "execution_count": 1,
   "metadata": {},
   "outputs": [
    {
     "name": "stdout",
     "output_type": "stream",
     "text": [
      "Populating the interactive namespace from numpy and matplotlib\n"
     ]
    }
   ],
   "source": [
    "%matplotlib inline\n",
    "\n",
    "import numpy as np\n",
    "import pandas as pd\n",
    "import matplotlib.pyplot as plt\n",
    "\n",
    "from collections import defaultdict\n",
    "\n",
    "import csv\n",
    "import time\n",
    "from pandas import Grouper\n",
    "from pandas import DataFrame\n",
    "#from pandas.tools.plotting import lag_plot\n",
    "#from pandas.tools.plotting import autocorrelation_plot\n",
    "from sklearn.cluster import DBSCAN\n",
    "from sklearn import metrics\n",
    "from sklearn.preprocessing import StandardScaler\n",
    "from sklearn import manifold\n",
    "from scipy.stats import itemfreq\n",
    "%pylab inline\n",
    "from pylab import rcParams\n",
    "rcParams['figure.figsize'] = 20,5\n",
    "\n",
    "from tslearn.preprocessing import TimeSeriesScalerMeanVariance\n",
    "from tslearn.piecewise import SymbolicAggregateApproximation"
   ]
  },
  {
   "cell_type": "markdown",
   "metadata": {},
   "source": [
    "# Data Preparation"
   ]
  },
  {
   "cell_type": "code",
   "execution_count": 2,
   "metadata": {},
   "outputs": [
    {
     "data": {
      "text/html": [
       "<div>\n",
       "<style scoped>\n",
       "    .dataframe tbody tr th:only-of-type {\n",
       "        vertical-align: middle;\n",
       "    }\n",
       "\n",
       "    .dataframe tbody tr th {\n",
       "        vertical-align: top;\n",
       "    }\n",
       "\n",
       "    .dataframe thead th {\n",
       "        text-align: right;\n",
       "    }\n",
       "</style>\n",
       "<table border=\"1\" class=\"dataframe\">\n",
       "  <thead>\n",
       "    <tr style=\"text-align: right;\">\n",
       "      <th></th>\n",
       "      <th>Temperature</th>\n",
       "      <th>Humidity</th>\n",
       "      <th>Light</th>\n",
       "      <th>CO2</th>\n",
       "      <th>HumidityRatio</th>\n",
       "      <th>Occupancy</th>\n",
       "    </tr>\n",
       "    <tr>\n",
       "      <th>date</th>\n",
       "      <th></th>\n",
       "      <th></th>\n",
       "      <th></th>\n",
       "      <th></th>\n",
       "      <th></th>\n",
       "      <th></th>\n",
       "    </tr>\n",
       "  </thead>\n",
       "  <tbody>\n",
       "    <tr>\n",
       "      <th>2015-02-04 17:51:00</th>\n",
       "      <td>23.18</td>\n",
       "      <td>27.2720</td>\n",
       "      <td>426.0</td>\n",
       "      <td>721.25</td>\n",
       "      <td>0.004793</td>\n",
       "      <td>1</td>\n",
       "    </tr>\n",
       "    <tr>\n",
       "      <th>2015-02-04 17:51:59</th>\n",
       "      <td>23.15</td>\n",
       "      <td>27.2675</td>\n",
       "      <td>429.5</td>\n",
       "      <td>714.00</td>\n",
       "      <td>0.004783</td>\n",
       "      <td>1</td>\n",
       "    </tr>\n",
       "    <tr>\n",
       "      <th>2015-02-04 17:53:00</th>\n",
       "      <td>23.15</td>\n",
       "      <td>27.2450</td>\n",
       "      <td>426.0</td>\n",
       "      <td>713.50</td>\n",
       "      <td>0.004779</td>\n",
       "      <td>1</td>\n",
       "    </tr>\n",
       "    <tr>\n",
       "      <th>2015-02-04 17:54:00</th>\n",
       "      <td>23.15</td>\n",
       "      <td>27.2000</td>\n",
       "      <td>426.0</td>\n",
       "      <td>708.25</td>\n",
       "      <td>0.004772</td>\n",
       "      <td>1</td>\n",
       "    </tr>\n",
       "    <tr>\n",
       "      <th>2015-02-04 17:55:00</th>\n",
       "      <td>23.10</td>\n",
       "      <td>27.2000</td>\n",
       "      <td>426.0</td>\n",
       "      <td>704.50</td>\n",
       "      <td>0.004757</td>\n",
       "      <td>1</td>\n",
       "    </tr>\n",
       "  </tbody>\n",
       "</table>\n",
       "</div>"
      ],
      "text/plain": [
       "                     Temperature  Humidity  Light     CO2  HumidityRatio  \\\n",
       "date                                                                       \n",
       "2015-02-04 17:51:00        23.18   27.2720  426.0  721.25       0.004793   \n",
       "2015-02-04 17:51:59        23.15   27.2675  429.5  714.00       0.004783   \n",
       "2015-02-04 17:53:00        23.15   27.2450  426.0  713.50       0.004779   \n",
       "2015-02-04 17:54:00        23.15   27.2000  426.0  708.25       0.004772   \n",
       "2015-02-04 17:55:00        23.10   27.2000  426.0  704.50       0.004757   \n",
       "\n",
       "                     Occupancy  \n",
       "date                            \n",
       "2015-02-04 17:51:00          1  \n",
       "2015-02-04 17:51:59          1  \n",
       "2015-02-04 17:53:00          1  \n",
       "2015-02-04 17:54:00          1  \n",
       "2015-02-04 17:55:00          1  "
      ]
     },
     "execution_count": 2,
     "metadata": {},
     "output_type": "execute_result"
    }
   ],
   "source": [
    "dateparse = lambda dates: pd.datetime.strptime(dates, '%Y-%m-%d %H:%M:%S')\n",
    "df = pd.read_csv(r'C:\\Users\\Asia\\Desktop\\Università\\Magistrale\\Data Mining\\Dm 2\\Progetto\\Dataset\\datatraining.csv', header=0, index_col='date', date_parser = dateparse )\n",
    "#df = df.drop(['Unnamed: 0'], axis = 1)\n",
    "df.head()"
   ]
  },
  {
   "cell_type": "code",
   "execution_count": 3,
   "metadata": {},
   "outputs": [],
   "source": [
    "rcParams['figure.figsize'] = 20,5"
   ]
  },
  {
   "cell_type": "code",
   "execution_count": 4,
   "metadata": {},
   "outputs": [],
   "source": [
    "ts = df['Temperature']"
   ]
  },
  {
   "cell_type": "code",
   "execution_count": 5,
   "metadata": {},
   "outputs": [
    {
     "data": {
      "text/plain": [
       "8143"
      ]
     },
     "execution_count": 5,
     "metadata": {},
     "output_type": "execute_result"
    }
   ],
   "source": [
    "len(ts)"
   ]
  },
  {
   "cell_type": "code",
   "execution_count": null,
   "metadata": {},
   "outputs": [],
   "source": []
  },
  {
   "cell_type": "code",
   "execution_count": null,
   "metadata": {},
   "outputs": [],
   "source": []
  },
  {
   "cell_type": "code",
   "execution_count": 6,
   "metadata": {},
   "outputs": [
    {
     "data": {
      "text/plain": [
       "date\n",
       "2015-02-04 12:00:00      9\n",
       "2015-02-04 18:00:00    360\n",
       "2015-02-05 00:00:00    360\n",
       "2015-02-05 06:00:00    360\n",
       "2015-02-05 12:00:00    360\n",
       "2015-02-05 18:00:00    360\n",
       "2015-02-06 00:00:00    360\n",
       "2015-02-06 06:00:00    360\n",
       "2015-02-06 12:00:00    360\n",
       "2015-02-06 18:00:00    360\n",
       "2015-02-07 00:00:00    360\n",
       "2015-02-07 06:00:00    360\n",
       "2015-02-07 12:00:00    360\n",
       "2015-02-07 18:00:00    360\n",
       "2015-02-08 00:00:00    360\n",
       "2015-02-08 06:00:00    360\n",
       "2015-02-08 12:00:00    360\n",
       "2015-02-08 18:00:00    360\n",
       "2015-02-09 00:00:00    360\n",
       "2015-02-09 06:00:00    360\n",
       "2015-02-09 12:00:00    360\n",
       "2015-02-09 18:00:00    360\n",
       "2015-02-10 00:00:00    360\n",
       "2015-02-10 06:00:00    214\n",
       "Freq: 6H, Name: Temperature, dtype: int64"
      ]
     },
     "execution_count": 6,
     "metadata": {},
     "output_type": "execute_result"
    }
   ],
   "source": [
    "groups = ts.groupby(pd.Grouper(freq='6H'))\n",
    "#groups.transform(lambda x: (x - x.mean()) / x.std())\n",
    "groups.size()"
   ]
  },
  {
   "cell_type": "code",
   "execution_count": 7,
   "metadata": {},
   "outputs": [],
   "source": [
    "day = DataFrame()\n",
    "for name, group in groups:\n",
    "    #norm_values = ((group.values - mean(group.values)) / std(group.values))\n",
    "    # Padding performed to have series of same length -- important only for plotting the matrix\n",
    "    pad_values = np.pad(group.values,(0,360-len(group.values)),'constant')\n",
    "    day[\"0%s-0%s %s.0%s\" %(name.month,name.day,name.hour,name.minute)] = pad_values"
   ]
  },
  {
   "cell_type": "code",
   "execution_count": 8,
   "metadata": {},
   "outputs": [],
   "source": [
    "day = day.drop(['02-010 6.00'], axis=1)"
   ]
  },
  {
   "cell_type": "code",
   "execution_count": 9,
   "metadata": {},
   "outputs": [],
   "source": [
    "day = day.drop(['02-04 12.00'], axis=1)"
   ]
  },
  {
   "cell_type": "code",
   "execution_count": 10,
   "metadata": {},
   "outputs": [
    {
     "data": {
      "text/html": [
       "<div>\n",
       "<style scoped>\n",
       "    .dataframe tbody tr th:only-of-type {\n",
       "        vertical-align: middle;\n",
       "    }\n",
       "\n",
       "    .dataframe tbody tr th {\n",
       "        vertical-align: top;\n",
       "    }\n",
       "\n",
       "    .dataframe thead th {\n",
       "        text-align: right;\n",
       "    }\n",
       "</style>\n",
       "<table border=\"1\" class=\"dataframe\">\n",
       "  <thead>\n",
       "    <tr style=\"text-align: right;\">\n",
       "      <th></th>\n",
       "      <th>02-04 18.00</th>\n",
       "      <th>02-05 0.00</th>\n",
       "      <th>02-05 6.00</th>\n",
       "      <th>02-05 12.00</th>\n",
       "      <th>02-05 18.00</th>\n",
       "      <th>02-06 0.00</th>\n",
       "      <th>02-06 6.00</th>\n",
       "      <th>02-06 12.00</th>\n",
       "      <th>02-06 18.00</th>\n",
       "      <th>02-07 0.00</th>\n",
       "      <th>...</th>\n",
       "      <th>02-07 18.00</th>\n",
       "      <th>02-08 0.00</th>\n",
       "      <th>02-08 6.00</th>\n",
       "      <th>02-08 12.00</th>\n",
       "      <th>02-08 18.00</th>\n",
       "      <th>02-09 0.00</th>\n",
       "      <th>02-09 6.00</th>\n",
       "      <th>02-09 12.00</th>\n",
       "      <th>02-09 18.00</th>\n",
       "      <th>02-010 0.00</th>\n",
       "    </tr>\n",
       "  </thead>\n",
       "  <tbody>\n",
       "    <tr>\n",
       "      <th>0</th>\n",
       "      <td>23.075</td>\n",
       "      <td>21.245</td>\n",
       "      <td>20.865000</td>\n",
       "      <td>22.2</td>\n",
       "      <td>22.000</td>\n",
       "      <td>20.2</td>\n",
       "      <td>20.290</td>\n",
       "      <td>21.675</td>\n",
       "      <td>21.7</td>\n",
       "      <td>20.0000</td>\n",
       "      <td>...</td>\n",
       "      <td>20.39</td>\n",
       "      <td>19.6</td>\n",
       "      <td>19.29</td>\n",
       "      <td>19.200</td>\n",
       "      <td>19.39</td>\n",
       "      <td>19.5</td>\n",
       "      <td>19.390</td>\n",
       "      <td>21.3900</td>\n",
       "      <td>22.075000</td>\n",
       "      <td>20.390000</td>\n",
       "    </tr>\n",
       "    <tr>\n",
       "      <th>1</th>\n",
       "      <td>23.075</td>\n",
       "      <td>21.245</td>\n",
       "      <td>20.890000</td>\n",
       "      <td>22.2</td>\n",
       "      <td>22.025</td>\n",
       "      <td>20.2</td>\n",
       "      <td>20.290</td>\n",
       "      <td>21.700</td>\n",
       "      <td>21.7</td>\n",
       "      <td>19.9725</td>\n",
       "      <td>...</td>\n",
       "      <td>20.39</td>\n",
       "      <td>19.6</td>\n",
       "      <td>19.29</td>\n",
       "      <td>19.200</td>\n",
       "      <td>19.34</td>\n",
       "      <td>19.5</td>\n",
       "      <td>19.445</td>\n",
       "      <td>21.4725</td>\n",
       "      <td>22.100000</td>\n",
       "      <td>20.356667</td>\n",
       "    </tr>\n",
       "    <tr>\n",
       "      <th>2</th>\n",
       "      <td>23.100</td>\n",
       "      <td>21.260</td>\n",
       "      <td>20.856667</td>\n",
       "      <td>22.2</td>\n",
       "      <td>22.000</td>\n",
       "      <td>20.2</td>\n",
       "      <td>20.290</td>\n",
       "      <td>21.700</td>\n",
       "      <td>21.7</td>\n",
       "      <td>20.0000</td>\n",
       "      <td>...</td>\n",
       "      <td>20.39</td>\n",
       "      <td>19.6</td>\n",
       "      <td>19.29</td>\n",
       "      <td>19.245</td>\n",
       "      <td>19.34</td>\n",
       "      <td>19.5</td>\n",
       "      <td>19.390</td>\n",
       "      <td>21.5000</td>\n",
       "      <td>22.100000</td>\n",
       "      <td>20.390000</td>\n",
       "    </tr>\n",
       "    <tr>\n",
       "      <th>3</th>\n",
       "      <td>23.100</td>\n",
       "      <td>21.245</td>\n",
       "      <td>20.890000</td>\n",
       "      <td>22.2</td>\n",
       "      <td>22.075</td>\n",
       "      <td>20.2</td>\n",
       "      <td>20.245</td>\n",
       "      <td>21.700</td>\n",
       "      <td>21.7</td>\n",
       "      <td>20.0000</td>\n",
       "      <td>...</td>\n",
       "      <td>20.39</td>\n",
       "      <td>19.6</td>\n",
       "      <td>19.29</td>\n",
       "      <td>19.245</td>\n",
       "      <td>19.29</td>\n",
       "      <td>19.5</td>\n",
       "      <td>19.390</td>\n",
       "      <td>21.5000</td>\n",
       "      <td>22.066667</td>\n",
       "      <td>20.390000</td>\n",
       "    </tr>\n",
       "    <tr>\n",
       "      <th>4</th>\n",
       "      <td>23.050</td>\n",
       "      <td>21.245</td>\n",
       "      <td>20.890000</td>\n",
       "      <td>22.2</td>\n",
       "      <td>22.025</td>\n",
       "      <td>20.2</td>\n",
       "      <td>20.245</td>\n",
       "      <td>21.700</td>\n",
       "      <td>21.7</td>\n",
       "      <td>20.0000</td>\n",
       "      <td>...</td>\n",
       "      <td>20.39</td>\n",
       "      <td>19.6</td>\n",
       "      <td>19.20</td>\n",
       "      <td>19.290</td>\n",
       "      <td>19.29</td>\n",
       "      <td>19.5</td>\n",
       "      <td>19.445</td>\n",
       "      <td>21.5000</td>\n",
       "      <td>22.100000</td>\n",
       "      <td>20.365000</td>\n",
       "    </tr>\n",
       "  </tbody>\n",
       "</table>\n",
       "<p>5 rows × 22 columns</p>\n",
       "</div>"
      ],
      "text/plain": [
       "   02-04 18.00  02-05 0.00  02-05 6.00  02-05 12.00  02-05 18.00  02-06 0.00  \\\n",
       "0       23.075      21.245   20.865000         22.2       22.000        20.2   \n",
       "1       23.075      21.245   20.890000         22.2       22.025        20.2   \n",
       "2       23.100      21.260   20.856667         22.2       22.000        20.2   \n",
       "3       23.100      21.245   20.890000         22.2       22.075        20.2   \n",
       "4       23.050      21.245   20.890000         22.2       22.025        20.2   \n",
       "\n",
       "   02-06 6.00  02-06 12.00  02-06 18.00  02-07 0.00  ...  02-07 18.00  \\\n",
       "0      20.290       21.675         21.7     20.0000  ...        20.39   \n",
       "1      20.290       21.700         21.7     19.9725  ...        20.39   \n",
       "2      20.290       21.700         21.7     20.0000  ...        20.39   \n",
       "3      20.245       21.700         21.7     20.0000  ...        20.39   \n",
       "4      20.245       21.700         21.7     20.0000  ...        20.39   \n",
       "\n",
       "   02-08 0.00  02-08 6.00  02-08 12.00  02-08 18.00  02-09 0.00  02-09 6.00  \\\n",
       "0        19.6       19.29       19.200        19.39        19.5      19.390   \n",
       "1        19.6       19.29       19.200        19.34        19.5      19.445   \n",
       "2        19.6       19.29       19.245        19.34        19.5      19.390   \n",
       "3        19.6       19.29       19.245        19.29        19.5      19.390   \n",
       "4        19.6       19.20       19.290        19.29        19.5      19.445   \n",
       "\n",
       "   02-09 12.00  02-09 18.00  02-010 0.00  \n",
       "0      21.3900    22.075000    20.390000  \n",
       "1      21.4725    22.100000    20.356667  \n",
       "2      21.5000    22.100000    20.390000  \n",
       "3      21.5000    22.066667    20.390000  \n",
       "4      21.5000    22.100000    20.365000  \n",
       "\n",
       "[5 rows x 22 columns]"
      ]
     },
     "execution_count": 10,
     "metadata": {},
     "output_type": "execute_result"
    }
   ],
   "source": [
    "day.head()"
   ]
  },
  {
   "cell_type": "code",
   "execution_count": null,
   "metadata": {},
   "outputs": [],
   "source": []
  },
  {
   "cell_type": "code",
   "execution_count": null,
   "metadata": {},
   "outputs": [],
   "source": []
  },
  {
   "cell_type": "code",
   "execution_count": 11,
   "metadata": {},
   "outputs": [],
   "source": [
    "scaler = TimeSeriesScalerMeanVariance(mu=0., std=1.)  # Rescale time series\n",
    "ts = scaler.fit_transform(ts)"
   ]
  },
  {
   "cell_type": "code",
   "execution_count": 21,
   "metadata": {},
   "outputs": [],
   "source": [
    "n_paa_segments = 20 #la trasformo in 20 segmenti\n",
    "n_sax_symbols = 10 #usando 10 simboli divresi\n",
    "sax = SymbolicAggregateApproximation(n_segments=n_paa_segments, alphabet_size_avg=n_sax_symbols)\n",
    "ts_sax = sax.fit_transform(ts) #applico la traformazione\n",
    "sax_ts_inv = sax.inverse_transform(ts_sax) #questa è la trasformazione inversa"
   ]
  },
  {
   "cell_type": "code",
   "execution_count": 22,
   "metadata": {},
   "outputs": [
    {
     "data": {
      "text/plain": [
       "array([1.03643339, 1.03643339, 1.03643339, ..., 0.        , 0.        ,\n",
       "       0.        ])"
      ]
     },
     "execution_count": 22,
     "metadata": {},
     "output_type": "execute_result"
    }
   ],
   "source": [
    "sax_ts_inv.ravel()"
   ]
  },
  {
   "cell_type": "code",
   "execution_count": 55,
   "metadata": {},
   "outputs": [
    {
     "data": {
      "image/png": "[encoded data removed]",
      "text/plain": [
       "<Figure size 1440x360 with 1 Axes>"
      ]
     },
     "metadata": {
      "needs_background": "light"
     },
     "output_type": "display_data"
    }
   ],
   "source": [
    "plt.plot(sax_ts_inv.ravel()) #plot della serie trasformata\n",
    "plt.title('SAX trasformation on the original time series')\n",
    "plt.show()"
   ]
  },
  {
   "cell_type": "code",
   "execution_count": 24,
   "metadata": {},
   "outputs": [
    {
     "data": {
      "text/plain": [
       "{-1.6448536269514729: 0,\n",
       " -1.0364333894937898: 1,\n",
       " -0.6744897501960817: 2,\n",
       " -0.38532046640756773: 3,\n",
       " -0.12566134685507402: 4,\n",
       " 0.0: 5,\n",
       " 0.38532046640756773: 6,\n",
       " 0.6744897501960817: 7,\n",
       " 1.0364333894937898: 8,\n",
       " 1.6448536269514722: 9}"
      ]
     },
     "execution_count": 24,
     "metadata": {},
     "output_type": "execute_result"
    }
   ],
   "source": [
    "# faccio la mappa per trasformare ongi valore osservato nella serie in un simbolo\n",
    "map_symbols = {k: v for v, k in enumerate(np.unique(sax_ts_inv.ravel()))}\n",
    "map_symbols"
   ]
  },
  {
   "cell_type": "code",
   "execution_count": 25,
   "metadata": {},
   "outputs": [],
   "source": [
    "seq = np.array([map_symbols[v] for v in sax_ts_inv.ravel()])"
   ]
  },
  {
   "cell_type": "code",
   "execution_count": 26,
   "metadata": {},
   "outputs": [
    {
     "data": {
      "text/plain": [
       "array([8, 8, 8, ..., 5, 5, 5])"
      ]
     },
     "execution_count": 26,
     "metadata": {},
     "output_type": "execute_result"
    }
   ],
   "source": [
    "seq"
   ]
  },
  {
   "cell_type": "code",
   "execution_count": null,
   "metadata": {},
   "outputs": [],
   "source": []
  },
  {
   "cell_type": "code",
   "execution_count": 27,
   "metadata": {},
   "outputs": [],
   "source": [
    "day = np.array(day)"
   ]
  },
  {
   "cell_type": "code",
   "execution_count": 28,
   "metadata": {},
   "outputs": [],
   "source": [
    "scaler = TimeSeriesScalerMeanVariance(mu=0., std=1.)  # Rescale time series\n",
    "X = scaler.fit_transform(day)"
   ]
  },
  {
   "cell_type": "code",
   "execution_count": 29,
   "metadata": {},
   "outputs": [],
   "source": [
    "n_paa_segments = 20 #la trasformo in 20 segmenti\n",
    "n_sax_symbols = 10 #usando 10 simboli divresi\n",
    "sax = SymbolicAggregateApproximation(n_segments=n_paa_segments, alphabet_size_avg=n_sax_symbols)"
   ]
  },
  {
   "cell_type": "code",
   "execution_count": 30,
   "metadata": {},
   "outputs": [],
   "source": [
    "X_sax = sax.fit_transform(X)\n",
    "sax_X_inv = sax.inverse_transform(X_sax)"
   ]
  },
  {
   "cell_type": "code",
   "execution_count": 48,
   "metadata": {},
   "outputs": [
    {
     "data": {
      "text/plain": [
       "array([1.03643339, 1.03643339, 1.03643339, ..., 0.        , 0.        ,\n",
       "       0.        ])"
      ]
     },
     "execution_count": 48,
     "metadata": {},
     "output_type": "execute_result"
    }
   ],
   "source": [
    "sax_ts_inv.ravel()"
   ]
  },
  {
   "cell_type": "code",
   "execution_count": 31,
   "metadata": {},
   "outputs": [],
   "source": [
    "X_seq = list()\n",
    "for x in sax_X_inv:\n",
    "    X_seq.append([map_symbols.get(v, -1) for v in x.ravel()])\n",
    "\n",
    "#e lo ha trasformato in un dataset di sequenze"
   ]
  },
  {
   "cell_type": "code",
   "execution_count": 32,
   "metadata": {},
   "outputs": [
    {
     "data": {
      "text/plain": [
       "[[9, 6, -1, 8, 8, 3, 3, 7, 7, 2, 1, 9, 3, 1, 1, 0, 1, 1, 1, 7, 5, 5],\n",
       " [9, 6, -1, 8, 8, 3, 3, 7, 7, 2, 1, 9, 3, 1, 1, 0, 1, 1, 1, 7, 5, 5],\n",
       " [9, 6, -1, 8, 8, 3, 3, 7, 7, 2, 1, 9, 3, 1, 1, 1, 1, 1, 1, 7, 5, 5],\n",
       " [9, 6, -1, 8, 8, 3, 3, 7, 7, 2, 1, 9, 3, 1, 1, 1, 1, 1, 1, 7, 5, 5],\n",
       " [9, 6, -1, 8, 8, 3, 3, 7, 7, 2, 1, 9, 3, 1, 0, 1, 1, 1, 1, 7, 5, 5],\n",
       " [9, 6, -1, 8, 8, 3, 3, 7, 7, 2, 1, 9, 3, 1, 1, 1, 1, 1, 1, 7, 5, 5],\n",
       " [9, 6, -1, 8, 8, 3, 3, 7, 7, 2, 1, 9, 3, 1, 0, 1, 1, 1, 1, 7, 5, 5],\n",
       " [9, 6, -1, 8, 8, 3, 3, 7, 7, 2, 1, 9, 3, 1, 1, 1, 1, 1, 1, 7, 5, 5],\n",
       " [9, 6, -1, 8, 8, 3, 3, 7, 7, 2, 1, 9, 3, 1, 1, 1, 1, 1, 1, 7, 5, 5],\n",
       " [9, 6, -1, 8, 8, 3, 3, 7, 7, 2, 1, 9, 3, 1, 0, 1, 1, 1, 1, 7, 5, 5],\n",
       " [9, 6, -1, 8, 8, 3, 3, 7, 7, 2, 1, 9, 3, 1, 0, 1, 1, 1, 1, 7, 5, 5],\n",
       " [9, 6, -1, 8, 8, 3, 3, 7, 7, 2, 1, 9, 3, 1, 0, 1, 1, 1, 1, 7, 5, 5],\n",
       " [9, 6, -1, 8, 8, 3, 3, 7, 7, 2, 1, 9, 3, 1, 1, 1, 1, 1, 1, 7, 5, 5],\n",
       " [9, 6, -1, 8, 8, 3, 3, 8, 7, 2, 2, 9, 3, 1, 0, 1, 1, 1, 1, 7, 5, 5],\n",
       " [9, 6, -1, 9, 8, 3, 3, 8, 7, 2, 1, 9, 3, 1, 0, 1, 1, 1, 1, 7, 5, 5],\n",
       " [9, 6, -1, 9, 8, 3, 3, 7, 7, 2, 1, 9, 3, 1, 1, 1, 1, 1, 1, 7, 5, 5],\n",
       " [9, 6, -1, 9, 8, 3, 3, 8, 7, 2, 1, 9, 3, 1, 0, 1, 1, 1, 1, 7, 5, 5],\n",
       " [9, 6, -1, 9, 8, 3, 3, 8, 7, 2, 1, 9, 3, 1, 1, 1, 1, 1, 1, 7, 5, 5],\n",
       " [9, 6, -1, 9, 8, 3, 3, 8, 7, 2, 2, 9, 3, 1, 0, 1, 1, 1, 1, 7, 5, 5],\n",
       " [9, 6, -1, 9, 8, 3, 3, 8, 7, 2, 1, 9, 3, 1, 0, 1, 1, 1, 1, 7, 5, 5],\n",
       " [9, 6, -1, 9, 7, 3, 3, 8, 7, 2, 1, 9, 3, 1, 0, 1, 1, 1, 1, 7, 5, 5],\n",
       " [9, 6, -1, 9, 8, 3, 3, 8, 7, 2, 1, 9, 3, 1, 0, 1, 1, 1, 1, 7, 5, 5],\n",
       " [9, 6, -1, 9, 7, 3, 3, 8, 7, 2, 1, 9, 3, 1, 0, 1, 1, 1, 1, 7, 5, 5],\n",
       " [9, 6, -1, 9, 8, 3, 3, 8, 7, 2, 1, 9, 3, 1, 0, 1, 1, 1, 1, 7, 5, 5],\n",
       " [9, 6, -1, 9, 7, 2, 3, 8, 7, 2, 1, 9, 3, 1, 0, 1, 1, 1, 1, 7, 5, 5],\n",
       " [9, 6, -1, 9, 7, 2, 3, 8, 6, 2, 1, 9, 3, 1, 0, 1, 1, 1, 1, 7, 5, 5],\n",
       " [9, 6, -1, 9, 7, 2, 3, 8, 6, 2, 1, 9, 3, 1, 0, 1, 1, 1, 1, 7, 5, 5],\n",
       " [9, 6, -1, 9, 7, 2, 3, 8, 6, 2, 1, 9, 3, 1, 0, 1, 1, 1, 1, 7, 5, 5],\n",
       " [9, 6, -1, 9, 7, 3, 3, 8, 6, 2, 1, 9, 3, 1, 1, 1, 1, 1, 1, 7, 5, 5],\n",
       " [9, 6, -1, 9, 7, 2, 3, 8, 6, 2, 1, 9, 3, 1, 0, 1, 1, 1, 1, 7, 5, 5],\n",
       " [9, 6, -1, 9, 7, 2, 3, 8, 6, 2, 1, 9, 3, 1, 0, 1, 1, 1, 1, 7, 5, 5],\n",
       " [9, 6, -1, 9, 7, 3, 3, 8, 6, 2, 1, 9, 3, 1, 0, 1, 1, 1, 1, 7, 5, 5],\n",
       " [9, 6, -1, 9, 7, 3, 3, 8, 6, 2, 1, 9, 3, 1, 1, 1, 1, 1, 1, 7, 5, 5],\n",
       " [9, 6, -1, 9, 7, 3, 3, 8, 6, 2, 1, 9, 3, 1, 1, 1, 1, 1, 1, 7, 5, 5],\n",
       " [9, 6, -1, 9, 7, 3, 3, 8, 6, 2, 1, 9, 3, 1, 0, 1, 1, 1, 1, 7, 5, 5],\n",
       " [9, 6, -1, 9, 7, 3, 3, 8, 6, 2, 1, 9, 3, 1, 0, 1, 1, 1, 1, 7, 5, 5],\n",
       " [9, 6, -1, 9, 7, 3, 3, 8, 6, 2, 1, 9, 3, 1, 1, 1, 1, 1, 1, 7, 5, 5],\n",
       " [9, 6, -1, 9, 7, 3, 3, 8, 6, 2, 1, 9, 3, 1, 0, 1, 1, 1, 1, 7, 5, 5],\n",
       " [9, 6, -1, 9, 7, 3, 3, 8, 6, 2, 1, 9, 3, 1, 0, 1, 1, 1, 1, 7, 5, 5],\n",
       " [9, 6, -1, 9, 7, 3, 3, 8, 6, 2, 1, 9, 3, 1, 0, 1, 1, 1, 1, 7, 5, 5],\n",
       " [9, 6, -1, 9, 7, 3, 3, 8, 6, 2, 1, 9, 3, 1, 0, 1, 1, 1, 1, 7, 5, 5],\n",
       " [9, 6, -1, 9, 7, 3, 4, 8, 6, 2, 1, 9, 3, 1, 0, 1, 1, 1, 1, 7, 5, 5],\n",
       " [9, 6, -1, 9, 7, 3, 4, 8, 6, 2, 1, 9, 3, 1, 0, 2, 1, 1, 1, 7, 5, 5],\n",
       " [9, 6, -1, 9, 7, 3, 4, 8, 6, 2, 1, 9, 3, 1, 0, 2, 1, 1, 1, 7, 5, 5],\n",
       " [9, 6, -1, 9, 7, 3, 4, 8, 6, 2, 1, 9, 3, 1, 0, 2, 1, 1, 1, 7, 5, 5],\n",
       " [9, 6, -1, 9, 7, 3, 4, 8, 6, 2, 1, 9, 3, 1, 1, 2, 1, 1, 1, 7, 5, 5],\n",
       " [9, 6, -1, 9, 7, 3, 4, 8, -1, 2, 2, 9, 3, 1, 0, 2, 1, 1, 1, 7, 5, 5],\n",
       " [9, 6, -1, 9, 7, 3, 4, 8, 6, 2, 2, 9, 3, 1, 0, 2, 1, 1, 1, 7, 5, 5],\n",
       " [9, 6, -1, 9, 6, 3, 3, 8, 6, 2, 2, 9, 3, 1, 0, 2, 1, 1, 1, 7, 5, 5],\n",
       " [9, 6, -1, 9, 6, 3, 3, 8, 6, 2, 2, 9, 3, 1, 0, 2, 1, 1, 1, 7, 5, 5],\n",
       " [9, 6, -1, 9, 7, 3, 3, 8, 6, 2, 2, 9, 3, 1, 0, 3, 1, 1, 1, 7, 5, 5],\n",
       " [9, 6, -1, 9, 7, 3, 3, 8, -1, 2, 2, 9, 3, 1, 0, 3, 1, 1, 1, 7, 5, 5],\n",
       " [9, 6, -1, 9, 7, 3, 3, 8, 6, 2, 2, 9, 3, 1, 0, 3, 1, 1, 1, 7, 5, 5],\n",
       " [9, 6, -1, 9, 7, 3, 3, 8, -1, 2, 2, 9, 3, 1, 1, 3, 1, 1, 1, 7, 5, 5],\n",
       " [9, 6, -1, 9, 7, 3, 3, 8, -1, 2, 2, 9, 3, 1, 1, 3, 0, 1, 1, 7, 5, 5],\n",
       " [9, 6, -1, 9, 6, 3, 3, 8, -1, 2, 2, 9, 3, 1, 0, 3, 1, 1, 1, 7, 5, 5],\n",
       " [9, 6, -1, 9, 6, 3, 3, 8, -1, 2, 2, 9, 3, 1, 0, 3, 0, 1, 1, 7, 5, 5],\n",
       " [9, 6, -1, 9, 6, 3, 3, 8, 6, 2, 2, 9, 3, 1, 0, 3, 0, 1, 1, 7, 5, 5],\n",
       " [9, 6, -1, 9, 6, 4, 3, 8, -1, 2, 2, 9, 3, 1, 0, 3, 0, 1, 1, 7, 5, 5],\n",
       " [9, 6, -1, 9, 6, 3, 3, 8, -1, 2, 2, 9, 3, 1, 0, 3, 0, 1, 1, 7, 5, 5],\n",
       " [9, 6, -1, 9, 6, 3, 3, 8, 6, 2, 2, 9, 3, 1, 0, 4, 0, 1, 1, 7, 5, 5],\n",
       " [9, 6, -1, 9, 6, 3, 3, 7, 6, 2, 1, 9, 3, 1, 0, 4, 1, 1, 1, 7, 5, 5],\n",
       " [9, 6, -1, 9, 6, 3, 3, 7, 6, 2, 2, 9, 3, 1, 0, 4, 1, 1, 1, 7, 5, 5],\n",
       " [9, 6, -1, 9, 6, 3, 3, 7, 6, 2, 1, 9, 3, 1, 0, 4, 1, 1, 1, 7, 5, 5],\n",
       " [9, 6, -1, 9, 6, 3, 3, 7, 6, 2, 1, 9, 3, 1, 0, 4, 1, 1, 1, 7, 5, 5],\n",
       " [9, 6, -1, 9, 6, 3, 3, 7, -1, 2, 1, 9, 3, 1, 0, 4, 0, 1, 1, 7, 5, 5],\n",
       " [9, 6, -1, 9, 7, 3, 3, 7, -1, 2, 1, 9, 3, 1, 0, 4, 0, 1, 1, 7, 5, 5],\n",
       " [9, 6, -1, 9, 7, 3, 3, 7, -1, 2, 1, 9, 3, 1, 0, 4, 0, 1, 1, 7, 5, 5],\n",
       " [9, 6, -1, 9, 7, 3, 3, 7, -1, 2, 1, 9, 3, 1, 0, 4, 0, 1, 1, 7, 5, 5],\n",
       " [9, 6, -1, 9, 7, 3, 3, 7, -1, 2, 1, 9, 3, 1, 0, 4, 0, 1, 1, 7, 5, 5],\n",
       " [9, 6, -1, 9, 7, 3, 3, 7, -1, 2, 1, 9, 3, 1, 0, -1, 0, 1, 1, 7, 5, 5],\n",
       " [9, 6, -1, 9, 7, 3, 3, 7, -1, 2, 1, 9, 3, 1, 0, -1, 0, 1, 1, 7, 5, 5],\n",
       " [9, 6, -1, 9, 7, 3, 3, 7, -1, 2, 1, 9, 3, 1, 0, -1, 0, 1, 1, 7, 5, 5],\n",
       " [9, 6, -1, 9, 7, 3, 3, 7, -1, 2, 1, 9, 3, 1, 0, -1, 1, 1, 1, 7, 5, 5],\n",
       " [9, 7, -1, 9, 7, 3, 3, 7, -1, 2, 1, 9, 3, 1, 0, -1, 1, 1, 1, 7, 5, 5],\n",
       " [9, 6, -1, 9, 7, 3, 3, 7, -1, 2, 1, 9, 3, 1, 0, -1, 1, 1, 1, 7, 5, 5],\n",
       " [9, 6, -1, 9, 7, 3, 3, 7, -1, 2, 1, 9, 3, 1, 0, -1, 1, 1, 1, 7, 5, 5],\n",
       " [9, 7, -1, 9, 7, 3, 3, 7, -1, 2, 1, 9, 3, 1, 0, -1, 1, 1, 1, 7, 5, 5],\n",
       " [9, 7, -1, 9, 7, 3, 3, 7, -1, 2, 1, 9, 3, 1, 0, -1, 1, 1, 1, 7, 5, 5],\n",
       " [9, 7, -1, 9, 7, 3, 3, 7, -1, 2, 1, 9, 3, 1, 0, -1, 1, 1, 1, 7, 5, 5],\n",
       " [9, 7, -1, 9, 7, 3, 3, 7, -1, 2, 1, 9, 3, 1, 0, -1, 1, 1, 1, 7, 5, 5],\n",
       " [9, 7, -1, 9, 7, 3, 3, 7, -1, 2, 1, 9, 3, 1, 0, -1, 1, 1, 1, 7, 5, 5],\n",
       " [9, 7, -1, 9, 6, 3, 3, 7, -1, 2, 1, 9, 3, 1, 0, -1, 1, 1, 1, 7, 5, 5],\n",
       " [9, 7, -1, 9, 6, 3, 3, 7, -1, 2, 1, 9, 3, 1, 0, -1, 1, 1, 1, 7, 5, 5],\n",
       " [9, 7, -1, 9, 6, 3, 3, 7, -1, 2, 1, 9, 3, 1, 0, -1, 1, 1, 1, 7, 5, 5],\n",
       " [9, 7, -1, 9, 7, 3, 3, 7, -1, 2, 1, 9, 3, 1, 0, -1, 1, 1, 1, 7, 5, 5],\n",
       " [9, 7, -1, 9, 7, 3, 3, 7, -1, 2, 1, 9, 3, 1, 0, -1, 1, 1, 1, 7, 5, 5],\n",
       " [9, 7, -1, 9, 6, 3, 3, 7, -1, 2, 1, 9, 3, 1, 0, -1, 1, 1, 1, 7, 5, 5],\n",
       " [9, 7, -1, 9, 7, 4, 3, 7, -1, 2, 1, 9, 3, 1, 0, -1, 1, 1, 1, 7, 5, 5],\n",
       " [9, 7, -1, 9, 7, 4, 3, 7, -1, 2, 1, 9, 3, 1, 0, -1, 1, 1, 1, 7, 5, 5],\n",
       " [9, 7, -1, 9, 7, 4, 3, 7, -1, 2, 1, 9, 3, 1, 0, -1, 1, 1, 1, 7, 5, 5],\n",
       " [9, 7, -1, 9, 7, 4, 3, 8, -1, 2, 1, 9, 3, 1, 0, -1, 1, 1, 1, 7, 5, 5],\n",
       " [9, 7, -1, 9, 7, 4, 3, 8, 4, 2, 1, 9, 3, 1, 0, -1, 1, 1, 1, 7, 5, 5],\n",
       " [9, 7, -1, 9, 7, 4, 3, 8, 4, 2, 1, 9, 3, 1, 0, -1, 1, 1, 1, 7, 5, 5],\n",
       " [9, 7, -1, 9, 7, 4, 3, 8, 4, 2, 1, 9, 3, 1, 0, -1, 1, 1, 1, 7, 5, 5],\n",
       " [9, 7, -1, 9, 7, 4, 3, 8, 4, 2, 1, 9, 3, 1, 0, -1, 1, 1, 1, 7, 5, 5],\n",
       " [9, 7, -1, 9, 7, 4, 3, 8, 4, 2, 1, 9, 3, 1, 0, -1, 1, 1, 1, 7, 5, 5],\n",
       " [9, 7, -1, 9, 7, 4, 3, 8, 4, 2, 1, 9, 2, 1, 0, -1, 1, 1, 1, 7, 5, 5],\n",
       " [9, 7, -1, 9, 7, 4, 3, 8, 4, 2, 1, 9, 3, 1, 0, -1, 1, 1, 1, 7, 5, 5],\n",
       " [9, 7, -1, 9, 7, 4, 3, 8, 4, 2, 1, 9, 3, 1, 0, -1, 1, 1, 1, 7, 5, 5],\n",
       " [9, 7, -1, 9, 7, 4, 3, 8, 4, 2, 1, 9, 3, 1, 0, -1, 1, 1, 1, 7, 5, 5],\n",
       " [9, 7, -1, 9, 7, 4, 3, 8, 4, 2, 1, 9, 2, 1, 0, -1, 1, 1, 1, 7, 5, 5],\n",
       " [9, 7, -1, 9, 7, 4, 3, 8, 4, 2, 1, 9, 2, 1, 0, -1, 0, 1, 1, 7, 5, 5],\n",
       " [9, 7, -1, 9, 7, 4, 3, 8, 4, 2, 1, 9, 3, 1, 0, -1, 1, 1, 1, 7, 5, 5],\n",
       " [9, 7, -1, 9, 7, 4, 3, 8, 4, 2, 1, 9, 2, 1, 0, -1, 0, 1, 1, 7, 5, 5],\n",
       " [9, 7, -1, 9, 7, 4, 3, 8, 4, 2, 1, 9, 2, 1, 0, -1, 1, 1, 1, 7, 5, 5],\n",
       " [9, 7, -1, 9, 7, 4, 3, 8, 4, 2, 1, 9, 3, 1, 0, -1, 0, 1, 1, 7, 5, 5],\n",
       " [9, 7, 6, 9, 7, 4, 3, 8, 4, 2, 1, 9, 2, 1, 0, -1, 0, 1, 1, 7, 5, 5],\n",
       " [9, 7, 6, 9, 7, 4, 3, 8, 4, 2, 1, 9, 2, 1, 0, -1, 1, 1, 1, 7, 5, 5],\n",
       " [9, 7, 6, 9, 7, 4, 3, 8, 4, 2, 1, 9, 2, 1, 0, -1, 1, 1, 1, 7, 5, 5],\n",
       " [9, 7, 6, 9, 6, 4, 3, 8, 4, 2, 1, 9, 2, 1, 0, -1, 1, 0, 1, 7, 5, 5],\n",
       " [9, 7, 6, 9, 7, 4, 3, 8, 4, 2, 1, 9, 2, 1, 0, -1, 1, 1, 1, 7, 5, 5],\n",
       " [9, 7, 6, 9, 7, 4, 3, 8, 4, 2, 1, 9, 2, 1, 0, -1, 1, 1, 1, 7, 5, 5],\n",
       " [9, 7, 6, 9, 7, 4, 3, 8, 4, 2, 1, 9, 2, 1, 0, -1, 1, 1, 1, 7, 5, 5],\n",
       " [9, 7, 6, 9, 7, 4, 3, 8, 4, 2, 1, 9, 2, 1, 0, -1, 1, 1, 1, 7, 5, 5],\n",
       " [9, 7, 6, 9, 7, 4, 3, 8, 4, 2, 1, 9, 2, 1, 0, -1, 1, 1, 1, 7, 5, 5],\n",
       " [9, 7, 6, 9, 7, 4, 3, 8, 4, 2, 1, 9, 2, 1, 0, -1, 1, 1, 1, 7, 5, 5],\n",
       " [9, 7, 6, 9, 7, 4, 3, 8, 4, 2, 1, 9, 2, 1, 0, -1, 1, 1, 1, 7, 5, 5],\n",
       " [9, 6, 6, 9, 7, 4, 4, 8, 4, 2, 1, 9, 2, 1, 0, -1, 1, 1, 1, 7, 5, 5],\n",
       " [9, 7, 6, 9, 7, 4, 4, 8, 4, 2, 1, 9, 2, 1, 0, -1, 1, 1, 1, 7, 5, 5],\n",
       " [8, 7, 6, 9, 7, 4, 4, 8, 4, 2, 1, 9, 2, 1, 0, -1, 1, 1, 1, 7, 5, 5],\n",
       " [9, 6, 6, 9, 7, 4, 4, 9, 4, 2, 1, 9, 2, 1, 0, -1, 1, 1, 1, 7, 5, 5],\n",
       " [9, 6, 6, 9, 7, 4, 4, 8, 4, 2, 1, 9, 2, 1, 0, -1, 1, 1, 1, 7, 5, 5],\n",
       " [9, 6, 6, 9, 7, -1, 4, 8, 4, 2, 1, 9, 2, 1, 0, -1, 1, 1, 1, 7, 5, 5],\n",
       " [8, 6, 6, 9, 7, 4, 4, 8, 4, 2, 1, 9, 2, 1, 0, -1, 1, 1, 1, 7, 5, 5],\n",
       " [8, 6, 6, 9, 7, -1, 4, 8, 4, 2, 1, 9, 2, 1, 0, -1, 1, 1, 1, 8, 5, 5],\n",
       " [8, 6, 6, 9, 7, 4, -1, 8, 4, 2, 1, 9, 2, 1, 0, -1, 1, 1, 1, 8, 5, 5],\n",
       " [8, 6, 6, 9, 7, 4, -1, 8, 4, 2, 1, 9, 2, 1, 0, -1, 1, 1, 1, 8, 5, 5],\n",
       " [8, 6, 6, 9, 7, 4, -1, 8, 4, 2, 1, 9, 2, 1, 0, -1, 1, 1, 1, 8, 5, 5],\n",
       " [8, 6, 7, 9, 7, 4, -1, 8, 4, 2, 1, 9, 2, 1, 0, -1, 1, 1, 1, 7, 5, 5],\n",
       " [8, 6, 6, 9, 7, 4, -1, 8, 4, 2, 1, 9, 2, 1, 0, -1, 1, 1, 1, 8, 5, 5],\n",
       " [8, 6, 6, 9, 7, 4, -1, 8, 4, 2, 1, 9, 2, 1, 0, -1, 1, 1, 1, 8, 5, 5],\n",
       " [8, 6, 6, 9, 7, -1, -1, 9, 4, 2, 1, 9, 2, 1, 0, -1, 1, 1, 1, 8, 5, 5],\n",
       " [8, 6, 7, 9, 7, -1, -1, 9, 4, 2, 1, 9, 2, 1, 0, -1, 1, 1, 1, 8, 5, 5],\n",
       " [8, 6, 7, 9, 7, -1, -1, 9, 4, 2, 1, 9, 3, 1, 0, -1, 1, 1, 1, 8, 5, 5],\n",
       " [8, 6, 7, 9, 7, 4, -1, 9, 4, 2, 1, 9, 2, 1, 0, -1, 1, 1, 1, 8, 5, 5],\n",
       " [8, 6, 7, 9, 7, 4, -1, 9, 4, 2, 1, 9, 2, 1, 0, -1, 1, 1, 1, 8, 5, 5],\n",
       " [8, 6, 7, 9, 7, -1, -1, 9, 4, 2, 1, 9, 2, 1, 0, -1, 1, 1, 1, 8, 5, 5],\n",
       " [8, 6, 7, 9, 7, -1, -1, 9, 4, 2, 1, 9, 2, 1, 0, -1, 1, 1, 1, 8, 5, 5],\n",
       " [8, 6, 7, 9, 7, 4, 6, 9, 4, 2, 1, 9, 2, 1, 0, -1, 1, 1, 1, 8, 5, 5],\n",
       " [8, 6, 7, 9, 7, 4, 6, 9, 4, 2, 1, 9, 2, 1, 0, -1, 1, 1, 1, 8, 5, 5],\n",
       " [8, 6, 7, 9, 7, 4, 6, 9, 4, 2, 1, 9, 2, 1, 0, -1, 1, 1, 1, 8, 5, 5],\n",
       " [8, 6, 7, 9, 7, -1, 6, 9, 3, 2, 1, 9, 2, 1, 0, -1, 1, 1, 1, 8, 5, 5],\n",
       " [8, 6, 7, 9, 7, -1, 6, 9, 3, 2, 1, 9, 2, 1, 0, -1, 1, 1, 1, 8, 5, 5],\n",
       " [8, 6, 7, 9, 7, -1, 6, 9, 3, 2, 1, 9, 2, 1, 0, -1, 1, 1, 1, 8, 5, 5],\n",
       " [8, 6, 7, 9, 7, -1, 6, 9, 3, 2, 1, 9, 2, 1, 0, -1, 1, 1, 1, 8, 5, 5],\n",
       " [8, 6, 7, 9, 7, 4, 6, 9, 3, 2, 1, 9, 2, 1, 0, 4, 1, 1, 1, 8, 5, 5],\n",
       " [8, 6, 7, 9, 7, 4, 6, 9, 3, 2, 1, 9, 2, 1, 0, -1, 1, 1, 1, 8, 5, 5],\n",
       " [8, 6, 7, 9, 7, -1, 6, 9, 3, 2, 1, 9, 2, 1, 0, -1, 1, 1, 1, 8, 5, 5],\n",
       " [8, 6, 7, 9, 7, 4, 6, 9, 3, 2, 1, 9, 2, 1, 0, 4, 1, 1, 1, 8, 5, 5],\n",
       " [8, 6, 7, 9, 7, 4, 6, 9, 3, 2, 1, 9, 2, 1, 0, 4, 1, 1, 1, 8, 5, 5],\n",
       " [8, 6, 7, 9, 7, -1, -1, 9, 3, 2, 1, 9, 2, 1, 0, 4, 1, 1, 1, 8, 5, 5],\n",
       " [8, 6, 7, 9, 7, 4, -1, 9, 3, 2, 1, 9, 2, 1, 0, 4, 1, 1, 1, 8, 5, 5],\n",
       " [8, 6, 7, 9, 7, 4, 6, 9, 3, 2, 1, 9, 2, 1, 0, 4, 1, 1, 1, 8, 5, 5],\n",
       " [8, 6, 7, 9, 7, 4, 6, 9, 3, 2, 1, 9, 2, 1, 0, 4, 1, 1, 1, 8, 5, 5],\n",
       " [8, 6, 7, 9, 7, 4, 6, 9, 3, 2, 1, 9, 2, 1, 0, 4, 1, 1, 1, 8, 5, 5],\n",
       " [8, 6, 7, 9, 7, -1, 6, 9, 3, 2, 1, 9, 2, 1, 0, 4, 1, 1, 1, 8, 5, 5],\n",
       " [8, 6, 7, 9, 7, -1, 6, 9, 3, 2, 1, 9, 2, 1, 0, 4, 1, 1, 1, 8, 5, 5],\n",
       " [8, 6, 7, 9, 7, -1, -1, 9, 3, 2, 1, 9, 2, 1, 0, 4, 1, 1, 1, 8, 5, 5],\n",
       " [8, 6, 7, 9, 7, 4, 6, 9, 3, 2, 1, 9, 2, 1, 0, 4, 1, 1, 1, 8, 5, 5],\n",
       " [8, 7, 7, 9, 7, 4, 6, 9, 3, 2, 1, 9, 2, 1, 0, 4, 1, 1, 1, 8, 5, 5],\n",
       " [8, 6, 7, 9, 7, 4, 6, 9, 3, 2, 1, 9, 2, 1, 0, 4, 1, 1, 1, 8, 5, 5],\n",
       " [8, 7, 7, 9, 7, 4, 6, 9, 3, 2, 1, 9, 2, 1, 0, 4, 1, 1, 1, 8, 5, 5],\n",
       " [8, 6, 7, 9, 6, 4, 6, 9, 3, 2, 1, 9, 2, 1, 0, 4, 1, 1, 1, 8, 5, 5],\n",
       " [8, 7, 7, 9, 7, 4, 6, 9, 3, 2, 1, 9, 2, 1, 0, 4, 1, 1, 1, 8, 5, 5],\n",
       " [8, 6, 7, 9, 6, 4, 6, 9, 3, 2, 1, 9, 2, 1, 0, 4, 1, 1, 1, 8, 5, 5],\n",
       " [8, 6, 7, 9, 6, 4, 6, 9, 3, 2, 1, 9, 2, 1, 0, 4, 1, 1, 1, 8, 5, 5],\n",
       " [8, 7, 7, 9, 6, 4, 6, 9, 3, 2, 1, 9, 2, 0, 0, 4, 1, 1, 1, 8, 5, 5],\n",
       " [8, 6, 7, 9, 6, 4, 6, 9, 3, 2, 1, 9, 2, 1, 0, 4, 1, 1, 1, 8, 5, 5],\n",
       " [8, 6, 7, 9, 6, 4, 6, 9, 3, 2, 1, 9, 2, 1, 0, 4, 1, 1, 1, 8, 5, 5],\n",
       " [8, 7, 7, 9, 6, 4, 6, 9, 3, 2, 1, 9, 2, 1, 0, 4, 1, 1, 1, 8, 5, 5],\n",
       " [8, 6, 7, 9, 6, 4, 6, 9, 3, 2, 1, 9, 2, 1, 0, 4, 1, 1, 1, 9, 5, 5],\n",
       " [8, 6, 7, 9, 6, 4, 6, 9, 3, 2, 1, 9, 2, 1, 0, 4, 1, 1, 1, 9, 5, 5],\n",
       " [8, 6, 8, 9, 6, 4, 6, 9, 3, 2, 1, 9, 2, 1, 0, 3, 1, 1, 1, 9, 5, 5],\n",
       " [8, 6, 8, 9, 6, 4, 6, 9, 3, 2, 1, 9, 2, 1, 0, 3, 1, 1, 1, 9, 5, 5],\n",
       " [8, 6, 7, 9, 6, 4, 6, 9, 3, 2, 1, 9, 2, 1, 0, 3, 1, 1, 1, 9, 5, 5],\n",
       " [8, 6, 8, 9, 6, 4, -1, 9, 3, 2, 1, 9, 2, 1, 0, 3, 1, 1, 1, 9, 5, 5],\n",
       " [8, 6, 8, 9, 6, 4, 6, 9, 3, 2, 1, 9, 2, 1, 0, 3, 1, 1, 1, 9, 5, 5],\n",
       " [8, 6, 8, 9, 6, 4, 6, 9, 3, 2, 1, 9, 2, 1, 0, 3, 1, 1, 1, 9, 5, 5],\n",
       " [8, 6, 8, 9, 6, 4, 6, 9, 3, 2, 1, 9, 2, 1, 0, 3, 1, 1, 1, 9, 5, 5],\n",
       " [8, 6, 8, 9, 6, 4, 6, 9, 3, 2, 1, 9, 2, 1, 0, 3, 1, 1, 1, 9, 5, 5],\n",
       " [8, 6, 8, 9, 6, 4, 6, 9, 3, 2, 1, 9, 2, 1, 0, 3, 1, 1, 2, 9, 5, 5],\n",
       " [8, 6, 8, 9, 6, 4, 6, 9, 3, 2, 1, 9, 2, 1, 0, 3, 1, 1, 2, 9, 5, 5],\n",
       " [8, 6, 8, 9, 6, 4, 6, 9, 3, 2, 1, 9, 2, 1, 0, 3, 1, 1, 2, 9, 5, 5],\n",
       " [8, 6, 8, 9, 6, 4, 6, 9, 3, 2, 1, 9, 2, 1, 0, 3, 1, 1, 2, 9, 5, 5],\n",
       " [8, 6, 8, 9, 6, 4, 6, 9, 3, 2, 1, 9, 2, 1, 0, 3, 1, 1, 2, 9, 5, 5],\n",
       " [8, 6, 8, 9, 6, 4, 6, 9, 3, 2, 1, 9, 2, 1, 0, 3, 1, 1, 2, 9, 5, 5],\n",
       " [8, 6, 8, 9, 6, 4, 6, 9, 3, 2, 1, 9, 2, 1, 0, 3, 1, 1, 2, 9, 5, 5],\n",
       " [8, 6, 8, 9, 6, 4, 6, 9, 3, 2, 2, 9, 2, 1, 0, 3, 1, 1, 2, 9, 5, 5],\n",
       " [8, 6, 8, 9, 6, 4, 6, 9, 3, 2, 2, 9, 2, 1, 0, 3, 1, 1, 2, 9, 5, 5],\n",
       " [8, 6, 8, 9, 6, 4, 6, 9, 3, 2, 2, 9, 2, 1, 0, 3, 1, 1, 2, 9, 5, 5],\n",
       " [8, 6, 8, 9, 6, 4, 6, 9, 3, 2, 2, 9, 2, 0, 0, 3, 1, 1, 2, 9, 5, 5],\n",
       " [8, 6, 8, 9, 6, 4, 6, 9, 3, 2, 2, 9, 2, 1, 0, 3, 1, 1, 2, 9, 5, 5],\n",
       " [8, 6, 8, 9, 6, 4, 6, 9, 3, 1, 2, 9, 2, 1, 0, 3, 1, 0, 2, 9, 5, 5],\n",
       " [8, 6, 9, 9, 6, 4, 6, 9, 3, 2, 2, 9, 2, 0, 0, 3, 1, 1, 2, 9, 5, 5],\n",
       " [8, 6, 9, 9, 6, 4, 6, 9, 3, 2, 2, 8, 2, 1, 0, 3, 1, 0, 3, 9, 5, 5],\n",
       " [8, 6, 9, 9, 6, 4, 6, 9, 3, 2, 2, 8, 2, 0, 0, 3, 1, 0, 3, 9, 5, 5],\n",
       " [8, 6, 9, 9, 6, 4, 6, 9, 3, 1, 2, 8, 2, 0, 0, 3, 1, 0, 2, 9, 5, 5],\n",
       " [8, 6, 9, 9, 6, 4, 6, 9, 3, 1, 2, 8, 2, 0, 0, 3, 1, 0, 2, 9, 5, 5],\n",
       " [8, 6, 9, 9, 6, 4, 6, 9, 3, 1, 2, 8, 2, 1, 0, 3, 1, 0, 3, 9, 5, 5],\n",
       " [8, 6, 9, 9, 6, 4, 6, 9, 3, 2, 3, 8, 2, 0, 0, 3, 1, 0, 3, 9, 5, 5],\n",
       " [8, 6, 9, 9, 6, 4, 6, 9, 3, 1, 3, 8, 2, 0, 0, 3, 1, 0, 3, 9, 5, 5],\n",
       " [8, 6, 9, 9, 6, 4, 6, 9, 2, 1, 3, 8, 2, 0, 0, 2, 1, 0, 3, 9, 5, 5],\n",
       " [8, 6, 9, 9, -1, 4, 6, 9, 3, 1, 3, 8, 2, 1, 0, 2, 1, 0, 3, 9, 5, 5],\n",
       " [8, 6, 9, 9, 6, 4, 6, 9, 3, 1, 3, 8, 2, 1, 0, 2, 1, 0, 3, 9, 5, 5],\n",
       " [8, 6, 9, 9, 6, 4, 6, 9, 3, 1, 3, 8, 2, 0, 0, 2, 1, 0, 3, 9, 5, 5],\n",
       " [8, 6, 9, 9, 6, 4, 6, 9, 3, 1, 3, 8, 2, 0, 0, 2, 1, 0, 3, 9, 5, 5],\n",
       " [8, 6, 9, 9, 6, 4, 6, 9, 3, 1, 3, 8, 2, 0, 0, 2, 1, 0, 3, 9, 5, 5],\n",
       " [8, 6, 9, 9, -1, 4, 6, 9, 3, 1, 3, 8, 2, 0, 0, 2, 1, 0, 3, 9, 5, 5],\n",
       " [8, 6, 9, 9, -1, 4, 6, 9, 3, 1, 3, 8, 2, 0, 0, 2, 1, 0, 3, 9, 5, 5],\n",
       " [8, 6, 9, 9, -1, 4, 6, 9, 3, 1, 3, 8, 2, 0, 0, 2, 1, 0, 3, 9, 5, 5],\n",
       " [8, 6, 9, 9, 6, 4, 6, 9, 3, 1, 3, 8, 2, 0, 0, 2, 1, 0, 3, 9, 5, 5],\n",
       " [8, 6, 9, 9, -1, 4, 6, 9, 3, 1, 4, 8, 2, 0, 0, 2, 1, 0, 3, 9, 5, 5],\n",
       " [8, 6, 9, 9, 6, 4, 6, 9, 3, 1, 4, 8, 2, 0, 0, 2, 1, 0, 3, 9, 5, 5],\n",
       " [8, 6, 9, 9, -1, 4, 6, 9, 3, 1, 4, 8, 2, 1, 0, 2, 1, 0, 3, 9, 5, 5],\n",
       " [8, 6, 9, 9, -1, 4, 6, 9, 3, 1, 4, 8, 2, 0, 0, 2, 1, 0, 3, 9, 5, 5],\n",
       " [8, 6, 9, 9, -1, 4, 6, 9, 3, 1, 4, 8, 2, 0, 0, 2, 1, 0, 3, 9, 5, 5],\n",
       " [8, 6, 9, 9, -1, 4, 7, 9, 3, 1, 4, 8, 2, 0, 0, 2, 1, 0, 3, 9, 5, 5],\n",
       " [8, 6, 9, 9, -1, 4, 6, 9, 2, 1, 4, 8, 2, 0, 0, 2, 1, 0, 3, 9, 5, 5],\n",
       " [7, 6, 9, 9, -1, 4, 7, 9, 2, 1, 4, 8, 2, 0, 1, 2, 1, 0, 3, 9, 5, 5],\n",
       " [7, 6, 9, 9, -1, 4, 7, 9, 3, 1, -1, 8, 1, 0, 0, 2, 1, 0, 4, 9, 5, 5],\n",
       " [8, 6, 9, 9, -1, 4, 7, 9, 3, 1, -1, 8, 2, 0, 1, 2, 1, 0, 4, 9, 5, 5],\n",
       " [7, 6, 9, 9, -1, 4, 7, 9, 3, 1, -1, 8, 2, 0, 0, 2, 1, 0, 4, 9, 5, 5],\n",
       " [8, 6, 9, 9, -1, 4, 7, 9, 3, 1, -1, 8, 2, 0, 1, 2, 1, 0, 4, 9, 5, 5],\n",
       " [7, 6, 9, 9, -1, 4, 7, 9, 3, 1, -1, 8, 2, 0, 0, 2, 1, 0, 4, 9, 5, 5],\n",
       " [7, 6, 9, 9, -1, 4, 7, 9, 3, 1, -1, 8, 1, 0, 0, 2, 1, 0, 4, 9, 5, 5],\n",
       " [7, 6, 9, 9, -1, 4, 7, 9, 3, 1, -1, 8, 1, 0, 0, 2, 1, 0, 4, 9, 5, 5],\n",
       " [8, 6, 9, 9, -1, 4, 7, 9, 3, 1, -1, 8, 1, 0, 0, 2, 1, 0, 4, 9, 5, 5],\n",
       " [8, 6, 9, 9, -1, 4, 7, 9, 3, 1, -1, 7, 1, 0, 0, 2, 1, 0, 4, 9, 5, 5],\n",
       " [7, 6, 9, 9, -1, 4, 7, 9, 2, 1, -1, 7, 1, 0, 0, 2, 1, 0, 4, 9, 5, 5],\n",
       " [8, 6, 9, 9, -1, 3, 7, 9, 3, 1, -1, 7, 1, 1, 0, 2, 1, 0, 4, 9, 5, 5],\n",
       " [7, 6, 9, 9, -1, 3, 7, 9, 3, 1, -1, 7, 1, 0, 0, 2, 1, 0, 4, 9, 5, 5],\n",
       " [7, 6, 9, 9, -1, 3, 7, 9, 3, 1, 6, 7, 1, 0, 0, 2, 1, 0, 4, 9, 5, 5],\n",
       " [8, 6, 9, 9, -1, 3, 7, 9, 2, 1, -1, 7, 1, 0, 0, 2, 1, 0, 4, 9, 5, 5],\n",
       " [7, 6, 9, 9, -1, 3, 7, 9, 2, 1, 6, 7, 1, 0, 0, 2, 1, 0, 4, 9, 5, 5],\n",
       " [7, 6, 9, 9, -1, 3, 7, 9, 2, 1, 6, 7, 1, 0, 0, 1, 1, 0, 4, 9, 5, 5],\n",
       " [7, 6, 9, 9, -1, 3, 7, 9, 2, 1, 6, 7, 1, 0, 0, 2, 1, 0, 4, 9, 5, 5],\n",
       " [7, 6, 9, 9, -1, 3, 7, 9, 2, 1, 6, 7, 1, 0, 0, 1, 1, 0, 4, 9, 5, 5],\n",
       " [7, 6, 9, 9, -1, 3, 7, 9, 2, 1, 6, 7, 1, 0, 0, 1, 1, 0, 4, 9, 5, 5],\n",
       " [7, 6, 9, 9, -1, 3, 7, 9, 2, 1, 6, 7, 1, 0, 0, 1, 1, 0, -1, 9, 5, 5],\n",
       " [7, 6, 9, 9, -1, 4, 7, 9, 2, 1, 6, 7, 1, 0, 0, 1, 1, 0, 4, 9, 5, 5],\n",
       " [7, 6, 9, 9, -1, 4, 7, 9, 2, 1, 6, 7, 1, 0, 0, 1, 1, 0, -1, 9, 5, 5],\n",
       " [7, 6, 9, 9, 4, 4, 7, 9, 2, 1, 6, 7, 1, 0, 0, 1, 1, 0, -1, 9, 5, 5],\n",
       " [7, 6, 9, 9, -1, 4, 7, 9, 2, 1, 6, 7, 1, 0, 0, 1, 1, 0, -1, 9, 5, 5],\n",
       " [7, 6, 9, 9, -1, 4, 7, 9, 2, 1, 6, 7, 1, 0, 0, 1, 1, 0, -1, 9, 5, 5],\n",
       " [7, 6, 9, 9, 4, 4, 7, 9, 2, 1, 7, 7, 1, 0, 0, 1, 1, 0, -1, 9, 5, 5],\n",
       " [7, 6, 9, 9, -1, 4, 7, 9, 2, 1, 7, 7, 1, 0, 0, 1, 1, 0, -1, 9, 5, 5],\n",
       " [7, 6, 9, 9, 4, 4, 7, 9, 2, 1, 7, 7, 1, 0, 0, 1, 1, 0, -1, 9, 5, 5],\n",
       " [7, 6, 9, 9, 4, 4, 7, 9, 2, 1, 7, 7, 1, 0, 0, 1, 1, 0, -1, 9, 5, 5],\n",
       " [7, 6, 9, 9, 4, 4, 7, 9, 2, 1, 7, 7, 1, 0, 0, 1, 1, 0, -1, 9, 5, 5],\n",
       " [7, 6, 9, 9, 4, 4, 7, 9, 2, 1, 7, 7, 1, 0, 0, 1, 1, 0, -1, 9, 5, 5],\n",
       " [7, -1, 9, 9, 4, 4, 7, 9, 2, 1, 7, 6, 1, 0, 0, 1, 1, 0, -1, 9, 5, 5],\n",
       " [7, 6, 9, 9, 4, 4, 7, 9, 2, 1, 7, 6, 1, 0, 0, 1, 1, 1, -1, 9, 5, 5],\n",
       " [7, 6, 9, 9, 4, 4, 7, 9, 2, 1, 7, 6, 1, 0, 0, 1, 1, 0, -1, 9, 5, 5],\n",
       " [7, 6, 9, 9, 4, 4, 7, 9, 2, 1, 7, 6, 1, 0, 0, 1, 1, 0, -1, 9, 5, 5],\n",
       " [7, 6, 9, 9, 4, 4, 7, 9, 2, 1, 7, 6, 1, 0, 0, 1, 1, 0, -1, 9, 5, 5],\n",
       " [7, 6, 9, 9, 4, 4, 7, 9, 2, 1, 7, 6, 1, 0, 0, 1, 1, 1, -1, 9, 5, 5],\n",
       " [7, -1, 9, 9, 4, 4, 7, 9, 2, 2, 7, 6, 1, 0, 0, 1, 1, 0, -1, 9, 5, 5],\n",
       " [7, 6, 9, 9, 4, 4, 7, 9, 2, 1, 8, 6, 1, 0, 0, 1, 1, 0, -1, 9, 5, 5],\n",
       " [7, 6, 9, 9, 4, 4, 7, 9, 2, 1, 8, 6, 1, 0, 0, 1, 1, 0, -1, 9, 5, 5],\n",
       " [7, -1, 9, 9, 4, 4, 7, 9, 2, 1, 8, 6, 1, 0, 0, 1, 1, 0, -1, 9, 5, 5],\n",
       " [7, 6, 9, 9, 4, 4, 7, 9, 2, 1, 8, 6, 1, 0, 0, 1, 1, 0, -1, 9, 5, 5],\n",
       " [7, 6, 9, 9, 4, 4, 7, 9, 2, 1, 8, 6, 1, 0, 0, 1, 1, 0, -1, 9, 5, 5],\n",
       " [7, 6, 9, 9, 4, 4, 7, 9, 2, 1, 8, 6, 1, 0, 0, 1, 1, 0, -1, 9, 5, 5],\n",
       " [7, 6, 9, 9, 4, 4, 7, 9, 2, 1, 8, 6, 1, 0, 0, 1, 1, 0, -1, 9, 5, 5],\n",
       " [7, 6, 9, 9, 4, 4, 7, 9, 2, 1, 8, 6, 1, 0, 0, 1, 1, 0, -1, 9, 5, 5],\n",
       " [7, 6, 9, 9, 4, 4, 7, 9, 2, 1, 8, 6, 1, 0, 0, 1, 1, 0, -1, 9, 5, 5],\n",
       " [7, 6, 9, 9, 4, 4, 7, 9, 2, 1, 8, 6, 1, 0, 0, 1, 1, 0, -1, 9, 5, 5],\n",
       " [7, -1, 9, 9, 4, 4, 7, 9, 2, 1, 8, 6, 1, 0, 0, 1, 1, 0, 6, 9, 5, 5],\n",
       " [7, 6, 9, 9, 4, 4, 7, 8, 2, 1, 8, 6, 1, 1, 0, 1, 1, 0, -1, 9, 5, 5],\n",
       " [7, 6, 9, 9, 4, 4, 7, 8, 2, 1, 8, -1, 1, 0, 0, 1, 1, 0, 6, 9, 5, 5],\n",
       " [7, 6, 9, 9, 4, 4, 7, 8, 2, 1, 8, 6, 1, 0, 0, 1, 1, 0, 6, 9, 5, 5],\n",
       " [7, 6, 9, 9, 4, 4, 7, 8, 2, 1, 8, 6, 1, 0, 0, 1, 1, 0, 6, 9, 5, 5],\n",
       " [7, 6, 9, 9, 4, 4, 7, 8, 2, 1, 8, 6, 1, 0, 0, 1, 1, 0, 6, 9, 5, 5],\n",
       " [7, 6, 9, 9, 4, 4, 7, 8, 2, 1, 8, -1, 1, 1, 0, 1, 1, 0, 6, 9, 5, 5],\n",
       " [7, 6, 9, 9, 4, 4, 7, 8, 2, 1, 8, -1, 1, 1, 0, 1, 1, 0, 6, 9, 5, 5],\n",
       " [7, 6, 9, 9, 4, 4, 7, 8, 2, 1, 8, -1, 1, 1, 0, 1, 1, 0, 6, 9, 5, 5],\n",
       " [7, 6, 9, 9, 4, 4, 7, 8, 2, 1, 8, -1, 1, 1, 0, 1, 1, 0, 6, 9, 5, 5],\n",
       " [7, 6, 9, 9, 4, 4, 7, 8, 2, 1, 9, -1, 1, 1, 0, 1, 1, 0, 6, 9, 5, 5],\n",
       " [7, 6, 9, 9, 4, 4, 7, 8, 2, 1, 9, -1, 1, 1, 0, 1, 1, 0, 6, 9, 5, 5],\n",
       " [7, 6, 9, 9, 4, 4, 8, 8, 2, 1, 8, -1, 1, 1, 0, 1, 1, 0, 6, 9, 5, 5],\n",
       " [7, 6, 9, 9, 4, 4, 8, 8, 2, 2, 8, -1, 1, 1, 0, 1, 1, 0, 6, 9, 5, 5],\n",
       " [7, 6, 9, 9, 4, 4, 8, 8, 2, 2, 9, -1, 1, 1, 0, 1, 1, 0, 6, 9, 5, 5],\n",
       " [7, 6, 9, 9, 4, 4, 8, 8, 2, 2, 9, -1, 1, 1, 0, 1, 1, 0, 6, 9, 5, 5],\n",
       " [7, 6, 9, 9, 4, 4, 8, 8, 2, 2, 9, -1, 1, 0, 0, 1, 1, 0, 6, 9, 5, 5],\n",
       " [7, 6, 9, 9, 4, 4, 8, 8, 2, 2, 9, -1, 1, 1, 0, 1, 1, 0, 6, 9, 5, 5],\n",
       " [7, 6, 9, 9, 4, 4, 8, 8, 2, 1, 9, -1, 1, 1, 0, 1, 1, 0, 6, 9, 5, 5],\n",
       " [7, 6, 9, 9, 4, 4, 8, 8, 2, 2, 9, -1, 1, 0, 0, 1, 1, 0, 6, 9, 5, 5],\n",
       " [7, 6, 9, 9, 4, 4, 8, 8, 2, 2, 9, -1, 1, 0, 0, 1, 1, 0, 6, 9, 5, 5],\n",
       " [7, 6, 9, 9, 4, 4, 8, 8, 2, 1, 9, -1, 1, 0, 0, 1, 1, 0, 6, 9, 5, 5],\n",
       " [7, 6, 9, 9, 4, 4, 8, 8, 2, 1, 9, -1, 1, 0, 0, 1, 1, 0, 6, 9, 5, 5],\n",
       " [7, 6, 9, 9, 4, 4, 8, 8, 2, 1, 9, -1, 1, 0, 0, 1, 1, 0, 6, 9, 5, 5],\n",
       " [7, 6, 9, 9, 4, 4, 8, 8, 2, 2, 9, -1, 1, 1, 0, 1, 1, 0, 6, 9, 5, 5],\n",
       " [7, 6, 9, 9, 4, 4, 8, 8, 2, 2, 9, -1, 1, 0, 0, 1, 1, 0, 6, 9, 5, 5],\n",
       " [7, 6, 9, 9, 4, 4, 8, 8, 2, 1, 9, -1, 1, 1, 0, 1, 1, 0, 6, 9, 5, 5],\n",
       " [7, 6, 9, 9, 4, 4, 8, 8, 2, 1, 9, -1, 1, 0, 0, 1, 1, 0, 6, 9, 5, 5],\n",
       " [7, 6, 9, 9, 4, 4, 8, 8, 2, 2, 9, -1, 1, 1, 0, 1, 1, 0, 6, 9, 5, 5],\n",
       " [7, 6, 9, 9, 4, 4, 8, 8, 2, 2, 9, -1, 1, 1, 0, 1, 1, 0, 6, 9, 5, 5],\n",
       " [7, 6, 9, 9, 4, 4, 8, 8, 2, 1, 9, -1, 1, 0, 0, 1, 1, 0, 6, 9, 5, 5],\n",
       " [7, 6, 9, 9, 4, 4, 8, 8, 2, 2, 9, -1, 1, 0, 0, 1, 1, 0, 6, 9, 5, 5],\n",
       " [7, 6, 9, 9, 4, 4, 8, 8, 2, 1, 9, -1, 1, 0, 0, 1, 1, 1, 6, 9, 5, 5],\n",
       " [7, -1, 9, 9, 4, 4, 8, 8, 2, 1, 9, -1, 1, 0, 0, 1, 1, 1, 6, 9, 5, 5],\n",
       " [7, 6, 9, 9, 4, 4, 8, 8, 2, 1, 9, -1, 1, 0, 0, 1, 1, 1, 6, 9, 5, 5],\n",
       " [7, 6, 9, 9, 4, 4, 8, 8, 2, 1, 9, 4, 1, 0, 0, 1, 1, 1, 6, 9, 5, 5],\n",
       " [7, 6, 9, 9, 4, 4, 8, 8, 2, 1, 9, 4, 1, 0, 0, 1, 1, 1, 6, 9, 5, 5],\n",
       " [7, 6, 9, 9, 4, 4, 8, 8, 2, 1, 9, -1, 1, 0, 0, 1, 1, 1, 6, 9, 5, 5],\n",
       " [7, 6, 9, 9, 4, 4, 8, 8, 2, 2, 9, 4, 1, 0, 0, 1, 1, 1, 6, 9, 5, 5],\n",
       " [7, -1, 9, 9, 4, 4, 8, 8, 2, 1, 9, 4, 1, 0, 0, 1, 1, 1, 6, 9, 5, 5],\n",
       " [7, 6, 9, 9, 4, 4, 8, 8, 2, 2, 9, 4, 1, 0, 0, 1, 1, 1, 6, 9, 5, 5],\n",
       " [7, -1, 9, 9, 4, 4, 8, 8, 2, 2, 9, 4, 1, 0, 0, 1, 1, 1, 6, 9, 5, 5],\n",
       " [7, -1, 9, 9, 4, 4, 8, 8, 2, 2, 9, 4, 1, 0, 0, 1, 1, 1, 6, 9, 5, 5],\n",
       " [7, -1, 9, 9, 4, 4, 8, 8, 2, 2, 9, 4, 1, 0, 0, 1, 1, 1, 6, 9, 5, 5],\n",
       " [7, -1, 9, 9, 4, 4, 8, 8, 2, 2, 9, 4, 1, 0, 0, 1, 1, 1, 6, 9, 5, 5],\n",
       " [7, -1, 9, 9, 4, 3, 8, 8, 2, 2, 9, 4, 1, 0, 0, 1, 1, 1, 6, 9, 5, 5],\n",
       " [7, 6, 9, 9, 4, 3, 8, 8, 2, 2, 9, 4, 1, 0, 0, 1, 1, 1, 6, 9, 5, 5],\n",
       " [7, 6, 9, 9, 4, 3, 8, 8, 2, 1, 9, 4, 1, 0, 0, 1, 1, 1, 6, 9, 5, 5],\n",
       " [7, -1, 9, 9, 4, 3, 8, 8, 2, 2, 9, 4, 1, 0, 0, 1, 1, 1, 6, 9, 5, 5],\n",
       " [7, -1, 9, 9, 4, 3, 8, 8, 2, 2, 9, 4, 1, 0, 0, 1, 1, 1, 6, 9, 5, 5],\n",
       " [7, 6, 9, 9, 4, 4, 8, 8, 2, 2, 9, 4, 1, 0, 0, 1, 1, 1, 7, 9, 5, 5],\n",
       " [7, -1, 9, 9, 4, 4, 8, 8, 2, 2, 9, 4, 1, 0, 0, 1, 1, 1, 7, 9, 5, 5],\n",
       " [7, 6, 9, 9, 4, 3, 8, 8, 2, 2, 9, 4, 1, 1, 0, 1, 1, 1, 7, 9, 5, 5],\n",
       " [7, 6, 9, 9, 4, 4, 8, 8, 2, 2, 9, 4, 1, 0, 0, 1, 1, 1, 7, 9, 5, 5],\n",
       " [7, -1, 9, 9, 4, 4, 8, 8, 2, 2, 9, 4, 1, 1, 0, 1, 1, 1, 7, 9, 5, 5],\n",
       " [7, 6, 9, 9, 4, 3, 8, 8, 2, 1, 9, 4, 1, 0, 0, 1, 1, 1, 7, 9, 5, 5],\n",
       " [7, -1, 9, 9, 4, 4, 8, 8, 2, 2, 9, 4, 1, 0, 0, 1, 1, 1, 7, 9, 5, 5],\n",
       " [7, -1, 9, 9, 4, 4, 8, 8, 2, 2, 9, 4, 1, 0, 0, 1, 1, 1, 7, 9, 5, 5],\n",
       " [7, -1, 9, 9, 4, 4, 8, 8, 2, 2, 9, 4, 1, 1, 0, 1, 1, 1, 7, 9, 5, 5],\n",
       " [7, 6, 9, 9, 4, 4, 8, 8, 2, 1, 9, 4, 1, 1, 0, 1, 1, 1, 7, 9, 5, 5],\n",
       " [7, -1, 9, 9, 4, 4, 8, 8, 2, 1, 9, 4, 1, 1, 0, 1, 1, 1, 7, 9, 5, 5],\n",
       " [7, -1, 9, 9, 4, 3, 8, 8, 2, 2, 9, 4, 1, 1, 0, 1, 1, 1, 7, 9, 5, 5],\n",
       " [6, 6, 9, 9, 4, 4, 8, 8, 2, 1, 9, 4, 1, 1, 0, 1, 1, 1, 7, 9, 5, 5],\n",
       " [7, -1, 9, 9, 4, 4, 8, 8, 2, 2, 9, 4, 1, 0, 0, 1, 1, 1, 7, 9, 5, 5],\n",
       " [6, -1, 9, 9, 3, 3, 8, 8, 2, 2, 9, 4, 1, 1, 0, 1, 1, 1, 7, 9, 5, 5],\n",
       " [7, -1, 9, 9, 3, 3, 8, 8, 2, 2, 9, 4, 1, 1, 0, 1, 1, 1, 7, 9, 5, 5],\n",
       " [7, -1, 9, 9, 4, 3, 8, 8, 2, 2, 9, 4, 1, 0, 0, 1, 1, 1, 7, 9, 5, 5],\n",
       " [7, -1, 9, 9, 3, 3, 8, 8, 2, 2, 9, 4, 1, 1, 0, 1, 1, 1, 7, 9, 5, 5],\n",
       " [7, -1, 9, 9, 4, 3, 8, 8, 2, 2, 9, 4, 1, 1, 0, 1, 1, 1, 7, 9, 5, 5],\n",
       " [7, -1, 9, 9, 3, 3, 8, 8, 2, 2, 9, 4, 1, 1, 0, 1, 1, 1, 7, 9, 5, 5],\n",
       " [7, -1, 9, 9, 3, 3, 8, 8, 2, 2, 9, 4, 1, 1, 0, 1, 1, 1, 7, 9, 5, 5],\n",
       " [7, -1, 9, 9, 3, 3, 8, 8, 2, 2, 9, 4, 1, 1, 0, 1, 1, 1, 7, 9, 5, 5],\n",
       " [7, -1, 9, 9, 3, 3, 8, 8, 2, 2, 9, 4, 1, 1, 0, 1, 1, 1, 7, 9, 5, 5],\n",
       " [7, -1, 9, 9, 3, 3, 8, 8, 2, 2, 9, 4, 1, 1, 0, 1, 1, 1, 7, 9, 5, 5],\n",
       " [6, -1, 9, 9, 3, 3, 8, 8, 2, 2, 9, 4, 1, 1, 0, 1, 1, 1, 7, 9, 5, 5],\n",
       " [7, -1, 9, 9, 3, 3, 8, 8, 2, 2, 9, 4, 1, 1, 0, 1, 1, 1, 7, 9, 5, 5],\n",
       " [7, 6, 9, 9, 3, 3, 8, 8, 2, 2, 9, 4, 1, 1, 0, 1, 1, 1, 7, 9, 5, 5],\n",
       " [7, -1, 9, 9, 3, 3, 8, 8, 2, 2, 9, 4, 1, 1, 0, 1, 1, 1, 7, 9, 5, 5],\n",
       " [7, -1, 9, 9, 3, 3, 8, 8, 2, 2, 9, 4, 1, 1, 0, 1, 1, 1, 7, 9, 5, 5],\n",
       " [7, -1, 9, 9, 3, 3, 8, 8, 3, 2, 9, 4, 1, 1, 0, 1, 1, 1, 7, 9, 5, 5],\n",
       " [7, -1, 9, 9, 3, 3, 8, 8, 3, 2, 9, 4, 1, 1, 0, 1, 1, 1, 7, 9, 5, 5],\n",
       " [7, 6, 9, 9, 3, 3, 8, 8, 2, 2, 9, 4, 1, 1, 0, 1, 1, 1, 7, 9, 5, 5],\n",
       " [7, -1, 9, 9, 3, 3, 8, 8, 2, 2, 9, 4, 1, 1, 0, 1, 1, 1, 7, 9, 5, 5],\n",
       " [7, -1, 9, 9, 3, 3, 8, 8, 2, 2, 9, 4, 1, 1, 0, 1, 1, 1, 7, 9, 5, 5],\n",
       " [7, 6, 9, 9, 3, 3, 8, 8, 2, 2, 9, 4, 1, 1, 0, 1, 1, 1, 7, 9, 5, 5],\n",
       " [7, -1, 9, 9, 3, 3, 8, 8, 2, 2, 9, 4, 1, 1, 0, 1, 1, 1, 7, 9, 5, 5],\n",
       " [7, -1, 9, 9, 3, 3, 8, 8, 2, 2, 9, 4, 1, 1, 0, 1, 1, 1, 7, 9, 5, 5],\n",
       " [7, -1, 9, 9, 3, 3, 8, 8, 2, 2, 9, 4, 1, 1, 0, 1, 1, 1, 7, 9, 5, 5],\n",
       " [7, 6, 9, 9, 3, 3, 8, 8, 2, 1, 9, 4, 1, 1, 0, 1, 1, 1, 7, 9, 5, 5],\n",
       " [7, -1, 9, 9, 3, 3, 8, 8, 2, 2, 9, 4, 1, 1, 0, 1, 1, 1, 7, 9, 5, 5],\n",
       " [7, 6, 9, 9, 3, 3, 8, 8, 2, 1, 9, 4, 1, 1, 0, 1, 1, 1, 7, 9, 5, 5],\n",
       " [7, -1, 9, 8, 3, 3, 8, 8, 2, 1, 9, 4, 1, 1, 0, 1, 1, 1, 7, 9, 5, 5]]"
      ]
     },
     "execution_count": 32,
     "metadata": {},
     "output_type": "execute_result"
    }
   ],
   "source": [
    "X_seq"
   ]
  },
  {
   "cell_type": "code",
   "execution_count": 36,
   "metadata": {},
   "outputs": [],
   "source": [
    "from prefixspan import PrefixSpan"
   ]
  },
  {
   "cell_type": "code",
   "execution_count": 34,
   "metadata": {},
   "outputs": [],
   "source": [
    "ps = PrefixSpan(X_seq)"
   ]
  },
  {
   "cell_type": "code",
   "execution_count": 50,
   "metadata": {},
   "outputs": [],
   "source": [
    "ps.minlen = 3"
   ]
  },
  {
   "cell_type": "code",
   "execution_count": 51,
   "metadata": {},
   "outputs": [
    {
     "data": {
      "text/plain": [
       "[(360, [9, 2, 1]),\n",
       " (360, [9, 2, 1, 5]),\n",
       " (360, [9, 2, 1, 5, 5]),\n",
       " (360, [9, 2, 9]),\n",
       " (360, [9, 2, 9, 5]),\n",
       " (360, [9, 2, 9, 5, 5]),\n",
       " (360, [9, 2, 5]),\n",
       " (360, [9, 2, 5, 5]),\n",
       " (358, [9, 1, 1]),\n",
       " (358, [9, 1, 1, 5]),\n",
       " (358, [9, 1, 1, 5, 5]),\n",
       " (360, [9, 1, 5]),\n",
       " (360, [9, 1, 5, 5]),\n",
       " (360, [9, 9, 1]),\n",
       " (358, [9, 9, 1, 1]),\n",
       " (358, [9, 9, 1, 1, 5]),\n",
       " (358, [9, 9, 1, 1, 5, 5]),\n",
       " (360, [9, 9, 1, 5]),\n",
       " (360, [9, 9, 1, 5, 5]),\n",
       " (360, [9, 9, 5]),\n",
       " (360, [9, 9, 5, 5]),\n",
       " (360, [9, 5, 5]),\n",
       " (360, [2, 1, 5]),\n",
       " (360, [2, 1, 5, 5]),\n",
       " (360, [2, 9, 5]),\n",
       " (360, [2, 9, 5, 5]),\n",
       " (360, [2, 5, 5]),\n",
       " (358, [1, 1, 5]),\n",
       " (358, [1, 1, 5, 5]),\n",
       " (360, [1, 5, 5])]"
      ]
     },
     "execution_count": 51,
     "metadata": {},
     "output_type": "execute_result"
    }
   ],
   "source": [
    "ps.frequent(350)"
   ]
  },
  {
   "cell_type": "code",
   "execution_count": 52,
   "metadata": {},
   "outputs": [
    {
     "data": {
      "text/plain": [
       "[(360, [2, 1, 5]),\n",
       " (360, [2, 1, 5, 5]),\n",
       " (360, [2, 9, 5]),\n",
       " (360, [2, 9, 5, 5]),\n",
       " (360, [9, 1, 5]),\n",
       " (360, [9, 1, 5, 5]),\n",
       " (360, [9, 2, 1]),\n",
       " (360, [9, 2, 1, 5]),\n",
       " (360, [9, 2, 1, 5, 5]),\n",
       " (360, [9, 2, 5]),\n",
       " (360, [9, 2, 5, 5]),\n",
       " (360, [9, 2, 9]),\n",
       " (360, [9, 2, 9, 5]),\n",
       " (360, [9, 2, 9, 5, 5]),\n",
       " (360, [9, 5, 5]),\n",
       " (360, [9, 9, 1]),\n",
       " (360, [9, 9, 1, 5]),\n",
       " (360, [9, 9, 1, 5, 5]),\n",
       " (360, [9, 9, 5]),\n",
       " (360, [9, 9, 5, 5])]"
      ]
     },
     "execution_count": 52,
     "metadata": {},
     "output_type": "execute_result"
    }
   ],
   "source": [
    "ps.topk(20)"
   ]
  },
  {
   "cell_type": "code",
   "execution_count": 33,
   "metadata": {},
   "outputs": [
    {
     "data": {
      "text/plain": [
       "[(360, [9, 2, 1, 5, 5]),\n",
       " (360, [9, 2, 5, 5]),\n",
       " (360, [9, 2, 9, 5, 5]),\n",
       " (360, [9, 9, 1, 5, 5]),\n",
       " (360, [9, 9, 5, 5]),\n",
       " (358, [9, 9, 1, 1, 5, 5]),\n",
       " (346, [9, 2, 0, 5, 5]),\n",
       " (346, [9, 9, 0, 1, 5, 5]),\n",
       " (346, [9, 9, 0, 5, 5]),\n",
       " (345, [9, 9, 2, 1, 5, 5])]"
      ]
     },
     "execution_count": 33,
     "metadata": {},
     "output_type": "execute_result"
    }
   ],
   "source": [
    "ps.topk(10, closed=True) "
   ]
  },
  {
   "cell_type": "code",
   "execution_count": 49,
   "metadata": {},
   "outputs": [
    {
     "data": {
      "text/plain": [
       "[2, 1, 5, 5]"
      ]
     },
     "execution_count": 49,
     "metadata": {},
     "output_type": "execute_result"
    }
   ],
   "source": [
    "[2,1,5,5]"
   ]
  },
  {
   "cell_type": "code",
   "execution_count": null,
   "metadata": {},
   "outputs": [],
   "source": []
  },
  {
   "cell_type": "code",
   "execution_count": null,
   "metadata": {},
   "outputs": [],
   "source": []
  }
 ],
 "metadata": {
  "kernelspec": {
   "display_name": "Python 3",
   "language": "python",
   "name": "python3"
  },
  "language_info": {
   "codemirror_mode": {
    "name": "ipython",
    "version": 3
   },
   "file_extension": ".py",
   "mimetype": "text/x-python",
   "name": "python",
   "nbconvert_exporter": "python",
   "pygments_lexer": "ipython3",
   "version": "3.7.3"
  }
 },
 "nbformat": 4,
 "nbformat_minor": 2
}
