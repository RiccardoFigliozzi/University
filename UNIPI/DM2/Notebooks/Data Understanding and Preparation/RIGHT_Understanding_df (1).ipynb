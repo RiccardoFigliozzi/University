{
 "cells": [
  {
   "cell_type": "code",
   "execution_count": 11,
   "metadata": {
    "colab": {},
    "colab_type": "code",
    "id": "UaICD_0qb5QD"
   },
   "outputs": [],
   "source": [
    "from IPython.core.interactiveshell import InteractiveShell\n",
    "InteractiveShell.ast_node_interactivity = \"all\"\n",
    "\n",
    "%matplotlib inline\n",
    "import math\n",
    "import numpy as np\n",
    "import pandas as pd\n",
    "import scipy.stats as stats\n",
    "import matplotlib.pyplot as plt\n",
    "import matplotlib.mlab as mlab\n",
    "import os\n",
    "import importlib\n",
    "import seaborn as sns\n",
    "\n",
    "from collections import defaultdict\n",
    "from scipy.stats.stats import pearsonr\n",
    "from pandas.plotting import scatter_matrix\n",
    "from scipy.stats import norm"
   ]
  },
  {
   "cell_type": "code",
   "execution_count": 12,
   "metadata": {
    "colab": {},
    "colab_type": "code",
    "id": "HCS_CuDvqqt1",
    "outputId": "d21450b1-cc22-4ccc-8ed3-616b55bffe52"
   },
   "outputs": [
    {
     "name": "stdout",
     "output_type": "stream",
     "text": [
      "C:\\Users\\ricky\\Downloads\\academic_year_2020-2021_3.xlsx\n",
      "C:\\Users\\ricky\\Downloads\\AlbumArtSmall.jpg\n",
      "C:\\Users\\ricky\\Downloads\\AlbumArt_{B5020207-474E-4720-1E92-6A3116567000}_Large.jpg\n",
      "C:\\Users\\ricky\\Downloads\\AlbumArt_{B5020207-474E-4720-1E92-6A3116567000}_Small.jpg\n",
      "C:\\Users\\ricky\\Downloads\\AlbumArt_{B5020207-474E-4720-28EF-7C02C863CE00}_Large.jpg\n",
      "C:\\Users\\ricky\\Downloads\\AlbumArt_{B5020207-474E-4720-28EF-7C02C863CE00}_Small.jpg\n",
      "C:\\Users\\ricky\\Downloads\\AlbumArt_{B5020207-474E-4720-33C6-5C3370563D00}_Large.jpg\n",
      "C:\\Users\\ricky\\Downloads\\AlbumArt_{B5020207-474E-4720-33C6-5C3370563D00}_Small.jpg\n",
      "C:\\Users\\ricky\\Downloads\\AlbumArt_{B5020207-474E-4720-47DA-EF364A5B3D00}_Large.jpg\n",
      "C:\\Users\\ricky\\Downloads\\AlbumArt_{B5020207-474E-4720-47DA-EF364A5B3D00}_Small.jpg\n",
      "C:\\Users\\ricky\\Downloads\\AlbumArt_{B5020207-474E-4720-52E3-0F2EF4C33F00}_Large.jpg\n",
      "C:\\Users\\ricky\\Downloads\\AlbumArt_{B5020207-474E-4720-52E3-0F2EF4C33F00}_Small.jpg\n",
      "C:\\Users\\ricky\\Downloads\\AlbumArt_{B5020207-474E-4720-618A-C92B723B7000}_Large.jpg\n",
      "C:\\Users\\ricky\\Downloads\\AlbumArt_{B5020207-474E-4720-618A-C92B723B7000}_Small.jpg\n",
      "C:\\Users\\ricky\\Downloads\\AlbumArt_{B5020207-474E-4720-8726-182E1B0FE500}_Large.jpg\n",
      "C:\\Users\\ricky\\Downloads\\AlbumArt_{B5020207-474E-4720-8726-182E1B0FE500}_Small.jpg\n",
      "C:\\Users\\ricky\\Downloads\\AlbumArt_{B5020207-474E-4720-AE2C-962B04248F00}_Large.jpg\n",
      "C:\\Users\\ricky\\Downloads\\AlbumArt_{B5020207-474E-4720-AE2C-962B04248F00}_Small.jpg\n",
      "C:\\Users\\ricky\\Downloads\\AlbumArt_{B5020207-474E-4720-B988-1826755BCB00}_Large.jpg\n",
      "C:\\Users\\ricky\\Downloads\\AlbumArt_{B5020207-474E-4720-B988-1826755BCB00}_Small.jpg\n",
      "C:\\Users\\ricky\\Downloads\\autocert_LAUREA_4.pdf\n",
      "C:\\Users\\ricky\\Downloads\\bottega (1).csv\n",
      "C:\\Users\\ricky\\Downloads\\bottega.csv\n",
      "C:\\Users\\ricky\\Downloads\\Data Preparation.ipynb\n",
      "C:\\Users\\ricky\\Downloads\\dataminer (1).xlsx\n",
      "C:\\Users\\ricky\\Downloads\\dataminer.csv\n",
      "C:\\Users\\ricky\\Downloads\\dataminer.xlsx\n",
      "C:\\Users\\ricky\\Downloads\\datatest.txt\n",
      "C:\\Users\\ricky\\Downloads\\datatest2.txt\n",
      "C:\\Users\\ricky\\Downloads\\datatraining.txt\n",
      "C:\\Users\\ricky\\Downloads\\desktop.ini\n",
      "C:\\Users\\ricky\\Downloads\\Folder.jpg\n",
      "C:\\Users\\ricky\\Downloads\\occupancy_data.zip\n",
      "C:\\Users\\ricky\\Downloads\\procedure_e_termini_2019.pdf\n",
      "C:\\Users\\ricky\\Downloads\\quan (1).csv\n",
      "C:\\Users\\ricky\\Downloads\\quan.csv\n",
      "C:\\Users\\ricky\\Downloads\\quandoesco.csv\n",
      "C:\\Users\\ricky\\Downloads\\Regolamento_tasse_2019_-_Modificato_1.pdf\n",
      "C:\\Users\\ricky\\Downloads\\riconoscimento_titoli_2019.pdf\n",
      "C:\\Users\\ricky\\Downloads\\riconoscim_crediti_tabella_2019.pdf\n",
      "C:\\Users\\ricky\\Downloads\\StudyPlan2017.xls\n",
      "C:\\Users\\ricky\\Downloads\\StudyPlan2017ComputerScienceEngineering.xls\n",
      "C:\\Users\\ricky\\Downloads\\Understanding_df.ipynb\n",
      "C:\\Users\\ricky\\Downloads\\.ipynb_checkpoints\\Understanding_df-checkpoint.ipynb\n"
     ]
    }
   ],
   "source": [
    "for dirname, _, filenames in os.walk(r'C:\\Users\\ricky\\Downloads'):\n",
    "    for filename in filenames:\n",
    "        print(os.path.join(dirname, filename))"
   ]
  },
  {
   "cell_type": "code",
   "execution_count": 13,
   "metadata": {
    "colab": {},
    "colab_type": "code",
    "id": "pVY3IKpbqqt8"
   },
   "outputs": [],
   "source": [
    "df_test_1 = pd.read_csv(r'C:\\Users\\ricky\\Downloads\\datatest.txt',  header=0, parse_dates=True, squeeze=True)\n",
    "df_test_2 = pd.read_csv(r'C:\\Users\\ricky\\Downloads\\datatest2.txt',  header=0, parse_dates=True, squeeze=True)\n",
    "df_training = pd.read_csv(r'C:\\Users\\ricky\\Downloads\\datatraining.txt',  header=0, parse_dates=True, squeeze=True)"
   ]
  },
  {
   "cell_type": "code",
   "execution_count": 14,
   "metadata": {
    "colab": {},
    "colab_type": "code",
    "id": "tQox2EqcaSUd",
    "outputId": "2171dafd-5005-4197-880f-0adb8c3782d0"
   },
   "outputs": [
    {
     "data": {
      "text/html": [
       "<div>\n",
       "<style scoped>\n",
       "    .dataframe tbody tr th:only-of-type {\n",
       "        vertical-align: middle;\n",
       "    }\n",
       "\n",
       "    .dataframe tbody tr th {\n",
       "        vertical-align: top;\n",
       "    }\n",
       "\n",
       "    .dataframe thead th {\n",
       "        text-align: right;\n",
       "    }\n",
       "</style>\n",
       "<table border=\"1\" class=\"dataframe\">\n",
       "  <thead>\n",
       "    <tr style=\"text-align: right;\">\n",
       "      <th></th>\n",
       "      <th>date</th>\n",
       "      <th>Temperature</th>\n",
       "      <th>Humidity</th>\n",
       "      <th>Light</th>\n",
       "      <th>CO2</th>\n",
       "      <th>HumidityRatio</th>\n",
       "      <th>Occupancy</th>\n",
       "    </tr>\n",
       "  </thead>\n",
       "  <tbody>\n",
       "    <tr>\n",
       "      <th>140</th>\n",
       "      <td>2015-02-02 14:19:00</td>\n",
       "      <td>23.7000</td>\n",
       "      <td>26.272</td>\n",
       "      <td>585.200000</td>\n",
       "      <td>749.200000</td>\n",
       "      <td>0.004764</td>\n",
       "      <td>1</td>\n",
       "    </tr>\n",
       "    <tr>\n",
       "      <th>141</th>\n",
       "      <td>2015-02-02 14:19:59</td>\n",
       "      <td>23.7180</td>\n",
       "      <td>26.290</td>\n",
       "      <td>578.400000</td>\n",
       "      <td>760.400000</td>\n",
       "      <td>0.004773</td>\n",
       "      <td>1</td>\n",
       "    </tr>\n",
       "    <tr>\n",
       "      <th>142</th>\n",
       "      <td>2015-02-02 14:21:00</td>\n",
       "      <td>23.7300</td>\n",
       "      <td>26.230</td>\n",
       "      <td>572.666667</td>\n",
       "      <td>769.666667</td>\n",
       "      <td>0.004765</td>\n",
       "      <td>1</td>\n",
       "    </tr>\n",
       "    <tr>\n",
       "      <th>143</th>\n",
       "      <td>2015-02-02 14:22:00</td>\n",
       "      <td>23.7225</td>\n",
       "      <td>26.125</td>\n",
       "      <td>493.750000</td>\n",
       "      <td>774.750000</td>\n",
       "      <td>0.004744</td>\n",
       "      <td>1</td>\n",
       "    </tr>\n",
       "    <tr>\n",
       "      <th>144</th>\n",
       "      <td>2015-02-02 14:23:00</td>\n",
       "      <td>23.7540</td>\n",
       "      <td>26.200</td>\n",
       "      <td>488.600000</td>\n",
       "      <td>779.000000</td>\n",
       "      <td>0.004767</td>\n",
       "      <td>1</td>\n",
       "    </tr>\n",
       "  </tbody>\n",
       "</table>\n",
       "</div>"
      ],
      "text/plain": [
       "                    date  Temperature  Humidity       Light         CO2  \\\n",
       "140  2015-02-02 14:19:00      23.7000    26.272  585.200000  749.200000   \n",
       "141  2015-02-02 14:19:59      23.7180    26.290  578.400000  760.400000   \n",
       "142  2015-02-02 14:21:00      23.7300    26.230  572.666667  769.666667   \n",
       "143  2015-02-02 14:22:00      23.7225    26.125  493.750000  774.750000   \n",
       "144  2015-02-02 14:23:00      23.7540    26.200  488.600000  779.000000   \n",
       "\n",
       "     HumidityRatio  Occupancy  \n",
       "140       0.004764          1  \n",
       "141       0.004773          1  \n",
       "142       0.004765          1  \n",
       "143       0.004744          1  \n",
       "144       0.004767          1  "
      ]
     },
     "execution_count": 14,
     "metadata": {},
     "output_type": "execute_result"
    },
    {
     "data": {
      "text/html": [
       "<div>\n",
       "<style scoped>\n",
       "    .dataframe tbody tr th:only-of-type {\n",
       "        vertical-align: middle;\n",
       "    }\n",
       "\n",
       "    .dataframe tbody tr th {\n",
       "        vertical-align: top;\n",
       "    }\n",
       "\n",
       "    .dataframe thead th {\n",
       "        text-align: right;\n",
       "    }\n",
       "</style>\n",
       "<table border=\"1\" class=\"dataframe\">\n",
       "  <thead>\n",
       "    <tr style=\"text-align: right;\">\n",
       "      <th></th>\n",
       "      <th>date</th>\n",
       "      <th>Temperature</th>\n",
       "      <th>Humidity</th>\n",
       "      <th>Light</th>\n",
       "      <th>CO2</th>\n",
       "      <th>HumidityRatio</th>\n",
       "      <th>Occupancy</th>\n",
       "    </tr>\n",
       "  </thead>\n",
       "  <tbody>\n",
       "    <tr>\n",
       "      <th>7374</th>\n",
       "      <td>2015-02-16 17:41:00</td>\n",
       "      <td>22.00</td>\n",
       "      <td>30.20</td>\n",
       "      <td>419.0</td>\n",
       "      <td>982.500000</td>\n",
       "      <td>0.004942</td>\n",
       "      <td>1</td>\n",
       "    </tr>\n",
       "    <tr>\n",
       "      <th>8242</th>\n",
       "      <td>2015-02-17 08:09:00</td>\n",
       "      <td>20.60</td>\n",
       "      <td>30.39</td>\n",
       "      <td>0.0</td>\n",
       "      <td>790.666667</td>\n",
       "      <td>0.004561</td>\n",
       "      <td>0</td>\n",
       "    </tr>\n",
       "    <tr>\n",
       "      <th>8142</th>\n",
       "      <td>2015-02-17 06:29:00</td>\n",
       "      <td>20.39</td>\n",
       "      <td>30.39</td>\n",
       "      <td>0.0</td>\n",
       "      <td>752.000000</td>\n",
       "      <td>0.004502</td>\n",
       "      <td>0</td>\n",
       "    </tr>\n",
       "    <tr>\n",
       "      <th>6602</th>\n",
       "      <td>2015-02-16 04:49:00</td>\n",
       "      <td>20.39</td>\n",
       "      <td>25.79</td>\n",
       "      <td>0.0</td>\n",
       "      <td>808.000000</td>\n",
       "      <td>0.003816</td>\n",
       "      <td>0</td>\n",
       "    </tr>\n",
       "    <tr>\n",
       "      <th>6679</th>\n",
       "      <td>2015-02-16 06:06:00</td>\n",
       "      <td>20.39</td>\n",
       "      <td>25.20</td>\n",
       "      <td>0.0</td>\n",
       "      <td>802.666667</td>\n",
       "      <td>0.003728</td>\n",
       "      <td>0</td>\n",
       "    </tr>\n",
       "  </tbody>\n",
       "</table>\n",
       "</div>"
      ],
      "text/plain": [
       "                     date  Temperature  Humidity  Light         CO2  \\\n",
       "7374  2015-02-16 17:41:00        22.00     30.20  419.0  982.500000   \n",
       "8242  2015-02-17 08:09:00        20.60     30.39    0.0  790.666667   \n",
       "8142  2015-02-17 06:29:00        20.39     30.39    0.0  752.000000   \n",
       "6602  2015-02-16 04:49:00        20.39     25.79    0.0  808.000000   \n",
       "6679  2015-02-16 06:06:00        20.39     25.20    0.0  802.666667   \n",
       "\n",
       "      HumidityRatio  Occupancy  \n",
       "7374       0.004942          1  \n",
       "8242       0.004561          0  \n",
       "8142       0.004502          0  \n",
       "6602       0.003816          0  \n",
       "6679       0.003728          0  "
      ]
     },
     "execution_count": 14,
     "metadata": {},
     "output_type": "execute_result"
    },
    {
     "data": {
      "text/html": [
       "<div>\n",
       "<style scoped>\n",
       "    .dataframe tbody tr th:only-of-type {\n",
       "        vertical-align: middle;\n",
       "    }\n",
       "\n",
       "    .dataframe tbody tr th {\n",
       "        vertical-align: top;\n",
       "    }\n",
       "\n",
       "    .dataframe thead th {\n",
       "        text-align: right;\n",
       "    }\n",
       "</style>\n",
       "<table border=\"1\" class=\"dataframe\">\n",
       "  <thead>\n",
       "    <tr style=\"text-align: right;\">\n",
       "      <th></th>\n",
       "      <th>date</th>\n",
       "      <th>Temperature</th>\n",
       "      <th>Humidity</th>\n",
       "      <th>Light</th>\n",
       "      <th>CO2</th>\n",
       "      <th>HumidityRatio</th>\n",
       "      <th>Occupancy</th>\n",
       "    </tr>\n",
       "  </thead>\n",
       "  <tbody>\n",
       "    <tr>\n",
       "      <th>2294</th>\n",
       "      <td>2015-02-06 08:04:00</td>\n",
       "      <td>20.500</td>\n",
       "      <td>19.2425</td>\n",
       "      <td>405.0</td>\n",
       "      <td>515.0</td>\n",
       "      <td>0.002862</td>\n",
       "      <td>1</td>\n",
       "    </tr>\n",
       "    <tr>\n",
       "      <th>1489</th>\n",
       "      <td>2015-02-05 18:39:00</td>\n",
       "      <td>21.390</td>\n",
       "      <td>22.6950</td>\n",
       "      <td>0.0</td>\n",
       "      <td>677.5</td>\n",
       "      <td>0.003570</td>\n",
       "      <td>0</td>\n",
       "    </tr>\n",
       "    <tr>\n",
       "      <th>5311</th>\n",
       "      <td>2015-02-08 10:21:00</td>\n",
       "      <td>19.290</td>\n",
       "      <td>30.6000</td>\n",
       "      <td>24.0</td>\n",
       "      <td>431.5</td>\n",
       "      <td>0.004232</td>\n",
       "      <td>0</td>\n",
       "    </tr>\n",
       "    <tr>\n",
       "      <th>860</th>\n",
       "      <td>2015-02-05 08:10:00</td>\n",
       "      <td>21.075</td>\n",
       "      <td>23.7200</td>\n",
       "      <td>419.0</td>\n",
       "      <td>594.0</td>\n",
       "      <td>0.003660</td>\n",
       "      <td>1</td>\n",
       "    </tr>\n",
       "    <tr>\n",
       "      <th>3489</th>\n",
       "      <td>2015-02-07 03:59:00</td>\n",
       "      <td>19.790</td>\n",
       "      <td>19.2900</td>\n",
       "      <td>0.0</td>\n",
       "      <td>438.0</td>\n",
       "      <td>0.002746</td>\n",
       "      <td>0</td>\n",
       "    </tr>\n",
       "  </tbody>\n",
       "</table>\n",
       "</div>"
      ],
      "text/plain": [
       "                     date  Temperature  Humidity  Light    CO2  HumidityRatio  \\\n",
       "2294  2015-02-06 08:04:00       20.500   19.2425  405.0  515.0       0.002862   \n",
       "1489  2015-02-05 18:39:00       21.390   22.6950    0.0  677.5       0.003570   \n",
       "5311  2015-02-08 10:21:00       19.290   30.6000   24.0  431.5       0.004232   \n",
       "860   2015-02-05 08:10:00       21.075   23.7200  419.0  594.0       0.003660   \n",
       "3489  2015-02-07 03:59:00       19.790   19.2900    0.0  438.0       0.002746   \n",
       "\n",
       "      Occupancy  \n",
       "2294          1  \n",
       "1489          0  \n",
       "5311          0  \n",
       "860           1  \n",
       "3489          0  "
      ]
     },
     "execution_count": 14,
     "metadata": {},
     "output_type": "execute_result"
    }
   ],
   "source": [
    "df_test_1.head(5)\n",
    "df_test_2.sample(5)\n",
    "df_training.sample(5)"
   ]
  },
  {
   "cell_type": "code",
   "execution_count": 15,
   "metadata": {
    "colab": {},
    "colab_type": "code",
    "id": "ucjrOGfXaSUf",
    "outputId": "b8625754-32c2-47b6-977b-a4cc12d10176",
    "scrolled": true
   },
   "outputs": [
    {
     "data": {
      "text/html": [
       "<div>\n",
       "<style scoped>\n",
       "    .dataframe tbody tr th:only-of-type {\n",
       "        vertical-align: middle;\n",
       "    }\n",
       "\n",
       "    .dataframe tbody tr th {\n",
       "        vertical-align: top;\n",
       "    }\n",
       "\n",
       "    .dataframe thead th {\n",
       "        text-align: right;\n",
       "    }\n",
       "</style>\n",
       "<table border=\"1\" class=\"dataframe\">\n",
       "  <thead>\n",
       "    <tr style=\"text-align: right;\">\n",
       "      <th></th>\n",
       "      <th>date</th>\n",
       "      <th>Temperature</th>\n",
       "      <th>Humidity</th>\n",
       "      <th>Light</th>\n",
       "      <th>CO2</th>\n",
       "      <th>HumidityRatio</th>\n",
       "      <th>Occupancy</th>\n",
       "    </tr>\n",
       "  </thead>\n",
       "  <tbody>\n",
       "    <tr>\n",
       "      <th>0</th>\n",
       "      <td>2015-02-02 14:19:00</td>\n",
       "      <td>23.7000</td>\n",
       "      <td>26.272</td>\n",
       "      <td>585.200000</td>\n",
       "      <td>749.200000</td>\n",
       "      <td>0.004764</td>\n",
       "      <td>1</td>\n",
       "    </tr>\n",
       "    <tr>\n",
       "      <th>1</th>\n",
       "      <td>2015-02-02 14:19:59</td>\n",
       "      <td>23.7180</td>\n",
       "      <td>26.290</td>\n",
       "      <td>578.400000</td>\n",
       "      <td>760.400000</td>\n",
       "      <td>0.004773</td>\n",
       "      <td>1</td>\n",
       "    </tr>\n",
       "    <tr>\n",
       "      <th>2</th>\n",
       "      <td>2015-02-02 14:21:00</td>\n",
       "      <td>23.7300</td>\n",
       "      <td>26.230</td>\n",
       "      <td>572.666667</td>\n",
       "      <td>769.666667</td>\n",
       "      <td>0.004765</td>\n",
       "      <td>1</td>\n",
       "    </tr>\n",
       "    <tr>\n",
       "      <th>3</th>\n",
       "      <td>2015-02-02 14:22:00</td>\n",
       "      <td>23.7225</td>\n",
       "      <td>26.125</td>\n",
       "      <td>493.750000</td>\n",
       "      <td>774.750000</td>\n",
       "      <td>0.004744</td>\n",
       "      <td>1</td>\n",
       "    </tr>\n",
       "    <tr>\n",
       "      <th>4</th>\n",
       "      <td>2015-02-02 14:23:00</td>\n",
       "      <td>23.7540</td>\n",
       "      <td>26.200</td>\n",
       "      <td>488.600000</td>\n",
       "      <td>779.000000</td>\n",
       "      <td>0.004767</td>\n",
       "      <td>1</td>\n",
       "    </tr>\n",
       "    <tr>\n",
       "      <th>5</th>\n",
       "      <td>2015-02-02 14:23:59</td>\n",
       "      <td>23.7600</td>\n",
       "      <td>26.260</td>\n",
       "      <td>568.666667</td>\n",
       "      <td>790.000000</td>\n",
       "      <td>0.004779</td>\n",
       "      <td>1</td>\n",
       "    </tr>\n",
       "    <tr>\n",
       "      <th>6</th>\n",
       "      <td>2015-02-02 14:25:00</td>\n",
       "      <td>23.7300</td>\n",
       "      <td>26.290</td>\n",
       "      <td>536.333333</td>\n",
       "      <td>798.000000</td>\n",
       "      <td>0.004776</td>\n",
       "      <td>1</td>\n",
       "    </tr>\n",
       "    <tr>\n",
       "      <th>7</th>\n",
       "      <td>2015-02-02 14:25:59</td>\n",
       "      <td>23.7540</td>\n",
       "      <td>26.290</td>\n",
       "      <td>509.000000</td>\n",
       "      <td>797.000000</td>\n",
       "      <td>0.004783</td>\n",
       "      <td>1</td>\n",
       "    </tr>\n",
       "    <tr>\n",
       "      <th>8</th>\n",
       "      <td>2015-02-02 14:26:59</td>\n",
       "      <td>23.7540</td>\n",
       "      <td>26.350</td>\n",
       "      <td>476.000000</td>\n",
       "      <td>803.200000</td>\n",
       "      <td>0.004794</td>\n",
       "      <td>1</td>\n",
       "    </tr>\n",
       "    <tr>\n",
       "      <th>9</th>\n",
       "      <td>2015-02-02 14:28:00</td>\n",
       "      <td>23.7360</td>\n",
       "      <td>26.390</td>\n",
       "      <td>510.000000</td>\n",
       "      <td>809.000000</td>\n",
       "      <td>0.004796</td>\n",
       "      <td>1</td>\n",
       "    </tr>\n",
       "  </tbody>\n",
       "</table>\n",
       "</div>"
      ],
      "text/plain": [
       "                  date  Temperature  Humidity       Light         CO2  \\\n",
       "0  2015-02-02 14:19:00      23.7000    26.272  585.200000  749.200000   \n",
       "1  2015-02-02 14:19:59      23.7180    26.290  578.400000  760.400000   \n",
       "2  2015-02-02 14:21:00      23.7300    26.230  572.666667  769.666667   \n",
       "3  2015-02-02 14:22:00      23.7225    26.125  493.750000  774.750000   \n",
       "4  2015-02-02 14:23:00      23.7540    26.200  488.600000  779.000000   \n",
       "5  2015-02-02 14:23:59      23.7600    26.260  568.666667  790.000000   \n",
       "6  2015-02-02 14:25:00      23.7300    26.290  536.333333  798.000000   \n",
       "7  2015-02-02 14:25:59      23.7540    26.290  509.000000  797.000000   \n",
       "8  2015-02-02 14:26:59      23.7540    26.350  476.000000  803.200000   \n",
       "9  2015-02-02 14:28:00      23.7360    26.390  510.000000  809.000000   \n",
       "\n",
       "   HumidityRatio  Occupancy  \n",
       "0       0.004764          1  \n",
       "1       0.004773          1  \n",
       "2       0.004765          1  \n",
       "3       0.004744          1  \n",
       "4       0.004767          1  \n",
       "5       0.004779          1  \n",
       "6       0.004776          1  \n",
       "7       0.004783          1  \n",
       "8       0.004794          1  \n",
       "9       0.004796          1  "
      ]
     },
     "execution_count": 15,
     "metadata": {},
     "output_type": "execute_result"
    }
   ],
   "source": [
    "from pandas import concat\n",
    "df = concat([df_test_1, df_training, df_test_2], ignore_index = True)\n",
    "#df = df.drop(axis)\n",
    "df.head(10)\n",
    "\n",
    "df.to_csv(\"dataframe.csv\")"
   ]
  },
  {
   "cell_type": "code",
   "execution_count": 16,
   "metadata": {
    "colab": {},
    "colab_type": "code",
    "id": "dfpb4DsoqquF",
    "outputId": "3fed35c8-f85a-417c-d76c-8ea052aefe95"
   },
   "outputs": [
    {
     "data": {
      "text/plain": [
       "Index(['date', 'Temperature', 'Humidity', 'Light', 'CO2', 'HumidityRatio',\n",
       "       'Occupancy'],\n",
       "      dtype='object')"
      ]
     },
     "execution_count": 16,
     "metadata": {},
     "output_type": "execute_result"
    }
   ],
   "source": [
    "df.columns"
   ]
  },
  {
   "cell_type": "code",
   "execution_count": 18,
   "metadata": {
    "colab": {},
    "colab_type": "code",
    "id": "xzt05Z6OaSUl",
    "outputId": "75480f10-50c0-4eaa-fcb1-a869d398b8b1"
   },
   "outputs": [
    {
     "data": {
      "text/html": [
       "<div>\n",
       "<style scoped>\n",
       "    .dataframe tbody tr th:only-of-type {\n",
       "        vertical-align: middle;\n",
       "    }\n",
       "\n",
       "    .dataframe tbody tr th {\n",
       "        vertical-align: top;\n",
       "    }\n",
       "\n",
       "    .dataframe thead th {\n",
       "        text-align: right;\n",
       "    }\n",
       "</style>\n",
       "<table border=\"1\" class=\"dataframe\">\n",
       "  <thead>\n",
       "    <tr style=\"text-align: right;\">\n",
       "      <th></th>\n",
       "      <th>date</th>\n",
       "      <th>Temperature</th>\n",
       "      <th>Humidity</th>\n",
       "      <th>Light</th>\n",
       "      <th>CO2</th>\n",
       "      <th>HumidityRatio</th>\n",
       "      <th>Occupancy</th>\n",
       "      <th>Dates</th>\n",
       "      <th>Time</th>\n",
       "      <th>Hours</th>\n",
       "      <th>Minutes</th>\n",
       "      <th>Seconds</th>\n",
       "    </tr>\n",
       "  </thead>\n",
       "  <tbody>\n",
       "    <tr>\n",
       "      <th>10548</th>\n",
       "      <td>2015-02-10 05:13:59</td>\n",
       "      <td>20.100000</td>\n",
       "      <td>33.000000</td>\n",
       "      <td>0.00</td>\n",
       "      <td>445.000000</td>\n",
       "      <td>0.004804</td>\n",
       "      <td>0</td>\n",
       "      <td>2015-02-10</td>\n",
       "      <td>05:13:59</td>\n",
       "      <td>5</td>\n",
       "      <td>13</td>\n",
       "      <td>59</td>\n",
       "    </tr>\n",
       "    <tr>\n",
       "      <th>138</th>\n",
       "      <td>2015-02-02 16:37:00</td>\n",
       "      <td>22.700000</td>\n",
       "      <td>26.200000</td>\n",
       "      <td>441.00</td>\n",
       "      <td>941.600000</td>\n",
       "      <td>0.004470</td>\n",
       "      <td>1</td>\n",
       "      <td>2015-02-02</td>\n",
       "      <td>16:37:00</td>\n",
       "      <td>16</td>\n",
       "      <td>37</td>\n",
       "      <td>0</td>\n",
       "    </tr>\n",
       "    <tr>\n",
       "      <th>1564</th>\n",
       "      <td>2015-02-03 16:23:00</td>\n",
       "      <td>22.772000</td>\n",
       "      <td>31.020000</td>\n",
       "      <td>444.00</td>\n",
       "      <td>1364.000000</td>\n",
       "      <td>0.005323</td>\n",
       "      <td>1</td>\n",
       "      <td>2015-02-03</td>\n",
       "      <td>16:23:00</td>\n",
       "      <td>16</td>\n",
       "      <td>23</td>\n",
       "      <td>0</td>\n",
       "    </tr>\n",
       "    <tr>\n",
       "      <th>4515</th>\n",
       "      <td>2015-02-06 00:40:59</td>\n",
       "      <td>20.200000</td>\n",
       "      <td>20.890000</td>\n",
       "      <td>0.00</td>\n",
       "      <td>446.000000</td>\n",
       "      <td>0.003051</td>\n",
       "      <td>0</td>\n",
       "      <td>2015-02-06</td>\n",
       "      <td>00:40:59</td>\n",
       "      <td>0</td>\n",
       "      <td>40</td>\n",
       "      <td>59</td>\n",
       "    </tr>\n",
       "    <tr>\n",
       "      <th>12107</th>\n",
       "      <td>2015-02-12 12:27:00</td>\n",
       "      <td>24.133333</td>\n",
       "      <td>22.700000</td>\n",
       "      <td>264.00</td>\n",
       "      <td>724.250000</td>\n",
       "      <td>0.004221</td>\n",
       "      <td>0</td>\n",
       "      <td>2015-02-12</td>\n",
       "      <td>12:27:00</td>\n",
       "      <td>12</td>\n",
       "      <td>27</td>\n",
       "      <td>0</td>\n",
       "    </tr>\n",
       "    <tr>\n",
       "      <th>13389</th>\n",
       "      <td>2015-02-13 09:49:00</td>\n",
       "      <td>22.500000</td>\n",
       "      <td>24.917500</td>\n",
       "      <td>1021.25</td>\n",
       "      <td>577.500000</td>\n",
       "      <td>0.004198</td>\n",
       "      <td>1</td>\n",
       "      <td>2015-02-13</td>\n",
       "      <td>09:49:00</td>\n",
       "      <td>9</td>\n",
       "      <td>49</td>\n",
       "      <td>0</td>\n",
       "    </tr>\n",
       "    <tr>\n",
       "      <th>19945</th>\n",
       "      <td>2015-02-17 23:05:00</td>\n",
       "      <td>20.856667</td>\n",
       "      <td>30.793333</td>\n",
       "      <td>0.00</td>\n",
       "      <td>1135.333333</td>\n",
       "      <td>0.004696</td>\n",
       "      <td>0</td>\n",
       "      <td>2015-02-17</td>\n",
       "      <td>23:05:00</td>\n",
       "      <td>23</td>\n",
       "      <td>5</td>\n",
       "      <td>0</td>\n",
       "    </tr>\n",
       "    <tr>\n",
       "      <th>13231</th>\n",
       "      <td>2015-02-13 07:11:00</td>\n",
       "      <td>20.890000</td>\n",
       "      <td>25.390000</td>\n",
       "      <td>0.00</td>\n",
       "      <td>528.000000</td>\n",
       "      <td>0.003875</td>\n",
       "      <td>0</td>\n",
       "      <td>2015-02-13</td>\n",
       "      <td>07:11:00</td>\n",
       "      <td>7</td>\n",
       "      <td>11</td>\n",
       "      <td>0</td>\n",
       "    </tr>\n",
       "    <tr>\n",
       "      <th>18449</th>\n",
       "      <td>2015-02-16 22:08:59</td>\n",
       "      <td>20.390000</td>\n",
       "      <td>30.050000</td>\n",
       "      <td>0.00</td>\n",
       "      <td>710.000000</td>\n",
       "      <td>0.004451</td>\n",
       "      <td>0</td>\n",
       "      <td>2015-02-16</td>\n",
       "      <td>22:08:59</td>\n",
       "      <td>22</td>\n",
       "      <td>8</td>\n",
       "      <td>59</td>\n",
       "    </tr>\n",
       "    <tr>\n",
       "      <th>9632</th>\n",
       "      <td>2015-02-09 13:58:00</td>\n",
       "      <td>21.290000</td>\n",
       "      <td>32.950000</td>\n",
       "      <td>474.50</td>\n",
       "      <td>1129.500000</td>\n",
       "      <td>0.005164</td>\n",
       "      <td>1</td>\n",
       "      <td>2015-02-09</td>\n",
       "      <td>13:58:00</td>\n",
       "      <td>13</td>\n",
       "      <td>58</td>\n",
       "      <td>0</td>\n",
       "    </tr>\n",
       "  </tbody>\n",
       "</table>\n",
       "</div>"
      ],
      "text/plain": [
       "                      date  Temperature   Humidity    Light          CO2  \\\n",
       "10548  2015-02-10 05:13:59    20.100000  33.000000     0.00   445.000000   \n",
       "138    2015-02-02 16:37:00    22.700000  26.200000   441.00   941.600000   \n",
       "1564   2015-02-03 16:23:00    22.772000  31.020000   444.00  1364.000000   \n",
       "4515   2015-02-06 00:40:59    20.200000  20.890000     0.00   446.000000   \n",
       "12107  2015-02-12 12:27:00    24.133333  22.700000   264.00   724.250000   \n",
       "13389  2015-02-13 09:49:00    22.500000  24.917500  1021.25   577.500000   \n",
       "19945  2015-02-17 23:05:00    20.856667  30.793333     0.00  1135.333333   \n",
       "13231  2015-02-13 07:11:00    20.890000  25.390000     0.00   528.000000   \n",
       "18449  2015-02-16 22:08:59    20.390000  30.050000     0.00   710.000000   \n",
       "9632   2015-02-09 13:58:00    21.290000  32.950000   474.50  1129.500000   \n",
       "\n",
       "       HumidityRatio  Occupancy       Dates      Time  Hours  Minutes  Seconds  \n",
       "10548       0.004804          0  2015-02-10  05:13:59      5       13       59  \n",
       "138         0.004470          1  2015-02-02  16:37:00     16       37        0  \n",
       "1564        0.005323          1  2015-02-03  16:23:00     16       23        0  \n",
       "4515        0.003051          0  2015-02-06  00:40:59      0       40       59  \n",
       "12107       0.004221          0  2015-02-12  12:27:00     12       27        0  \n",
       "13389       0.004198          1  2015-02-13  09:49:00      9       49        0  \n",
       "19945       0.004696          0  2015-02-17  23:05:00     23        5        0  \n",
       "13231       0.003875          0  2015-02-13  07:11:00      7       11        0  \n",
       "18449       0.004451          0  2015-02-16  22:08:59     22        8       59  \n",
       "9632        0.005164          1  2015-02-09  13:58:00     13       58        0  "
      ]
     },
     "execution_count": 18,
     "metadata": {},
     "output_type": "execute_result"
    }
   ],
   "source": [
    "import datetime\n",
    "\n",
    "df['Dates'] = pd.to_datetime(df['date']).dt.date\n",
    "df['Time'] = pd.to_datetime(df['date']).dt.time\n",
    "df['Hours'] = pd.to_datetime(df['date']).dt.hour\n",
    "df['Minutes'] = pd.to_datetime(df['date']).dt.minute\n",
    "df['Seconds'] = pd.to_datetime(df['date']).dt.second\n",
    "\n",
    "df.sample(10)"
   ]
  },
  {
   "cell_type": "code",
   "execution_count": 19,
   "metadata": {
    "colab": {},
    "colab_type": "code",
    "id": "Jd27877QVEW3",
    "outputId": "2e30e3af-5f86-45f4-8ebe-974ee8eb7010"
   },
   "outputs": [
    {
     "data": {
      "text/html": [
       "<div>\n",
       "<style scoped>\n",
       "    .dataframe tbody tr th:only-of-type {\n",
       "        vertical-align: middle;\n",
       "    }\n",
       "\n",
       "    .dataframe tbody tr th {\n",
       "        vertical-align: top;\n",
       "    }\n",
       "\n",
       "    .dataframe thead th {\n",
       "        text-align: right;\n",
       "    }\n",
       "</style>\n",
       "<table border=\"1\" class=\"dataframe\">\n",
       "  <thead>\n",
       "    <tr style=\"text-align: right;\">\n",
       "      <th></th>\n",
       "      <th>Temperature</th>\n",
       "      <th>Humidity</th>\n",
       "      <th>Light</th>\n",
       "      <th>CO2</th>\n",
       "      <th>HumidityRatio</th>\n",
       "      <th>Occupancy</th>\n",
       "      <th>Dates</th>\n",
       "      <th>Time</th>\n",
       "      <th>Hours</th>\n",
       "      <th>Minutes</th>\n",
       "      <th>Seconds</th>\n",
       "    </tr>\n",
       "  </thead>\n",
       "  <tbody>\n",
       "    <tr>\n",
       "      <th>20555</th>\n",
       "      <td>20.815</td>\n",
       "      <td>27.7175</td>\n",
       "      <td>429.75</td>\n",
       "      <td>1505.25</td>\n",
       "      <td>0.004213</td>\n",
       "      <td>1</td>\n",
       "      <td>2015-02-18</td>\n",
       "      <td>09:15:00</td>\n",
       "      <td>9</td>\n",
       "      <td>15</td>\n",
       "      <td>0</td>\n",
       "    </tr>\n",
       "    <tr>\n",
       "      <th>20556</th>\n",
       "      <td>20.865</td>\n",
       "      <td>27.7450</td>\n",
       "      <td>423.50</td>\n",
       "      <td>1514.50</td>\n",
       "      <td>0.004230</td>\n",
       "      <td>1</td>\n",
       "      <td>2015-02-18</td>\n",
       "      <td>09:16:00</td>\n",
       "      <td>9</td>\n",
       "      <td>16</td>\n",
       "      <td>0</td>\n",
       "    </tr>\n",
       "    <tr>\n",
       "      <th>20557</th>\n",
       "      <td>20.890</td>\n",
       "      <td>27.7450</td>\n",
       "      <td>423.50</td>\n",
       "      <td>1521.50</td>\n",
       "      <td>0.004237</td>\n",
       "      <td>1</td>\n",
       "      <td>2015-02-18</td>\n",
       "      <td>09:16:59</td>\n",
       "      <td>9</td>\n",
       "      <td>16</td>\n",
       "      <td>59</td>\n",
       "    </tr>\n",
       "    <tr>\n",
       "      <th>20558</th>\n",
       "      <td>20.890</td>\n",
       "      <td>28.0225</td>\n",
       "      <td>418.75</td>\n",
       "      <td>1632.00</td>\n",
       "      <td>0.004279</td>\n",
       "      <td>1</td>\n",
       "      <td>2015-02-18</td>\n",
       "      <td>09:17:59</td>\n",
       "      <td>9</td>\n",
       "      <td>17</td>\n",
       "      <td>59</td>\n",
       "    </tr>\n",
       "    <tr>\n",
       "      <th>20559</th>\n",
       "      <td>21.000</td>\n",
       "      <td>28.1000</td>\n",
       "      <td>409.00</td>\n",
       "      <td>1864.00</td>\n",
       "      <td>0.004321</td>\n",
       "      <td>1</td>\n",
       "      <td>2015-02-18</td>\n",
       "      <td>09:19:00</td>\n",
       "      <td>9</td>\n",
       "      <td>19</td>\n",
       "      <td>0</td>\n",
       "    </tr>\n",
       "  </tbody>\n",
       "</table>\n",
       "</div>"
      ],
      "text/plain": [
       "       Temperature  Humidity   Light      CO2  HumidityRatio  Occupancy  \\\n",
       "20555       20.815   27.7175  429.75  1505.25       0.004213          1   \n",
       "20556       20.865   27.7450  423.50  1514.50       0.004230          1   \n",
       "20557       20.890   27.7450  423.50  1521.50       0.004237          1   \n",
       "20558       20.890   28.0225  418.75  1632.00       0.004279          1   \n",
       "20559       21.000   28.1000  409.00  1864.00       0.004321          1   \n",
       "\n",
       "            Dates      Time  Hours  Minutes  Seconds  \n",
       "20555  2015-02-18  09:15:00      9       15        0  \n",
       "20556  2015-02-18  09:16:00      9       16        0  \n",
       "20557  2015-02-18  09:16:59      9       16       59  \n",
       "20558  2015-02-18  09:17:59      9       17       59  \n",
       "20559  2015-02-18  09:19:00      9       19        0  "
      ]
     },
     "execution_count": 19,
     "metadata": {},
     "output_type": "execute_result"
    }
   ],
   "source": [
    "df=df.drop('date', axis=1)\n",
    "df.tail()"
   ]
  },
  {
   "cell_type": "code",
   "execution_count": 20,
   "metadata": {
    "colab": {},
    "colab_type": "code",
    "id": "WqChL7q6qquJ",
    "outputId": "49fcd502-a7c4-43d4-86a4-cbe3dbb78ec7"
   },
   "outputs": [
    {
     "data": {
      "text/plain": [
       "Temperature      float64\n",
       "Humidity         float64\n",
       "Light            float64\n",
       "CO2              float64\n",
       "HumidityRatio    float64\n",
       "Occupancy          int64\n",
       "Dates             object\n",
       "Time              object\n",
       "Hours              int64\n",
       "Minutes            int64\n",
       "Seconds            int64\n",
       "dtype: object"
      ]
     },
     "execution_count": 20,
     "metadata": {},
     "output_type": "execute_result"
    }
   ],
   "source": [
    "df.dtypes"
   ]
  },
  {
   "cell_type": "code",
   "execution_count": 21,
   "metadata": {
    "colab": {},
    "colab_type": "code",
    "id": "ncST6-6VVEW_",
    "outputId": "08ad3e32-5f72-45c8-b049-e3a2eadace6e"
   },
   "outputs": [
    {
     "data": {
      "text/html": [
       "<div>\n",
       "<style scoped>\n",
       "    .dataframe tbody tr th:only-of-type {\n",
       "        vertical-align: middle;\n",
       "    }\n",
       "\n",
       "    .dataframe tbody tr th {\n",
       "        vertical-align: top;\n",
       "    }\n",
       "\n",
       "    .dataframe thead th {\n",
       "        text-align: right;\n",
       "    }\n",
       "</style>\n",
       "<table border=\"1\" class=\"dataframe\">\n",
       "  <thead>\n",
       "    <tr style=\"text-align: right;\">\n",
       "      <th></th>\n",
       "      <th>Dates</th>\n",
       "      <th>Time</th>\n",
       "    </tr>\n",
       "  </thead>\n",
       "  <tbody>\n",
       "    <tr>\n",
       "      <th>count</th>\n",
       "      <td>20560</td>\n",
       "      <td>20560</td>\n",
       "    </tr>\n",
       "    <tr>\n",
       "      <th>unique</th>\n",
       "      <td>17</td>\n",
       "      <td>1440</td>\n",
       "    </tr>\n",
       "    <tr>\n",
       "      <th>top</th>\n",
       "      <td>2015-02-05</td>\n",
       "      <td>18:33:00</td>\n",
       "    </tr>\n",
       "    <tr>\n",
       "      <th>freq</th>\n",
       "      <td>1440</td>\n",
       "      <td>15</td>\n",
       "    </tr>\n",
       "  </tbody>\n",
       "</table>\n",
       "</div>"
      ],
      "text/plain": [
       "             Dates      Time\n",
       "count        20560     20560\n",
       "unique          17      1440\n",
       "top     2015-02-05  18:33:00\n",
       "freq          1440        15"
      ]
     },
     "execution_count": 21,
     "metadata": {},
     "output_type": "execute_result"
    }
   ],
   "source": [
    "df.describe(include=['O'])"
   ]
  },
  {
   "cell_type": "code",
   "execution_count": 22,
   "metadata": {
    "colab": {},
    "colab_type": "code",
    "id": "eKJOrdjGqquP",
    "outputId": "ab7ea66d-1ad7-45e4-86b9-d25339f537a7"
   },
   "outputs": [
    {
     "name": "stdout",
     "output_type": "stream",
     "text": [
      "<class 'pandas.core.frame.DataFrame'>\n",
      "RangeIndex: 20560 entries, 0 to 20559\n",
      "Data columns (total 11 columns):\n",
      "Temperature      20560 non-null float64\n",
      "Humidity         20560 non-null float64\n",
      "Light            20560 non-null float64\n",
      "CO2              20560 non-null float64\n",
      "HumidityRatio    20560 non-null float64\n",
      "Occupancy        20560 non-null int64\n",
      "Dates            20560 non-null object\n",
      "Time             20560 non-null object\n",
      "Hours            20560 non-null int64\n",
      "Minutes          20560 non-null int64\n",
      "Seconds          20560 non-null int64\n",
      "dtypes: float64(5), int64(4), object(2)\n",
      "memory usage: 1.7+ MB\n"
     ]
    }
   ],
   "source": [
    "df.info()"
   ]
  },
  {
   "cell_type": "code",
   "execution_count": 23,
   "metadata": {
    "colab": {},
    "colab_type": "code",
    "id": "cx2mp5o9qquT",
    "outputId": "21081d57-a952-4a64-d752-e61cbac27870"
   },
   "outputs": [
    {
     "data": {
      "text/html": [
       "<div>\n",
       "<style scoped>\n",
       "    .dataframe tbody tr th:only-of-type {\n",
       "        vertical-align: middle;\n",
       "    }\n",
       "\n",
       "    .dataframe tbody tr th {\n",
       "        vertical-align: top;\n",
       "    }\n",
       "\n",
       "    .dataframe thead th {\n",
       "        text-align: right;\n",
       "    }\n",
       "</style>\n",
       "<table border=\"1\" class=\"dataframe\">\n",
       "  <thead>\n",
       "    <tr style=\"text-align: right;\">\n",
       "      <th></th>\n",
       "      <th>Temperature</th>\n",
       "      <th>Humidity</th>\n",
       "      <th>Light</th>\n",
       "      <th>CO2</th>\n",
       "      <th>HumidityRatio</th>\n",
       "      <th>Occupancy</th>\n",
       "      <th>Hours</th>\n",
       "      <th>Minutes</th>\n",
       "      <th>Seconds</th>\n",
       "    </tr>\n",
       "  </thead>\n",
       "  <tbody>\n",
       "    <tr>\n",
       "      <th>count</th>\n",
       "      <td>20560.000000</td>\n",
       "      <td>20560.000000</td>\n",
       "      <td>20560.000000</td>\n",
       "      <td>20560.000000</td>\n",
       "      <td>20560.000000</td>\n",
       "      <td>20560.000000</td>\n",
       "      <td>20560.000000</td>\n",
       "      <td>20560.000000</td>\n",
       "      <td>20560.000000</td>\n",
       "    </tr>\n",
       "    <tr>\n",
       "      <th>mean</th>\n",
       "      <td>20.906212</td>\n",
       "      <td>27.655925</td>\n",
       "      <td>130.756622</td>\n",
       "      <td>690.553276</td>\n",
       "      <td>0.004228</td>\n",
       "      <td>0.231031</td>\n",
       "      <td>11.446887</td>\n",
       "      <td>29.504621</td>\n",
       "      <td>18.360019</td>\n",
       "    </tr>\n",
       "    <tr>\n",
       "      <th>std</th>\n",
       "      <td>1.055315</td>\n",
       "      <td>4.982154</td>\n",
       "      <td>210.430875</td>\n",
       "      <td>311.201281</td>\n",
       "      <td>0.000768</td>\n",
       "      <td>0.421503</td>\n",
       "      <td>7.075840</td>\n",
       "      <td>17.309172</td>\n",
       "      <td>27.316426</td>\n",
       "    </tr>\n",
       "    <tr>\n",
       "      <th>min</th>\n",
       "      <td>19.000000</td>\n",
       "      <td>16.745000</td>\n",
       "      <td>0.000000</td>\n",
       "      <td>412.750000</td>\n",
       "      <td>0.002674</td>\n",
       "      <td>0.000000</td>\n",
       "      <td>0.000000</td>\n",
       "      <td>0.000000</td>\n",
       "      <td>0.000000</td>\n",
       "    </tr>\n",
       "    <tr>\n",
       "      <th>25%</th>\n",
       "      <td>20.200000</td>\n",
       "      <td>24.500000</td>\n",
       "      <td>0.000000</td>\n",
       "      <td>460.000000</td>\n",
       "      <td>0.003719</td>\n",
       "      <td>0.000000</td>\n",
       "      <td>5.000000</td>\n",
       "      <td>14.000000</td>\n",
       "      <td>0.000000</td>\n",
       "    </tr>\n",
       "    <tr>\n",
       "      <th>50%</th>\n",
       "      <td>20.700000</td>\n",
       "      <td>27.290000</td>\n",
       "      <td>0.000000</td>\n",
       "      <td>565.416667</td>\n",
       "      <td>0.004292</td>\n",
       "      <td>0.000000</td>\n",
       "      <td>11.000000</td>\n",
       "      <td>29.000000</td>\n",
       "      <td>0.000000</td>\n",
       "    </tr>\n",
       "    <tr>\n",
       "      <th>75%</th>\n",
       "      <td>21.525000</td>\n",
       "      <td>31.290000</td>\n",
       "      <td>301.000000</td>\n",
       "      <td>804.666667</td>\n",
       "      <td>0.004832</td>\n",
       "      <td>0.000000</td>\n",
       "      <td>18.000000</td>\n",
       "      <td>44.000000</td>\n",
       "      <td>59.000000</td>\n",
       "    </tr>\n",
       "    <tr>\n",
       "      <th>max</th>\n",
       "      <td>24.408333</td>\n",
       "      <td>39.500000</td>\n",
       "      <td>1697.250000</td>\n",
       "      <td>2076.500000</td>\n",
       "      <td>0.006476</td>\n",
       "      <td>1.000000</td>\n",
       "      <td>23.000000</td>\n",
       "      <td>59.000000</td>\n",
       "      <td>59.000000</td>\n",
       "    </tr>\n",
       "  </tbody>\n",
       "</table>\n",
       "</div>"
      ],
      "text/plain": [
       "        Temperature      Humidity         Light           CO2  HumidityRatio  \\\n",
       "count  20560.000000  20560.000000  20560.000000  20560.000000   20560.000000   \n",
       "mean      20.906212     27.655925    130.756622    690.553276       0.004228   \n",
       "std        1.055315      4.982154    210.430875    311.201281       0.000768   \n",
       "min       19.000000     16.745000      0.000000    412.750000       0.002674   \n",
       "25%       20.200000     24.500000      0.000000    460.000000       0.003719   \n",
       "50%       20.700000     27.290000      0.000000    565.416667       0.004292   \n",
       "75%       21.525000     31.290000    301.000000    804.666667       0.004832   \n",
       "max       24.408333     39.500000   1697.250000   2076.500000       0.006476   \n",
       "\n",
       "          Occupancy         Hours       Minutes       Seconds  \n",
       "count  20560.000000  20560.000000  20560.000000  20560.000000  \n",
       "mean       0.231031     11.446887     29.504621     18.360019  \n",
       "std        0.421503      7.075840     17.309172     27.316426  \n",
       "min        0.000000      0.000000      0.000000      0.000000  \n",
       "25%        0.000000      5.000000     14.000000      0.000000  \n",
       "50%        0.000000     11.000000     29.000000      0.000000  \n",
       "75%        0.000000     18.000000     44.000000     59.000000  \n",
       "max        1.000000     23.000000     59.000000     59.000000  "
      ]
     },
     "execution_count": 23,
     "metadata": {},
     "output_type": "execute_result"
    }
   ],
   "source": [
    "df.describe()"
   ]
  },
  {
   "cell_type": "code",
   "execution_count": 24,
   "metadata": {
    "colab": {},
    "colab_type": "code",
    "id": "ifClNdZXqquX",
    "outputId": "2e1e5801-8864-4d8e-ca4c-03c32a7430d8"
   },
   "outputs": [
    {
     "data": {
      "text/plain": [
       "Temperature      0\n",
       "Humidity         0\n",
       "Light            0\n",
       "CO2              0\n",
       "HumidityRatio    0\n",
       "Occupancy        0\n",
       "Dates            0\n",
       "Time             0\n",
       "Hours            0\n",
       "Minutes          0\n",
       "Seconds          0\n",
       "dtype: int64"
      ]
     },
     "execution_count": 24,
     "metadata": {},
     "output_type": "execute_result"
    }
   ],
   "source": [
    "df.isnull().sum()"
   ]
  },
  {
   "cell_type": "code",
   "execution_count": 17,
   "metadata": {
    "colab": {},
    "colab_type": "code",
    "id": "iY0qOsdtY6RE"
   },
   "outputs": [
    {
     "data": {
      "text/plain": [
       "<matplotlib.axes._subplots.AxesSubplot at 0x19c2183c240>"
      ]
     },
     "execution_count": 17,
     "metadata": {},
     "output_type": "execute_result"
    },
    {
     "data": {
      "text/plain": [
       "<matplotlib.axes._subplots.AxesSubplot at 0x19c2183c240>"
      ]
     },
     "execution_count": 17,
     "metadata": {},
     "output_type": "execute_result"
    },
    {
     "data": {
      "text/plain": [
       "<matplotlib.axes._subplots.AxesSubplot at 0x19c21854358>"
      ]
     },
     "execution_count": 17,
     "metadata": {},
     "output_type": "execute_result"
    },
    {
     "data": {
      "text/plain": [
       "<matplotlib.axes._subplots.AxesSubplot at 0x19c21854358>"
      ]
     },
     "execution_count": 17,
     "metadata": {},
     "output_type": "execute_result"
    },
    {
     "data": {
      "text/plain": [
       "<matplotlib.axes._subplots.AxesSubplot at 0x19c215bda90>"
      ]
     },
     "execution_count": 17,
     "metadata": {},
     "output_type": "execute_result"
    },
    {
     "data": {
      "text/plain": [
       "<matplotlib.axes._subplots.AxesSubplot at 0x19c215bda90>"
      ]
     },
     "execution_count": 17,
     "metadata": {},
     "output_type": "execute_result"
    },
    {
     "data": {
      "text/plain": [
       "<matplotlib.axes._subplots.AxesSubplot at 0x19c215e7b38>"
      ]
     },
     "execution_count": 17,
     "metadata": {},
     "output_type": "execute_result"
    },
    {
     "data": {
      "text/plain": [
       "<matplotlib.axes._subplots.AxesSubplot at 0x19c215e7b38>"
      ]
     },
     "execution_count": 17,
     "metadata": {},
     "output_type": "execute_result"
    },
    {
     "data": {
      "image/png": "[encoded data removed]",
      "text/plain": [
       "<Figure size 936x936 with 4 Axes>"
      ]
     },
     "metadata": {},
     "output_type": "display_data"
    }
   ],
   "source": [
    "# grid of pies\n",
    "fig = plt.figure(figsize=(13, 13)) \n",
    "fig_dims = (3, 2)\n",
    "\n",
    "# Temperature df\n",
    "plt.subplot2grid(fig_dims, (0, 0))\n",
    "df['Occupancy'].value_counts().plot(kind='pie', \n",
    "                                   title='Occupancy df',\n",
    "                                   labels = '01',\n",
    "                                   autopct='%1.1f%%',\n",
    "                                   explode= (0, 0.1))\n",
    "\n",
    "# Temperature test\n",
    "plt.subplot2grid(fig_dims, (0, 1))\n",
    "df_test_1['Occupancy'].value_counts().plot(kind='pie', \n",
    "                                   title='Occupancy test 1',\n",
    "                                   labels = '01',\n",
    "                                   autopct='%1.1f%%',\n",
    "                                   explode= (0, 0.1))\n",
    "\n",
    "# Temperature test2\n",
    "plt.subplot2grid(fig_dims, (1, 0))\n",
    "df_test_2['Occupancy'].value_counts().plot(kind='pie', \n",
    "                                   title='Occupancy test 2',\n",
    "                                   labels = '01',\n",
    "                                   autopct='%1.1f%%',\n",
    "                                   explode= (0, 0.1))\n",
    "\n",
    "# Temperature training\n",
    "plt.subplot2grid(fig_dims, (1, 1))\n",
    "df_training['Occupancy'].value_counts().plot(kind='pie', \n",
    "                                   title='Occupancy trainig',\n",
    "                                   labels = '01',\n",
    "                                   autopct='%1.1f%%',\n",
    "                                   explode= (0, 0.1))\n",
    "\n",
    "plt.show()"
   ]
  },
  {
   "cell_type": "markdown",
   "metadata": {
    "colab_type": "text",
    "id": "gxWXxUvAaSUx"
   },
   "source": [
    "**TEMPERATURE**"
   ]
  },
  {
   "cell_type": "code",
   "execution_count": 33,
   "metadata": {
    "colab": {},
    "colab_type": "code",
    "id": "QBR6imQ7YX1o"
   },
   "outputs": [
    {
     "data": {
      "text/plain": [
       "<matplotlib.axes._subplots.AxesSubplot at 0x19c2307ab70>"
      ]
     },
     "execution_count": 33,
     "metadata": {},
     "output_type": "execute_result"
    },
    {
     "data": {
      "text/plain": [
       "<matplotlib.axes._subplots.AxesSubplot at 0x19c2307ab70>"
      ]
     },
     "execution_count": 33,
     "metadata": {},
     "output_type": "execute_result"
    },
    {
     "data": {
      "text/plain": [
       "Text(0.5, 1.0, 'Temperature df')"
      ]
     },
     "execution_count": 33,
     "metadata": {},
     "output_type": "execute_result"
    },
    {
     "data": {
      "text/plain": [
       "<matplotlib.axes._subplots.AxesSubplot at 0x19c24323358>"
      ]
     },
     "execution_count": 33,
     "metadata": {},
     "output_type": "execute_result"
    },
    {
     "data": {
      "text/plain": [
       "<matplotlib.axes._subplots.AxesSubplot at 0x19c24323358>"
      ]
     },
     "execution_count": 33,
     "metadata": {},
     "output_type": "execute_result"
    },
    {
     "data": {
      "text/plain": [
       "Text(0.5, 1.0, 'Temperature test 1')"
      ]
     },
     "execution_count": 33,
     "metadata": {},
     "output_type": "execute_result"
    },
    {
     "data": {
      "text/plain": [
       "<matplotlib.axes._subplots.AxesSubplot at 0x19c246caeb8>"
      ]
     },
     "execution_count": 33,
     "metadata": {},
     "output_type": "execute_result"
    },
    {
     "data": {
      "text/plain": [
       "<matplotlib.axes._subplots.AxesSubplot at 0x19c246caeb8>"
      ]
     },
     "execution_count": 33,
     "metadata": {},
     "output_type": "execute_result"
    },
    {
     "data": {
      "text/plain": [
       "Text(0.5, 1.0, 'Temperature test 2')"
      ]
     },
     "execution_count": 33,
     "metadata": {},
     "output_type": "execute_result"
    },
    {
     "data": {
      "text/plain": [
       "<matplotlib.axes._subplots.AxesSubplot at 0x19c24711dd8>"
      ]
     },
     "execution_count": 33,
     "metadata": {},
     "output_type": "execute_result"
    },
    {
     "data": {
      "text/plain": [
       "<matplotlib.axes._subplots.AxesSubplot at 0x19c24711dd8>"
      ]
     },
     "execution_count": 33,
     "metadata": {},
     "output_type": "execute_result"
    },
    {
     "data": {
      "text/plain": [
       "Text(0.5, 1.0, 'Temperature training')"
      ]
     },
     "execution_count": 33,
     "metadata": {},
     "output_type": "execute_result"
    },
    {
     "data": {
      "image/png": "[encoded data removed]",
      "text/plain": [
       "<Figure size 936x936 with 4 Axes>"
      ]
     },
     "metadata": {
      "needs_background": "light"
     },
     "output_type": "display_data"
    }
   ],
   "source": [
    "# grid of histograms\n",
    "fig = plt.figure(figsize=(13, 13)) \n",
    "fig_dims = (3, 2)\n",
    "\n",
    "# Temperature df\n",
    "plt.subplot2grid(fig_dims, (0, 0))\n",
    "df['Temperature'].hist(bins = 12, edgecolor='black')\n",
    "plt.title('Temperature df')\n",
    "\n",
    "# Temperature test\n",
    "plt.subplot2grid(fig_dims, (0, 1))\n",
    "df_test_1['Temperature'].hist(bins=12, edgecolor='black')\n",
    "plt.title('Temperature test 1')\n",
    "\n",
    "# Temperature test2\n",
    "plt.subplot2grid(fig_dims, (1, 0))\n",
    "df_test_2['Temperature'].hist(bins=12, edgecolor='black')\n",
    "plt.title('Temperature test 2')\n",
    "\n",
    "# Temperature training\n",
    "plt.subplot2grid(fig_dims, (1, 1))\n",
    "df_training['Temperature'].hist(bins=12, edgecolor='black')\n",
    "plt.title('Temperature training')\n",
    "\n",
    "plt.show()"
   ]
  },
  {
   "cell_type": "code",
   "execution_count": 0,
   "metadata": {
    "colab": {},
    "colab_type": "code",
    "id": "JJceDpouqquh",
    "outputId": "5536ad84-a759-47b1-c7dd-8f3c3c3d8e70",
    "scrolled": true
   },
   "outputs": [
    {
     "data": {
      "text/plain": [
       "count    20560.000000\n",
       "mean        20.906212\n",
       "std          1.055315\n",
       "min         19.000000\n",
       "25%         20.200000\n",
       "50%         20.700000\n",
       "75%         21.525000\n",
       "max         24.408333\n",
       "Name: Temperature, dtype: float64"
      ]
     },
     "execution_count": 14,
     "metadata": {
      "tags": []
     },
     "output_type": "execute_result"
    }
   ],
   "source": [
    "Temperature = df['Temperature'].copy()\n",
    "Temperature.describe()"
   ]
  },
  {
   "cell_type": "code",
   "execution_count": 0,
   "metadata": {
    "colab": {},
    "colab_type": "code",
    "id": "JRmjCqLLqquk",
    "outputId": "61989401-6232-4d03-acc1-b846ae30143f",
    "scrolled": true
   },
   "outputs": [
    {
     "data": {
      "text/html": [
       "<div>\n",
       "<style scoped>\n",
       "    .dataframe tbody tr th:only-of-type {\n",
       "        vertical-align: middle;\n",
       "    }\n",
       "\n",
       "    .dataframe tbody tr th {\n",
       "        vertical-align: top;\n",
       "    }\n",
       "\n",
       "    .dataframe thead th {\n",
       "        text-align: right;\n",
       "    }\n",
       "</style>\n",
       "<table border=\"1\" class=\"dataframe\">\n",
       "  <thead>\n",
       "    <tr style=\"text-align: right;\">\n",
       "      <th>Occupancy</th>\n",
       "      <th>0</th>\n",
       "      <th>1</th>\n",
       "    </tr>\n",
       "    <tr>\n",
       "      <th>Temperature</th>\n",
       "      <th></th>\n",
       "      <th></th>\n",
       "    </tr>\n",
       "  </thead>\n",
       "  <tbody>\n",
       "    <tr>\n",
       "      <th>19.0</th>\n",
       "      <td>1280</td>\n",
       "      <td>0</td>\n",
       "    </tr>\n",
       "    <tr>\n",
       "      <th>19.5</th>\n",
       "      <td>2177</td>\n",
       "      <td>23</td>\n",
       "    </tr>\n",
       "    <tr>\n",
       "      <th>20.0</th>\n",
       "      <td>4223</td>\n",
       "      <td>75</td>\n",
       "    </tr>\n",
       "    <tr>\n",
       "      <th>20.5</th>\n",
       "      <td>4403</td>\n",
       "      <td>387</td>\n",
       "    </tr>\n",
       "    <tr>\n",
       "      <th>21.0</th>\n",
       "      <td>1804</td>\n",
       "      <td>691</td>\n",
       "    </tr>\n",
       "    <tr>\n",
       "      <th>21.5</th>\n",
       "      <td>767</td>\n",
       "      <td>1400</td>\n",
       "    </tr>\n",
       "    <tr>\n",
       "      <th>22.0</th>\n",
       "      <td>396</td>\n",
       "      <td>1081</td>\n",
       "    </tr>\n",
       "    <tr>\n",
       "      <th>22.5</th>\n",
       "      <td>336</td>\n",
       "      <td>476</td>\n",
       "    </tr>\n",
       "    <tr>\n",
       "      <th>23.0</th>\n",
       "      <td>163</td>\n",
       "      <td>325</td>\n",
       "    </tr>\n",
       "    <tr>\n",
       "      <th>23.5</th>\n",
       "      <td>125</td>\n",
       "      <td>241</td>\n",
       "    </tr>\n",
       "    <tr>\n",
       "      <th>24.0</th>\n",
       "      <td>136</td>\n",
       "      <td>51</td>\n",
       "    </tr>\n",
       "  </tbody>\n",
       "</table>\n",
       "</div>"
      ],
      "text/plain": [
       "Occupancy       0     1\n",
       "Temperature            \n",
       "19.0         1280     0\n",
       "19.5         2177    23\n",
       "20.0         4223    75\n",
       "20.5         4403   387\n",
       "21.0         1804   691\n",
       "21.5          767  1400\n",
       "22.0          396  1081\n",
       "22.5          336   476\n",
       "23.0          163   325\n",
       "23.5          125   241\n",
       "24.0          136    51"
      ]
     },
     "execution_count": 15,
     "metadata": {
      "tags": []
     },
     "output_type": "execute_result"
    }
   ],
   "source": [
    "x_default = pd.crosstab(df['Temperature']//0.5*0.5, df['Occupancy'])\n",
    "x_default"
   ]
  },
  {
   "cell_type": "code",
   "execution_count": 0,
   "metadata": {
    "colab": {},
    "colab_type": "code",
    "id": "FehuhaQFqqus",
    "outputId": "a54c2ff2-a18e-4f7a-93f9-5b7d00b0e754"
   },
   "outputs": [
    {
     "data": {
      "text/plain": [
       "<matplotlib.axes._subplots.AxesSubplot at 0x2441e939198>"
      ]
     },
     "execution_count": 16,
     "metadata": {
      "tags": []
     },
     "output_type": "execute_result"
    },
    {
     "data": {
      "text/plain": [
       "Text(0.5, 0, 'Temperature')"
      ]
     },
     "execution_count": 16,
     "metadata": {
      "tags": []
     },
     "output_type": "execute_result"
    },
    {
     "data": {
      "text/plain": [
       "Text(0, 0.5, 'Occupancy')"
      ]
     },
     "execution_count": 16,
     "metadata": {
      "tags": []
     },
     "output_type": "execute_result"
    },
    {
     "data": {
      "text/plain": [
       "(array([ 0,  1,  2,  3,  4,  5,  6,  7,  8,  9, 10]),\n",
       " <a list of 11 Text xticklabel objects>)"
      ]
     },
     "execution_count": 16,
     "metadata": {
      "tags": []
     },
     "output_type": "execute_result"
    },
    {
     "data": {
      "text/plain": [
       "<matplotlib.legend.Legend at 0x2441e939e48>"
      ]
     },
     "execution_count": 16,
     "metadata": {
      "tags": []
     },
     "output_type": "execute_result"
    },
    {
     "data": {
      "image/png": "[encoded data removed]",
      "text/plain": [
       "<Figure size 432x288 with 1 Axes>"
      ]
     },
     "metadata": {
      "needs_background": "light",
      "tags": []
     },
     "output_type": "display_data"
    }
   ],
   "source": [
    "x_default.plot(kind='bar', stacked=True, title='Occupancy by Temperature', edgecolor='black')\n",
    "pclass_xt = pd.crosstab(df['Temperature'], df['Occupancy'])\n",
    "pclass_xt_pct = pclass_xt.div(pclass_xt.sum(1).astype(float), axis=0)\n",
    "plt.xlabel('Temperature')\n",
    "plt.ylabel('Occupancy')\n",
    "plt.xticks(rotation=-45)\n",
    "plt.legend()\n",
    "plt.show()"
   ]
  },
  {
   "cell_type": "markdown",
   "metadata": {
    "colab_type": "text",
    "id": "Gem7KQMEaSU9"
   },
   "source": [
    "**HUMIDITY**"
   ]
  },
  {
   "cell_type": "code",
   "execution_count": 34,
   "metadata": {
    "colab": {},
    "colab_type": "code",
    "id": "mXAd1LWvYb54"
   },
   "outputs": [
    {
     "data": {
      "text/plain": [
       "<matplotlib.axes._subplots.AxesSubplot at 0x19c24757ac8>"
      ]
     },
     "execution_count": 34,
     "metadata": {},
     "output_type": "execute_result"
    },
    {
     "data": {
      "text/plain": [
       "<matplotlib.axes._subplots.AxesSubplot at 0x19c24757ac8>"
      ]
     },
     "execution_count": 34,
     "metadata": {},
     "output_type": "execute_result"
    },
    {
     "data": {
      "text/plain": [
       "Text(0.5, 1.0, 'Humidity df')"
      ]
     },
     "execution_count": 34,
     "metadata": {},
     "output_type": "execute_result"
    },
    {
     "data": {
      "text/plain": [
       "<matplotlib.axes._subplots.AxesSubplot at 0x19c24bb7f98>"
      ]
     },
     "execution_count": 34,
     "metadata": {},
     "output_type": "execute_result"
    },
    {
     "data": {
      "text/plain": [
       "<matplotlib.axes._subplots.AxesSubplot at 0x19c24bb7f98>"
      ]
     },
     "execution_count": 34,
     "metadata": {},
     "output_type": "execute_result"
    },
    {
     "data": {
      "text/plain": [
       "Text(0.5, 1.0, 'Humidity test 1')"
      ]
     },
     "execution_count": 34,
     "metadata": {},
     "output_type": "execute_result"
    },
    {
     "data": {
      "text/plain": [
       "<matplotlib.axes._subplots.AxesSubplot at 0x19c24807e10>"
      ]
     },
     "execution_count": 34,
     "metadata": {},
     "output_type": "execute_result"
    },
    {
     "data": {
      "text/plain": [
       "<matplotlib.axes._subplots.AxesSubplot at 0x19c24807e10>"
      ]
     },
     "execution_count": 34,
     "metadata": {},
     "output_type": "execute_result"
    },
    {
     "data": {
      "text/plain": [
       "Text(0.5, 1.0, 'Humidity test 2')"
      ]
     },
     "execution_count": 34,
     "metadata": {},
     "output_type": "execute_result"
    },
    {
     "data": {
      "text/plain": [
       "<matplotlib.axes._subplots.AxesSubplot at 0x19c2484fc50>"
      ]
     },
     "execution_count": 34,
     "metadata": {},
     "output_type": "execute_result"
    },
    {
     "data": {
      "text/plain": [
       "<matplotlib.axes._subplots.AxesSubplot at 0x19c2484fc50>"
      ]
     },
     "execution_count": 34,
     "metadata": {},
     "output_type": "execute_result"
    },
    {
     "data": {
      "text/plain": [
       "Text(0.5, 1.0, 'Humidity training')"
      ]
     },
     "execution_count": 34,
     "metadata": {},
     "output_type": "execute_result"
    },
    {
     "data": {
      "image/png": "[encoded data removed]",
      "text/plain": [
       "<Figure size 936x936 with 4 Axes>"
      ]
     },
     "metadata": {
      "needs_background": "light"
     },
     "output_type": "display_data"
    }
   ],
   "source": [
    "# grid of histograms\n",
    "fig = plt.figure(figsize=(13, 13)) \n",
    "fig_dims = (3, 2)\n",
    "\n",
    "# Temperature df\n",
    "plt.subplot2grid(fig_dims, (0, 0))\n",
    "df['Humidity'].hist(bins=12, edgecolor='black')\n",
    "plt.title('Humidity df')\n",
    "\n",
    "# Temperature test\n",
    "plt.subplot2grid(fig_dims, (0, 1))\n",
    "df_test_1['Humidity'].hist(bins=12, edgecolor='black')\n",
    "plt.title('Humidity test 1')\n",
    "\n",
    "# Temperature test2\n",
    "plt.subplot2grid(fig_dims, (1, 0))\n",
    "df_test_2['Humidity'].hist(bins=12, edgecolor='black')\n",
    "plt.title('Humidity test 2')\n",
    "\n",
    "# Temperature training\n",
    "plt.subplot2grid(fig_dims, (1, 1))\n",
    "df_training['Humidity'].hist(bins=12, edgecolor='black')\n",
    "plt.title('Humidity training')\n",
    "\n",
    "plt.show()"
   ]
  },
  {
   "cell_type": "code",
   "execution_count": 0,
   "metadata": {
    "colab": {},
    "colab_type": "code",
    "id": "Vxp-4FFsqqux",
    "outputId": "e67cae79-7b1f-4886-9f64-68cab562ef19"
   },
   "outputs": [
    {
     "data": {
      "text/plain": [
       "<matplotlib.axes._subplots.AxesSubplot at 0x2441e99dc18>"
      ]
     },
     "execution_count": 17,
     "metadata": {
      "tags": []
     },
     "output_type": "execute_result"
    },
    {
     "data": {
      "text/plain": [
       "Text(0.5, 1.0, 'Humidity')"
      ]
     },
     "execution_count": 17,
     "metadata": {
      "tags": []
     },
     "output_type": "execute_result"
    },
    {
     "data": {
      "image/png": "[encoded data removed]",
      "text/plain": [
       "<Figure size 432x288 with 1 Axes>"
      ]
     },
     "metadata": {
      "needs_background": "light",
      "tags": []
     },
     "output_type": "display_data"
    }
   ],
   "source": [
    "df['Humidity'].hist(bins=12, edgecolor='black')\n",
    "plt.title('Humidity')\n",
    "plt.show()"
   ]
  },
  {
   "cell_type": "code",
   "execution_count": 0,
   "metadata": {
    "colab": {},
    "colab_type": "code",
    "id": "tei_pxIvqqu2",
    "outputId": "f993994d-fcef-4b37-8ae9-c48ebd10eaa9"
   },
   "outputs": [
    {
     "data": {
      "text/plain": [
       "count    20560.000000\n",
       "mean        27.655925\n",
       "std          4.982154\n",
       "min         16.745000\n",
       "25%         24.500000\n",
       "50%         27.290000\n",
       "75%         31.290000\n",
       "max         39.500000\n",
       "Name: Humidity, dtype: float64"
      ]
     },
     "execution_count": 18,
     "metadata": {
      "tags": []
     },
     "output_type": "execute_result"
    }
   ],
   "source": [
    "Humidity = df['Humidity'].copy()\n",
    "Humidity.describe()"
   ]
  },
  {
   "cell_type": "code",
   "execution_count": 0,
   "metadata": {
    "colab": {},
    "colab_type": "code",
    "id": "yk6_HUsHqqvA",
    "outputId": "477825df-d126-4129-abbe-581c74e1bdd5"
   },
   "outputs": [
    {
     "data": {
      "text/html": [
       "<div>\n",
       "<style scoped>\n",
       "    .dataframe tbody tr th:only-of-type {\n",
       "        vertical-align: middle;\n",
       "    }\n",
       "\n",
       "    .dataframe tbody tr th {\n",
       "        vertical-align: top;\n",
       "    }\n",
       "\n",
       "    .dataframe thead th {\n",
       "        text-align: right;\n",
       "    }\n",
       "</style>\n",
       "<table border=\"1\" class=\"dataframe\">\n",
       "  <thead>\n",
       "    <tr style=\"text-align: right;\">\n",
       "      <th>Occupancy</th>\n",
       "      <th>0</th>\n",
       "      <th>1</th>\n",
       "    </tr>\n",
       "    <tr>\n",
       "      <th>Humidity</th>\n",
       "      <th></th>\n",
       "      <th></th>\n",
       "    </tr>\n",
       "  </thead>\n",
       "  <tbody>\n",
       "    <tr>\n",
       "      <th>16.0</th>\n",
       "      <td>254</td>\n",
       "      <td>0</td>\n",
       "    </tr>\n",
       "    <tr>\n",
       "      <th>18.0</th>\n",
       "      <td>1540</td>\n",
       "      <td>143</td>\n",
       "    </tr>\n",
       "    <tr>\n",
       "      <th>20.0</th>\n",
       "      <td>459</td>\n",
       "      <td>442</td>\n",
       "    </tr>\n",
       "    <tr>\n",
       "      <th>22.0</th>\n",
       "      <td>1442</td>\n",
       "      <td>174</td>\n",
       "    </tr>\n",
       "    <tr>\n",
       "      <th>24.0</th>\n",
       "      <td>2460</td>\n",
       "      <td>757</td>\n",
       "    </tr>\n",
       "    <tr>\n",
       "      <th>26.0</th>\n",
       "      <td>2707</td>\n",
       "      <td>914</td>\n",
       "    </tr>\n",
       "    <tr>\n",
       "      <th>28.0</th>\n",
       "      <td>1126</td>\n",
       "      <td>713</td>\n",
       "    </tr>\n",
       "    <tr>\n",
       "      <th>30.0</th>\n",
       "      <td>2366</td>\n",
       "      <td>666</td>\n",
       "    </tr>\n",
       "    <tr>\n",
       "      <th>32.0</th>\n",
       "      <td>1544</td>\n",
       "      <td>415</td>\n",
       "    </tr>\n",
       "    <tr>\n",
       "      <th>34.0</th>\n",
       "      <td>1221</td>\n",
       "      <td>329</td>\n",
       "    </tr>\n",
       "    <tr>\n",
       "      <th>36.0</th>\n",
       "      <td>544</td>\n",
       "      <td>74</td>\n",
       "    </tr>\n",
       "    <tr>\n",
       "      <th>38.0</th>\n",
       "      <td>147</td>\n",
       "      <td>123</td>\n",
       "    </tr>\n",
       "  </tbody>\n",
       "</table>\n",
       "</div>"
      ],
      "text/plain": [
       "Occupancy     0    1\n",
       "Humidity            \n",
       "16.0        254    0\n",
       "18.0       1540  143\n",
       "20.0        459  442\n",
       "22.0       1442  174\n",
       "24.0       2460  757\n",
       "26.0       2707  914\n",
       "28.0       1126  713\n",
       "30.0       2366  666\n",
       "32.0       1544  415\n",
       "34.0       1221  329\n",
       "36.0        544   74\n",
       "38.0        147  123"
      ]
     },
     "execution_count": 19,
     "metadata": {
      "tags": []
     },
     "output_type": "execute_result"
    }
   ],
   "source": [
    "x_default = pd.crosstab(df['Humidity']//2*2, df['Occupancy'])\n",
    "x_default"
   ]
  },
  {
   "cell_type": "code",
   "execution_count": 0,
   "metadata": {
    "colab": {},
    "colab_type": "code",
    "id": "1anJENPTqqvI",
    "outputId": "7a4d1e22-5cde-4492-956f-2d2685796bb5"
   },
   "outputs": [
    {
     "data": {
      "text/plain": [
       "<matplotlib.axes._subplots.AxesSubplot at 0x2441ea7e908>"
      ]
     },
     "execution_count": 20,
     "metadata": {
      "tags": []
     },
     "output_type": "execute_result"
    },
    {
     "data": {
      "text/plain": [
       "Text(0.5, 0, 'Humidity')"
      ]
     },
     "execution_count": 20,
     "metadata": {
      "tags": []
     },
     "output_type": "execute_result"
    },
    {
     "data": {
      "text/plain": [
       "Text(0, 0.5, 'Occupancy')"
      ]
     },
     "execution_count": 20,
     "metadata": {
      "tags": []
     },
     "output_type": "execute_result"
    },
    {
     "data": {
      "text/plain": [
       "(array([ 0,  1,  2,  3,  4,  5,  6,  7,  8,  9, 10, 11]),\n",
       " <a list of 12 Text xticklabel objects>)"
      ]
     },
     "execution_count": 20,
     "metadata": {
      "tags": []
     },
     "output_type": "execute_result"
    },
    {
     "data": {
      "text/plain": [
       "<matplotlib.legend.Legend at 0x2441e948ef0>"
      ]
     },
     "execution_count": 20,
     "metadata": {
      "tags": []
     },
     "output_type": "execute_result"
    },
    {
     "data": {
      "image/png": "[encoded data removed]",
      "text/plain": [
       "<Figure size 432x288 with 1 Axes>"
      ]
     },
     "metadata": {
      "needs_background": "light",
      "tags": []
     },
     "output_type": "display_data"
    }
   ],
   "source": [
    "x_default.plot(kind='bar', stacked=True, title='Occupancy by Humidity', edgecolor='black')\n",
    "pclass_xt = pd.crosstab(df['Humidity'], df['Occupancy'])\n",
    "pclass_xt_pct = pclass_xt.div(pclass_xt.sum(1).astype(float), axis=0)\n",
    "plt.xlabel('Humidity')\n",
    "plt.ylabel('Occupancy')\n",
    "plt.xticks(rotation=-45)\n",
    "plt.legend()\n",
    "plt.show()"
   ]
  },
  {
   "cell_type": "code",
   "execution_count": 0,
   "metadata": {
    "colab": {},
    "colab_type": "code",
    "id": "nZvu59XRqqvP",
    "outputId": "d18191f6-0f49-43d5-fbb4-0b81bb4aa7ed"
   },
   "outputs": [
    {
     "data": {
      "text/html": [
       "<div>\n",
       "<style scoped>\n",
       "    .dataframe tbody tr th:only-of-type {\n",
       "        vertical-align: middle;\n",
       "    }\n",
       "\n",
       "    .dataframe tbody tr th {\n",
       "        vertical-align: top;\n",
       "    }\n",
       "\n",
       "    .dataframe thead th {\n",
       "        text-align: right;\n",
       "    }\n",
       "</style>\n",
       "<table border=\"1\" class=\"dataframe\">\n",
       "  <thead>\n",
       "    <tr style=\"text-align: right;\">\n",
       "      <th>Occupancy</th>\n",
       "      <th>0</th>\n",
       "      <th>1</th>\n",
       "    </tr>\n",
       "    <tr>\n",
       "      <th>Humidity</th>\n",
       "      <th></th>\n",
       "      <th></th>\n",
       "    </tr>\n",
       "  </thead>\n",
       "  <tbody>\n",
       "    <tr>\n",
       "      <th>16.0</th>\n",
       "      <td>1.000000</td>\n",
       "      <td>0.000000</td>\n",
       "    </tr>\n",
       "    <tr>\n",
       "      <th>18.0</th>\n",
       "      <td>0.915033</td>\n",
       "      <td>0.084967</td>\n",
       "    </tr>\n",
       "    <tr>\n",
       "      <th>20.0</th>\n",
       "      <td>0.509434</td>\n",
       "      <td>0.490566</td>\n",
       "    </tr>\n",
       "    <tr>\n",
       "      <th>22.0</th>\n",
       "      <td>0.892327</td>\n",
       "      <td>0.107673</td>\n",
       "    </tr>\n",
       "    <tr>\n",
       "      <th>24.0</th>\n",
       "      <td>0.764688</td>\n",
       "      <td>0.235312</td>\n",
       "    </tr>\n",
       "    <tr>\n",
       "      <th>26.0</th>\n",
       "      <td>0.747584</td>\n",
       "      <td>0.252416</td>\n",
       "    </tr>\n",
       "    <tr>\n",
       "      <th>28.0</th>\n",
       "      <td>0.612289</td>\n",
       "      <td>0.387711</td>\n",
       "    </tr>\n",
       "    <tr>\n",
       "      <th>30.0</th>\n",
       "      <td>0.780343</td>\n",
       "      <td>0.219657</td>\n",
       "    </tr>\n",
       "    <tr>\n",
       "      <th>32.0</th>\n",
       "      <td>0.788157</td>\n",
       "      <td>0.211843</td>\n",
       "    </tr>\n",
       "    <tr>\n",
       "      <th>34.0</th>\n",
       "      <td>0.787742</td>\n",
       "      <td>0.212258</td>\n",
       "    </tr>\n",
       "    <tr>\n",
       "      <th>36.0</th>\n",
       "      <td>0.880259</td>\n",
       "      <td>0.119741</td>\n",
       "    </tr>\n",
       "    <tr>\n",
       "      <th>38.0</th>\n",
       "      <td>0.544444</td>\n",
       "      <td>0.455556</td>\n",
       "    </tr>\n",
       "  </tbody>\n",
       "</table>\n",
       "</div>"
      ],
      "text/plain": [
       "Occupancy         0         1\n",
       "Humidity                     \n",
       "16.0       1.000000  0.000000\n",
       "18.0       0.915033  0.084967\n",
       "20.0       0.509434  0.490566\n",
       "22.0       0.892327  0.107673\n",
       "24.0       0.764688  0.235312\n",
       "26.0       0.747584  0.252416\n",
       "28.0       0.612289  0.387711\n",
       "30.0       0.780343  0.219657\n",
       "32.0       0.788157  0.211843\n",
       "34.0       0.787742  0.212258\n",
       "36.0       0.880259  0.119741\n",
       "38.0       0.544444  0.455556"
      ]
     },
     "execution_count": 21,
     "metadata": {
      "tags": []
     },
     "output_type": "execute_result"
    }
   ],
   "source": [
    "x_default_norm = x_default.div(x_default.sum(1).astype(float), axis=0)\n",
    "x_default_norm"
   ]
  },
  {
   "cell_type": "code",
   "execution_count": 0,
   "metadata": {
    "colab": {},
    "colab_type": "code",
    "id": "OtYuTw27qqvU",
    "outputId": "af5a25ae-82ba-4670-deb0-eaba79612f41"
   },
   "outputs": [
    {
     "data": {
      "text/plain": [
       "<matplotlib.axes._subplots.AxesSubplot at 0x2441eaf59e8>"
      ]
     },
     "execution_count": 22,
     "metadata": {
      "tags": []
     },
     "output_type": "execute_result"
    },
    {
     "data": {
      "text/plain": [
       "Text(0.5, 0, 'Humidity')"
      ]
     },
     "execution_count": 22,
     "metadata": {
      "tags": []
     },
     "output_type": "execute_result"
    },
    {
     "data": {
      "text/plain": [
       "Text(0, 0.5, 'Occupancy')"
      ]
     },
     "execution_count": 22,
     "metadata": {
      "tags": []
     },
     "output_type": "execute_result"
    },
    {
     "data": {
      "text/plain": [
       "(array([ 0,  1,  2,  3,  4,  5,  6,  7,  8,  9, 10, 11]),\n",
       " <a list of 12 Text xticklabel objects>)"
      ]
     },
     "execution_count": 22,
     "metadata": {
      "tags": []
     },
     "output_type": "execute_result"
    },
    {
     "data": {
      "text/plain": [
       "<matplotlib.legend.Legend at 0x2441ea4d4a8>"
      ]
     },
     "execution_count": 22,
     "metadata": {
      "tags": []
     },
     "output_type": "execute_result"
    },
    {
     "data": {
      "image/png": "[encoded data removed]",
      "text/plain": [
       "<Figure size 432x288 with 1 Axes>"
      ]
     },
     "metadata": {
      "needs_background": "light",
      "tags": []
     },
     "output_type": "display_data"
    }
   ],
   "source": [
    "x_default_norm.plot(kind='bar', stacked=True, title='Humidity', edgecolor='black')\n",
    "plt.xlabel('Humidity')\n",
    "plt.ylabel('Occupancy')\n",
    "plt.xticks(rotation=-45)\n",
    "plt.legend()\n",
    "plt.show()"
   ]
  },
  {
   "cell_type": "markdown",
   "metadata": {
    "colab": {},
    "colab_type": "code",
    "id": "aRkZCywtqqvX"
   },
   "source": [
    "# LIGHT"
   ]
  },
  {
   "cell_type": "code",
   "execution_count": 35,
   "metadata": {
    "colab": {},
    "colab_type": "code",
    "id": "vVlliJGKYggQ"
   },
   "outputs": [
    {
     "data": {
      "text/plain": [
       "<matplotlib.axes._subplots.AxesSubplot at 0x19c2497c320>"
      ]
     },
     "execution_count": 35,
     "metadata": {},
     "output_type": "execute_result"
    },
    {
     "data": {
      "text/plain": [
       "<matplotlib.axes._subplots.AxesSubplot at 0x19c2497c320>"
      ]
     },
     "execution_count": 35,
     "metadata": {},
     "output_type": "execute_result"
    },
    {
     "data": {
      "text/plain": [
       "Text(0.5, 1.0, 'Light df')"
      ]
     },
     "execution_count": 35,
     "metadata": {},
     "output_type": "execute_result"
    },
    {
     "data": {
      "text/plain": [
       "<matplotlib.axes._subplots.AxesSubplot at 0x19c249a2f60>"
      ]
     },
     "execution_count": 35,
     "metadata": {},
     "output_type": "execute_result"
    },
    {
     "data": {
      "text/plain": [
       "<matplotlib.axes._subplots.AxesSubplot at 0x19c249a2f60>"
      ]
     },
     "execution_count": 35,
     "metadata": {},
     "output_type": "execute_result"
    },
    {
     "data": {
      "text/plain": [
       "Text(0.5, 1.0, 'Light test 1')"
      ]
     },
     "execution_count": 35,
     "metadata": {},
     "output_type": "execute_result"
    },
    {
     "data": {
      "text/plain": [
       "<matplotlib.axes._subplots.AxesSubplot at 0x19c24da6b70>"
      ]
     },
     "execution_count": 35,
     "metadata": {},
     "output_type": "execute_result"
    },
    {
     "data": {
      "text/plain": [
       "<matplotlib.axes._subplots.AxesSubplot at 0x19c24da6b70>"
      ]
     },
     "execution_count": 35,
     "metadata": {},
     "output_type": "execute_result"
    },
    {
     "data": {
      "text/plain": [
       "Text(0.5, 1.0, 'Light test 2')"
      ]
     },
     "execution_count": 35,
     "metadata": {},
     "output_type": "execute_result"
    },
    {
     "data": {
      "text/plain": [
       "<matplotlib.axes._subplots.AxesSubplot at 0x19c24defb70>"
      ]
     },
     "execution_count": 35,
     "metadata": {},
     "output_type": "execute_result"
    },
    {
     "data": {
      "text/plain": [
       "<matplotlib.axes._subplots.AxesSubplot at 0x19c24defb70>"
      ]
     },
     "execution_count": 35,
     "metadata": {},
     "output_type": "execute_result"
    },
    {
     "data": {
      "text/plain": [
       "Text(0.5, 1.0, 'Light training')"
      ]
     },
     "execution_count": 35,
     "metadata": {},
     "output_type": "execute_result"
    },
    {
     "data": {
      "image/png": "[encoded data removed]",
      "text/plain": [
       "<Figure size 936x936 with 4 Axes>"
      ]
     },
     "metadata": {
      "needs_background": "light"
     },
     "output_type": "display_data"
    }
   ],
   "source": [
    "# grid of histograms\n",
    "fig = plt.figure(figsize=(13, 13)) \n",
    "fig_dims = (3, 2)\n",
    "\n",
    "# Temperature df\n",
    "plt.subplot2grid(fig_dims, (0, 0))\n",
    "df['Light'].hist(bins=12, edgecolor='black')\n",
    "plt.title('Light df')\n",
    "\n",
    "# Temperature test\n",
    "plt.subplot2grid(fig_dims, (0, 1))\n",
    "df_test_1['Light'].hist(bins=12, edgecolor='black')\n",
    "plt.title('Light test 1')\n",
    "\n",
    "# Temperature test2\n",
    "plt.subplot2grid(fig_dims, (1, 0))\n",
    "df_test_2['Light'].hist(bins=12, edgecolor='black')\n",
    "plt.title('Light test 2')\n",
    "\n",
    "# Temperature training\n",
    "plt.subplot2grid(fig_dims, (1, 1))\n",
    "df_training['Light'].hist(bins=12, edgecolor='black')\n",
    "plt.title('Light training')\n",
    "\n",
    "plt.show()"
   ]
  },
  {
   "cell_type": "code",
   "execution_count": 0,
   "metadata": {
    "colab": {},
    "colab_type": "code",
    "id": "GLMqlhyFqqva",
    "outputId": "96cb789a-4146-4c43-87e1-1e44e9269de4"
   },
   "outputs": [
    {
     "data": {
      "text/plain": [
       "<matplotlib.axes._subplots.AxesSubplot at 0x2441eb9df98>"
      ]
     },
     "execution_count": 23,
     "metadata": {
      "tags": []
     },
     "output_type": "execute_result"
    },
    {
     "data": {
      "text/plain": [
       "Text(0.5, 1.0, 'Light')"
      ]
     },
     "execution_count": 23,
     "metadata": {
      "tags": []
     },
     "output_type": "execute_result"
    },
    {
     "data": {
      "image/png": "[encoded data removed]",
      "text/plain": [
       "<Figure size 432x288 with 1 Axes>"
      ]
     },
     "metadata": {
      "needs_background": "light",
      "tags": []
     },
     "output_type": "display_data"
    }
   ],
   "source": [
    "df['Light'].hist(bins=10, edgecolor='black')\n",
    "plt.title('Light')\n",
    "plt.show()"
   ]
  },
  {
   "cell_type": "code",
   "execution_count": 0,
   "metadata": {
    "colab": {},
    "colab_type": "code",
    "id": "sakrULlPqqvg",
    "outputId": "9cd27c34-2dc5-4779-c9c9-4c6aa3fc2f1a"
   },
   "outputs": [
    {
     "data": {
      "text/plain": [
       "count    20560.000000\n",
       "mean       130.756622\n",
       "std        210.430875\n",
       "min          0.000000\n",
       "25%          0.000000\n",
       "50%          0.000000\n",
       "75%        301.000000\n",
       "max       1697.250000\n",
       "Name: Light, dtype: float64"
      ]
     },
     "execution_count": 24,
     "metadata": {
      "tags": []
     },
     "output_type": "execute_result"
    }
   ],
   "source": [
    "Light = df['Light'].copy()\n",
    "Light.describe()"
   ]
  },
  {
   "cell_type": "code",
   "execution_count": 0,
   "metadata": {
    "colab": {},
    "colab_type": "code",
    "id": "Pnw7Lrzvqqvj",
    "outputId": "49f97e3b-99fa-40b5-dd89-54d03b06e691"
   },
   "outputs": [
    {
     "data": {
      "text/html": [
       "<div>\n",
       "<style scoped>\n",
       "    .dataframe tbody tr th:only-of-type {\n",
       "        vertical-align: middle;\n",
       "    }\n",
       "\n",
       "    .dataframe tbody tr th {\n",
       "        vertical-align: top;\n",
       "    }\n",
       "\n",
       "    .dataframe thead th {\n",
       "        text-align: right;\n",
       "    }\n",
       "</style>\n",
       "<table border=\"1\" class=\"dataframe\">\n",
       "  <thead>\n",
       "    <tr style=\"text-align: right;\">\n",
       "      <th>Occupancy</th>\n",
       "      <th>0</th>\n",
       "      <th>1</th>\n",
       "    </tr>\n",
       "    <tr>\n",
       "      <th>Light</th>\n",
       "      <th></th>\n",
       "      <th></th>\n",
       "    </tr>\n",
       "  </thead>\n",
       "  <tbody>\n",
       "    <tr>\n",
       "      <th>0.0</th>\n",
       "      <td>14801</td>\n",
       "      <td>4</td>\n",
       "    </tr>\n",
       "    <tr>\n",
       "      <th>150.0</th>\n",
       "      <td>597</td>\n",
       "      <td>11</td>\n",
       "    </tr>\n",
       "    <tr>\n",
       "      <th>300.0</th>\n",
       "      <td>301</td>\n",
       "      <td>2290</td>\n",
       "    </tr>\n",
       "    <tr>\n",
       "      <th>450.0</th>\n",
       "      <td>80</td>\n",
       "      <td>1996</td>\n",
       "    </tr>\n",
       "    <tr>\n",
       "      <th>600.0</th>\n",
       "      <td>28</td>\n",
       "      <td>259</td>\n",
       "    </tr>\n",
       "    <tr>\n",
       "      <th>750.0</th>\n",
       "      <td>1</td>\n",
       "      <td>183</td>\n",
       "    </tr>\n",
       "    <tr>\n",
       "      <th>900.0</th>\n",
       "      <td>0</td>\n",
       "      <td>2</td>\n",
       "    </tr>\n",
       "    <tr>\n",
       "      <th>1200.0</th>\n",
       "      <td>0</td>\n",
       "      <td>1</td>\n",
       "    </tr>\n",
       "    <tr>\n",
       "      <th>1350.0</th>\n",
       "      <td>1</td>\n",
       "      <td>2</td>\n",
       "    </tr>\n",
       "    <tr>\n",
       "      <th>1500.0</th>\n",
       "      <td>1</td>\n",
       "      <td>1</td>\n",
       "    </tr>\n",
       "    <tr>\n",
       "      <th>1650.0</th>\n",
       "      <td>0</td>\n",
       "      <td>1</td>\n",
       "    </tr>\n",
       "  </tbody>\n",
       "</table>\n",
       "</div>"
      ],
      "text/plain": [
       "Occupancy      0     1\n",
       "Light                 \n",
       "0.0        14801     4\n",
       "150.0        597    11\n",
       "300.0        301  2290\n",
       "450.0         80  1996\n",
       "600.0         28   259\n",
       "750.0          1   183\n",
       "900.0          0     2\n",
       "1200.0         0     1\n",
       "1350.0         1     2\n",
       "1500.0         1     1\n",
       "1650.0         0     1"
      ]
     },
     "execution_count": 25,
     "metadata": {
      "tags": []
     },
     "output_type": "execute_result"
    }
   ],
   "source": [
    "x_default = pd.crosstab(df['Light']//150*150, df['Occupancy'])\n",
    "x_default"
   ]
  },
  {
   "cell_type": "code",
   "execution_count": 0,
   "metadata": {
    "colab": {},
    "colab_type": "code",
    "id": "TBVJVaDzqqvm",
    "outputId": "96a650df-728e-4b3b-959e-2ee8691b810d"
   },
   "outputs": [
    {
     "data": {
      "text/plain": [
       "<matplotlib.axes._subplots.AxesSubplot at 0x2441ec66f28>"
      ]
     },
     "execution_count": 26,
     "metadata": {
      "tags": []
     },
     "output_type": "execute_result"
    },
    {
     "data": {
      "text/plain": [
       "Text(0.5, 0, 'Light')"
      ]
     },
     "execution_count": 26,
     "metadata": {
      "tags": []
     },
     "output_type": "execute_result"
    },
    {
     "data": {
      "text/plain": [
       "Text(0, 0.5, 'Occupancy')"
      ]
     },
     "execution_count": 26,
     "metadata": {
      "tags": []
     },
     "output_type": "execute_result"
    },
    {
     "data": {
      "text/plain": [
       "(array([ 0,  1,  2,  3,  4,  5,  6,  7,  8,  9, 10]),\n",
       " <a list of 11 Text xticklabel objects>)"
      ]
     },
     "execution_count": 26,
     "metadata": {
      "tags": []
     },
     "output_type": "execute_result"
    },
    {
     "data": {
      "text/plain": [
       "<matplotlib.legend.Legend at 0x2441eaf55f8>"
      ]
     },
     "execution_count": 26,
     "metadata": {
      "tags": []
     },
     "output_type": "execute_result"
    },
    {
     "data": {
      "image/png": "[encoded data removed]",
      "text/plain": [
       "<Figure size 432x288 with 1 Axes>"
      ]
     },
     "metadata": {
      "needs_background": "light",
      "tags": []
     },
     "output_type": "display_data"
    }
   ],
   "source": [
    "x_default.plot(kind='bar', stacked=True, title='Occupancy by Light', edgecolor='black')\n",
    "pclass_xt = pd.crosstab(df['Light'], df['Occupancy'])\n",
    "pclass_xt_pct = pclass_xt.div(pclass_xt.sum(1).astype(float), axis=0)\n",
    "plt.xlabel('Light')\n",
    "plt.ylabel('Occupancy')\n",
    "plt.xticks(rotation=-45)\n",
    "plt.legend()\n",
    "plt.show()"
   ]
  },
  {
   "cell_type": "markdown",
   "metadata": {
    "colab": {},
    "colab_type": "code",
    "id": "RXzUtcDbqqvp"
   },
   "source": [
    "# CO2"
   ]
  },
  {
   "cell_type": "code",
   "execution_count": 36,
   "metadata": {
    "colab": {},
    "colab_type": "code",
    "id": "IbzucEdkYkFW"
   },
   "outputs": [
    {
     "data": {
      "text/plain": [
       "<matplotlib.axes._subplots.AxesSubplot at 0x19c25295828>"
      ]
     },
     "execution_count": 36,
     "metadata": {},
     "output_type": "execute_result"
    },
    {
     "data": {
      "text/plain": [
       "<matplotlib.axes._subplots.AxesSubplot at 0x19c25295828>"
      ]
     },
     "execution_count": 36,
     "metadata": {},
     "output_type": "execute_result"
    },
    {
     "data": {
      "text/plain": [
       "Text(0.5, 1.0, 'CO2 df')"
      ]
     },
     "execution_count": 36,
     "metadata": {},
     "output_type": "execute_result"
    },
    {
     "data": {
      "text/plain": [
       "<matplotlib.axes._subplots.AxesSubplot at 0x19c252c3940>"
      ]
     },
     "execution_count": 36,
     "metadata": {},
     "output_type": "execute_result"
    },
    {
     "data": {
      "text/plain": [
       "<matplotlib.axes._subplots.AxesSubplot at 0x19c252c3940>"
      ]
     },
     "execution_count": 36,
     "metadata": {},
     "output_type": "execute_result"
    },
    {
     "data": {
      "text/plain": [
       "Text(0.5, 1.0, 'CO2 test 1')"
      ]
     },
     "execution_count": 36,
     "metadata": {},
     "output_type": "execute_result"
    },
    {
     "data": {
      "text/plain": [
       "<matplotlib.axes._subplots.AxesSubplot at 0x19c24f2c828>"
      ]
     },
     "execution_count": 36,
     "metadata": {},
     "output_type": "execute_result"
    },
    {
     "data": {
      "text/plain": [
       "<matplotlib.axes._subplots.AxesSubplot at 0x19c24f2c828>"
      ]
     },
     "execution_count": 36,
     "metadata": {},
     "output_type": "execute_result"
    },
    {
     "data": {
      "text/plain": [
       "Text(0.5, 1.0, 'CO2 test 2')"
      ]
     },
     "execution_count": 36,
     "metadata": {},
     "output_type": "execute_result"
    },
    {
     "data": {
      "text/plain": [
       "<matplotlib.axes._subplots.AxesSubplot at 0x19c24f736a0>"
      ]
     },
     "execution_count": 36,
     "metadata": {},
     "output_type": "execute_result"
    },
    {
     "data": {
      "text/plain": [
       "<matplotlib.axes._subplots.AxesSubplot at 0x19c24f736a0>"
      ]
     },
     "execution_count": 36,
     "metadata": {},
     "output_type": "execute_result"
    },
    {
     "data": {
      "text/plain": [
       "Text(0.5, 1.0, 'CO2 training')"
      ]
     },
     "execution_count": 36,
     "metadata": {},
     "output_type": "execute_result"
    },
    {
     "data": {
      "image/png": "[encoded data removed]",
      "text/plain": [
       "<Figure size 936x936 with 4 Axes>"
      ]
     },
     "metadata": {
      "needs_background": "light"
     },
     "output_type": "display_data"
    }
   ],
   "source": [
    "# grid of histograms\n",
    "fig = plt.figure(figsize=(13, 13)) \n",
    "fig_dims = (3, 2)\n",
    "\n",
    "# CO2 df\n",
    "plt.subplot2grid(fig_dims, (0, 0))\n",
    "df['CO2'].hist(bins=12, edgecolor='black')\n",
    "plt.title('CO2 df')\n",
    "\n",
    "# CO2 test\n",
    "plt.subplot2grid(fig_dims, (0, 1))\n",
    "df_test_1['CO2'].hist(bins=12, edgecolor='black')\n",
    "plt.title('CO2 test 1')\n",
    "\n",
    "# CO2 test2\n",
    "plt.subplot2grid(fig_dims, (1, 0))\n",
    "df_test_2['CO2'].hist(bins=12, edgecolor='black')\n",
    "plt.title('CO2 test 2')\n",
    "\n",
    "# CO2 training\n",
    "plt.subplot2grid(fig_dims, (1, 1))\n",
    "df_training['CO2'].hist(bins=12, edgecolor='black')\n",
    "plt.title('CO2 training')\n",
    "\n",
    "plt.show()"
   ]
  },
  {
   "cell_type": "code",
   "execution_count": 0,
   "metadata": {
    "colab": {},
    "colab_type": "code",
    "id": "Cg44NdN8qqvt",
    "outputId": "154f1fe7-2bd2-417e-acd6-6d09083a2709"
   },
   "outputs": [
    {
     "data": {
      "text/plain": [
       "<matplotlib.axes._subplots.AxesSubplot at 0x2441ece4898>"
      ]
     },
     "execution_count": 27,
     "metadata": {
      "tags": []
     },
     "output_type": "execute_result"
    },
    {
     "data": {
      "text/plain": [
       "Text(0.5, 1.0, 'CO2')"
      ]
     },
     "execution_count": 27,
     "metadata": {
      "tags": []
     },
     "output_type": "execute_result"
    },
    {
     "data": {
      "image/png": "[encoded data removed]",
      "text/plain": [
       "<Figure size 432x288 with 1 Axes>"
      ]
     },
     "metadata": {
      "needs_background": "light",
      "tags": []
     },
     "output_type": "display_data"
    }
   ],
   "source": [
    "df['CO2'].hist(bins=12, edgecolor='black')\n",
    "plt.title('CO2')\n",
    "plt.show()"
   ]
  },
  {
   "cell_type": "code",
   "execution_count": 0,
   "metadata": {
    "colab": {},
    "colab_type": "code",
    "id": "B27pjWbBaSV4",
    "outputId": "9cd27c34-2dc5-4779-c9c9-4c6aa3fc2f1a"
   },
   "outputs": [
    {
     "data": {
      "text/plain": [
       "count    20560.000000\n",
       "mean       690.553276\n",
       "std        311.201281\n",
       "min        412.750000\n",
       "25%        460.000000\n",
       "50%        565.416667\n",
       "75%        804.666667\n",
       "max       2076.500000\n",
       "Name: CO2, dtype: float64"
      ]
     },
     "execution_count": 28,
     "metadata": {
      "tags": []
     },
     "output_type": "execute_result"
    }
   ],
   "source": [
    "CO2 = df['CO2'].copy()\n",
    "CO2.describe()"
   ]
  },
  {
   "cell_type": "code",
   "execution_count": 0,
   "metadata": {
    "colab": {},
    "colab_type": "code",
    "id": "jFZCftZ4aSV9",
    "outputId": "9b8f5bbf-8b5b-4997-deed-2697210c6603"
   },
   "outputs": [
    {
     "data": {
      "text/html": [
       "<div>\n",
       "<style scoped>\n",
       "    .dataframe tbody tr th:only-of-type {\n",
       "        vertical-align: middle;\n",
       "    }\n",
       "\n",
       "    .dataframe tbody tr th {\n",
       "        vertical-align: top;\n",
       "    }\n",
       "\n",
       "    .dataframe thead th {\n",
       "        text-align: right;\n",
       "    }\n",
       "</style>\n",
       "<table border=\"1\" class=\"dataframe\">\n",
       "  <thead>\n",
       "    <tr style=\"text-align: right;\">\n",
       "      <th>Occupancy</th>\n",
       "      <th>0</th>\n",
       "      <th>1</th>\n",
       "    </tr>\n",
       "    <tr>\n",
       "      <th>CO2</th>\n",
       "      <th></th>\n",
       "      <th></th>\n",
       "    </tr>\n",
       "  </thead>\n",
       "  <tbody>\n",
       "    <tr>\n",
       "      <th>300.0</th>\n",
       "      <td>4089</td>\n",
       "      <td>4</td>\n",
       "    </tr>\n",
       "    <tr>\n",
       "      <th>450.0</th>\n",
       "      <td>7046</td>\n",
       "      <td>502</td>\n",
       "    </tr>\n",
       "    <tr>\n",
       "      <th>600.0</th>\n",
       "      <td>2325</td>\n",
       "      <td>640</td>\n",
       "    </tr>\n",
       "    <tr>\n",
       "      <th>750.0</th>\n",
       "      <td>1058</td>\n",
       "      <td>983</td>\n",
       "    </tr>\n",
       "    <tr>\n",
       "      <th>900.0</th>\n",
       "      <td>184</td>\n",
       "      <td>1016</td>\n",
       "    </tr>\n",
       "    <tr>\n",
       "      <th>1050.0</th>\n",
       "      <td>163</td>\n",
       "      <td>715</td>\n",
       "    </tr>\n",
       "    <tr>\n",
       "      <th>1200.0</th>\n",
       "      <td>207</td>\n",
       "      <td>264</td>\n",
       "    </tr>\n",
       "    <tr>\n",
       "      <th>1350.0</th>\n",
       "      <td>398</td>\n",
       "      <td>351</td>\n",
       "    </tr>\n",
       "    <tr>\n",
       "      <th>1500.0</th>\n",
       "      <td>292</td>\n",
       "      <td>70</td>\n",
       "    </tr>\n",
       "    <tr>\n",
       "      <th>1650.0</th>\n",
       "      <td>43</td>\n",
       "      <td>56</td>\n",
       "    </tr>\n",
       "    <tr>\n",
       "      <th>1800.0</th>\n",
       "      <td>1</td>\n",
       "      <td>66</td>\n",
       "    </tr>\n",
       "    <tr>\n",
       "      <th>1950.0</th>\n",
       "      <td>4</td>\n",
       "      <td>83</td>\n",
       "    </tr>\n",
       "  </tbody>\n",
       "</table>\n",
       "</div>"
      ],
      "text/plain": [
       "Occupancy     0     1\n",
       "CO2                  \n",
       "300.0      4089     4\n",
       "450.0      7046   502\n",
       "600.0      2325   640\n",
       "750.0      1058   983\n",
       "900.0       184  1016\n",
       "1050.0      163   715\n",
       "1200.0      207   264\n",
       "1350.0      398   351\n",
       "1500.0      292    70\n",
       "1650.0       43    56\n",
       "1800.0        1    66\n",
       "1950.0        4    83"
      ]
     },
     "execution_count": 29,
     "metadata": {
      "tags": []
     },
     "output_type": "execute_result"
    }
   ],
   "source": [
    "x_default = pd.crosstab(df['CO2']//150*150, df['Occupancy'])\n",
    "x_default"
   ]
  },
  {
   "cell_type": "code",
   "execution_count": 0,
   "metadata": {
    "colab": {},
    "colab_type": "code",
    "id": "sL5sHtwSaSWA",
    "outputId": "55992b1f-7697-4d12-aaa5-a511663f7c58"
   },
   "outputs": [
    {
     "data": {
      "text/plain": [
       "<matplotlib.axes._subplots.AxesSubplot at 0x2441ed9c160>"
      ]
     },
     "execution_count": 30,
     "metadata": {
      "tags": []
     },
     "output_type": "execute_result"
    },
    {
     "data": {
      "text/plain": [
       "Text(0.5, 0, 'CO2')"
      ]
     },
     "execution_count": 30,
     "metadata": {
      "tags": []
     },
     "output_type": "execute_result"
    },
    {
     "data": {
      "text/plain": [
       "Text(0, 0.5, 'Occupancy')"
      ]
     },
     "execution_count": 30,
     "metadata": {
      "tags": []
     },
     "output_type": "execute_result"
    },
    {
     "data": {
      "text/plain": [
       "(array([ 0,  1,  2,  3,  4,  5,  6,  7,  8,  9, 10, 11]),\n",
       " <a list of 12 Text xticklabel objects>)"
      ]
     },
     "execution_count": 30,
     "metadata": {
      "tags": []
     },
     "output_type": "execute_result"
    },
    {
     "data": {
      "text/plain": [
       "<matplotlib.legend.Legend at 0x2441ed0b550>"
      ]
     },
     "execution_count": 30,
     "metadata": {
      "tags": []
     },
     "output_type": "execute_result"
    },
    {
     "data": {
      "image/png": "[encoded data removed]",
      "text/plain": [
       "<Figure size 432x288 with 1 Axes>"
      ]
     },
     "metadata": {
      "needs_background": "light",
      "tags": []
     },
     "output_type": "display_data"
    }
   ],
   "source": [
    "x_default.plot(kind='bar', stacked=True, title='Occupancy by CO2', edgecolor='black')\n",
    "pclass_xt = pd.crosstab(df['CO2'], df['Occupancy'])\n",
    "pclass_xt_pct = pclass_xt.div(pclass_xt.sum(1).astype(float), axis=0)\n",
    "plt.xlabel('CO2')\n",
    "plt.ylabel('Occupancy')\n",
    "plt.xticks(rotation=-45)\n",
    "plt.legend()\n",
    "plt.show()"
   ]
  },
  {
   "cell_type": "markdown",
   "metadata": {
    "colab_type": "text",
    "id": "y2PBCJvKaSWE"
   },
   "source": [
    "**HUMIDITY RATIO**"
   ]
  },
  {
   "cell_type": "code",
   "execution_count": 37,
   "metadata": {
    "colab": {},
    "colab_type": "code",
    "id": "pR3CNYFHYnPG"
   },
   "outputs": [
    {
     "data": {
      "text/plain": [
       "<matplotlib.axes._subplots.AxesSubplot at 0x19c24fcd390>"
      ]
     },
     "execution_count": 37,
     "metadata": {},
     "output_type": "execute_result"
    },
    {
     "data": {
      "text/plain": [
       "<matplotlib.axes._subplots.AxesSubplot at 0x19c24fcd390>"
      ]
     },
     "execution_count": 37,
     "metadata": {},
     "output_type": "execute_result"
    },
    {
     "data": {
      "text/plain": [
       "Text(0.5, 1.0, 'HumidityRatio df')"
      ]
     },
     "execution_count": 37,
     "metadata": {},
     "output_type": "execute_result"
    },
    {
     "data": {
      "text/plain": [
       "<matplotlib.axes._subplots.AxesSubplot at 0x19c250c2e80>"
      ]
     },
     "execution_count": 37,
     "metadata": {},
     "output_type": "execute_result"
    },
    {
     "data": {
      "text/plain": [
       "<matplotlib.axes._subplots.AxesSubplot at 0x19c250c2e80>"
      ]
     },
     "execution_count": 37,
     "metadata": {},
     "output_type": "execute_result"
    },
    {
     "data": {
      "text/plain": [
       "Text(0.5, 1.0, 'HumidityRatio test 1')"
      ]
     },
     "execution_count": 37,
     "metadata": {},
     "output_type": "execute_result"
    },
    {
     "data": {
      "text/plain": [
       "<matplotlib.axes._subplots.AxesSubplot at 0x19c25108d68>"
      ]
     },
     "execution_count": 37,
     "metadata": {},
     "output_type": "execute_result"
    },
    {
     "data": {
      "text/plain": [
       "<matplotlib.axes._subplots.AxesSubplot at 0x19c25108d68>"
      ]
     },
     "execution_count": 37,
     "metadata": {},
     "output_type": "execute_result"
    },
    {
     "data": {
      "text/plain": [
       "Text(0.5, 1.0, 'HumidityRatio test 2')"
      ]
     },
     "execution_count": 37,
     "metadata": {},
     "output_type": "execute_result"
    },
    {
     "data": {
      "text/plain": [
       "<matplotlib.axes._subplots.AxesSubplot at 0x19c25150ba8>"
      ]
     },
     "execution_count": 37,
     "metadata": {},
     "output_type": "execute_result"
    },
    {
     "data": {
      "text/plain": [
       "<matplotlib.axes._subplots.AxesSubplot at 0x19c25150ba8>"
      ]
     },
     "execution_count": 37,
     "metadata": {},
     "output_type": "execute_result"
    },
    {
     "data": {
      "text/plain": [
       "Text(0.5, 1.0, 'HumidityRatio training')"
      ]
     },
     "execution_count": 37,
     "metadata": {},
     "output_type": "execute_result"
    },
    {
     "data": {
      "image/png": "[encoded data removed]",
      "text/plain": [
       "<Figure size 936x936 with 4 Axes>"
      ]
     },
     "metadata": {
      "needs_background": "light"
     },
     "output_type": "display_data"
    }
   ],
   "source": [
    "# grid of histograms\n",
    "fig = plt.figure(figsize=(13, 13)) \n",
    "fig_dims = (3, 2)\n",
    "\n",
    "# Temperature df\n",
    "plt.subplot2grid(fig_dims, (0, 0))\n",
    "df['HumidityRatio'].hist(bins= 12, edgecolor='black')\n",
    "plt.title('HumidityRatio df')\n",
    "\n",
    "# Temperature test\n",
    "plt.subplot2grid(fig_dims, (0, 1))\n",
    "df_test_1['HumidityRatio'].hist(bins=12, edgecolor='black')\n",
    "plt.title('HumidityRatio test 1')\n",
    "\n",
    "# Temperature test2\n",
    "plt.subplot2grid(fig_dims, (1, 0))\n",
    "df_test_2['HumidityRatio'].hist(bins=12, edgecolor='black')\n",
    "plt.title('HumidityRatio test 2')\n",
    "\n",
    "# Temperature training\n",
    "plt.subplot2grid(fig_dims, (1, 1))\n",
    "df_training['HumidityRatio'].hist(bins=12, edgecolor='black')\n",
    "plt.title('HumidityRatio training')\n",
    "\n",
    "plt.show()"
   ]
  },
  {
   "cell_type": "code",
   "execution_count": 0,
   "metadata": {
    "colab": {},
    "colab_type": "code",
    "id": "ocJhFibcqqvy",
    "outputId": "047eafcd-833c-441d-dbc9-4ef28c853807"
   },
   "outputs": [
    {
     "data": {
      "text/plain": [
       "<matplotlib.axes._subplots.AxesSubplot at 0x244203d4c88>"
      ]
     },
     "execution_count": 51,
     "metadata": {
      "tags": []
     },
     "output_type": "execute_result"
    },
    {
     "data": {
      "text/plain": [
       "Text(0.5, 1.0, 'HumidityRatio')"
      ]
     },
     "execution_count": 51,
     "metadata": {
      "tags": []
     },
     "output_type": "execute_result"
    },
    {
     "data": {
      "image/png": "[encoded data removed]",
      "text/plain": [
       "<Figure size 432x288 with 1 Axes>"
      ]
     },
     "metadata": {
      "needs_background": "light",
      "tags": []
     },
     "output_type": "display_data"
    }
   ],
   "source": [
    "df['HumidityRatio'].hist(bins=9, edgecolor='black')\n",
    "plt.title('HumidityRatio')\n",
    "plt.show()"
   ]
  },
  {
   "cell_type": "code",
   "execution_count": 0,
   "metadata": {
    "colab": {},
    "colab_type": "code",
    "id": "C-kpjwyGaSWI",
    "outputId": "9cd27c34-2dc5-4779-c9c9-4c6aa3fc2f1a"
   },
   "outputs": [
    {
     "data": {
      "text/plain": [
       "count    20560.000000\n",
       "mean         0.004228\n",
       "std          0.000768\n",
       "min          0.002674\n",
       "25%          0.003719\n",
       "50%          0.004292\n",
       "75%          0.004832\n",
       "max          0.006476\n",
       "Name: HumidityRatio, dtype: float64"
      ]
     },
     "execution_count": 52,
     "metadata": {
      "tags": []
     },
     "output_type": "execute_result"
    }
   ],
   "source": [
    "HumidityRatio = df['HumidityRatio'].copy()\n",
    "HumidityRatio.describe()"
   ]
  },
  {
   "cell_type": "code",
   "execution_count": 0,
   "metadata": {
    "colab": {},
    "colab_type": "code",
    "id": "0o1iqRqXaSWL",
    "outputId": "f6ecf624-6f4a-475a-94ff-75fa677668b0"
   },
   "outputs": [
    {
     "data": {
      "text/html": [
       "<div>\n",
       "<style scoped>\n",
       "    .dataframe tbody tr th:only-of-type {\n",
       "        vertical-align: middle;\n",
       "    }\n",
       "\n",
       "    .dataframe tbody tr th {\n",
       "        vertical-align: top;\n",
       "    }\n",
       "\n",
       "    .dataframe thead th {\n",
       "        text-align: right;\n",
       "    }\n",
       "</style>\n",
       "<table border=\"1\" class=\"dataframe\">\n",
       "  <thead>\n",
       "    <tr style=\"text-align: right;\">\n",
       "      <th>Occupancy</th>\n",
       "      <th>0</th>\n",
       "      <th>1</th>\n",
       "    </tr>\n",
       "    <tr>\n",
       "      <th>HumidityRatio</th>\n",
       "      <th></th>\n",
       "      <th></th>\n",
       "    </tr>\n",
       "  </thead>\n",
       "  <tbody>\n",
       "    <tr>\n",
       "      <th>0.00235</th>\n",
       "      <td>1036</td>\n",
       "      <td>8</td>\n",
       "    </tr>\n",
       "    <tr>\n",
       "      <th>0.00282</th>\n",
       "      <td>1215</td>\n",
       "      <td>272</td>\n",
       "    </tr>\n",
       "    <tr>\n",
       "      <th>0.00329</th>\n",
       "      <td>2525</td>\n",
       "      <td>465</td>\n",
       "    </tr>\n",
       "    <tr>\n",
       "      <th>0.00376</th>\n",
       "      <td>3704</td>\n",
       "      <td>461</td>\n",
       "    </tr>\n",
       "    <tr>\n",
       "      <th>0.00423</th>\n",
       "      <td>3395</td>\n",
       "      <td>1471</td>\n",
       "    </tr>\n",
       "    <tr>\n",
       "      <th>0.00470</th>\n",
       "      <td>2669</td>\n",
       "      <td>1154</td>\n",
       "    </tr>\n",
       "    <tr>\n",
       "      <th>0.00517</th>\n",
       "      <td>1202</td>\n",
       "      <td>497</td>\n",
       "    </tr>\n",
       "    <tr>\n",
       "      <th>0.00564</th>\n",
       "      <td>58</td>\n",
       "      <td>266</td>\n",
       "    </tr>\n",
       "    <tr>\n",
       "      <th>0.00611</th>\n",
       "      <td>6</td>\n",
       "      <td>156</td>\n",
       "    </tr>\n",
       "  </tbody>\n",
       "</table>\n",
       "</div>"
      ],
      "text/plain": [
       "Occupancy         0     1\n",
       "HumidityRatio            \n",
       "0.00235        1036     8\n",
       "0.00282        1215   272\n",
       "0.00329        2525   465\n",
       "0.00376        3704   461\n",
       "0.00423        3395  1471\n",
       "0.00470        2669  1154\n",
       "0.00517        1202   497\n",
       "0.00564          58   266\n",
       "0.00611           6   156"
      ]
     },
     "execution_count": 53,
     "metadata": {
      "tags": []
     },
     "output_type": "execute_result"
    }
   ],
   "source": [
    "x_default = pd.crosstab(df['HumidityRatio']//0.00047*0.00047, df['Occupancy'])\n",
    "x_default"
   ]
  },
  {
   "cell_type": "code",
   "execution_count": 0,
   "metadata": {
    "colab": {},
    "colab_type": "code",
    "id": "-9-QyWKeaSWN",
    "outputId": "1917d0f9-6f90-4786-8992-df7a46e7ac1a"
   },
   "outputs": [
    {
     "data": {
      "text/plain": [
       "<matplotlib.axes._subplots.AxesSubplot at 0x24420565be0>"
      ]
     },
     "execution_count": 54,
     "metadata": {
      "tags": []
     },
     "output_type": "execute_result"
    },
    {
     "data": {
      "text/plain": [
       "Text(0.5, 0, 'HumidityRatio')"
      ]
     },
     "execution_count": 54,
     "metadata": {
      "tags": []
     },
     "output_type": "execute_result"
    },
    {
     "data": {
      "text/plain": [
       "Text(0, 0.5, 'Occupancy')"
      ]
     },
     "execution_count": 54,
     "metadata": {
      "tags": []
     },
     "output_type": "execute_result"
    },
    {
     "data": {
      "text/plain": [
       "(array([0, 1, 2, 3, 4, 5, 6, 7, 8]), <a list of 9 Text xticklabel objects>)"
      ]
     },
     "execution_count": 54,
     "metadata": {
      "tags": []
     },
     "output_type": "execute_result"
    },
    {
     "data": {
      "text/plain": [
       "<matplotlib.legend.Legend at 0x244203c97f0>"
      ]
     },
     "execution_count": 54,
     "metadata": {
      "tags": []
     },
     "output_type": "execute_result"
    },
    {
     "data": {
      "image/png": "[encoded data removed]",
      "text/plain": [
       "<Figure size 432x288 with 1 Axes>"
      ]
     },
     "metadata": {
      "needs_background": "light",
      "tags": []
     },
     "output_type": "display_data"
    }
   ],
   "source": [
    "x_default.plot(kind='bar', stacked=True, title='Occupancy by HiumidityRatio', edgecolor='black')\n",
    "pclass_xt = pd.crosstab(df['HumidityRatio'], df['Occupancy'])\n",
    "pclass_xt_pct = pclass_xt.div(pclass_xt.sum(1).astype(float), axis=0)\n",
    "plt.xlabel('HumidityRatio')\n",
    "plt.ylabel('Occupancy')\n",
    "plt.xticks(rotation=-45)\n",
    "plt.legend()\n",
    "plt.show()"
   ]
  },
  {
   "cell_type": "markdown",
   "metadata": {
    "colab_type": "text",
    "id": "JB7Qw9YlaSWQ"
   },
   "source": [
    "**OCCUPANCY**"
   ]
  },
  {
   "cell_type": "code",
   "execution_count": 0,
   "metadata": {
    "colab": {},
    "colab_type": "code",
    "id": "hMFJqKY6qqv1",
    "outputId": "326d6bba-ab0e-4008-ec93-6ebe6ddf7c63"
   },
   "outputs": [
    {
     "data": {
      "image/png": "[encoded data removed]",
      "text/plain": [
       "<Figure size 432x288 with 1 Axes>"
      ]
     },
     "metadata": {
      "needs_background": "light",
      "tags": []
     },
     "output_type": "display_data"
    }
   ],
   "source": [
    "df['Occupancy'].value_counts().plot(kind='bar', title='Occupancy', edgecolor='black')\n",
    "plt.show();"
   ]
  },
  {
   "cell_type": "markdown",
   "metadata": {
    "colab_type": "text",
    "id": "ryJ-3POaqqv5"
   },
   "source": [
    " **Project Task 1 - Basic Classifiers and Evaluation**\n",
    "\n",
    "1. Prepare the dataset in order to build several basic classifiers able to predict room occupancy from the available variables. You are welcome in creating new variables.\n",
    "\n",
    "\n",
    "2. Solve the classification task with k-NN (testing values of k), Naive Bayes, Logistic Regression, Decision Tree using cross-validation and/or random/grid search for parameter estimation.\n",
    "\n",
    "\n",
    "3. Evaluate each classifier using Accuracy, Precision, Recall, F1, ROC, AUC and Lift Chart.\n",
    "\n",
    "\n",
    "4. Try to reduce the dimensionality of the dataset using the methods studied (or new ones). Test PCA and try to solve the classification task in two dimensions. Plot the dataset in the two new dimensions and observe the decision boundary and the one of the trained algorithms.\n",
    "\n",
    "\n",
    "5. Analyze the value distribution of the class to predict and turn the dataset into an imbalanced version reaching a strong majority-minority distribution (e.g. 96%-4%). Then solve again the classification task adopting the various techniques studied (or new ones).\n",
    "\n",
    "\n",
    "6. Select two continuous attributes, define a regression problem and try to solve it using different techniques reporting various evaluation measures. Plot the two-dimensional dataset. Then generalize to multiple linear regression and observe how the performance varies.\n",
    "\n",
    "\n",
    "7. Draw your conclusions about the basic classifiers and techniques adopted in this analysis."
   ]
  },
  {
   "cell_type": "markdown",
   "metadata": {
    "colab_type": "text",
    "id": "Hmr3GgyUaSWT"
   },
   "source": [
    "**COVARIANCE and CORRELATION**"
   ]
  },
  {
   "cell_type": "code",
   "execution_count": 38,
   "metadata": {
    "colab": {},
    "colab_type": "code",
    "id": "WZmAHrb9aSWT",
    "outputId": "8e984257-85a8-48ff-8bd8-f51e5cb5a9bd"
   },
   "outputs": [
    {
     "data": {
      "text/html": [
       "<div>\n",
       "<style scoped>\n",
       "    .dataframe tbody tr th:only-of-type {\n",
       "        vertical-align: middle;\n",
       "    }\n",
       "\n",
       "    .dataframe tbody tr th {\n",
       "        vertical-align: top;\n",
       "    }\n",
       "\n",
       "    .dataframe thead th {\n",
       "        text-align: right;\n",
       "    }\n",
       "</style>\n",
       "<table border=\"1\" class=\"dataframe\">\n",
       "  <thead>\n",
       "    <tr style=\"text-align: right;\">\n",
       "      <th></th>\n",
       "      <th>Temperature</th>\n",
       "      <th>Humidity</th>\n",
       "      <th>Light</th>\n",
       "      <th>CO2</th>\n",
       "      <th>HumidityRatio</th>\n",
       "      <th>Occupancy</th>\n",
       "      <th>Hours</th>\n",
       "      <th>Minutes</th>\n",
       "      <th>Seconds</th>\n",
       "    </tr>\n",
       "  </thead>\n",
       "  <tbody>\n",
       "    <tr>\n",
       "      <th>Temperature</th>\n",
       "      <td>1.113689</td>\n",
       "      <td>-0.825273</td>\n",
       "      <td>152.911504</td>\n",
       "      <td>147.783162</td>\n",
       "      <td>1.663469e-04</td>\n",
       "      <td>0.247145</td>\n",
       "      <td>1.760426</td>\n",
       "      <td>-0.045731</td>\n",
       "      <td>0.014516</td>\n",
       "    </tr>\n",
       "    <tr>\n",
       "      <th>Humidity</th>\n",
       "      <td>-0.825273</td>\n",
       "      <td>24.821855</td>\n",
       "      <td>-30.884619</td>\n",
       "      <td>464.742392</td>\n",
       "      <td>3.568266e-03</td>\n",
       "      <td>0.097103</td>\n",
       "      <td>4.059833</td>\n",
       "      <td>-0.189143</td>\n",
       "      <td>0.027574</td>\n",
       "    </tr>\n",
       "    <tr>\n",
       "      <th>Light</th>\n",
       "      <td>152.911504</td>\n",
       "      <td>-30.884619</td>\n",
       "      <td>44281.153338</td>\n",
       "      <td>29344.775611</td>\n",
       "      <td>3.608619e-02</td>\n",
       "      <td>81.144565</td>\n",
       "      <td>140.348958</td>\n",
       "      <td>76.472514</td>\n",
       "      <td>4.141763</td>\n",
       "    </tr>\n",
       "    <tr>\n",
       "      <th>CO2</th>\n",
       "      <td>147.783162</td>\n",
       "      <td>464.742392</td>\n",
       "      <td>29344.775611</td>\n",
       "      <td>96846.237270</td>\n",
       "      <td>1.142153e-01</td>\n",
       "      <td>65.793610</td>\n",
       "      <td>280.551413</td>\n",
       "      <td>0.652284</td>\n",
       "      <td>-0.787756</td>\n",
       "    </tr>\n",
       "    <tr>\n",
       "      <th>HumidityRatio</th>\n",
       "      <td>0.000166</td>\n",
       "      <td>0.003568</td>\n",
       "      <td>0.036086</td>\n",
       "      <td>0.114215</td>\n",
       "      <td>5.896228e-07</td>\n",
       "      <td>0.000083</td>\n",
       "      <td>0.001098</td>\n",
       "      <td>-0.000043</td>\n",
       "      <td>0.000008</td>\n",
       "    </tr>\n",
       "    <tr>\n",
       "      <th>Occupancy</th>\n",
       "      <td>0.247145</td>\n",
       "      <td>0.097103</td>\n",
       "      <td>81.144565</td>\n",
       "      <td>65.793610</td>\n",
       "      <td>8.328510e-05</td>\n",
       "      <td>0.177664</td>\n",
       "      <td>0.307519</td>\n",
       "      <td>0.091982</td>\n",
       "      <td>0.005346</td>\n",
       "    </tr>\n",
       "    <tr>\n",
       "      <th>Hours</th>\n",
       "      <td>1.760426</td>\n",
       "      <td>4.059833</td>\n",
       "      <td>140.348958</td>\n",
       "      <td>280.551413</td>\n",
       "      <td>1.097693e-03</td>\n",
       "      <td>0.307519</td>\n",
       "      <td>50.067513</td>\n",
       "      <td>0.429765</td>\n",
       "      <td>0.464378</td>\n",
       "    </tr>\n",
       "    <tr>\n",
       "      <th>Minutes</th>\n",
       "      <td>-0.045731</td>\n",
       "      <td>-0.189143</td>\n",
       "      <td>76.472514</td>\n",
       "      <td>0.652284</td>\n",
       "      <td>-4.251556e-05</td>\n",
       "      <td>0.091982</td>\n",
       "      <td>0.429765</td>\n",
       "      <td>299.607450</td>\n",
       "      <td>12.906698</td>\n",
       "    </tr>\n",
       "    <tr>\n",
       "      <th>Seconds</th>\n",
       "      <td>0.014516</td>\n",
       "      <td>0.027574</td>\n",
       "      <td>4.141763</td>\n",
       "      <td>-0.787756</td>\n",
       "      <td>8.357969e-06</td>\n",
       "      <td>0.005346</td>\n",
       "      <td>0.464378</td>\n",
       "      <td>12.906698</td>\n",
       "      <td>746.187127</td>\n",
       "    </tr>\n",
       "  </tbody>\n",
       "</table>\n",
       "</div>"
      ],
      "text/plain": [
       "               Temperature    Humidity         Light           CO2  \\\n",
       "Temperature       1.113689   -0.825273    152.911504    147.783162   \n",
       "Humidity         -0.825273   24.821855    -30.884619    464.742392   \n",
       "Light           152.911504  -30.884619  44281.153338  29344.775611   \n",
       "CO2             147.783162  464.742392  29344.775611  96846.237270   \n",
       "HumidityRatio     0.000166    0.003568      0.036086      0.114215   \n",
       "Occupancy         0.247145    0.097103     81.144565     65.793610   \n",
       "Hours             1.760426    4.059833    140.348958    280.551413   \n",
       "Minutes          -0.045731   -0.189143     76.472514      0.652284   \n",
       "Seconds           0.014516    0.027574      4.141763     -0.787756   \n",
       "\n",
       "               HumidityRatio  Occupancy       Hours     Minutes     Seconds  \n",
       "Temperature     1.663469e-04   0.247145    1.760426   -0.045731    0.014516  \n",
       "Humidity        3.568266e-03   0.097103    4.059833   -0.189143    0.027574  \n",
       "Light           3.608619e-02  81.144565  140.348958   76.472514    4.141763  \n",
       "CO2             1.142153e-01  65.793610  280.551413    0.652284   -0.787756  \n",
       "HumidityRatio   5.896228e-07   0.000083    0.001098   -0.000043    0.000008  \n",
       "Occupancy       8.328510e-05   0.177664    0.307519    0.091982    0.005346  \n",
       "Hours           1.097693e-03   0.307519   50.067513    0.429765    0.464378  \n",
       "Minutes        -4.251556e-05   0.091982    0.429765  299.607450   12.906698  \n",
       "Seconds         8.357969e-06   0.005346    0.464378   12.906698  746.187127  "
      ]
     },
     "execution_count": 38,
     "metadata": {},
     "output_type": "execute_result"
    }
   ],
   "source": [
    "df.cov()"
   ]
  },
  {
   "cell_type": "code",
   "execution_count": 46,
   "metadata": {},
   "outputs": [
    {
     "data": {
      "text/html": [
       "<div>\n",
       "<style scoped>\n",
       "    .dataframe tbody tr th:only-of-type {\n",
       "        vertical-align: middle;\n",
       "    }\n",
       "\n",
       "    .dataframe tbody tr th {\n",
       "        vertical-align: top;\n",
       "    }\n",
       "\n",
       "    .dataframe thead th {\n",
       "        text-align: right;\n",
       "    }\n",
       "</style>\n",
       "<table border=\"1\" class=\"dataframe\">\n",
       "  <thead>\n",
       "    <tr style=\"text-align: right;\">\n",
       "      <th></th>\n",
       "      <th>Temperature</th>\n",
       "      <th>Humidity</th>\n",
       "      <th>Light</th>\n",
       "      <th>CO2</th>\n",
       "      <th>HumidityRatio</th>\n",
       "      <th>Occupancy</th>\n",
       "    </tr>\n",
       "  </thead>\n",
       "  <tbody>\n",
       "    <tr>\n",
       "      <th>Temperature</th>\n",
       "      <td>1.056834</td>\n",
       "      <td>1.796151</td>\n",
       "      <td>197.657215</td>\n",
       "      <td>261.837119</td>\n",
       "      <td>5.614931e-04</td>\n",
       "      <td>0.349318</td>\n",
       "    </tr>\n",
       "    <tr>\n",
       "      <th>Humidity</th>\n",
       "      <td>1.796151</td>\n",
       "      <td>5.938201</td>\n",
       "      <td>342.607136</td>\n",
       "      <td>650.178170</td>\n",
       "      <td>1.416323e-03</td>\n",
       "      <td>0.716550</td>\n",
       "    </tr>\n",
       "    <tr>\n",
       "      <th>Light</th>\n",
       "      <td>197.657215</td>\n",
       "      <td>342.607136</td>\n",
       "      <td>62605.497367</td>\n",
       "      <td>56327.793073</td>\n",
       "      <td>1.059146e-01</td>\n",
       "      <td>111.783129</td>\n",
       "    </tr>\n",
       "    <tr>\n",
       "      <th>CO2</th>\n",
       "      <td>261.837119</td>\n",
       "      <td>650.178170</td>\n",
       "      <td>56327.793073</td>\n",
       "      <td>85662.588282</td>\n",
       "      <td>1.723488e-01</td>\n",
       "      <td>108.222974</td>\n",
       "    </tr>\n",
       "    <tr>\n",
       "      <th>HumidityRatio</th>\n",
       "      <td>0.000561</td>\n",
       "      <td>0.001416</td>\n",
       "      <td>0.105915</td>\n",
       "      <td>0.172349</td>\n",
       "      <td>3.727990e-07</td>\n",
       "      <td>0.000206</td>\n",
       "    </tr>\n",
       "    <tr>\n",
       "      <th>Occupancy</th>\n",
       "      <td>0.349318</td>\n",
       "      <td>0.716550</td>\n",
       "      <td>111.783129</td>\n",
       "      <td>108.222974</td>\n",
       "      <td>2.058667e-04</td>\n",
       "      <td>0.231788</td>\n",
       "    </tr>\n",
       "  </tbody>\n",
       "</table>\n",
       "</div>"
      ],
      "text/plain": [
       "               Temperature    Humidity         Light           CO2  \\\n",
       "Temperature       1.056834    1.796151    197.657215    261.837119   \n",
       "Humidity          1.796151    5.938201    342.607136    650.178170   \n",
       "Light           197.657215  342.607136  62605.497367  56327.793073   \n",
       "CO2             261.837119  650.178170  56327.793073  85662.588282   \n",
       "HumidityRatio     0.000561    0.001416      0.105915      0.172349   \n",
       "Occupancy         0.349318    0.716550    111.783129    108.222974   \n",
       "\n",
       "               HumidityRatio   Occupancy  \n",
       "Temperature     5.614931e-04    0.349318  \n",
       "Humidity        1.416323e-03    0.716550  \n",
       "Light           1.059146e-01  111.783129  \n",
       "CO2             1.723488e-01  108.222974  \n",
       "HumidityRatio   3.727990e-07    0.000206  \n",
       "Occupancy       2.058667e-04    0.231788  "
      ]
     },
     "execution_count": 46,
     "metadata": {},
     "output_type": "execute_result"
    },
    {
     "data": {
      "text/html": [
       "<div>\n",
       "<style scoped>\n",
       "    .dataframe tbody tr th:only-of-type {\n",
       "        vertical-align: middle;\n",
       "    }\n",
       "\n",
       "    .dataframe tbody tr th {\n",
       "        vertical-align: top;\n",
       "    }\n",
       "\n",
       "    .dataframe thead th {\n",
       "        text-align: right;\n",
       "    }\n",
       "</style>\n",
       "<table border=\"1\" class=\"dataframe\">\n",
       "  <thead>\n",
       "    <tr style=\"text-align: right;\">\n",
       "      <th></th>\n",
       "      <th>Temperature</th>\n",
       "      <th>Humidity</th>\n",
       "      <th>Light</th>\n",
       "      <th>CO2</th>\n",
       "      <th>HumidityRatio</th>\n",
       "      <th>Occupancy</th>\n",
       "    </tr>\n",
       "  </thead>\n",
       "  <tbody>\n",
       "    <tr>\n",
       "      <th>Temperature</th>\n",
       "      <td>1.041815</td>\n",
       "      <td>-1.908068</td>\n",
       "      <td>149.948058</td>\n",
       "      <td>60.541307</td>\n",
       "      <td>-5.640403e-06</td>\n",
       "      <td>0.216971</td>\n",
       "    </tr>\n",
       "    <tr>\n",
       "      <th>Humidity</th>\n",
       "      <td>-1.908068</td>\n",
       "      <td>15.624974</td>\n",
       "      <td>-154.306035</td>\n",
       "      <td>-93.038196</td>\n",
       "      <td>1.855644e-03</td>\n",
       "      <td>-0.141343</td>\n",
       "    </tr>\n",
       "    <tr>\n",
       "      <th>Light</th>\n",
       "      <td>149.948058</td>\n",
       "      <td>-154.306035</td>\n",
       "      <td>43356.099411</td>\n",
       "      <td>11766.880081</td>\n",
       "      <td>1.798636e-02</td>\n",
       "      <td>77.580070</td>\n",
       "    </tr>\n",
       "    <tr>\n",
       "      <th>CO2</th>\n",
       "      <td>60.541307</td>\n",
       "      <td>-93.038196</td>\n",
       "      <td>11766.880081</td>\n",
       "      <td>88266.100723</td>\n",
       "      <td>6.814509e-03</td>\n",
       "      <td>31.701214</td>\n",
       "    </tr>\n",
       "    <tr>\n",
       "      <th>HumidityRatio</th>\n",
       "      <td>-0.000006</td>\n",
       "      <td>0.001856</td>\n",
       "      <td>0.017986</td>\n",
       "      <td>0.006815</td>\n",
       "      <td>2.819447e-07</td>\n",
       "      <td>0.000041</td>\n",
       "    </tr>\n",
       "    <tr>\n",
       "      <th>Occupancy</th>\n",
       "      <td>0.216971</td>\n",
       "      <td>-0.141343</td>\n",
       "      <td>77.580070</td>\n",
       "      <td>31.701214</td>\n",
       "      <td>4.113697e-05</td>\n",
       "      <td>0.165981</td>\n",
       "    </tr>\n",
       "  </tbody>\n",
       "</table>\n",
       "</div>"
      ],
      "text/plain": [
       "               Temperature    Humidity         Light           CO2  \\\n",
       "Temperature       1.041815   -1.908068    149.948058     60.541307   \n",
       "Humidity         -1.908068   15.624974   -154.306035    -93.038196   \n",
       "Light           149.948058 -154.306035  43356.099411  11766.880081   \n",
       "CO2              60.541307  -93.038196  11766.880081  88266.100723   \n",
       "HumidityRatio    -0.000006    0.001856      0.017986      0.006815   \n",
       "Occupancy         0.216971   -0.141343     77.580070     31.701214   \n",
       "\n",
       "               HumidityRatio  Occupancy  \n",
       "Temperature    -5.640403e-06   0.216971  \n",
       "Humidity        1.855644e-03  -0.141343  \n",
       "Light           1.798636e-02  77.580070  \n",
       "CO2             6.814509e-03  31.701214  \n",
       "HumidityRatio   2.819447e-07   0.000041  \n",
       "Occupancy       4.113697e-05   0.165981  "
      ]
     },
     "execution_count": 46,
     "metadata": {},
     "output_type": "execute_result"
    }
   ],
   "source": [
    "df_test_1.cov()\n",
    "df_test_2.cov()"
   ]
  },
  {
   "cell_type": "code",
   "execution_count": 39,
   "metadata": {
    "colab": {},
    "colab_type": "code",
    "id": "vpVqNx9OqqwD"
   },
   "outputs": [],
   "source": [
    "df_corr = df.copy()"
   ]
  },
  {
   "cell_type": "code",
   "execution_count": 40,
   "metadata": {
    "colab": {},
    "colab_type": "code",
    "id": "bTx6nodiaSWY",
    "outputId": "d2bd5e25-d7e6-4e74-b4c4-e066ec665620"
   },
   "outputs": [
    {
     "data": {
      "text/html": [
       "<div>\n",
       "<style scoped>\n",
       "    .dataframe tbody tr th:only-of-type {\n",
       "        vertical-align: middle;\n",
       "    }\n",
       "\n",
       "    .dataframe tbody tr th {\n",
       "        vertical-align: top;\n",
       "    }\n",
       "\n",
       "    .dataframe thead th {\n",
       "        text-align: right;\n",
       "    }\n",
       "</style>\n",
       "<table border=\"1\" class=\"dataframe\">\n",
       "  <thead>\n",
       "    <tr style=\"text-align: right;\">\n",
       "      <th></th>\n",
       "      <th>Temperature</th>\n",
       "      <th>Humidity</th>\n",
       "      <th>Light</th>\n",
       "      <th>CO2</th>\n",
       "      <th>HumidityRatio</th>\n",
       "      <th>Occupancy</th>\n",
       "      <th>Hours</th>\n",
       "      <th>Minutes</th>\n",
       "      <th>Seconds</th>\n",
       "    </tr>\n",
       "  </thead>\n",
       "  <tbody>\n",
       "    <tr>\n",
       "      <th>Temperature</th>\n",
       "      <td>1.000000</td>\n",
       "      <td>-0.156964</td>\n",
       "      <td>0.688571</td>\n",
       "      <td>0.449989</td>\n",
       "      <td>0.205280</td>\n",
       "      <td>0.555610</td>\n",
       "      <td>0.235753</td>\n",
       "      <td>-0.002504</td>\n",
       "      <td>0.000504</td>\n",
       "    </tr>\n",
       "    <tr>\n",
       "      <th>Humidity</th>\n",
       "      <td>-0.156964</td>\n",
       "      <td>1.000000</td>\n",
       "      <td>-0.029459</td>\n",
       "      <td>0.299746</td>\n",
       "      <td>0.932724</td>\n",
       "      <td>0.046240</td>\n",
       "      <td>0.115163</td>\n",
       "      <td>-0.002193</td>\n",
       "      <td>0.000203</td>\n",
       "    </tr>\n",
       "    <tr>\n",
       "      <th>Light</th>\n",
       "      <td>0.688571</td>\n",
       "      <td>-0.029459</td>\n",
       "      <td>1.000000</td>\n",
       "      <td>0.448105</td>\n",
       "      <td>0.223329</td>\n",
       "      <td>0.914850</td>\n",
       "      <td>0.094259</td>\n",
       "      <td>0.020995</td>\n",
       "      <td>0.000721</td>\n",
       "    </tr>\n",
       "    <tr>\n",
       "      <th>CO2</th>\n",
       "      <td>0.449989</td>\n",
       "      <td>0.299746</td>\n",
       "      <td>0.448105</td>\n",
       "      <td>1.000000</td>\n",
       "      <td>0.477965</td>\n",
       "      <td>0.501582</td>\n",
       "      <td>0.127407</td>\n",
       "      <td>0.000121</td>\n",
       "      <td>-0.000093</td>\n",
       "    </tr>\n",
       "    <tr>\n",
       "      <th>HumidityRatio</th>\n",
       "      <td>0.205280</td>\n",
       "      <td>0.932724</td>\n",
       "      <td>0.223329</td>\n",
       "      <td>0.477965</td>\n",
       "      <td>1.000000</td>\n",
       "      <td>0.257324</td>\n",
       "      <td>0.202030</td>\n",
       "      <td>-0.003199</td>\n",
       "      <td>0.000398</td>\n",
       "    </tr>\n",
       "    <tr>\n",
       "      <th>Occupancy</th>\n",
       "      <td>0.555610</td>\n",
       "      <td>0.046240</td>\n",
       "      <td>0.914850</td>\n",
       "      <td>0.501582</td>\n",
       "      <td>0.257324</td>\n",
       "      <td>1.000000</td>\n",
       "      <td>0.103108</td>\n",
       "      <td>0.012607</td>\n",
       "      <td>0.000464</td>\n",
       "    </tr>\n",
       "    <tr>\n",
       "      <th>Hours</th>\n",
       "      <td>0.235753</td>\n",
       "      <td>0.115163</td>\n",
       "      <td>0.094259</td>\n",
       "      <td>0.127407</td>\n",
       "      <td>0.202030</td>\n",
       "      <td>0.103108</td>\n",
       "      <td>1.000000</td>\n",
       "      <td>0.003509</td>\n",
       "      <td>0.002403</td>\n",
       "    </tr>\n",
       "    <tr>\n",
       "      <th>Minutes</th>\n",
       "      <td>-0.002504</td>\n",
       "      <td>-0.002193</td>\n",
       "      <td>0.020995</td>\n",
       "      <td>0.000121</td>\n",
       "      <td>-0.003199</td>\n",
       "      <td>0.012607</td>\n",
       "      <td>0.003509</td>\n",
       "      <td>1.000000</td>\n",
       "      <td>0.027297</td>\n",
       "    </tr>\n",
       "    <tr>\n",
       "      <th>Seconds</th>\n",
       "      <td>0.000504</td>\n",
       "      <td>0.000203</td>\n",
       "      <td>0.000721</td>\n",
       "      <td>-0.000093</td>\n",
       "      <td>0.000398</td>\n",
       "      <td>0.000464</td>\n",
       "      <td>0.002403</td>\n",
       "      <td>0.027297</td>\n",
       "      <td>1.000000</td>\n",
       "    </tr>\n",
       "  </tbody>\n",
       "</table>\n",
       "</div>"
      ],
      "text/plain": [
       "               Temperature  Humidity     Light       CO2  HumidityRatio  \\\n",
       "Temperature       1.000000 -0.156964  0.688571  0.449989       0.205280   \n",
       "Humidity         -0.156964  1.000000 -0.029459  0.299746       0.932724   \n",
       "Light             0.688571 -0.029459  1.000000  0.448105       0.223329   \n",
       "CO2               0.449989  0.299746  0.448105  1.000000       0.477965   \n",
       "HumidityRatio     0.205280  0.932724  0.223329  0.477965       1.000000   \n",
       "Occupancy         0.555610  0.046240  0.914850  0.501582       0.257324   \n",
       "Hours             0.235753  0.115163  0.094259  0.127407       0.202030   \n",
       "Minutes          -0.002504 -0.002193  0.020995  0.000121      -0.003199   \n",
       "Seconds           0.000504  0.000203  0.000721 -0.000093       0.000398   \n",
       "\n",
       "               Occupancy     Hours   Minutes   Seconds  \n",
       "Temperature     0.555610  0.235753 -0.002504  0.000504  \n",
       "Humidity        0.046240  0.115163 -0.002193  0.000203  \n",
       "Light           0.914850  0.094259  0.020995  0.000721  \n",
       "CO2             0.501582  0.127407  0.000121 -0.000093  \n",
       "HumidityRatio   0.257324  0.202030 -0.003199  0.000398  \n",
       "Occupancy       1.000000  0.103108  0.012607  0.000464  \n",
       "Hours           0.103108  1.000000  0.003509  0.002403  \n",
       "Minutes         0.012607  0.003509  1.000000  0.027297  \n",
       "Seconds         0.000464  0.002403  0.027297  1.000000  "
      ]
     },
     "execution_count": 40,
     "metadata": {},
     "output_type": "execute_result"
    }
   ],
   "source": [
    "df_corr.corr(method='pearson')"
   ]
  },
  {
   "cell_type": "code",
   "execution_count": 41,
   "metadata": {
    "colab": {},
    "colab_type": "code",
    "id": "2ltIoSiCaSWc",
    "outputId": "a04ee3f6-ec48-4a6b-cfc9-602c584ad0a0"
   },
   "outputs": [
    {
     "data": {
      "image/png": "[encoded data removed]",
      "text/plain": [
       "<Figure size 648x648 with 2 Axes>"
      ]
     },
     "metadata": {},
     "output_type": "display_data"
    }
   ],
   "source": [
    "sns.set(style='white')\n",
    "corr = df_corr.corr(method='pearson')\n",
    "plt.figure(figsize = (9,9))\n",
    "mask = np.zeros_like(corr)\n",
    "mask[np.triu_indices_from(mask)] = True\n",
    "with sns.axes_style(\"white\"):\n",
    "     ax = sns.heatmap(corr, \n",
    "                      mask=mask,\n",
    "                      square=True,\n",
    "                      cmap=sns.diverging_palette(20, 220, n=200), \n",
    "                      linewidths=2, \n",
    "                      center=0.0, vmax=1.0, vmin=-1.0, \n",
    "                      annot=True, annot_kws={\"size\": 10});\n",
    "ax.set_xticklabels(\n",
    "    ax.get_xticklabels(),\n",
    "    rotation=45,\n",
    "    horizontalalignment='right');"
   ]
  },
  {
   "cell_type": "code",
   "execution_count": 42,
   "metadata": {
    "colab": {},
    "colab_type": "code",
    "id": "lZUXNTVmaSWf",
    "outputId": "671f7f56-b0cf-4b0e-feee-6b9144a0bd28"
   },
   "outputs": [
    {
     "data": {
      "text/html": [
       "<div>\n",
       "<style scoped>\n",
       "    .dataframe tbody tr th:only-of-type {\n",
       "        vertical-align: middle;\n",
       "    }\n",
       "\n",
       "    .dataframe tbody tr th {\n",
       "        vertical-align: top;\n",
       "    }\n",
       "\n",
       "    .dataframe thead th {\n",
       "        text-align: right;\n",
       "    }\n",
       "</style>\n",
       "<table border=\"1\" class=\"dataframe\">\n",
       "  <thead>\n",
       "    <tr style=\"text-align: right;\">\n",
       "      <th></th>\n",
       "      <th>Temperature</th>\n",
       "      <th>Humidity</th>\n",
       "      <th>Light</th>\n",
       "      <th>CO2</th>\n",
       "      <th>HumidityRatio</th>\n",
       "      <th>Occupancy</th>\n",
       "      <th>Hours</th>\n",
       "      <th>Minutes</th>\n",
       "      <th>Seconds</th>\n",
       "    </tr>\n",
       "  </thead>\n",
       "  <tbody>\n",
       "    <tr>\n",
       "      <th>Temperature</th>\n",
       "      <td>1.000000</td>\n",
       "      <td>-0.173272</td>\n",
       "      <td>0.630650</td>\n",
       "      <td>0.609697</td>\n",
       "      <td>0.175758</td>\n",
       "      <td>0.568565</td>\n",
       "      <td>0.256253</td>\n",
       "      <td>-0.003260</td>\n",
       "      <td>0.000409</td>\n",
       "    </tr>\n",
       "    <tr>\n",
       "      <th>Humidity</th>\n",
       "      <td>-0.173272</td>\n",
       "      <td>1.000000</td>\n",
       "      <td>0.012738</td>\n",
       "      <td>0.283459</td>\n",
       "      <td>0.921978</td>\n",
       "      <td>0.044859</td>\n",
       "      <td>0.134637</td>\n",
       "      <td>-0.002090</td>\n",
       "      <td>0.000152</td>\n",
       "    </tr>\n",
       "    <tr>\n",
       "      <th>Light</th>\n",
       "      <td>0.630650</td>\n",
       "      <td>0.012738</td>\n",
       "      <td>1.000000</td>\n",
       "      <td>0.454396</td>\n",
       "      <td>0.246166</td>\n",
       "      <td>0.826291</td>\n",
       "      <td>0.118688</td>\n",
       "      <td>0.012649</td>\n",
       "      <td>0.000132</td>\n",
       "    </tr>\n",
       "    <tr>\n",
       "      <th>CO2</th>\n",
       "      <td>0.609697</td>\n",
       "      <td>0.283459</td>\n",
       "      <td>0.454396</td>\n",
       "      <td>1.000000</td>\n",
       "      <td>0.478605</td>\n",
       "      <td>0.543502</td>\n",
       "      <td>0.159314</td>\n",
       "      <td>-0.003473</td>\n",
       "      <td>0.000246</td>\n",
       "    </tr>\n",
       "    <tr>\n",
       "      <th>HumidityRatio</th>\n",
       "      <td>0.175758</td>\n",
       "      <td>0.921978</td>\n",
       "      <td>0.246166</td>\n",
       "      <td>0.478605</td>\n",
       "      <td>1.000000</td>\n",
       "      <td>0.243270</td>\n",
       "      <td>0.209577</td>\n",
       "      <td>-0.002943</td>\n",
       "      <td>0.000442</td>\n",
       "    </tr>\n",
       "    <tr>\n",
       "      <th>Occupancy</th>\n",
       "      <td>0.568565</td>\n",
       "      <td>0.044859</td>\n",
       "      <td>0.826291</td>\n",
       "      <td>0.543502</td>\n",
       "      <td>0.243270</td>\n",
       "      <td>1.000000</td>\n",
       "      <td>0.103596</td>\n",
       "      <td>0.012578</td>\n",
       "      <td>0.000464</td>\n",
       "    </tr>\n",
       "    <tr>\n",
       "      <th>Hours</th>\n",
       "      <td>0.256253</td>\n",
       "      <td>0.134637</td>\n",
       "      <td>0.118688</td>\n",
       "      <td>0.159314</td>\n",
       "      <td>0.209577</td>\n",
       "      <td>0.103596</td>\n",
       "      <td>1.000000</td>\n",
       "      <td>0.003314</td>\n",
       "      <td>0.002459</td>\n",
       "    </tr>\n",
       "    <tr>\n",
       "      <th>Minutes</th>\n",
       "      <td>-0.003260</td>\n",
       "      <td>-0.002090</td>\n",
       "      <td>0.012649</td>\n",
       "      <td>-0.003473</td>\n",
       "      <td>-0.002943</td>\n",
       "      <td>0.012578</td>\n",
       "      <td>0.003314</td>\n",
       "      <td>1.000000</td>\n",
       "      <td>0.029075</td>\n",
       "    </tr>\n",
       "    <tr>\n",
       "      <th>Seconds</th>\n",
       "      <td>0.000409</td>\n",
       "      <td>0.000152</td>\n",
       "      <td>0.000132</td>\n",
       "      <td>0.000246</td>\n",
       "      <td>0.000442</td>\n",
       "      <td>0.000464</td>\n",
       "      <td>0.002459</td>\n",
       "      <td>0.029075</td>\n",
       "      <td>1.000000</td>\n",
       "    </tr>\n",
       "  </tbody>\n",
       "</table>\n",
       "</div>"
      ],
      "text/plain": [
       "               Temperature  Humidity     Light       CO2  HumidityRatio  \\\n",
       "Temperature       1.000000 -0.173272  0.630650  0.609697       0.175758   \n",
       "Humidity         -0.173272  1.000000  0.012738  0.283459       0.921978   \n",
       "Light             0.630650  0.012738  1.000000  0.454396       0.246166   \n",
       "CO2               0.609697  0.283459  0.454396  1.000000       0.478605   \n",
       "HumidityRatio     0.175758  0.921978  0.246166  0.478605       1.000000   \n",
       "Occupancy         0.568565  0.044859  0.826291  0.543502       0.243270   \n",
       "Hours             0.256253  0.134637  0.118688  0.159314       0.209577   \n",
       "Minutes          -0.003260 -0.002090  0.012649 -0.003473      -0.002943   \n",
       "Seconds           0.000409  0.000152  0.000132  0.000246       0.000442   \n",
       "\n",
       "               Occupancy     Hours   Minutes   Seconds  \n",
       "Temperature     0.568565  0.256253 -0.003260  0.000409  \n",
       "Humidity        0.044859  0.134637 -0.002090  0.000152  \n",
       "Light           0.826291  0.118688  0.012649  0.000132  \n",
       "CO2             0.543502  0.159314 -0.003473  0.000246  \n",
       "HumidityRatio   0.243270  0.209577 -0.002943  0.000442  \n",
       "Occupancy       1.000000  0.103596  0.012578  0.000464  \n",
       "Hours           0.103596  1.000000  0.003314  0.002459  \n",
       "Minutes         0.012578  0.003314  1.000000  0.029075  \n",
       "Seconds         0.000464  0.002459  0.029075  1.000000  "
      ]
     },
     "execution_count": 42,
     "metadata": {},
     "output_type": "execute_result"
    }
   ],
   "source": [
    "df_corr.corr(method='spearman')"
   ]
  },
  {
   "cell_type": "code",
   "execution_count": 43,
   "metadata": {
    "colab": {},
    "colab_type": "code",
    "id": "Y2tW3doYaSWh",
    "outputId": "ababacf3-9881-499d-8ac4-a4287e922d56"
   },
   "outputs": [
    {
     "data": {
      "image/png": "[encoded data removed]",
      "text/plain": [
       "<Figure size 648x648 with 2 Axes>"
      ]
     },
     "metadata": {},
     "output_type": "display_data"
    }
   ],
   "source": [
    "sns.set(style='white')\n",
    "corr = df_corr.corr(method='spearman')\n",
    "plt.figure(figsize = (9,9))\n",
    "mask = np.zeros_like(corr)\n",
    "mask[np.triu_indices_from(mask)] = True\n",
    "with sns.axes_style(\"white\"):\n",
    "     ax = sns.heatmap(corr, \n",
    "                      mask=mask,\n",
    "                      square=True,\n",
    "                      cmap=sns.diverging_palette(20, 220, n=200), \n",
    "                      linewidths=2, \n",
    "                      center=0.0, vmax=1.0, vmin=-1.0, \n",
    "                      annot=True, annot_kws={\"size\": 10});\n",
    "ax.set_xticklabels(\n",
    "    ax.get_xticklabels(),\n",
    "    rotation=45,\n",
    "    horizontalalignment='right');"
   ]
  }
 ],
 "metadata": {
  "colab": {
   "collapsed_sections": [],
   "name": "Understanding df.ipynb",
   "provenance": []
  },
  "kernelspec": {
   "display_name": "Python 3",
   "language": "python",
   "name": "python3"
  },
  "language_info": {
   "codemirror_mode": {
    "name": "ipython",
    "version": 3
   },
   "file_extension": ".py",
   "mimetype": "text/x-python",
   "name": "python",
   "nbconvert_exporter": "python",
   "pygments_lexer": "ipython3",
   "version": "3.7.3"
  }
 },
 "nbformat": 4,
 "nbformat_minor": 1
}
