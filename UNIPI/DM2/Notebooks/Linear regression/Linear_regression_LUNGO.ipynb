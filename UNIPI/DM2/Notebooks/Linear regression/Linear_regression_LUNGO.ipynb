{
 "cells": [
  {
   "cell_type": "code",
   "execution_count": 1,
   "metadata": {},
   "outputs": [],
   "source": [
    "%matplotlib inline\n",
    "\n",
    "import numpy as np\n",
    "import pandas as pd\n",
    "import matplotlib.pyplot as plt\n",
    "\n",
    "from collections import defaultdict"
   ]
  },
  {
   "cell_type": "markdown",
   "metadata": {},
   "source": [
    "# Data Preparation"
   ]
  },
  {
   "cell_type": "code",
   "execution_count": 2,
   "metadata": {},
   "outputs": [],
   "source": [
    "df = pd.read_csv(r'C:\\Users\\Asia\\Desktop\\Università\\Magistrale\\Data Mining\\Dm 2\\Progetto\\Dataset\\dataframe_dimensionality_reduction.csv',  header=0, parse_dates=True, squeeze=True)"
   ]
  },
  {
   "cell_type": "code",
   "execution_count": 3,
   "metadata": {},
   "outputs": [
    {
     "data": {
      "text/html": [
       "<div>\n",
       "<style scoped>\n",
       "    .dataframe tbody tr th:only-of-type {\n",
       "        vertical-align: middle;\n",
       "    }\n",
       "\n",
       "    .dataframe tbody tr th {\n",
       "        vertical-align: top;\n",
       "    }\n",
       "\n",
       "    .dataframe thead th {\n",
       "        text-align: right;\n",
       "    }\n",
       "</style>\n",
       "<table border=\"1\" class=\"dataframe\">\n",
       "  <thead>\n",
       "    <tr style=\"text-align: right;\">\n",
       "      <th></th>\n",
       "      <th>Temperature</th>\n",
       "      <th>Humidity</th>\n",
       "      <th>Light</th>\n",
       "      <th>CO2</th>\n",
       "      <th>HumidityRatio</th>\n",
       "      <th>Occupancy</th>\n",
       "      <th>Hours</th>\n",
       "      <th>Office_Hours</th>\n",
       "      <th>Working_day</th>\n",
       "      <th>Time_blocks_0</th>\n",
       "      <th>...</th>\n",
       "      <th>Temperature/HumidityRatio</th>\n",
       "      <th>Humidity/CO2</th>\n",
       "      <th>Humidity/Temperature</th>\n",
       "      <th>Humidity/HumidityRatio</th>\n",
       "      <th>HumidityRatio/Humidity</th>\n",
       "      <th>HumidityRatio/Temperature</th>\n",
       "      <th>HumidityRatio/CO2</th>\n",
       "      <th>CO2/Temperature</th>\n",
       "      <th>CO2/Humidity</th>\n",
       "      <th>CO2/HumidityRatio</th>\n",
       "    </tr>\n",
       "  </thead>\n",
       "  <tbody>\n",
       "    <tr>\n",
       "      <th>0</th>\n",
       "      <td>23.7000</td>\n",
       "      <td>26.272</td>\n",
       "      <td>585.200000</td>\n",
       "      <td>749.200000</td>\n",
       "      <td>0.004764</td>\n",
       "      <td>1</td>\n",
       "      <td>14</td>\n",
       "      <td>1</td>\n",
       "      <td>1</td>\n",
       "      <td>0</td>\n",
       "      <td>...</td>\n",
       "      <td>4974.640851</td>\n",
       "      <td>0.035067</td>\n",
       "      <td>1.108523</td>\n",
       "      <td>5514.504828</td>\n",
       "      <td>0.000181</td>\n",
       "      <td>0.000201</td>\n",
       "      <td>0.000006</td>\n",
       "      <td>31.611814</td>\n",
       "      <td>28.517052</td>\n",
       "      <td>157257.423014</td>\n",
       "    </tr>\n",
       "    <tr>\n",
       "      <th>1</th>\n",
       "      <td>23.7180</td>\n",
       "      <td>26.290</td>\n",
       "      <td>578.400000</td>\n",
       "      <td>760.400000</td>\n",
       "      <td>0.004773</td>\n",
       "      <td>1</td>\n",
       "      <td>14</td>\n",
       "      <td>1</td>\n",
       "      <td>1</td>\n",
       "      <td>0</td>\n",
       "      <td>...</td>\n",
       "      <td>4969.554728</td>\n",
       "      <td>0.034574</td>\n",
       "      <td>1.108441</td>\n",
       "      <td>5508.457450</td>\n",
       "      <td>0.000182</td>\n",
       "      <td>0.000201</td>\n",
       "      <td>0.000006</td>\n",
       "      <td>32.060039</td>\n",
       "      <td>28.923545</td>\n",
       "      <td>159324.117354</td>\n",
       "    </tr>\n",
       "    <tr>\n",
       "      <th>2</th>\n",
       "      <td>23.7300</td>\n",
       "      <td>26.230</td>\n",
       "      <td>572.666667</td>\n",
       "      <td>769.666667</td>\n",
       "      <td>0.004765</td>\n",
       "      <td>1</td>\n",
       "      <td>14</td>\n",
       "      <td>1</td>\n",
       "      <td>1</td>\n",
       "      <td>0</td>\n",
       "      <td>...</td>\n",
       "      <td>4979.903526</td>\n",
       "      <td>0.034080</td>\n",
       "      <td>1.105352</td>\n",
       "      <td>5504.545702</td>\n",
       "      <td>0.000182</td>\n",
       "      <td>0.000201</td>\n",
       "      <td>0.000006</td>\n",
       "      <td>32.434331</td>\n",
       "      <td>29.342991</td>\n",
       "      <td>161519.837653</td>\n",
       "    </tr>\n",
       "    <tr>\n",
       "      <th>3</th>\n",
       "      <td>23.7225</td>\n",
       "      <td>26.125</td>\n",
       "      <td>493.750000</td>\n",
       "      <td>774.750000</td>\n",
       "      <td>0.004744</td>\n",
       "      <td>1</td>\n",
       "      <td>14</td>\n",
       "      <td>1</td>\n",
       "      <td>1</td>\n",
       "      <td>0</td>\n",
       "      <td>...</td>\n",
       "      <td>5000.765892</td>\n",
       "      <td>0.033721</td>\n",
       "      <td>1.101275</td>\n",
       "      <td>5507.219262</td>\n",
       "      <td>0.000182</td>\n",
       "      <td>0.000200</td>\n",
       "      <td>0.000006</td>\n",
       "      <td>32.658868</td>\n",
       "      <td>29.655502</td>\n",
       "      <td>163319.353995</td>\n",
       "    </tr>\n",
       "    <tr>\n",
       "      <th>4</th>\n",
       "      <td>23.7540</td>\n",
       "      <td>26.200</td>\n",
       "      <td>488.600000</td>\n",
       "      <td>779.000000</td>\n",
       "      <td>0.004767</td>\n",
       "      <td>1</td>\n",
       "      <td>14</td>\n",
       "      <td>1</td>\n",
       "      <td>1</td>\n",
       "      <td>0</td>\n",
       "      <td>...</td>\n",
       "      <td>4983.432615</td>\n",
       "      <td>0.033633</td>\n",
       "      <td>1.102972</td>\n",
       "      <td>5496.587291</td>\n",
       "      <td>0.000182</td>\n",
       "      <td>0.000201</td>\n",
       "      <td>0.000006</td>\n",
       "      <td>32.794477</td>\n",
       "      <td>29.732824</td>\n",
       "      <td>163429.064863</td>\n",
       "    </tr>\n",
       "  </tbody>\n",
       "</table>\n",
       "<p>5 rows × 29 columns</p>\n",
       "</div>"
      ],
      "text/plain": [
       "   Temperature  Humidity       Light         CO2  HumidityRatio  Occupancy  \\\n",
       "0      23.7000    26.272  585.200000  749.200000       0.004764          1   \n",
       "1      23.7180    26.290  578.400000  760.400000       0.004773          1   \n",
       "2      23.7300    26.230  572.666667  769.666667       0.004765          1   \n",
       "3      23.7225    26.125  493.750000  774.750000       0.004744          1   \n",
       "4      23.7540    26.200  488.600000  779.000000       0.004767          1   \n",
       "\n",
       "   Hours  Office_Hours  Working_day  Time_blocks_0  ...  \\\n",
       "0     14             1            1              0  ...   \n",
       "1     14             1            1              0  ...   \n",
       "2     14             1            1              0  ...   \n",
       "3     14             1            1              0  ...   \n",
       "4     14             1            1              0  ...   \n",
       "\n",
       "   Temperature/HumidityRatio  Humidity/CO2  Humidity/Temperature  \\\n",
       "0                4974.640851      0.035067              1.108523   \n",
       "1                4969.554728      0.034574              1.108441   \n",
       "2                4979.903526      0.034080              1.105352   \n",
       "3                5000.765892      0.033721              1.101275   \n",
       "4                4983.432615      0.033633              1.102972   \n",
       "\n",
       "   Humidity/HumidityRatio  HumidityRatio/Humidity  HumidityRatio/Temperature  \\\n",
       "0             5514.504828                0.000181                   0.000201   \n",
       "1             5508.457450                0.000182                   0.000201   \n",
       "2             5504.545702                0.000182                   0.000201   \n",
       "3             5507.219262                0.000182                   0.000200   \n",
       "4             5496.587291                0.000182                   0.000201   \n",
       "\n",
       "   HumidityRatio/CO2  CO2/Temperature  CO2/Humidity  CO2/HumidityRatio  \n",
       "0           0.000006        31.611814     28.517052      157257.423014  \n",
       "1           0.000006        32.060039     28.923545      159324.117354  \n",
       "2           0.000006        32.434331     29.342991      161519.837653  \n",
       "3           0.000006        32.658868     29.655502      163319.353995  \n",
       "4           0.000006        32.794477     29.732824      163429.064863  \n",
       "\n",
       "[5 rows x 29 columns]"
      ]
     },
     "execution_count": 3,
     "metadata": {},
     "output_type": "execute_result"
    }
   ],
   "source": [
    "df = df.drop(['Unnamed: 0'], axis=1)\n",
    "df.head()"
   ]
  },
  {
   "cell_type": "code",
   "execution_count": 4,
   "metadata": {},
   "outputs": [],
   "source": [
    "y_name = 'Light'\n",
    "columns2remove = ['Occupancy','Office_Hours', 'Working_day', 'Time_blocks_0',\n",
    "                  'Time_blocks_1', 'Time_blocks_2', 'Time_blocks_3', 'Hours'] #elimino le colonne binarie\n",
    "df.drop(columns2remove, inplace=True, axis=1)"
   ]
  },
  {
   "cell_type": "code",
   "execution_count": 5,
   "metadata": {},
   "outputs": [
    {
     "data": {
      "text/plain": [
       "Index(['Temperature', 'Humidity', 'Light', 'CO2', 'HumidityRatio',\n",
       "       'Light/Temperature', 'Light/Humidity', 'Light/CO2',\n",
       "       'Light/HumidityRatio', 'Temperature/CO2', 'Temperature/Humidity',\n",
       "       'Temperature/HumidityRatio', 'Humidity/CO2', 'Humidity/Temperature',\n",
       "       'Humidity/HumidityRatio', 'HumidityRatio/Humidity',\n",
       "       'HumidityRatio/Temperature', 'HumidityRatio/CO2', 'CO2/Temperature',\n",
       "       'CO2/Humidity', 'CO2/HumidityRatio'],\n",
       "      dtype='object')"
      ]
     },
     "execution_count": 5,
     "metadata": {},
     "output_type": "execute_result"
    }
   ],
   "source": [
    "df.columns"
   ]
  },
  {
   "cell_type": "code",
   "execution_count": 6,
   "metadata": {},
   "outputs": [
    {
     "data": {
      "text/html": [
       "<div>\n",
       "<style scoped>\n",
       "    .dataframe tbody tr th:only-of-type {\n",
       "        vertical-align: middle;\n",
       "    }\n",
       "\n",
       "    .dataframe tbody tr th {\n",
       "        vertical-align: top;\n",
       "    }\n",
       "\n",
       "    .dataframe thead th {\n",
       "        text-align: right;\n",
       "    }\n",
       "</style>\n",
       "<table border=\"1\" class=\"dataframe\">\n",
       "  <thead>\n",
       "    <tr style=\"text-align: right;\">\n",
       "      <th></th>\n",
       "      <th>Temperature</th>\n",
       "      <th>Humidity</th>\n",
       "      <th>Light</th>\n",
       "      <th>CO2</th>\n",
       "      <th>HumidityRatio</th>\n",
       "      <th>Light/Temperature</th>\n",
       "      <th>Light/Humidity</th>\n",
       "      <th>Light/CO2</th>\n",
       "      <th>Light/HumidityRatio</th>\n",
       "      <th>Temperature/CO2</th>\n",
       "      <th>...</th>\n",
       "      <th>Temperature/HumidityRatio</th>\n",
       "      <th>Humidity/CO2</th>\n",
       "      <th>Humidity/Temperature</th>\n",
       "      <th>Humidity/HumidityRatio</th>\n",
       "      <th>HumidityRatio/Humidity</th>\n",
       "      <th>HumidityRatio/Temperature</th>\n",
       "      <th>HumidityRatio/CO2</th>\n",
       "      <th>CO2/Temperature</th>\n",
       "      <th>CO2/Humidity</th>\n",
       "      <th>CO2/HumidityRatio</th>\n",
       "    </tr>\n",
       "  </thead>\n",
       "  <tbody>\n",
       "    <tr>\n",
       "      <th>0</th>\n",
       "      <td>0.869029</td>\n",
       "      <td>0.418677</td>\n",
       "      <td>0.344793</td>\n",
       "      <td>0.202224</td>\n",
       "      <td>0.549737</td>\n",
       "      <td>0.330245</td>\n",
       "      <td>0.272107</td>\n",
       "      <td>0.230003</td>\n",
       "      <td>0.225972</td>\n",
       "      <td>0.508753</td>\n",
       "      <td>...</td>\n",
       "      <td>0.344612</td>\n",
       "      <td>0.334725</td>\n",
       "      <td>0.293219</td>\n",
       "      <td>0.110897</td>\n",
       "      <td>0.851950</td>\n",
       "      <td>0.451012</td>\n",
       "      <td>0.480619</td>\n",
       "      <td>0.155479</td>\n",
       "      <td>0.248921</td>\n",
       "      <td>0.162616</td>\n",
       "    </tr>\n",
       "    <tr>\n",
       "      <th>1</th>\n",
       "      <td>0.872357</td>\n",
       "      <td>0.419468</td>\n",
       "      <td>0.340787</td>\n",
       "      <td>0.208956</td>\n",
       "      <td>0.551972</td>\n",
       "      <td>0.326160</td>\n",
       "      <td>0.268761</td>\n",
       "      <td>0.223982</td>\n",
       "      <td>0.222949</td>\n",
       "      <td>0.498347</td>\n",
       "      <td>...</td>\n",
       "      <td>0.343482</td>\n",
       "      <td>0.327208</td>\n",
       "      <td>0.293155</td>\n",
       "      <td>0.107986</td>\n",
       "      <td>0.855677</td>\n",
       "      <td>0.452252</td>\n",
       "      <td>0.471543</td>\n",
       "      <td>0.161024</td>\n",
       "      <td>0.255321</td>\n",
       "      <td>0.167632</td>\n",
       "    </tr>\n",
       "    <tr>\n",
       "      <th>2</th>\n",
       "      <td>0.874576</td>\n",
       "      <td>0.416831</td>\n",
       "      <td>0.337409</td>\n",
       "      <td>0.214525</td>\n",
       "      <td>0.549997</td>\n",
       "      <td>0.322763</td>\n",
       "      <td>0.266706</td>\n",
       "      <td>0.219092</td>\n",
       "      <td>0.221087</td>\n",
       "      <td>0.489878</td>\n",
       "      <td>...</td>\n",
       "      <td>0.345781</td>\n",
       "      <td>0.319670</td>\n",
       "      <td>0.290775</td>\n",
       "      <td>0.106104</td>\n",
       "      <td>0.858092</td>\n",
       "      <td>0.449732</td>\n",
       "      <td>0.462155</td>\n",
       "      <td>0.165654</td>\n",
       "      <td>0.261926</td>\n",
       "      <td>0.172961</td>\n",
       "    </tr>\n",
       "    <tr>\n",
       "      <th>3</th>\n",
       "      <td>0.873190</td>\n",
       "      <td>0.412217</td>\n",
       "      <td>0.290912</td>\n",
       "      <td>0.217581</td>\n",
       "      <td>0.544374</td>\n",
       "      <td>0.278373</td>\n",
       "      <td>0.230876</td>\n",
       "      <td>0.187660</td>\n",
       "      <td>0.191479</td>\n",
       "      <td>0.484890</td>\n",
       "      <td>...</td>\n",
       "      <td>0.350416</td>\n",
       "      <td>0.314193</td>\n",
       "      <td>0.287633</td>\n",
       "      <td>0.107391</td>\n",
       "      <td>0.856441</td>\n",
       "      <td>0.444683</td>\n",
       "      <td>0.454649</td>\n",
       "      <td>0.168432</td>\n",
       "      <td>0.266847</td>\n",
       "      <td>0.177329</td>\n",
       "    </tr>\n",
       "    <tr>\n",
       "      <th>4</th>\n",
       "      <td>0.879014</td>\n",
       "      <td>0.415513</td>\n",
       "      <td>0.287877</td>\n",
       "      <td>0.220135</td>\n",
       "      <td>0.550376</td>\n",
       "      <td>0.275104</td>\n",
       "      <td>0.227814</td>\n",
       "      <td>0.184690</td>\n",
       "      <td>0.188574</td>\n",
       "      <td>0.481911</td>\n",
       "      <td>...</td>\n",
       "      <td>0.346565</td>\n",
       "      <td>0.312855</td>\n",
       "      <td>0.288941</td>\n",
       "      <td>0.102274</td>\n",
       "      <td>0.863016</td>\n",
       "      <td>0.448875</td>\n",
       "      <td>0.454196</td>\n",
       "      <td>0.170109</td>\n",
       "      <td>0.268065</td>\n",
       "      <td>0.177595</td>\n",
       "    </tr>\n",
       "  </tbody>\n",
       "</table>\n",
       "<p>5 rows × 21 columns</p>\n",
       "</div>"
      ],
      "text/plain": [
       "   Temperature  Humidity     Light       CO2  HumidityRatio  \\\n",
       "0     0.869029  0.418677  0.344793  0.202224       0.549737   \n",
       "1     0.872357  0.419468  0.340787  0.208956       0.551972   \n",
       "2     0.874576  0.416831  0.337409  0.214525       0.549997   \n",
       "3     0.873190  0.412217  0.290912  0.217581       0.544374   \n",
       "4     0.879014  0.415513  0.287877  0.220135       0.550376   \n",
       "\n",
       "   Light/Temperature  Light/Humidity  Light/CO2  Light/HumidityRatio  \\\n",
       "0           0.330245        0.272107   0.230003             0.225972   \n",
       "1           0.326160        0.268761   0.223982             0.222949   \n",
       "2           0.322763        0.266706   0.219092             0.221087   \n",
       "3           0.278373        0.230876   0.187660             0.191479   \n",
       "4           0.275104        0.227814   0.184690             0.188574   \n",
       "\n",
       "   Temperature/CO2  ...  Temperature/HumidityRatio  Humidity/CO2  \\\n",
       "0         0.508753  ...                   0.344612      0.334725   \n",
       "1         0.498347  ...                   0.343482      0.327208   \n",
       "2         0.489878  ...                   0.345781      0.319670   \n",
       "3         0.484890  ...                   0.350416      0.314193   \n",
       "4         0.481911  ...                   0.346565      0.312855   \n",
       "\n",
       "   Humidity/Temperature  Humidity/HumidityRatio  HumidityRatio/Humidity  \\\n",
       "0              0.293219                0.110897                0.851950   \n",
       "1              0.293155                0.107986                0.855677   \n",
       "2              0.290775                0.106104                0.858092   \n",
       "3              0.287633                0.107391                0.856441   \n",
       "4              0.288941                0.102274                0.863016   \n",
       "\n",
       "   HumidityRatio/Temperature  HumidityRatio/CO2  CO2/Temperature  \\\n",
       "0                   0.451012           0.480619         0.155479   \n",
       "1                   0.452252           0.471543         0.161024   \n",
       "2                   0.449732           0.462155         0.165654   \n",
       "3                   0.444683           0.454649         0.168432   \n",
       "4                   0.448875           0.454196         0.170109   \n",
       "\n",
       "   CO2/Humidity  CO2/HumidityRatio  \n",
       "0      0.248921           0.162616  \n",
       "1      0.255321           0.167632  \n",
       "2      0.261926           0.172961  \n",
       "3      0.266847           0.177329  \n",
       "4      0.268065           0.177595  \n",
       "\n",
       "[5 rows x 21 columns]"
      ]
     },
     "execution_count": 6,
     "metadata": {},
     "output_type": "execute_result"
    }
   ],
   "source": [
    "#normalizzazione\n",
    "from sklearn.preprocessing import MinMaxScaler\n",
    "scaler = MinMaxScaler()\n",
    "columns = ['Temperature', 'Light', 'CO2', 'HumidityRatio', 'Humidity', 'Light/Temperature', 'Light/Humidity',\n",
    "           'Light/CO2', 'Light/HumidityRatio', 'Temperature/CO2', 'Temperature/Humidity', 'Temperature/HumidityRatio',\n",
    "           'Humidity/CO2', 'Humidity/Temperature', 'Humidity/HumidityRatio', 'HumidityRatio/Humidity',\n",
    "           'HumidityRatio/Temperature', 'HumidityRatio/CO2', 'CO2/Temperature', 'CO2/Humidity', 'CO2/HumidityRatio']\n",
    "scaler.fit(np.array(df[columns]))\n",
    "df[columns] = scaler.transform(np.array(df[columns]))\n",
    "df.head()"
   ]
  },
  {
   "cell_type": "markdown",
   "metadata": {},
   "source": [
    "# Data Partitioning"
   ]
  },
  {
   "cell_type": "code",
   "execution_count": 7,
   "metadata": {},
   "outputs": [],
   "source": [
    "from sklearn.model_selection import train_test_split, cross_val_score \n",
    "from sklearn.metrics import r2_score, mean_squared_error, mean_absolute_error"
   ]
  },
  {
   "cell_type": "code",
   "execution_count": 8,
   "metadata": {},
   "outputs": [],
   "source": [
    "attributes = [col for col in df.columns if col != y_name]\n",
    "X = df[attributes].values\n",
    "y = df[y_name]\n",
    "\n",
    "X_train, X_test, y_train, y_test = train_test_split(X, y, test_size=0.3, random_state=100)"
   ]
  },
  {
   "cell_type": "markdown",
   "metadata": {},
   "source": [
    "# MULTIPLE Linear Regression"
   ]
  },
  {
   "cell_type": "code",
   "execution_count": 9,
   "metadata": {},
   "outputs": [],
   "source": [
    "from sklearn.linear_model import LinearRegression, Ridge, Lasso, RidgeCV, LassoCV"
   ]
  },
  {
   "cell_type": "code",
   "execution_count": 10,
   "metadata": {},
   "outputs": [],
   "source": [
    "from sklearn.model_selection import GridSearchCV"
   ]
  },
  {
   "cell_type": "code",
   "execution_count": 11,
   "metadata": {},
   "outputs": [
    {
     "data": {
      "text/plain": [
       "LinearRegression(copy_X=True, fit_intercept=True, n_jobs=None, normalize=False)"
      ]
     },
     "execution_count": 11,
     "metadata": {},
     "output_type": "execute_result"
    }
   ],
   "source": [
    "reg = LinearRegression()\n",
    "reg.fit(X_train, y_train)"
   ]
  },
  {
   "cell_type": "code",
   "execution_count": 12,
   "metadata": {},
   "outputs": [
    {
     "name": "stdout",
     "output_type": "stream",
     "text": [
      "Coefficients: \n",
      " [-3.28053469e-01  3.89592331e-01  1.72037534e-01  1.53542158e+00\n",
      "  9.32460796e-01  9.03622192e-01 -2.79410901e-03 -9.28690464e-01\n",
      "  3.12869442e-03 -2.64800093e-02  2.58204984e-02 -2.18337573e-02\n",
      "  1.22131062e+00 -3.13003253e-01  8.60573310e-03 -2.79835228e+00\n",
      "  1.64952666e-02 -1.80591663e-01 -1.02678468e-01  1.07632410e-01]\n",
      "Intercept: \n",
      " 0.21299609650987228\n"
     ]
    }
   ],
   "source": [
    "print('Coefficients: \\n', reg.coef_)\n",
    "print('Intercept: \\n', reg.intercept_)"
   ]
  },
  {
   "cell_type": "code",
   "execution_count": 13,
   "metadata": {},
   "outputs": [],
   "source": [
    "y_pred = reg.predict(X_test)"
   ]
  },
  {
   "cell_type": "code",
   "execution_count": 14,
   "metadata": {},
   "outputs": [
    {
     "name": "stdout",
     "output_type": "stream",
     "text": [
      "R2: 1.000\n",
      "MSE: 0.000\n",
      "MAE: 0.000\n"
     ]
    }
   ],
   "source": [
    "print('R2: %.3f' % r2_score(y_test, y_pred)) #coefficiente di determinazione\n",
    "print('MSE: %.3f' % mean_squared_error(y_test, y_pred)) #errore quadratico medio\n",
    "print('MAE: %.3f' % mean_absolute_error(y_test, y_pred)) #errore assoluto medio"
   ]
  },
  {
   "cell_type": "markdown",
   "metadata": {},
   "source": [
    "**LASSO**"
   ]
  },
  {
   "cell_type": "markdown",
   "metadata": {},
   "source": [
    "di default si ha alpha=1.0, fit_intercept=True, normalize=False, precompute=False, copy_X=True, max_iter=1000, tol=0.0001, warm_start=False, positive=False, random_state=None, selection='cyclic'"
   ]
  },
  {
   "cell_type": "code",
   "execution_count": 15,
   "metadata": {},
   "outputs": [
    {
     "name": "stdout",
     "output_type": "stream",
     "text": [
      "{'alpha': 0.0001}\n"
     ]
    }
   ],
   "source": [
    "param_list = {'alpha': [1e-4,1e-3,1e-2,1e-1,1,1e2,1e3,1e4]}\n",
    "\n",
    "reg = Lasso()\n",
    "grid_search = GridSearchCV(reg, param_grid=param_list, cv=100)\n",
    "grid_search.fit(X, y)\n",
    "reg = grid_search.best_estimator_\n",
    "\n",
    "print(grid_search.best_params_)"
   ]
  },
  {
   "cell_type": "code",
   "execution_count": 16,
   "metadata": {},
   "outputs": [
    {
     "data": {
      "text/plain": [
       "Lasso(alpha=0.0001, copy_X=True, fit_intercept=True, max_iter=1000,\n",
       "      normalize=False, positive=False, precompute=False, random_state=None,\n",
       "      selection='cyclic', tol=0.0001, warm_start=False)"
      ]
     },
     "execution_count": 16,
     "metadata": {},
     "output_type": "execute_result"
    }
   ],
   "source": [
    "reg = Lasso(alpha=0.0001)\n",
    "reg.fit(X_train, y_train)"
   ]
  },
  {
   "cell_type": "code",
   "execution_count": 17,
   "metadata": {},
   "outputs": [
    {
     "name": "stdout",
     "output_type": "stream",
     "text": [
      "Coefficients: \n",
      " [ 0.          0.         -0.          0.          0.93998399  0.00872584\n",
      "  0.          0.          0.          0.         -0.          0.\n",
      "  0.         -0.          0.02441837  0.          0.00129947 -0.\n",
      " -0.         -0.        ]\n",
      "Intercept: \n",
      " -0.006687287400992281\n"
     ]
    }
   ],
   "source": [
    "print('Coefficients: \\n', reg.coef_)\n",
    "print('Intercept: \\n', reg.intercept_)"
   ]
  },
  {
   "cell_type": "code",
   "execution_count": 18,
   "metadata": {},
   "outputs": [
    {
     "name": "stdout",
     "output_type": "stream",
     "text": [
      "R2: 0.998\n",
      "MSE: 0.000\n",
      "MAE: 0.003\n"
     ]
    }
   ],
   "source": [
    "y_pred = reg.predict(X_test)\n",
    "print('R2: %.3f' % r2_score(y_test, y_pred))\n",
    "print('MSE: %.3f' % mean_squared_error(y_test, y_pred))\n",
    "print('MAE: %.3f' % mean_absolute_error(y_test, y_pred))"
   ]
  },
  {
   "cell_type": "markdown",
   "metadata": {},
   "source": [
    "**RIDGE**"
   ]
  },
  {
   "cell_type": "code",
   "execution_count": 19,
   "metadata": {},
   "outputs": [
    {
     "name": "stdout",
     "output_type": "stream",
     "text": [
      "{'alpha': 1e-05}\n"
     ]
    }
   ],
   "source": [
    "param_list = {'alpha': [1e-5,1e-4,1e-3,1e-2,1e-1,1,1e2,1e3,1e4,1e5]}\n",
    "\n",
    "reg = Ridge()\n",
    "grid_search = GridSearchCV(reg, param_grid=param_list, cv=100)\n",
    "grid_search.fit(X, y)\n",
    "reg = grid_search.best_estimator_\n",
    "\n",
    "print(grid_search.best_params_)"
   ]
  },
  {
   "cell_type": "code",
   "execution_count": 20,
   "metadata": {},
   "outputs": [
    {
     "data": {
      "text/plain": [
       "Ridge(alpha=1e-05, copy_X=True, fit_intercept=True, max_iter=None,\n",
       "      normalize=False, random_state=None, solver='auto', tol=0.001)"
      ]
     },
     "execution_count": 20,
     "metadata": {},
     "output_type": "execute_result"
    }
   ],
   "source": [
    "reg = Ridge(alpha = 0.00001)\n",
    "reg.fit(X_train, y_train)"
   ]
  },
  {
   "cell_type": "code",
   "execution_count": 21,
   "metadata": {},
   "outputs": [
    {
     "name": "stdout",
     "output_type": "stream",
     "text": [
      "Coefficients: \n",
      " [-0.39575433 -0.22817487  0.15872107  0.96591168  0.93240803  0.90402868\n",
      " -0.00263451 -0.92921498  0.00469088 -0.02750356  0.02044126 -0.02070324\n",
      "  0.90602397 -0.33379067  0.05692832 -1.40982204  0.01378261 -0.16981916\n",
      " -0.09425632  0.10207985]\n",
      "Intercept: \n",
      " 0.27312935279492695\n"
     ]
    }
   ],
   "source": [
    "print('Coefficients: \\n', reg.coef_)\n",
    "print('Intercept: \\n', reg.intercept_)"
   ]
  },
  {
   "cell_type": "code",
   "execution_count": 22,
   "metadata": {},
   "outputs": [
    {
     "name": "stdout",
     "output_type": "stream",
     "text": [
      "R2: 1.000\n",
      "MSE: 0.000\n",
      "MAE: 0.000\n"
     ]
    }
   ],
   "source": [
    "y_pred = reg.predict(X_test)\n",
    "print('R2: %.3f' % r2_score(y_test, y_pred))\n",
    "print('MSE: %.3f' % mean_squared_error(y_test, y_pred))\n",
    "print('MAE: %.3f' % mean_absolute_error(y_test, y_pred))"
   ]
  },
  {
   "cell_type": "markdown",
   "metadata": {},
   "source": [
    "## Linear Regression in 2 dimensions"
   ]
  },
  {
   "cell_type": "code",
   "execution_count": 23,
   "metadata": {},
   "outputs": [],
   "source": [
    "y_name = 'Light'\n",
    "# suddividi il dataset\n",
    "attributes = ['Temperature']\n",
    "X = df[attributes].values\n",
    "y = df[y_name]\n",
    "\n",
    "X_train, X_test, y_train, y_test = train_test_split(X, y, test_size=0.3, random_state=100)"
   ]
  },
  {
   "cell_type": "code",
   "execution_count": 24,
   "metadata": {},
   "outputs": [
    {
     "name": "stdout",
     "output_type": "stream",
     "text": [
      "R2: 0.475\n",
      "MSE: 0.008\n",
      "MAE: 0.071\n"
     ]
    }
   ],
   "source": [
    "reg = LinearRegression()\n",
    "reg.fit(X_train.T[0].reshape(-1, 1), y_train)\n",
    "y_pred = reg.predict(X_test.T[0].reshape(-1, 1))\n",
    "\n",
    "print('R2: %.3f' % r2_score(y_test, y_pred))\n",
    "print('MSE: %.3f' % mean_squared_error(y_test, y_pred))\n",
    "print('MAE: %.3f' % mean_absolute_error(y_test, y_pred))"
   ]
  },
  {
   "cell_type": "code",
   "execution_count": 25,
   "metadata": {},
   "outputs": [
    {
     "data": {
      "image/png": "[encoded data removed]",
      "text/plain": [
       "<Figure size 432x288 with 1 Axes>"
      ]
     },
     "metadata": {
      "needs_background": "light"
     },
     "output_type": "display_data"
    }
   ],
   "source": [
    "plt.scatter(X_test.T[0], y_test,  color='black')\n",
    "plt.plot(X_test.T[0], y_pred, color='blue', linewidth=3)\n",
    "plt.show()"
   ]
  },
  {
   "cell_type": "markdown",
   "metadata": {},
   "source": [
    "# Lasso"
   ]
  },
  {
   "cell_type": "code",
   "execution_count": 26,
   "metadata": {},
   "outputs": [
    {
     "name": "stdout",
     "output_type": "stream",
     "text": [
      "{'alpha': 1e-05}\n"
     ]
    }
   ],
   "source": [
    "param_list = {'alpha': [1e-5,1e-4,1e-3,1e-2,1e-1,1,1e2,1e3,1e4,1e5]}\n",
    "\n",
    "reg = Lasso()\n",
    "grid_search = GridSearchCV(reg, param_grid=param_list, cv=100)\n",
    "grid_search.fit(X, y)\n",
    "reg = grid_search.best_estimator_\n",
    "\n",
    "print(grid_search.best_params_)"
   ]
  },
  {
   "cell_type": "code",
   "execution_count": 34,
   "metadata": {},
   "outputs": [
    {
     "data": {
      "text/plain": [
       "Lasso(alpha=1e-05, copy_X=True, fit_intercept=True, max_iter=1000,\n",
       "      normalize=False, positive=False, precompute=False, random_state=None,\n",
       "      selection='cyclic', tol=0.0001, warm_start=False)"
      ]
     },
     "execution_count": 34,
     "metadata": {},
     "output_type": "execute_result"
    }
   ],
   "source": [
    "reg = Lasso(alpha = 0.00001)\n",
    "reg.fit(X_train.T[0].reshape(-1, 1), y_train)"
   ]
  },
  {
   "cell_type": "code",
   "execution_count": 35,
   "metadata": {},
   "outputs": [
    {
     "name": "stdout",
     "output_type": "stream",
     "text": [
      "Coefficients: \n",
      " [0.43740915]\n",
      "Intercept: \n",
      " -0.07737296570890533\n"
     ]
    }
   ],
   "source": [
    "print('Coefficients: \\n', reg.coef_)\n",
    "print('Intercept: \\n', reg.intercept_)"
   ]
  },
  {
   "cell_type": "code",
   "execution_count": 36,
   "metadata": {},
   "outputs": [
    {
     "name": "stdout",
     "output_type": "stream",
     "text": [
      "R2: 0.475\n",
      "MSE: 0.008\n",
      "MAE: 0.071\n"
     ]
    }
   ],
   "source": [
    "y_pred = reg.predict(X_test.T[0].reshape(-1, 1))\n",
    "print('R2: %.3f' % r2_score(y_test, y_pred))\n",
    "print('MSE: %.3f' % mean_squared_error(y_test, y_pred))\n",
    "print('MAE: %.3f' % mean_absolute_error(y_test, y_pred))"
   ]
  },
  {
   "cell_type": "markdown",
   "metadata": {},
   "source": [
    "# Ridge"
   ]
  },
  {
   "cell_type": "code",
   "execution_count": 30,
   "metadata": {},
   "outputs": [
    {
     "name": "stdout",
     "output_type": "stream",
     "text": [
      "{'alpha': 1e-05}\n"
     ]
    }
   ],
   "source": [
    "param_list = {'alpha': [1e-5,1e-4,1e-3,1e-2,1e-1,1,1e2,1e3,1e4,1e5]}\n",
    "\n",
    "reg = Ridge()\n",
    "grid_search = GridSearchCV(reg, param_grid=param_list, cv=100)\n",
    "grid_search.fit(X, y)\n",
    "reg = grid_search.best_estimator_\n",
    "\n",
    "print(grid_search.best_params_)"
   ]
  },
  {
   "cell_type": "code",
   "execution_count": 37,
   "metadata": {},
   "outputs": [
    {
     "data": {
      "text/plain": [
       "Ridge(alpha=1e-05, copy_X=True, fit_intercept=True, max_iter=None,\n",
       "      normalize=False, random_state=None, solver='auto', tol=0.001)"
      ]
     },
     "execution_count": 37,
     "metadata": {},
     "output_type": "execute_result"
    }
   ],
   "source": [
    "reg = Ridge(alpha = 0.00001)\n",
    "reg.fit(X_train.T[0].reshape(-1, 1), y_train)"
   ]
  },
  {
   "cell_type": "code",
   "execution_count": 38,
   "metadata": {},
   "outputs": [
    {
     "name": "stdout",
     "output_type": "stream",
     "text": [
      "Coefficients: \n",
      " [0.4376723]\n",
      "Intercept: \n",
      " -0.07746565142229982\n"
     ]
    }
   ],
   "source": [
    "print('Coefficients: \\n', reg.coef_)\n",
    "print('Intercept: \\n', reg.intercept_)"
   ]
  },
  {
   "cell_type": "code",
   "execution_count": 39,
   "metadata": {},
   "outputs": [
    {
     "name": "stdout",
     "output_type": "stream",
     "text": [
      "R2: 0.475\n",
      "MSE: 0.008\n",
      "MAE: 0.071\n"
     ]
    }
   ],
   "source": [
    "y_pred = reg.predict(X_test.T[0].reshape(-1, 1))\n",
    "print('R2: %.3f' % r2_score(y_test, y_pred))\n",
    "print('MSE: %.3f' % mean_squared_error(y_test, y_pred))\n",
    "print('MAE: %.3f' % mean_absolute_error(y_test, y_pred))"
   ]
  },
  {
   "cell_type": "code",
   "execution_count": null,
   "metadata": {},
   "outputs": [],
   "source": []
  },
  {
   "cell_type": "code",
   "execution_count": null,
   "metadata": {},
   "outputs": [],
   "source": []
  }
 ],
 "metadata": {
  "kernelspec": {
   "display_name": "Python 3",
   "language": "python",
   "name": "python3"
  },
  "language_info": {
   "codemirror_mode": {
    "name": "ipython",
    "version": 3
   },
   "file_extension": ".py",
   "mimetype": "text/x-python",
   "name": "python",
   "nbconvert_exporter": "python",
   "pygments_lexer": "ipython3",
   "version": "3.7.3"
  }
 },
 "nbformat": 4,
 "nbformat_minor": 2
}
