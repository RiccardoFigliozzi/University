{
  "nbformat": 4,
  "nbformat_minor": 0,
  "metadata": {
    "colab": {
      "name": "GPT2_TA.ipynb",
      "provenance": [],
      "collapsed_sections": []
    },
    "kernelspec": {
      "name": "python3",
      "display_name": "Python 3"
    },
    "language_info": {
      "name": "python"
    },
    "widgets": {
      "application/vnd.jupyter.widget-state+json": {
        "44b59a6071ea413e9da59d2ee8c5be65": {
          "model_module": "@jupyter-widgets/controls",
          "model_name": "HBoxModel",
          "model_module_version": "1.5.0",
          "state": {
            "_view_name": "HBoxView",
            "_dom_classes": [],
            "_model_name": "HBoxModel",
            "_view_module": "@jupyter-widgets/controls",
            "_model_module_version": "1.5.0",
            "_view_count": null,
            "_view_module_version": "1.5.0",
            "box_style": "",
            "layout": "IPY_MODEL_033bda7bb3af44c181a81cd0b59caf57",
            "_model_module": "@jupyter-widgets/controls",
            "children": [
              "IPY_MODEL_fc34a10f25b9465bb81014dfbe5297c2",
              "IPY_MODEL_c2fff0a43ba54717a46ad00c99162261"
            ]
          }
        },
        "033bda7bb3af44c181a81cd0b59caf57": {
          "model_module": "@jupyter-widgets/base",
          "model_name": "LayoutModel",
          "model_module_version": "1.2.0",
          "state": {
            "_view_name": "LayoutView",
            "grid_template_rows": null,
            "right": null,
            "justify_content": null,
            "_view_module": "@jupyter-widgets/base",
            "overflow": null,
            "_model_module_version": "1.2.0",
            "_view_count": null,
            "flex_flow": null,
            "width": null,
            "min_width": null,
            "border": null,
            "align_items": null,
            "bottom": null,
            "_model_module": "@jupyter-widgets/base",
            "top": null,
            "grid_column": null,
            "overflow_y": null,
            "overflow_x": null,
            "grid_auto_flow": null,
            "grid_area": null,
            "grid_template_columns": null,
            "flex": null,
            "_model_name": "LayoutModel",
            "justify_items": null,
            "grid_row": null,
            "max_height": null,
            "align_content": null,
            "visibility": null,
            "align_self": null,
            "height": null,
            "min_height": null,
            "padding": null,
            "grid_auto_rows": null,
            "grid_gap": null,
            "max_width": null,
            "order": null,
            "_view_module_version": "1.2.0",
            "grid_template_areas": null,
            "object_position": null,
            "object_fit": null,
            "grid_auto_columns": null,
            "margin": null,
            "display": null,
            "left": null
          }
        },
        "fc34a10f25b9465bb81014dfbe5297c2": {
          "model_module": "@jupyter-widgets/controls",
          "model_name": "FloatProgressModel",
          "model_module_version": "1.5.0",
          "state": {
            "_view_name": "ProgressView",
            "style": "IPY_MODEL_9e0f03a451174503b6cd4c3a69acfb56",
            "_dom_classes": [],
            "description": "Downloading: 100%",
            "_model_name": "FloatProgressModel",
            "bar_style": "success",
            "max": 1042301,
            "_view_module": "@jupyter-widgets/controls",
            "_model_module_version": "1.5.0",
            "value": 1042301,
            "_view_count": null,
            "_view_module_version": "1.5.0",
            "orientation": "horizontal",
            "min": 0,
            "description_tooltip": null,
            "_model_module": "@jupyter-widgets/controls",
            "layout": "IPY_MODEL_0c32706267ed4bc2a52ade1e437cad26"
          }
        },
        "c2fff0a43ba54717a46ad00c99162261": {
          "model_module": "@jupyter-widgets/controls",
          "model_name": "HTMLModel",
          "model_module_version": "1.5.0",
          "state": {
            "_view_name": "HTMLView",
            "style": "IPY_MODEL_1badad637d3f45ba82ee6e2ba3c6c256",
            "_dom_classes": [],
            "description": "",
            "_model_name": "HTMLModel",
            "placeholder": "​",
            "_view_module": "@jupyter-widgets/controls",
            "_model_module_version": "1.5.0",
            "value": " 1.04M/1.04M [00:00&lt;00:00, 3.05MB/s]",
            "_view_count": null,
            "_view_module_version": "1.5.0",
            "description_tooltip": null,
            "_model_module": "@jupyter-widgets/controls",
            "layout": "IPY_MODEL_c8783540abff4b7eb106481097c1ffec"
          }
        },
        "9e0f03a451174503b6cd4c3a69acfb56": {
          "model_module": "@jupyter-widgets/controls",
          "model_name": "ProgressStyleModel",
          "model_module_version": "1.5.0",
          "state": {
            "_view_name": "StyleView",
            "_model_name": "ProgressStyleModel",
            "description_width": "initial",
            "_view_module": "@jupyter-widgets/base",
            "_model_module_version": "1.5.0",
            "_view_count": null,
            "_view_module_version": "1.2.0",
            "bar_color": null,
            "_model_module": "@jupyter-widgets/controls"
          }
        },
        "0c32706267ed4bc2a52ade1e437cad26": {
          "model_module": "@jupyter-widgets/base",
          "model_name": "LayoutModel",
          "model_module_version": "1.2.0",
          "state": {
            "_view_name": "LayoutView",
            "grid_template_rows": null,
            "right": null,
            "justify_content": null,
            "_view_module": "@jupyter-widgets/base",
            "overflow": null,
            "_model_module_version": "1.2.0",
            "_view_count": null,
            "flex_flow": null,
            "width": null,
            "min_width": null,
            "border": null,
            "align_items": null,
            "bottom": null,
            "_model_module": "@jupyter-widgets/base",
            "top": null,
            "grid_column": null,
            "overflow_y": null,
            "overflow_x": null,
            "grid_auto_flow": null,
            "grid_area": null,
            "grid_template_columns": null,
            "flex": null,
            "_model_name": "LayoutModel",
            "justify_items": null,
            "grid_row": null,
            "max_height": null,
            "align_content": null,
            "visibility": null,
            "align_self": null,
            "height": null,
            "min_height": null,
            "padding": null,
            "grid_auto_rows": null,
            "grid_gap": null,
            "max_width": null,
            "order": null,
            "_view_module_version": "1.2.0",
            "grid_template_areas": null,
            "object_position": null,
            "object_fit": null,
            "grid_auto_columns": null,
            "margin": null,
            "display": null,
            "left": null
          }
        },
        "1badad637d3f45ba82ee6e2ba3c6c256": {
          "model_module": "@jupyter-widgets/controls",
          "model_name": "DescriptionStyleModel",
          "model_module_version": "1.5.0",
          "state": {
            "_view_name": "StyleView",
            "_model_name": "DescriptionStyleModel",
            "description_width": "",
            "_view_module": "@jupyter-widgets/base",
            "_model_module_version": "1.5.0",
            "_view_count": null,
            "_view_module_version": "1.2.0",
            "_model_module": "@jupyter-widgets/controls"
          }
        },
        "c8783540abff4b7eb106481097c1ffec": {
          "model_module": "@jupyter-widgets/base",
          "model_name": "LayoutModel",
          "model_module_version": "1.2.0",
          "state": {
            "_view_name": "LayoutView",
            "grid_template_rows": null,
            "right": null,
            "justify_content": null,
            "_view_module": "@jupyter-widgets/base",
            "overflow": null,
            "_model_module_version": "1.2.0",
            "_view_count": null,
            "flex_flow": null,
            "width": null,
            "min_width": null,
            "border": null,
            "align_items": null,
            "bottom": null,
            "_model_module": "@jupyter-widgets/base",
            "top": null,
            "grid_column": null,
            "overflow_y": null,
            "overflow_x": null,
            "grid_auto_flow": null,
            "grid_area": null,
            "grid_template_columns": null,
            "flex": null,
            "_model_name": "LayoutModel",
            "justify_items": null,
            "grid_row": null,
            "max_height": null,
            "align_content": null,
            "visibility": null,
            "align_self": null,
            "height": null,
            "min_height": null,
            "padding": null,
            "grid_auto_rows": null,
            "grid_gap": null,
            "max_width": null,
            "order": null,
            "_view_module_version": "1.2.0",
            "grid_template_areas": null,
            "object_position": null,
            "object_fit": null,
            "grid_auto_columns": null,
            "margin": null,
            "display": null,
            "left": null
          }
        },
        "77f57b2478b746ed9ab32531756bb9fb": {
          "model_module": "@jupyter-widgets/controls",
          "model_name": "HBoxModel",
          "model_module_version": "1.5.0",
          "state": {
            "_view_name": "HBoxView",
            "_dom_classes": [],
            "_model_name": "HBoxModel",
            "_view_module": "@jupyter-widgets/controls",
            "_model_module_version": "1.5.0",
            "_view_count": null,
            "_view_module_version": "1.5.0",
            "box_style": "",
            "layout": "IPY_MODEL_95b5c0eefb454304990ad750393574c1",
            "_model_module": "@jupyter-widgets/controls",
            "children": [
              "IPY_MODEL_cf4cfdece6204cdca110a6970160390d",
              "IPY_MODEL_fe9a15488cfd49fb86aa65cf4e441344"
            ]
          }
        },
        "95b5c0eefb454304990ad750393574c1": {
          "model_module": "@jupyter-widgets/base",
          "model_name": "LayoutModel",
          "model_module_version": "1.2.0",
          "state": {
            "_view_name": "LayoutView",
            "grid_template_rows": null,
            "right": null,
            "justify_content": null,
            "_view_module": "@jupyter-widgets/base",
            "overflow": null,
            "_model_module_version": "1.2.0",
            "_view_count": null,
            "flex_flow": null,
            "width": null,
            "min_width": null,
            "border": null,
            "align_items": null,
            "bottom": null,
            "_model_module": "@jupyter-widgets/base",
            "top": null,
            "grid_column": null,
            "overflow_y": null,
            "overflow_x": null,
            "grid_auto_flow": null,
            "grid_area": null,
            "grid_template_columns": null,
            "flex": null,
            "_model_name": "LayoutModel",
            "justify_items": null,
            "grid_row": null,
            "max_height": null,
            "align_content": null,
            "visibility": null,
            "align_self": null,
            "height": null,
            "min_height": null,
            "padding": null,
            "grid_auto_rows": null,
            "grid_gap": null,
            "max_width": null,
            "order": null,
            "_view_module_version": "1.2.0",
            "grid_template_areas": null,
            "object_position": null,
            "object_fit": null,
            "grid_auto_columns": null,
            "margin": null,
            "display": null,
            "left": null
          }
        },
        "cf4cfdece6204cdca110a6970160390d": {
          "model_module": "@jupyter-widgets/controls",
          "model_name": "FloatProgressModel",
          "model_module_version": "1.5.0",
          "state": {
            "_view_name": "ProgressView",
            "style": "IPY_MODEL_466d7b38be6845ba8ef1c8996716b299",
            "_dom_classes": [],
            "description": "Downloading: 100%",
            "_model_name": "FloatProgressModel",
            "bar_style": "success",
            "max": 456318,
            "_view_module": "@jupyter-widgets/controls",
            "_model_module_version": "1.5.0",
            "value": 456318,
            "_view_count": null,
            "_view_module_version": "1.5.0",
            "orientation": "horizontal",
            "min": 0,
            "description_tooltip": null,
            "_model_module": "@jupyter-widgets/controls",
            "layout": "IPY_MODEL_8c2f1f85ba684a93bdfa225a00dee0c7"
          }
        },
        "fe9a15488cfd49fb86aa65cf4e441344": {
          "model_module": "@jupyter-widgets/controls",
          "model_name": "HTMLModel",
          "model_module_version": "1.5.0",
          "state": {
            "_view_name": "HTMLView",
            "style": "IPY_MODEL_878bf3d177d148f194eae9678e0788dc",
            "_dom_classes": [],
            "description": "",
            "_model_name": "HTMLModel",
            "placeholder": "​",
            "_view_module": "@jupyter-widgets/controls",
            "_model_module_version": "1.5.0",
            "value": " 456k/456k [00:00&lt;00:00, 2.16MB/s]",
            "_view_count": null,
            "_view_module_version": "1.5.0",
            "description_tooltip": null,
            "_model_module": "@jupyter-widgets/controls",
            "layout": "IPY_MODEL_6cab5930ced84be6bc17c30881123127"
          }
        },
        "466d7b38be6845ba8ef1c8996716b299": {
          "model_module": "@jupyter-widgets/controls",
          "model_name": "ProgressStyleModel",
          "model_module_version": "1.5.0",
          "state": {
            "_view_name": "StyleView",
            "_model_name": "ProgressStyleModel",
            "description_width": "initial",
            "_view_module": "@jupyter-widgets/base",
            "_model_module_version": "1.5.0",
            "_view_count": null,
            "_view_module_version": "1.2.0",
            "bar_color": null,
            "_model_module": "@jupyter-widgets/controls"
          }
        },
        "8c2f1f85ba684a93bdfa225a00dee0c7": {
          "model_module": "@jupyter-widgets/base",
          "model_name": "LayoutModel",
          "model_module_version": "1.2.0",
          "state": {
            "_view_name": "LayoutView",
            "grid_template_rows": null,
            "right": null,
            "justify_content": null,
            "_view_module": "@jupyter-widgets/base",
            "overflow": null,
            "_model_module_version": "1.2.0",
            "_view_count": null,
            "flex_flow": null,
            "width": null,
            "min_width": null,
            "border": null,
            "align_items": null,
            "bottom": null,
            "_model_module": "@jupyter-widgets/base",
            "top": null,
            "grid_column": null,
            "overflow_y": null,
            "overflow_x": null,
            "grid_auto_flow": null,
            "grid_area": null,
            "grid_template_columns": null,
            "flex": null,
            "_model_name": "LayoutModel",
            "justify_items": null,
            "grid_row": null,
            "max_height": null,
            "align_content": null,
            "visibility": null,
            "align_self": null,
            "height": null,
            "min_height": null,
            "padding": null,
            "grid_auto_rows": null,
            "grid_gap": null,
            "max_width": null,
            "order": null,
            "_view_module_version": "1.2.0",
            "grid_template_areas": null,
            "object_position": null,
            "object_fit": null,
            "grid_auto_columns": null,
            "margin": null,
            "display": null,
            "left": null
          }
        },
        "878bf3d177d148f194eae9678e0788dc": {
          "model_module": "@jupyter-widgets/controls",
          "model_name": "DescriptionStyleModel",
          "model_module_version": "1.5.0",
          "state": {
            "_view_name": "StyleView",
            "_model_name": "DescriptionStyleModel",
            "description_width": "",
            "_view_module": "@jupyter-widgets/base",
            "_model_module_version": "1.5.0",
            "_view_count": null,
            "_view_module_version": "1.2.0",
            "_model_module": "@jupyter-widgets/controls"
          }
        },
        "6cab5930ced84be6bc17c30881123127": {
          "model_module": "@jupyter-widgets/base",
          "model_name": "LayoutModel",
          "model_module_version": "1.2.0",
          "state": {
            "_view_name": "LayoutView",
            "grid_template_rows": null,
            "right": null,
            "justify_content": null,
            "_view_module": "@jupyter-widgets/base",
            "overflow": null,
            "_model_module_version": "1.2.0",
            "_view_count": null,
            "flex_flow": null,
            "width": null,
            "min_width": null,
            "border": null,
            "align_items": null,
            "bottom": null,
            "_model_module": "@jupyter-widgets/base",
            "top": null,
            "grid_column": null,
            "overflow_y": null,
            "overflow_x": null,
            "grid_auto_flow": null,
            "grid_area": null,
            "grid_template_columns": null,
            "flex": null,
            "_model_name": "LayoutModel",
            "justify_items": null,
            "grid_row": null,
            "max_height": null,
            "align_content": null,
            "visibility": null,
            "align_self": null,
            "height": null,
            "min_height": null,
            "padding": null,
            "grid_auto_rows": null,
            "grid_gap": null,
            "max_width": null,
            "order": null,
            "_view_module_version": "1.2.0",
            "grid_template_areas": null,
            "object_position": null,
            "object_fit": null,
            "grid_auto_columns": null,
            "margin": null,
            "display": null,
            "left": null
          }
        },
        "f1d58147ea1d4aee83c742d76fd5870b": {
          "model_module": "@jupyter-widgets/controls",
          "model_name": "HBoxModel",
          "model_module_version": "1.5.0",
          "state": {
            "_view_name": "HBoxView",
            "_dom_classes": [],
            "_model_name": "HBoxModel",
            "_view_module": "@jupyter-widgets/controls",
            "_model_module_version": "1.5.0",
            "_view_count": null,
            "_view_module_version": "1.5.0",
            "box_style": "",
            "layout": "IPY_MODEL_289ee854970141e6952a69b14764a376",
            "_model_module": "@jupyter-widgets/controls",
            "children": [
              "IPY_MODEL_985e24e1a014463da3797384bffd426e",
              "IPY_MODEL_abae80404a1f40e78d536b7f6a0a9230"
            ]
          }
        },
        "289ee854970141e6952a69b14764a376": {
          "model_module": "@jupyter-widgets/base",
          "model_name": "LayoutModel",
          "model_module_version": "1.2.0",
          "state": {
            "_view_name": "LayoutView",
            "grid_template_rows": null,
            "right": null,
            "justify_content": null,
            "_view_module": "@jupyter-widgets/base",
            "overflow": null,
            "_model_module_version": "1.2.0",
            "_view_count": null,
            "flex_flow": null,
            "width": null,
            "min_width": null,
            "border": null,
            "align_items": null,
            "bottom": null,
            "_model_module": "@jupyter-widgets/base",
            "top": null,
            "grid_column": null,
            "overflow_y": null,
            "overflow_x": null,
            "grid_auto_flow": null,
            "grid_area": null,
            "grid_template_columns": null,
            "flex": null,
            "_model_name": "LayoutModel",
            "justify_items": null,
            "grid_row": null,
            "max_height": null,
            "align_content": null,
            "visibility": null,
            "align_self": null,
            "height": null,
            "min_height": null,
            "padding": null,
            "grid_auto_rows": null,
            "grid_gap": null,
            "max_width": null,
            "order": null,
            "_view_module_version": "1.2.0",
            "grid_template_areas": null,
            "object_position": null,
            "object_fit": null,
            "grid_auto_columns": null,
            "margin": null,
            "display": null,
            "left": null
          }
        },
        "985e24e1a014463da3797384bffd426e": {
          "model_module": "@jupyter-widgets/controls",
          "model_name": "FloatProgressModel",
          "model_module_version": "1.5.0",
          "state": {
            "_view_name": "ProgressView",
            "style": "IPY_MODEL_0ac10bc9492f45c2941ce5ae52b7acca",
            "_dom_classes": [],
            "description": "Downloading: 100%",
            "_model_name": "FloatProgressModel",
            "bar_style": "success",
            "max": 1355256,
            "_view_module": "@jupyter-widgets/controls",
            "_model_module_version": "1.5.0",
            "value": 1355256,
            "_view_count": null,
            "_view_module_version": "1.5.0",
            "orientation": "horizontal",
            "min": 0,
            "description_tooltip": null,
            "_model_module": "@jupyter-widgets/controls",
            "layout": "IPY_MODEL_0941e6801326474f93a9537bebc7e1b7"
          }
        },
        "abae80404a1f40e78d536b7f6a0a9230": {
          "model_module": "@jupyter-widgets/controls",
          "model_name": "HTMLModel",
          "model_module_version": "1.5.0",
          "state": {
            "_view_name": "HTMLView",
            "style": "IPY_MODEL_7cf9180e85214357bd3f8d4824c1b8b8",
            "_dom_classes": [],
            "description": "",
            "_model_name": "HTMLModel",
            "placeholder": "​",
            "_view_module": "@jupyter-widgets/controls",
            "_model_module_version": "1.5.0",
            "value": " 1.36M/1.36M [00:00&lt;00:00, 15.5MB/s]",
            "_view_count": null,
            "_view_module_version": "1.5.0",
            "description_tooltip": null,
            "_model_module": "@jupyter-widgets/controls",
            "layout": "IPY_MODEL_e9538b69635b48529ce98ed677056e24"
          }
        },
        "0ac10bc9492f45c2941ce5ae52b7acca": {
          "model_module": "@jupyter-widgets/controls",
          "model_name": "ProgressStyleModel",
          "model_module_version": "1.5.0",
          "state": {
            "_view_name": "StyleView",
            "_model_name": "ProgressStyleModel",
            "description_width": "initial",
            "_view_module": "@jupyter-widgets/base",
            "_model_module_version": "1.5.0",
            "_view_count": null,
            "_view_module_version": "1.2.0",
            "bar_color": null,
            "_model_module": "@jupyter-widgets/controls"
          }
        },
        "0941e6801326474f93a9537bebc7e1b7": {
          "model_module": "@jupyter-widgets/base",
          "model_name": "LayoutModel",
          "model_module_version": "1.2.0",
          "state": {
            "_view_name": "LayoutView",
            "grid_template_rows": null,
            "right": null,
            "justify_content": null,
            "_view_module": "@jupyter-widgets/base",
            "overflow": null,
            "_model_module_version": "1.2.0",
            "_view_count": null,
            "flex_flow": null,
            "width": null,
            "min_width": null,
            "border": null,
            "align_items": null,
            "bottom": null,
            "_model_module": "@jupyter-widgets/base",
            "top": null,
            "grid_column": null,
            "overflow_y": null,
            "overflow_x": null,
            "grid_auto_flow": null,
            "grid_area": null,
            "grid_template_columns": null,
            "flex": null,
            "_model_name": "LayoutModel",
            "justify_items": null,
            "grid_row": null,
            "max_height": null,
            "align_content": null,
            "visibility": null,
            "align_self": null,
            "height": null,
            "min_height": null,
            "padding": null,
            "grid_auto_rows": null,
            "grid_gap": null,
            "max_width": null,
            "order": null,
            "_view_module_version": "1.2.0",
            "grid_template_areas": null,
            "object_position": null,
            "object_fit": null,
            "grid_auto_columns": null,
            "margin": null,
            "display": null,
            "left": null
          }
        },
        "7cf9180e85214357bd3f8d4824c1b8b8": {
          "model_module": "@jupyter-widgets/controls",
          "model_name": "DescriptionStyleModel",
          "model_module_version": "1.5.0",
          "state": {
            "_view_name": "StyleView",
            "_model_name": "DescriptionStyleModel",
            "description_width": "",
            "_view_module": "@jupyter-widgets/base",
            "_model_module_version": "1.5.0",
            "_view_count": null,
            "_view_module_version": "1.2.0",
            "_model_module": "@jupyter-widgets/controls"
          }
        },
        "e9538b69635b48529ce98ed677056e24": {
          "model_module": "@jupyter-widgets/base",
          "model_name": "LayoutModel",
          "model_module_version": "1.2.0",
          "state": {
            "_view_name": "LayoutView",
            "grid_template_rows": null,
            "right": null,
            "justify_content": null,
            "_view_module": "@jupyter-widgets/base",
            "overflow": null,
            "_model_module_version": "1.2.0",
            "_view_count": null,
            "flex_flow": null,
            "width": null,
            "min_width": null,
            "border": null,
            "align_items": null,
            "bottom": null,
            "_model_module": "@jupyter-widgets/base",
            "top": null,
            "grid_column": null,
            "overflow_y": null,
            "overflow_x": null,
            "grid_auto_flow": null,
            "grid_area": null,
            "grid_template_columns": null,
            "flex": null,
            "_model_name": "LayoutModel",
            "justify_items": null,
            "grid_row": null,
            "max_height": null,
            "align_content": null,
            "visibility": null,
            "align_self": null,
            "height": null,
            "min_height": null,
            "padding": null,
            "grid_auto_rows": null,
            "grid_gap": null,
            "max_width": null,
            "order": null,
            "_view_module_version": "1.2.0",
            "grid_template_areas": null,
            "object_position": null,
            "object_fit": null,
            "grid_auto_columns": null,
            "margin": null,
            "display": null,
            "left": null
          }
        },
        "108aafbdd4c341bea638aea9dc297410": {
          "model_module": "@jupyter-widgets/controls",
          "model_name": "HBoxModel",
          "model_module_version": "1.5.0",
          "state": {
            "_view_name": "HBoxView",
            "_dom_classes": [],
            "_model_name": "HBoxModel",
            "_view_module": "@jupyter-widgets/controls",
            "_model_module_version": "1.5.0",
            "_view_count": null,
            "_view_module_version": "1.5.0",
            "box_style": "",
            "layout": "IPY_MODEL_ca658e47392d4b6d89e162feb0d51e48",
            "_model_module": "@jupyter-widgets/controls",
            "children": [
              "IPY_MODEL_5015684dadbd494ba4b2e76a6cf722d7",
              "IPY_MODEL_f094b39adbe14180b89979e07ce93e61"
            ]
          }
        },
        "ca658e47392d4b6d89e162feb0d51e48": {
          "model_module": "@jupyter-widgets/base",
          "model_name": "LayoutModel",
          "model_module_version": "1.2.0",
          "state": {
            "_view_name": "LayoutView",
            "grid_template_rows": null,
            "right": null,
            "justify_content": null,
            "_view_module": "@jupyter-widgets/base",
            "overflow": null,
            "_model_module_version": "1.2.0",
            "_view_count": null,
            "flex_flow": null,
            "width": null,
            "min_width": null,
            "border": null,
            "align_items": null,
            "bottom": null,
            "_model_module": "@jupyter-widgets/base",
            "top": null,
            "grid_column": null,
            "overflow_y": null,
            "overflow_x": null,
            "grid_auto_flow": null,
            "grid_area": null,
            "grid_template_columns": null,
            "flex": null,
            "_model_name": "LayoutModel",
            "justify_items": null,
            "grid_row": null,
            "max_height": null,
            "align_content": null,
            "visibility": null,
            "align_self": null,
            "height": null,
            "min_height": null,
            "padding": null,
            "grid_auto_rows": null,
            "grid_gap": null,
            "max_width": null,
            "order": null,
            "_view_module_version": "1.2.0",
            "grid_template_areas": null,
            "object_position": null,
            "object_fit": null,
            "grid_auto_columns": null,
            "margin": null,
            "display": null,
            "left": null
          }
        },
        "5015684dadbd494ba4b2e76a6cf722d7": {
          "model_module": "@jupyter-widgets/controls",
          "model_name": "FloatProgressModel",
          "model_module_version": "1.5.0",
          "state": {
            "_view_name": "ProgressView",
            "style": "IPY_MODEL_48dce15d533542c28f4710cee81d915b",
            "_dom_classes": [],
            "description": "Downloading: 100%",
            "_model_name": "FloatProgressModel",
            "bar_style": "success",
            "max": 1042301,
            "_view_module": "@jupyter-widgets/controls",
            "_model_module_version": "1.5.0",
            "value": 1042301,
            "_view_count": null,
            "_view_module_version": "1.5.0",
            "orientation": "horizontal",
            "min": 0,
            "description_tooltip": null,
            "_model_module": "@jupyter-widgets/controls",
            "layout": "IPY_MODEL_750f56f0b7a54df7ad98415bca8e2305"
          }
        },
        "f094b39adbe14180b89979e07ce93e61": {
          "model_module": "@jupyter-widgets/controls",
          "model_name": "HTMLModel",
          "model_module_version": "1.5.0",
          "state": {
            "_view_name": "HTMLView",
            "style": "IPY_MODEL_f19084e542324204bb8c023e513c96b8",
            "_dom_classes": [],
            "description": "",
            "_model_name": "HTMLModel",
            "placeholder": "​",
            "_view_module": "@jupyter-widgets/controls",
            "_model_module_version": "1.5.0",
            "value": " 1.04M/1.04M [00:02&lt;00:00, 371kB/s]",
            "_view_count": null,
            "_view_module_version": "1.5.0",
            "description_tooltip": null,
            "_model_module": "@jupyter-widgets/controls",
            "layout": "IPY_MODEL_6b0054652fce491f8c348b7d7d8ea35f"
          }
        },
        "48dce15d533542c28f4710cee81d915b": {
          "model_module": "@jupyter-widgets/controls",
          "model_name": "ProgressStyleModel",
          "model_module_version": "1.5.0",
          "state": {
            "_view_name": "StyleView",
            "_model_name": "ProgressStyleModel",
            "description_width": "initial",
            "_view_module": "@jupyter-widgets/base",
            "_model_module_version": "1.5.0",
            "_view_count": null,
            "_view_module_version": "1.2.0",
            "bar_color": null,
            "_model_module": "@jupyter-widgets/controls"
          }
        },
        "750f56f0b7a54df7ad98415bca8e2305": {
          "model_module": "@jupyter-widgets/base",
          "model_name": "LayoutModel",
          "model_module_version": "1.2.0",
          "state": {
            "_view_name": "LayoutView",
            "grid_template_rows": null,
            "right": null,
            "justify_content": null,
            "_view_module": "@jupyter-widgets/base",
            "overflow": null,
            "_model_module_version": "1.2.0",
            "_view_count": null,
            "flex_flow": null,
            "width": null,
            "min_width": null,
            "border": null,
            "align_items": null,
            "bottom": null,
            "_model_module": "@jupyter-widgets/base",
            "top": null,
            "grid_column": null,
            "overflow_y": null,
            "overflow_x": null,
            "grid_auto_flow": null,
            "grid_area": null,
            "grid_template_columns": null,
            "flex": null,
            "_model_name": "LayoutModel",
            "justify_items": null,
            "grid_row": null,
            "max_height": null,
            "align_content": null,
            "visibility": null,
            "align_self": null,
            "height": null,
            "min_height": null,
            "padding": null,
            "grid_auto_rows": null,
            "grid_gap": null,
            "max_width": null,
            "order": null,
            "_view_module_version": "1.2.0",
            "grid_template_areas": null,
            "object_position": null,
            "object_fit": null,
            "grid_auto_columns": null,
            "margin": null,
            "display": null,
            "left": null
          }
        },
        "f19084e542324204bb8c023e513c96b8": {
          "model_module": "@jupyter-widgets/controls",
          "model_name": "DescriptionStyleModel",
          "model_module_version": "1.5.0",
          "state": {
            "_view_name": "StyleView",
            "_model_name": "DescriptionStyleModel",
            "description_width": "",
            "_view_module": "@jupyter-widgets/base",
            "_model_module_version": "1.5.0",
            "_view_count": null,
            "_view_module_version": "1.2.0",
            "_model_module": "@jupyter-widgets/controls"
          }
        },
        "6b0054652fce491f8c348b7d7d8ea35f": {
          "model_module": "@jupyter-widgets/base",
          "model_name": "LayoutModel",
          "model_module_version": "1.2.0",
          "state": {
            "_view_name": "LayoutView",
            "grid_template_rows": null,
            "right": null,
            "justify_content": null,
            "_view_module": "@jupyter-widgets/base",
            "overflow": null,
            "_model_module_version": "1.2.0",
            "_view_count": null,
            "flex_flow": null,
            "width": null,
            "min_width": null,
            "border": null,
            "align_items": null,
            "bottom": null,
            "_model_module": "@jupyter-widgets/base",
            "top": null,
            "grid_column": null,
            "overflow_y": null,
            "overflow_x": null,
            "grid_auto_flow": null,
            "grid_area": null,
            "grid_template_columns": null,
            "flex": null,
            "_model_name": "LayoutModel",
            "justify_items": null,
            "grid_row": null,
            "max_height": null,
            "align_content": null,
            "visibility": null,
            "align_self": null,
            "height": null,
            "min_height": null,
            "padding": null,
            "grid_auto_rows": null,
            "grid_gap": null,
            "max_width": null,
            "order": null,
            "_view_module_version": "1.2.0",
            "grid_template_areas": null,
            "object_position": null,
            "object_fit": null,
            "grid_auto_columns": null,
            "margin": null,
            "display": null,
            "left": null
          }
        },
        "1331fb76803f4b599187f66dc964302c": {
          "model_module": "@jupyter-widgets/controls",
          "model_name": "HBoxModel",
          "model_module_version": "1.5.0",
          "state": {
            "_view_name": "HBoxView",
            "_dom_classes": [],
            "_model_name": "HBoxModel",
            "_view_module": "@jupyter-widgets/controls",
            "_model_module_version": "1.5.0",
            "_view_count": null,
            "_view_module_version": "1.5.0",
            "box_style": "",
            "layout": "IPY_MODEL_353b819c332d4245bee285fa7ab34abd",
            "_model_module": "@jupyter-widgets/controls",
            "children": [
              "IPY_MODEL_0f1513b2266f486e940df1ea98c0a190",
              "IPY_MODEL_f56f4f5af41e48eb8062ffe6b0b134c4"
            ]
          }
        },
        "353b819c332d4245bee285fa7ab34abd": {
          "model_module": "@jupyter-widgets/base",
          "model_name": "LayoutModel",
          "model_module_version": "1.2.0",
          "state": {
            "_view_name": "LayoutView",
            "grid_template_rows": null,
            "right": null,
            "justify_content": null,
            "_view_module": "@jupyter-widgets/base",
            "overflow": null,
            "_model_module_version": "1.2.0",
            "_view_count": null,
            "flex_flow": null,
            "width": null,
            "min_width": null,
            "border": null,
            "align_items": null,
            "bottom": null,
            "_model_module": "@jupyter-widgets/base",
            "top": null,
            "grid_column": null,
            "overflow_y": null,
            "overflow_x": null,
            "grid_auto_flow": null,
            "grid_area": null,
            "grid_template_columns": null,
            "flex": null,
            "_model_name": "LayoutModel",
            "justify_items": null,
            "grid_row": null,
            "max_height": null,
            "align_content": null,
            "visibility": null,
            "align_self": null,
            "height": null,
            "min_height": null,
            "padding": null,
            "grid_auto_rows": null,
            "grid_gap": null,
            "max_width": null,
            "order": null,
            "_view_module_version": "1.2.0",
            "grid_template_areas": null,
            "object_position": null,
            "object_fit": null,
            "grid_auto_columns": null,
            "margin": null,
            "display": null,
            "left": null
          }
        },
        "0f1513b2266f486e940df1ea98c0a190": {
          "model_module": "@jupyter-widgets/controls",
          "model_name": "FloatProgressModel",
          "model_module_version": "1.5.0",
          "state": {
            "_view_name": "ProgressView",
            "style": "IPY_MODEL_2530e00a746045a6a07ba0e00ce75c52",
            "_dom_classes": [],
            "description": "Downloading: 100%",
            "_model_name": "FloatProgressModel",
            "bar_style": "success",
            "max": 456318,
            "_view_module": "@jupyter-widgets/controls",
            "_model_module_version": "1.5.0",
            "value": 456318,
            "_view_count": null,
            "_view_module_version": "1.5.0",
            "orientation": "horizontal",
            "min": 0,
            "description_tooltip": null,
            "_model_module": "@jupyter-widgets/controls",
            "layout": "IPY_MODEL_997d6ddb41e44a0db7ea460f37b3c7be"
          }
        },
        "f56f4f5af41e48eb8062ffe6b0b134c4": {
          "model_module": "@jupyter-widgets/controls",
          "model_name": "HTMLModel",
          "model_module_version": "1.5.0",
          "state": {
            "_view_name": "HTMLView",
            "style": "IPY_MODEL_0e4574d9ecef4ed1a9741051f9d36c46",
            "_dom_classes": [],
            "description": "",
            "_model_name": "HTMLModel",
            "placeholder": "​",
            "_view_module": "@jupyter-widgets/controls",
            "_model_module_version": "1.5.0",
            "value": " 456k/456k [00:01&lt;00:00, 271kB/s]",
            "_view_count": null,
            "_view_module_version": "1.5.0",
            "description_tooltip": null,
            "_model_module": "@jupyter-widgets/controls",
            "layout": "IPY_MODEL_4e797b011b9a468ca435824e66cb5a21"
          }
        },
        "2530e00a746045a6a07ba0e00ce75c52": {
          "model_module": "@jupyter-widgets/controls",
          "model_name": "ProgressStyleModel",
          "model_module_version": "1.5.0",
          "state": {
            "_view_name": "StyleView",
            "_model_name": "ProgressStyleModel",
            "description_width": "initial",
            "_view_module": "@jupyter-widgets/base",
            "_model_module_version": "1.5.0",
            "_view_count": null,
            "_view_module_version": "1.2.0",
            "bar_color": null,
            "_model_module": "@jupyter-widgets/controls"
          }
        },
        "997d6ddb41e44a0db7ea460f37b3c7be": {
          "model_module": "@jupyter-widgets/base",
          "model_name": "LayoutModel",
          "model_module_version": "1.2.0",
          "state": {
            "_view_name": "LayoutView",
            "grid_template_rows": null,
            "right": null,
            "justify_content": null,
            "_view_module": "@jupyter-widgets/base",
            "overflow": null,
            "_model_module_version": "1.2.0",
            "_view_count": null,
            "flex_flow": null,
            "width": null,
            "min_width": null,
            "border": null,
            "align_items": null,
            "bottom": null,
            "_model_module": "@jupyter-widgets/base",
            "top": null,
            "grid_column": null,
            "overflow_y": null,
            "overflow_x": null,
            "grid_auto_flow": null,
            "grid_area": null,
            "grid_template_columns": null,
            "flex": null,
            "_model_name": "LayoutModel",
            "justify_items": null,
            "grid_row": null,
            "max_height": null,
            "align_content": null,
            "visibility": null,
            "align_self": null,
            "height": null,
            "min_height": null,
            "padding": null,
            "grid_auto_rows": null,
            "grid_gap": null,
            "max_width": null,
            "order": null,
            "_view_module_version": "1.2.0",
            "grid_template_areas": null,
            "object_position": null,
            "object_fit": null,
            "grid_auto_columns": null,
            "margin": null,
            "display": null,
            "left": null
          }
        },
        "0e4574d9ecef4ed1a9741051f9d36c46": {
          "model_module": "@jupyter-widgets/controls",
          "model_name": "DescriptionStyleModel",
          "model_module_version": "1.5.0",
          "state": {
            "_view_name": "StyleView",
            "_model_name": "DescriptionStyleModel",
            "description_width": "",
            "_view_module": "@jupyter-widgets/base",
            "_model_module_version": "1.5.0",
            "_view_count": null,
            "_view_module_version": "1.2.0",
            "_model_module": "@jupyter-widgets/controls"
          }
        },
        "4e797b011b9a468ca435824e66cb5a21": {
          "model_module": "@jupyter-widgets/base",
          "model_name": "LayoutModel",
          "model_module_version": "1.2.0",
          "state": {
            "_view_name": "LayoutView",
            "grid_template_rows": null,
            "right": null,
            "justify_content": null,
            "_view_module": "@jupyter-widgets/base",
            "overflow": null,
            "_model_module_version": "1.2.0",
            "_view_count": null,
            "flex_flow": null,
            "width": null,
            "min_width": null,
            "border": null,
            "align_items": null,
            "bottom": null,
            "_model_module": "@jupyter-widgets/base",
            "top": null,
            "grid_column": null,
            "overflow_y": null,
            "overflow_x": null,
            "grid_auto_flow": null,
            "grid_area": null,
            "grid_template_columns": null,
            "flex": null,
            "_model_name": "LayoutModel",
            "justify_items": null,
            "grid_row": null,
            "max_height": null,
            "align_content": null,
            "visibility": null,
            "align_self": null,
            "height": null,
            "min_height": null,
            "padding": null,
            "grid_auto_rows": null,
            "grid_gap": null,
            "max_width": null,
            "order": null,
            "_view_module_version": "1.2.0",
            "grid_template_areas": null,
            "object_position": null,
            "object_fit": null,
            "grid_auto_columns": null,
            "margin": null,
            "display": null,
            "left": null
          }
        },
        "c3a982a80baa4c1c9b14387a5e750029": {
          "model_module": "@jupyter-widgets/controls",
          "model_name": "HBoxModel",
          "model_module_version": "1.5.0",
          "state": {
            "_view_name": "HBoxView",
            "_dom_classes": [],
            "_model_name": "HBoxModel",
            "_view_module": "@jupyter-widgets/controls",
            "_model_module_version": "1.5.0",
            "_view_count": null,
            "_view_module_version": "1.5.0",
            "box_style": "",
            "layout": "IPY_MODEL_05d4267810d94171b5eb5366df80e3e6",
            "_model_module": "@jupyter-widgets/controls",
            "children": [
              "IPY_MODEL_0d03959ca71f463aac14cc0f1d917956",
              "IPY_MODEL_8d7d7006c43647feb0e460a2c4524178"
            ]
          }
        },
        "05d4267810d94171b5eb5366df80e3e6": {
          "model_module": "@jupyter-widgets/base",
          "model_name": "LayoutModel",
          "model_module_version": "1.2.0",
          "state": {
            "_view_name": "LayoutView",
            "grid_template_rows": null,
            "right": null,
            "justify_content": null,
            "_view_module": "@jupyter-widgets/base",
            "overflow": null,
            "_model_module_version": "1.2.0",
            "_view_count": null,
            "flex_flow": null,
            "width": null,
            "min_width": null,
            "border": null,
            "align_items": null,
            "bottom": null,
            "_model_module": "@jupyter-widgets/base",
            "top": null,
            "grid_column": null,
            "overflow_y": null,
            "overflow_x": null,
            "grid_auto_flow": null,
            "grid_area": null,
            "grid_template_columns": null,
            "flex": null,
            "_model_name": "LayoutModel",
            "justify_items": null,
            "grid_row": null,
            "max_height": null,
            "align_content": null,
            "visibility": null,
            "align_self": null,
            "height": null,
            "min_height": null,
            "padding": null,
            "grid_auto_rows": null,
            "grid_gap": null,
            "max_width": null,
            "order": null,
            "_view_module_version": "1.2.0",
            "grid_template_areas": null,
            "object_position": null,
            "object_fit": null,
            "grid_auto_columns": null,
            "margin": null,
            "display": null,
            "left": null
          }
        },
        "0d03959ca71f463aac14cc0f1d917956": {
          "model_module": "@jupyter-widgets/controls",
          "model_name": "FloatProgressModel",
          "model_module_version": "1.5.0",
          "state": {
            "_view_name": "ProgressView",
            "style": "IPY_MODEL_686b00b79ec544cb8a0dcb58ddbb5ee1",
            "_dom_classes": [],
            "description": "Downloading: 100%",
            "_model_name": "FloatProgressModel",
            "bar_style": "success",
            "max": 1355256,
            "_view_module": "@jupyter-widgets/controls",
            "_model_module_version": "1.5.0",
            "value": 1355256,
            "_view_count": null,
            "_view_module_version": "1.5.0",
            "orientation": "horizontal",
            "min": 0,
            "description_tooltip": null,
            "_model_module": "@jupyter-widgets/controls",
            "layout": "IPY_MODEL_8d8b0e0142b9483db6e96588009c352e"
          }
        },
        "8d7d7006c43647feb0e460a2c4524178": {
          "model_module": "@jupyter-widgets/controls",
          "model_name": "HTMLModel",
          "model_module_version": "1.5.0",
          "state": {
            "_view_name": "HTMLView",
            "style": "IPY_MODEL_bc9e3a5368a24af2a574bbe2cd36bd99",
            "_dom_classes": [],
            "description": "",
            "_model_name": "HTMLModel",
            "placeholder": "​",
            "_view_module": "@jupyter-widgets/controls",
            "_model_module_version": "1.5.0",
            "value": " 1.36M/1.36M [00:00&lt;00:00, 4.16MB/s]",
            "_view_count": null,
            "_view_module_version": "1.5.0",
            "description_tooltip": null,
            "_model_module": "@jupyter-widgets/controls",
            "layout": "IPY_MODEL_668565d6b04c488980ac170e4332adf3"
          }
        },
        "686b00b79ec544cb8a0dcb58ddbb5ee1": {
          "model_module": "@jupyter-widgets/controls",
          "model_name": "ProgressStyleModel",
          "model_module_version": "1.5.0",
          "state": {
            "_view_name": "StyleView",
            "_model_name": "ProgressStyleModel",
            "description_width": "initial",
            "_view_module": "@jupyter-widgets/base",
            "_model_module_version": "1.5.0",
            "_view_count": null,
            "_view_module_version": "1.2.0",
            "bar_color": null,
            "_model_module": "@jupyter-widgets/controls"
          }
        },
        "8d8b0e0142b9483db6e96588009c352e": {
          "model_module": "@jupyter-widgets/base",
          "model_name": "LayoutModel",
          "model_module_version": "1.2.0",
          "state": {
            "_view_name": "LayoutView",
            "grid_template_rows": null,
            "right": null,
            "justify_content": null,
            "_view_module": "@jupyter-widgets/base",
            "overflow": null,
            "_model_module_version": "1.2.0",
            "_view_count": null,
            "flex_flow": null,
            "width": null,
            "min_width": null,
            "border": null,
            "align_items": null,
            "bottom": null,
            "_model_module": "@jupyter-widgets/base",
            "top": null,
            "grid_column": null,
            "overflow_y": null,
            "overflow_x": null,
            "grid_auto_flow": null,
            "grid_area": null,
            "grid_template_columns": null,
            "flex": null,
            "_model_name": "LayoutModel",
            "justify_items": null,
            "grid_row": null,
            "max_height": null,
            "align_content": null,
            "visibility": null,
            "align_self": null,
            "height": null,
            "min_height": null,
            "padding": null,
            "grid_auto_rows": null,
            "grid_gap": null,
            "max_width": null,
            "order": null,
            "_view_module_version": "1.2.0",
            "grid_template_areas": null,
            "object_position": null,
            "object_fit": null,
            "grid_auto_columns": null,
            "margin": null,
            "display": null,
            "left": null
          }
        },
        "bc9e3a5368a24af2a574bbe2cd36bd99": {
          "model_module": "@jupyter-widgets/controls",
          "model_name": "DescriptionStyleModel",
          "model_module_version": "1.5.0",
          "state": {
            "_view_name": "StyleView",
            "_model_name": "DescriptionStyleModel",
            "description_width": "",
            "_view_module": "@jupyter-widgets/base",
            "_model_module_version": "1.5.0",
            "_view_count": null,
            "_view_module_version": "1.2.0",
            "_model_module": "@jupyter-widgets/controls"
          }
        },
        "668565d6b04c488980ac170e4332adf3": {
          "model_module": "@jupyter-widgets/base",
          "model_name": "LayoutModel",
          "model_module_version": "1.2.0",
          "state": {
            "_view_name": "LayoutView",
            "grid_template_rows": null,
            "right": null,
            "justify_content": null,
            "_view_module": "@jupyter-widgets/base",
            "overflow": null,
            "_model_module_version": "1.2.0",
            "_view_count": null,
            "flex_flow": null,
            "width": null,
            "min_width": null,
            "border": null,
            "align_items": null,
            "bottom": null,
            "_model_module": "@jupyter-widgets/base",
            "top": null,
            "grid_column": null,
            "overflow_y": null,
            "overflow_x": null,
            "grid_auto_flow": null,
            "grid_area": null,
            "grid_template_columns": null,
            "flex": null,
            "_model_name": "LayoutModel",
            "justify_items": null,
            "grid_row": null,
            "max_height": null,
            "align_content": null,
            "visibility": null,
            "align_self": null,
            "height": null,
            "min_height": null,
            "padding": null,
            "grid_auto_rows": null,
            "grid_gap": null,
            "max_width": null,
            "order": null,
            "_view_module_version": "1.2.0",
            "grid_template_areas": null,
            "object_position": null,
            "object_fit": null,
            "grid_auto_columns": null,
            "margin": null,
            "display": null,
            "left": null
          }
        },
        "726e86b7450d4ed4ac7afba3f33cbbdf": {
          "model_module": "@jupyter-widgets/controls",
          "model_name": "HBoxModel",
          "model_module_version": "1.5.0",
          "state": {
            "_view_name": "HBoxView",
            "_dom_classes": [],
            "_model_name": "HBoxModel",
            "_view_module": "@jupyter-widgets/controls",
            "_model_module_version": "1.5.0",
            "_view_count": null,
            "_view_module_version": "1.5.0",
            "box_style": "",
            "layout": "IPY_MODEL_1c4c39fb7be6463380362fe3d8037860",
            "_model_module": "@jupyter-widgets/controls",
            "children": [
              "IPY_MODEL_ea25d1bfe83f4083bbca14b18f1ddb85",
              "IPY_MODEL_ed95378dc6e44728871d270b4e9da8a5"
            ]
          }
        },
        "1c4c39fb7be6463380362fe3d8037860": {
          "model_module": "@jupyter-widgets/base",
          "model_name": "LayoutModel",
          "model_module_version": "1.2.0",
          "state": {
            "_view_name": "LayoutView",
            "grid_template_rows": null,
            "right": null,
            "justify_content": null,
            "_view_module": "@jupyter-widgets/base",
            "overflow": null,
            "_model_module_version": "1.2.0",
            "_view_count": null,
            "flex_flow": null,
            "width": null,
            "min_width": null,
            "border": null,
            "align_items": null,
            "bottom": null,
            "_model_module": "@jupyter-widgets/base",
            "top": null,
            "grid_column": null,
            "overflow_y": null,
            "overflow_x": null,
            "grid_auto_flow": null,
            "grid_area": null,
            "grid_template_columns": null,
            "flex": null,
            "_model_name": "LayoutModel",
            "justify_items": null,
            "grid_row": null,
            "max_height": null,
            "align_content": null,
            "visibility": null,
            "align_self": null,
            "height": null,
            "min_height": null,
            "padding": null,
            "grid_auto_rows": null,
            "grid_gap": null,
            "max_width": null,
            "order": null,
            "_view_module_version": "1.2.0",
            "grid_template_areas": null,
            "object_position": null,
            "object_fit": null,
            "grid_auto_columns": null,
            "margin": null,
            "display": null,
            "left": null
          }
        },
        "ea25d1bfe83f4083bbca14b18f1ddb85": {
          "model_module": "@jupyter-widgets/controls",
          "model_name": "FloatProgressModel",
          "model_module_version": "1.5.0",
          "state": {
            "_view_name": "ProgressView",
            "style": "IPY_MODEL_d95350b548e446d7aa4ae351266d1abf",
            "_dom_classes": [],
            "description": "Downloading: 100%",
            "_model_name": "FloatProgressModel",
            "bar_style": "success",
            "max": 665,
            "_view_module": "@jupyter-widgets/controls",
            "_model_module_version": "1.5.0",
            "value": 665,
            "_view_count": null,
            "_view_module_version": "1.5.0",
            "orientation": "horizontal",
            "min": 0,
            "description_tooltip": null,
            "_model_module": "@jupyter-widgets/controls",
            "layout": "IPY_MODEL_337fae8fab1d4c82a1501553cd830101"
          }
        },
        "ed95378dc6e44728871d270b4e9da8a5": {
          "model_module": "@jupyter-widgets/controls",
          "model_name": "HTMLModel",
          "model_module_version": "1.5.0",
          "state": {
            "_view_name": "HTMLView",
            "style": "IPY_MODEL_6903837c7b1f446a89747c0b5b74246e",
            "_dom_classes": [],
            "description": "",
            "_model_name": "HTMLModel",
            "placeholder": "​",
            "_view_module": "@jupyter-widgets/controls",
            "_model_module_version": "1.5.0",
            "value": " 665/665 [00:13&lt;00:00, 50.2B/s]",
            "_view_count": null,
            "_view_module_version": "1.5.0",
            "description_tooltip": null,
            "_model_module": "@jupyter-widgets/controls",
            "layout": "IPY_MODEL_affff42fd4294af1ac85bd316fa73ded"
          }
        },
        "d95350b548e446d7aa4ae351266d1abf": {
          "model_module": "@jupyter-widgets/controls",
          "model_name": "ProgressStyleModel",
          "model_module_version": "1.5.0",
          "state": {
            "_view_name": "StyleView",
            "_model_name": "ProgressStyleModel",
            "description_width": "initial",
            "_view_module": "@jupyter-widgets/base",
            "_model_module_version": "1.5.0",
            "_view_count": null,
            "_view_module_version": "1.2.0",
            "bar_color": null,
            "_model_module": "@jupyter-widgets/controls"
          }
        },
        "337fae8fab1d4c82a1501553cd830101": {
          "model_module": "@jupyter-widgets/base",
          "model_name": "LayoutModel",
          "model_module_version": "1.2.0",
          "state": {
            "_view_name": "LayoutView",
            "grid_template_rows": null,
            "right": null,
            "justify_content": null,
            "_view_module": "@jupyter-widgets/base",
            "overflow": null,
            "_model_module_version": "1.2.0",
            "_view_count": null,
            "flex_flow": null,
            "width": null,
            "min_width": null,
            "border": null,
            "align_items": null,
            "bottom": null,
            "_model_module": "@jupyter-widgets/base",
            "top": null,
            "grid_column": null,
            "overflow_y": null,
            "overflow_x": null,
            "grid_auto_flow": null,
            "grid_area": null,
            "grid_template_columns": null,
            "flex": null,
            "_model_name": "LayoutModel",
            "justify_items": null,
            "grid_row": null,
            "max_height": null,
            "align_content": null,
            "visibility": null,
            "align_self": null,
            "height": null,
            "min_height": null,
            "padding": null,
            "grid_auto_rows": null,
            "grid_gap": null,
            "max_width": null,
            "order": null,
            "_view_module_version": "1.2.0",
            "grid_template_areas": null,
            "object_position": null,
            "object_fit": null,
            "grid_auto_columns": null,
            "margin": null,
            "display": null,
            "left": null
          }
        },
        "6903837c7b1f446a89747c0b5b74246e": {
          "model_module": "@jupyter-widgets/controls",
          "model_name": "DescriptionStyleModel",
          "model_module_version": "1.5.0",
          "state": {
            "_view_name": "StyleView",
            "_model_name": "DescriptionStyleModel",
            "description_width": "",
            "_view_module": "@jupyter-widgets/base",
            "_model_module_version": "1.5.0",
            "_view_count": null,
            "_view_module_version": "1.2.0",
            "_model_module": "@jupyter-widgets/controls"
          }
        },
        "affff42fd4294af1ac85bd316fa73ded": {
          "model_module": "@jupyter-widgets/base",
          "model_name": "LayoutModel",
          "model_module_version": "1.2.0",
          "state": {
            "_view_name": "LayoutView",
            "grid_template_rows": null,
            "right": null,
            "justify_content": null,
            "_view_module": "@jupyter-widgets/base",
            "overflow": null,
            "_model_module_version": "1.2.0",
            "_view_count": null,
            "flex_flow": null,
            "width": null,
            "min_width": null,
            "border": null,
            "align_items": null,
            "bottom": null,
            "_model_module": "@jupyter-widgets/base",
            "top": null,
            "grid_column": null,
            "overflow_y": null,
            "overflow_x": null,
            "grid_auto_flow": null,
            "grid_area": null,
            "grid_template_columns": null,
            "flex": null,
            "_model_name": "LayoutModel",
            "justify_items": null,
            "grid_row": null,
            "max_height": null,
            "align_content": null,
            "visibility": null,
            "align_self": null,
            "height": null,
            "min_height": null,
            "padding": null,
            "grid_auto_rows": null,
            "grid_gap": null,
            "max_width": null,
            "order": null,
            "_view_module_version": "1.2.0",
            "grid_template_areas": null,
            "object_position": null,
            "object_fit": null,
            "grid_auto_columns": null,
            "margin": null,
            "display": null,
            "left": null
          }
        },
        "eec8414ca5d64ccca7a02fc9f1b9113d": {
          "model_module": "@jupyter-widgets/controls",
          "model_name": "HBoxModel",
          "model_module_version": "1.5.0",
          "state": {
            "_view_name": "HBoxView",
            "_dom_classes": [],
            "_model_name": "HBoxModel",
            "_view_module": "@jupyter-widgets/controls",
            "_model_module_version": "1.5.0",
            "_view_count": null,
            "_view_module_version": "1.5.0",
            "box_style": "",
            "layout": "IPY_MODEL_8163dd29ca1047cd91efd466d829ce2b",
            "_model_module": "@jupyter-widgets/controls",
            "children": [
              "IPY_MODEL_88480fc1e87b4e96a88447fc235275b6",
              "IPY_MODEL_69a0bb101b424c159a48c9c50a60a821"
            ]
          }
        },
        "8163dd29ca1047cd91efd466d829ce2b": {
          "model_module": "@jupyter-widgets/base",
          "model_name": "LayoutModel",
          "model_module_version": "1.2.0",
          "state": {
            "_view_name": "LayoutView",
            "grid_template_rows": null,
            "right": null,
            "justify_content": null,
            "_view_module": "@jupyter-widgets/base",
            "overflow": null,
            "_model_module_version": "1.2.0",
            "_view_count": null,
            "flex_flow": null,
            "width": null,
            "min_width": null,
            "border": null,
            "align_items": null,
            "bottom": null,
            "_model_module": "@jupyter-widgets/base",
            "top": null,
            "grid_column": null,
            "overflow_y": null,
            "overflow_x": null,
            "grid_auto_flow": null,
            "grid_area": null,
            "grid_template_columns": null,
            "flex": null,
            "_model_name": "LayoutModel",
            "justify_items": null,
            "grid_row": null,
            "max_height": null,
            "align_content": null,
            "visibility": null,
            "align_self": null,
            "height": null,
            "min_height": null,
            "padding": null,
            "grid_auto_rows": null,
            "grid_gap": null,
            "max_width": null,
            "order": null,
            "_view_module_version": "1.2.0",
            "grid_template_areas": null,
            "object_position": null,
            "object_fit": null,
            "grid_auto_columns": null,
            "margin": null,
            "display": null,
            "left": null
          }
        },
        "88480fc1e87b4e96a88447fc235275b6": {
          "model_module": "@jupyter-widgets/controls",
          "model_name": "FloatProgressModel",
          "model_module_version": "1.5.0",
          "state": {
            "_view_name": "ProgressView",
            "style": "IPY_MODEL_b4d61369be4b44c59d804d5751956cca",
            "_dom_classes": [],
            "description": "Downloading: 100%",
            "_model_name": "FloatProgressModel",
            "bar_style": "success",
            "max": 548118077,
            "_view_module": "@jupyter-widgets/controls",
            "_model_module_version": "1.5.0",
            "value": 548118077,
            "_view_count": null,
            "_view_module_version": "1.5.0",
            "orientation": "horizontal",
            "min": 0,
            "description_tooltip": null,
            "_model_module": "@jupyter-widgets/controls",
            "layout": "IPY_MODEL_4ad8c12611134e2388ac95e25855f396"
          }
        },
        "69a0bb101b424c159a48c9c50a60a821": {
          "model_module": "@jupyter-widgets/controls",
          "model_name": "HTMLModel",
          "model_module_version": "1.5.0",
          "state": {
            "_view_name": "HTMLView",
            "style": "IPY_MODEL_86e67ec8ee8640329be478f08d8d8b17",
            "_dom_classes": [],
            "description": "",
            "_model_name": "HTMLModel",
            "placeholder": "​",
            "_view_module": "@jupyter-widgets/controls",
            "_model_module_version": "1.5.0",
            "value": " 548M/548M [00:11&lt;00:00, 46.4MB/s]",
            "_view_count": null,
            "_view_module_version": "1.5.0",
            "description_tooltip": null,
            "_model_module": "@jupyter-widgets/controls",
            "layout": "IPY_MODEL_d06cd2cb833b489ba1c9ca1a107125f5"
          }
        },
        "b4d61369be4b44c59d804d5751956cca": {
          "model_module": "@jupyter-widgets/controls",
          "model_name": "ProgressStyleModel",
          "model_module_version": "1.5.0",
          "state": {
            "_view_name": "StyleView",
            "_model_name": "ProgressStyleModel",
            "description_width": "initial",
            "_view_module": "@jupyter-widgets/base",
            "_model_module_version": "1.5.0",
            "_view_count": null,
            "_view_module_version": "1.2.0",
            "bar_color": null,
            "_model_module": "@jupyter-widgets/controls"
          }
        },
        "4ad8c12611134e2388ac95e25855f396": {
          "model_module": "@jupyter-widgets/base",
          "model_name": "LayoutModel",
          "model_module_version": "1.2.0",
          "state": {
            "_view_name": "LayoutView",
            "grid_template_rows": null,
            "right": null,
            "justify_content": null,
            "_view_module": "@jupyter-widgets/base",
            "overflow": null,
            "_model_module_version": "1.2.0",
            "_view_count": null,
            "flex_flow": null,
            "width": null,
            "min_width": null,
            "border": null,
            "align_items": null,
            "bottom": null,
            "_model_module": "@jupyter-widgets/base",
            "top": null,
            "grid_column": null,
            "overflow_y": null,
            "overflow_x": null,
            "grid_auto_flow": null,
            "grid_area": null,
            "grid_template_columns": null,
            "flex": null,
            "_model_name": "LayoutModel",
            "justify_items": null,
            "grid_row": null,
            "max_height": null,
            "align_content": null,
            "visibility": null,
            "align_self": null,
            "height": null,
            "min_height": null,
            "padding": null,
            "grid_auto_rows": null,
            "grid_gap": null,
            "max_width": null,
            "order": null,
            "_view_module_version": "1.2.0",
            "grid_template_areas": null,
            "object_position": null,
            "object_fit": null,
            "grid_auto_columns": null,
            "margin": null,
            "display": null,
            "left": null
          }
        },
        "86e67ec8ee8640329be478f08d8d8b17": {
          "model_module": "@jupyter-widgets/controls",
          "model_name": "DescriptionStyleModel",
          "model_module_version": "1.5.0",
          "state": {
            "_view_name": "StyleView",
            "_model_name": "DescriptionStyleModel",
            "description_width": "",
            "_view_module": "@jupyter-widgets/base",
            "_model_module_version": "1.5.0",
            "_view_count": null,
            "_view_module_version": "1.2.0",
            "_model_module": "@jupyter-widgets/controls"
          }
        },
        "d06cd2cb833b489ba1c9ca1a107125f5": {
          "model_module": "@jupyter-widgets/base",
          "model_name": "LayoutModel",
          "model_module_version": "1.2.0",
          "state": {
            "_view_name": "LayoutView",
            "grid_template_rows": null,
            "right": null,
            "justify_content": null,
            "_view_module": "@jupyter-widgets/base",
            "overflow": null,
            "_model_module_version": "1.2.0",
            "_view_count": null,
            "flex_flow": null,
            "width": null,
            "min_width": null,
            "border": null,
            "align_items": null,
            "bottom": null,
            "_model_module": "@jupyter-widgets/base",
            "top": null,
            "grid_column": null,
            "overflow_y": null,
            "overflow_x": null,
            "grid_auto_flow": null,
            "grid_area": null,
            "grid_template_columns": null,
            "flex": null,
            "_model_name": "LayoutModel",
            "justify_items": null,
            "grid_row": null,
            "max_height": null,
            "align_content": null,
            "visibility": null,
            "align_self": null,
            "height": null,
            "min_height": null,
            "padding": null,
            "grid_auto_rows": null,
            "grid_gap": null,
            "max_width": null,
            "order": null,
            "_view_module_version": "1.2.0",
            "grid_template_areas": null,
            "object_position": null,
            "object_fit": null,
            "grid_auto_columns": null,
            "margin": null,
            "display": null,
            "left": null
          }
        },
        "7bc055d60ce14e41b8bb25629502cf9c": {
          "model_module": "@jupyter-widgets/controls",
          "model_name": "HBoxModel",
          "model_module_version": "1.5.0",
          "state": {
            "_view_name": "HBoxView",
            "_dom_classes": [],
            "_model_name": "HBoxModel",
            "_view_module": "@jupyter-widgets/controls",
            "_model_module_version": "1.5.0",
            "_view_count": null,
            "_view_module_version": "1.5.0",
            "box_style": "",
            "layout": "IPY_MODEL_16b3636d0f154f71abceb24109c9e2b4",
            "_model_module": "@jupyter-widgets/controls",
            "children": [
              "IPY_MODEL_f70707630b4246a78f9cb76c9999c888",
              "IPY_MODEL_4d87822aa2a7471ea69fceab1b9da9eb"
            ]
          }
        },
        "16b3636d0f154f71abceb24109c9e2b4": {
          "model_module": "@jupyter-widgets/base",
          "model_name": "LayoutModel",
          "model_module_version": "1.2.0",
          "state": {
            "_view_name": "LayoutView",
            "grid_template_rows": null,
            "right": null,
            "justify_content": null,
            "_view_module": "@jupyter-widgets/base",
            "overflow": null,
            "_model_module_version": "1.2.0",
            "_view_count": null,
            "flex_flow": null,
            "width": null,
            "min_width": null,
            "border": null,
            "align_items": null,
            "bottom": null,
            "_model_module": "@jupyter-widgets/base",
            "top": null,
            "grid_column": null,
            "overflow_y": null,
            "overflow_x": null,
            "grid_auto_flow": null,
            "grid_area": null,
            "grid_template_columns": null,
            "flex": null,
            "_model_name": "LayoutModel",
            "justify_items": null,
            "grid_row": null,
            "max_height": null,
            "align_content": null,
            "visibility": null,
            "align_self": null,
            "height": null,
            "min_height": null,
            "padding": null,
            "grid_auto_rows": null,
            "grid_gap": null,
            "max_width": null,
            "order": null,
            "_view_module_version": "1.2.0",
            "grid_template_areas": null,
            "object_position": null,
            "object_fit": null,
            "grid_auto_columns": null,
            "margin": null,
            "display": null,
            "left": null
          }
        },
        "f70707630b4246a78f9cb76c9999c888": {
          "model_module": "@jupyter-widgets/controls",
          "model_name": "FloatProgressModel",
          "model_module_version": "1.5.0",
          "state": {
            "_view_name": "ProgressView",
            "style": "IPY_MODEL_cf64b2b89cba436486143d4f4ef718f5",
            "_dom_classes": [],
            "description": "Downloading: 100%",
            "_model_name": "FloatProgressModel",
            "bar_style": "success",
            "max": 665,
            "_view_module": "@jupyter-widgets/controls",
            "_model_module_version": "1.5.0",
            "value": 665,
            "_view_count": null,
            "_view_module_version": "1.5.0",
            "orientation": "horizontal",
            "min": 0,
            "description_tooltip": null,
            "_model_module": "@jupyter-widgets/controls",
            "layout": "IPY_MODEL_1944e44265704b66b437f28b07fb31a7"
          }
        },
        "4d87822aa2a7471ea69fceab1b9da9eb": {
          "model_module": "@jupyter-widgets/controls",
          "model_name": "HTMLModel",
          "model_module_version": "1.5.0",
          "state": {
            "_view_name": "HTMLView",
            "style": "IPY_MODEL_4f4b34fad8664ba6b880041b99e3c08b",
            "_dom_classes": [],
            "description": "",
            "_model_name": "HTMLModel",
            "placeholder": "​",
            "_view_module": "@jupyter-widgets/controls",
            "_model_module_version": "1.5.0",
            "value": " 665/665 [00:00&lt;00:00, 10.1kB/s]",
            "_view_count": null,
            "_view_module_version": "1.5.0",
            "description_tooltip": null,
            "_model_module": "@jupyter-widgets/controls",
            "layout": "IPY_MODEL_9ce8bd4c1f3e4c34aacf5336fcf4b1a3"
          }
        },
        "cf64b2b89cba436486143d4f4ef718f5": {
          "model_module": "@jupyter-widgets/controls",
          "model_name": "ProgressStyleModel",
          "model_module_version": "1.5.0",
          "state": {
            "_view_name": "StyleView",
            "_model_name": "ProgressStyleModel",
            "description_width": "initial",
            "_view_module": "@jupyter-widgets/base",
            "_model_module_version": "1.5.0",
            "_view_count": null,
            "_view_module_version": "1.2.0",
            "bar_color": null,
            "_model_module": "@jupyter-widgets/controls"
          }
        },
        "1944e44265704b66b437f28b07fb31a7": {
          "model_module": "@jupyter-widgets/base",
          "model_name": "LayoutModel",
          "model_module_version": "1.2.0",
          "state": {
            "_view_name": "LayoutView",
            "grid_template_rows": null,
            "right": null,
            "justify_content": null,
            "_view_module": "@jupyter-widgets/base",
            "overflow": null,
            "_model_module_version": "1.2.0",
            "_view_count": null,
            "flex_flow": null,
            "width": null,
            "min_width": null,
            "border": null,
            "align_items": null,
            "bottom": null,
            "_model_module": "@jupyter-widgets/base",
            "top": null,
            "grid_column": null,
            "overflow_y": null,
            "overflow_x": null,
            "grid_auto_flow": null,
            "grid_area": null,
            "grid_template_columns": null,
            "flex": null,
            "_model_name": "LayoutModel",
            "justify_items": null,
            "grid_row": null,
            "max_height": null,
            "align_content": null,
            "visibility": null,
            "align_self": null,
            "height": null,
            "min_height": null,
            "padding": null,
            "grid_auto_rows": null,
            "grid_gap": null,
            "max_width": null,
            "order": null,
            "_view_module_version": "1.2.0",
            "grid_template_areas": null,
            "object_position": null,
            "object_fit": null,
            "grid_auto_columns": null,
            "margin": null,
            "display": null,
            "left": null
          }
        },
        "4f4b34fad8664ba6b880041b99e3c08b": {
          "model_module": "@jupyter-widgets/controls",
          "model_name": "DescriptionStyleModel",
          "model_module_version": "1.5.0",
          "state": {
            "_view_name": "StyleView",
            "_model_name": "DescriptionStyleModel",
            "description_width": "",
            "_view_module": "@jupyter-widgets/base",
            "_model_module_version": "1.5.0",
            "_view_count": null,
            "_view_module_version": "1.2.0",
            "_model_module": "@jupyter-widgets/controls"
          }
        },
        "9ce8bd4c1f3e4c34aacf5336fcf4b1a3": {
          "model_module": "@jupyter-widgets/base",
          "model_name": "LayoutModel",
          "model_module_version": "1.2.0",
          "state": {
            "_view_name": "LayoutView",
            "grid_template_rows": null,
            "right": null,
            "justify_content": null,
            "_view_module": "@jupyter-widgets/base",
            "overflow": null,
            "_model_module_version": "1.2.0",
            "_view_count": null,
            "flex_flow": null,
            "width": null,
            "min_width": null,
            "border": null,
            "align_items": null,
            "bottom": null,
            "_model_module": "@jupyter-widgets/base",
            "top": null,
            "grid_column": null,
            "overflow_y": null,
            "overflow_x": null,
            "grid_auto_flow": null,
            "grid_area": null,
            "grid_template_columns": null,
            "flex": null,
            "_model_name": "LayoutModel",
            "justify_items": null,
            "grid_row": null,
            "max_height": null,
            "align_content": null,
            "visibility": null,
            "align_self": null,
            "height": null,
            "min_height": null,
            "padding": null,
            "grid_auto_rows": null,
            "grid_gap": null,
            "max_width": null,
            "order": null,
            "_view_module_version": "1.2.0",
            "grid_template_areas": null,
            "object_position": null,
            "object_fit": null,
            "grid_auto_columns": null,
            "margin": null,
            "display": null,
            "left": null
          }
        },
        "b1e779543f034326af0f3f8349f833f3": {
          "model_module": "@jupyter-widgets/controls",
          "model_name": "HBoxModel",
          "model_module_version": "1.5.0",
          "state": {
            "_view_name": "HBoxView",
            "_dom_classes": [],
            "_model_name": "HBoxModel",
            "_view_module": "@jupyter-widgets/controls",
            "_model_module_version": "1.5.0",
            "_view_count": null,
            "_view_module_version": "1.5.0",
            "box_style": "",
            "layout": "IPY_MODEL_8611f0600596437a88a460a2aaf76531",
            "_model_module": "@jupyter-widgets/controls",
            "children": [
              "IPY_MODEL_be3002fdcd66400aae70cef3b3914dd3",
              "IPY_MODEL_e08647cb3a514483bc88286575c6a45d"
            ]
          }
        },
        "8611f0600596437a88a460a2aaf76531": {
          "model_module": "@jupyter-widgets/base",
          "model_name": "LayoutModel",
          "model_module_version": "1.2.0",
          "state": {
            "_view_name": "LayoutView",
            "grid_template_rows": null,
            "right": null,
            "justify_content": null,
            "_view_module": "@jupyter-widgets/base",
            "overflow": null,
            "_model_module_version": "1.2.0",
            "_view_count": null,
            "flex_flow": null,
            "width": null,
            "min_width": null,
            "border": null,
            "align_items": null,
            "bottom": null,
            "_model_module": "@jupyter-widgets/base",
            "top": null,
            "grid_column": null,
            "overflow_y": null,
            "overflow_x": null,
            "grid_auto_flow": null,
            "grid_area": null,
            "grid_template_columns": null,
            "flex": null,
            "_model_name": "LayoutModel",
            "justify_items": null,
            "grid_row": null,
            "max_height": null,
            "align_content": null,
            "visibility": null,
            "align_self": null,
            "height": null,
            "min_height": null,
            "padding": null,
            "grid_auto_rows": null,
            "grid_gap": null,
            "max_width": null,
            "order": null,
            "_view_module_version": "1.2.0",
            "grid_template_areas": null,
            "object_position": null,
            "object_fit": null,
            "grid_auto_columns": null,
            "margin": null,
            "display": null,
            "left": null
          }
        },
        "be3002fdcd66400aae70cef3b3914dd3": {
          "model_module": "@jupyter-widgets/controls",
          "model_name": "FloatProgressModel",
          "model_module_version": "1.5.0",
          "state": {
            "_view_name": "ProgressView",
            "style": "IPY_MODEL_6a7f1e42ce6442dfb734dcc3a11c4b9f",
            "_dom_classes": [],
            "description": "Downloading: 100%",
            "_model_name": "FloatProgressModel",
            "bar_style": "success",
            "max": 1042301,
            "_view_module": "@jupyter-widgets/controls",
            "_model_module_version": "1.5.0",
            "value": 1042301,
            "_view_count": null,
            "_view_module_version": "1.5.0",
            "orientation": "horizontal",
            "min": 0,
            "description_tooltip": null,
            "_model_module": "@jupyter-widgets/controls",
            "layout": "IPY_MODEL_59f8468e1a19428d9d3b654da810f16c"
          }
        },
        "e08647cb3a514483bc88286575c6a45d": {
          "model_module": "@jupyter-widgets/controls",
          "model_name": "HTMLModel",
          "model_module_version": "1.5.0",
          "state": {
            "_view_name": "HTMLView",
            "style": "IPY_MODEL_5d6af157d8394b49a13989ea0b94c259",
            "_dom_classes": [],
            "description": "",
            "_model_name": "HTMLModel",
            "placeholder": "​",
            "_view_module": "@jupyter-widgets/controls",
            "_model_module_version": "1.5.0",
            "value": " 1.04M/1.04M [00:00&lt;00:00, 3.83MB/s]",
            "_view_count": null,
            "_view_module_version": "1.5.0",
            "description_tooltip": null,
            "_model_module": "@jupyter-widgets/controls",
            "layout": "IPY_MODEL_7837751d148742e69e714135f738f839"
          }
        },
        "6a7f1e42ce6442dfb734dcc3a11c4b9f": {
          "model_module": "@jupyter-widgets/controls",
          "model_name": "ProgressStyleModel",
          "model_module_version": "1.5.0",
          "state": {
            "_view_name": "StyleView",
            "_model_name": "ProgressStyleModel",
            "description_width": "initial",
            "_view_module": "@jupyter-widgets/base",
            "_model_module_version": "1.5.0",
            "_view_count": null,
            "_view_module_version": "1.2.0",
            "bar_color": null,
            "_model_module": "@jupyter-widgets/controls"
          }
        },
        "59f8468e1a19428d9d3b654da810f16c": {
          "model_module": "@jupyter-widgets/base",
          "model_name": "LayoutModel",
          "model_module_version": "1.2.0",
          "state": {
            "_view_name": "LayoutView",
            "grid_template_rows": null,
            "right": null,
            "justify_content": null,
            "_view_module": "@jupyter-widgets/base",
            "overflow": null,
            "_model_module_version": "1.2.0",
            "_view_count": null,
            "flex_flow": null,
            "width": null,
            "min_width": null,
            "border": null,
            "align_items": null,
            "bottom": null,
            "_model_module": "@jupyter-widgets/base",
            "top": null,
            "grid_column": null,
            "overflow_y": null,
            "overflow_x": null,
            "grid_auto_flow": null,
            "grid_area": null,
            "grid_template_columns": null,
            "flex": null,
            "_model_name": "LayoutModel",
            "justify_items": null,
            "grid_row": null,
            "max_height": null,
            "align_content": null,
            "visibility": null,
            "align_self": null,
            "height": null,
            "min_height": null,
            "padding": null,
            "grid_auto_rows": null,
            "grid_gap": null,
            "max_width": null,
            "order": null,
            "_view_module_version": "1.2.0",
            "grid_template_areas": null,
            "object_position": null,
            "object_fit": null,
            "grid_auto_columns": null,
            "margin": null,
            "display": null,
            "left": null
          }
        },
        "5d6af157d8394b49a13989ea0b94c259": {
          "model_module": "@jupyter-widgets/controls",
          "model_name": "DescriptionStyleModel",
          "model_module_version": "1.5.0",
          "state": {
            "_view_name": "StyleView",
            "_model_name": "DescriptionStyleModel",
            "description_width": "",
            "_view_module": "@jupyter-widgets/base",
            "_model_module_version": "1.5.0",
            "_view_count": null,
            "_view_module_version": "1.2.0",
            "_model_module": "@jupyter-widgets/controls"
          }
        },
        "7837751d148742e69e714135f738f839": {
          "model_module": "@jupyter-widgets/base",
          "model_name": "LayoutModel",
          "model_module_version": "1.2.0",
          "state": {
            "_view_name": "LayoutView",
            "grid_template_rows": null,
            "right": null,
            "justify_content": null,
            "_view_module": "@jupyter-widgets/base",
            "overflow": null,
            "_model_module_version": "1.2.0",
            "_view_count": null,
            "flex_flow": null,
            "width": null,
            "min_width": null,
            "border": null,
            "align_items": null,
            "bottom": null,
            "_model_module": "@jupyter-widgets/base",
            "top": null,
            "grid_column": null,
            "overflow_y": null,
            "overflow_x": null,
            "grid_auto_flow": null,
            "grid_area": null,
            "grid_template_columns": null,
            "flex": null,
            "_model_name": "LayoutModel",
            "justify_items": null,
            "grid_row": null,
            "max_height": null,
            "align_content": null,
            "visibility": null,
            "align_self": null,
            "height": null,
            "min_height": null,
            "padding": null,
            "grid_auto_rows": null,
            "grid_gap": null,
            "max_width": null,
            "order": null,
            "_view_module_version": "1.2.0",
            "grid_template_areas": null,
            "object_position": null,
            "object_fit": null,
            "grid_auto_columns": null,
            "margin": null,
            "display": null,
            "left": null
          }
        },
        "8e8abb121850459aa8eaa082cd157bfe": {
          "model_module": "@jupyter-widgets/controls",
          "model_name": "HBoxModel",
          "model_module_version": "1.5.0",
          "state": {
            "_view_name": "HBoxView",
            "_dom_classes": [],
            "_model_name": "HBoxModel",
            "_view_module": "@jupyter-widgets/controls",
            "_model_module_version": "1.5.0",
            "_view_count": null,
            "_view_module_version": "1.5.0",
            "box_style": "",
            "layout": "IPY_MODEL_4630566271674da794c88275c06addc2",
            "_model_module": "@jupyter-widgets/controls",
            "children": [
              "IPY_MODEL_f4b5229fba9349ee9cf9ab98cb6cb490",
              "IPY_MODEL_c0067223a0174292ab5a2c7584c0c80d"
            ]
          }
        },
        "4630566271674da794c88275c06addc2": {
          "model_module": "@jupyter-widgets/base",
          "model_name": "LayoutModel",
          "model_module_version": "1.2.0",
          "state": {
            "_view_name": "LayoutView",
            "grid_template_rows": null,
            "right": null,
            "justify_content": null,
            "_view_module": "@jupyter-widgets/base",
            "overflow": null,
            "_model_module_version": "1.2.0",
            "_view_count": null,
            "flex_flow": null,
            "width": null,
            "min_width": null,
            "border": null,
            "align_items": null,
            "bottom": null,
            "_model_module": "@jupyter-widgets/base",
            "top": null,
            "grid_column": null,
            "overflow_y": null,
            "overflow_x": null,
            "grid_auto_flow": null,
            "grid_area": null,
            "grid_template_columns": null,
            "flex": null,
            "_model_name": "LayoutModel",
            "justify_items": null,
            "grid_row": null,
            "max_height": null,
            "align_content": null,
            "visibility": null,
            "align_self": null,
            "height": null,
            "min_height": null,
            "padding": null,
            "grid_auto_rows": null,
            "grid_gap": null,
            "max_width": null,
            "order": null,
            "_view_module_version": "1.2.0",
            "grid_template_areas": null,
            "object_position": null,
            "object_fit": null,
            "grid_auto_columns": null,
            "margin": null,
            "display": null,
            "left": null
          }
        },
        "f4b5229fba9349ee9cf9ab98cb6cb490": {
          "model_module": "@jupyter-widgets/controls",
          "model_name": "FloatProgressModel",
          "model_module_version": "1.5.0",
          "state": {
            "_view_name": "ProgressView",
            "style": "IPY_MODEL_6ea4b71e5cff4f90963920888c8215fa",
            "_dom_classes": [],
            "description": "Downloading: 100%",
            "_model_name": "FloatProgressModel",
            "bar_style": "success",
            "max": 456318,
            "_view_module": "@jupyter-widgets/controls",
            "_model_module_version": "1.5.0",
            "value": 456318,
            "_view_count": null,
            "_view_module_version": "1.5.0",
            "orientation": "horizontal",
            "min": 0,
            "description_tooltip": null,
            "_model_module": "@jupyter-widgets/controls",
            "layout": "IPY_MODEL_52328ba8cb0b4c708f0bf73d9df4e8ed"
          }
        },
        "c0067223a0174292ab5a2c7584c0c80d": {
          "model_module": "@jupyter-widgets/controls",
          "model_name": "HTMLModel",
          "model_module_version": "1.5.0",
          "state": {
            "_view_name": "HTMLView",
            "style": "IPY_MODEL_42898a54ebbc439ebb46d29fced272bb",
            "_dom_classes": [],
            "description": "",
            "_model_name": "HTMLModel",
            "placeholder": "​",
            "_view_module": "@jupyter-widgets/controls",
            "_model_module_version": "1.5.0",
            "value": " 456k/456k [00:00&lt;00:00, 3.24MB/s]",
            "_view_count": null,
            "_view_module_version": "1.5.0",
            "description_tooltip": null,
            "_model_module": "@jupyter-widgets/controls",
            "layout": "IPY_MODEL_062e924bc505454eac89dd98af73efdf"
          }
        },
        "6ea4b71e5cff4f90963920888c8215fa": {
          "model_module": "@jupyter-widgets/controls",
          "model_name": "ProgressStyleModel",
          "model_module_version": "1.5.0",
          "state": {
            "_view_name": "StyleView",
            "_model_name": "ProgressStyleModel",
            "description_width": "initial",
            "_view_module": "@jupyter-widgets/base",
            "_model_module_version": "1.5.0",
            "_view_count": null,
            "_view_module_version": "1.2.0",
            "bar_color": null,
            "_model_module": "@jupyter-widgets/controls"
          }
        },
        "52328ba8cb0b4c708f0bf73d9df4e8ed": {
          "model_module": "@jupyter-widgets/base",
          "model_name": "LayoutModel",
          "model_module_version": "1.2.0",
          "state": {
            "_view_name": "LayoutView",
            "grid_template_rows": null,
            "right": null,
            "justify_content": null,
            "_view_module": "@jupyter-widgets/base",
            "overflow": null,
            "_model_module_version": "1.2.0",
            "_view_count": null,
            "flex_flow": null,
            "width": null,
            "min_width": null,
            "border": null,
            "align_items": null,
            "bottom": null,
            "_model_module": "@jupyter-widgets/base",
            "top": null,
            "grid_column": null,
            "overflow_y": null,
            "overflow_x": null,
            "grid_auto_flow": null,
            "grid_area": null,
            "grid_template_columns": null,
            "flex": null,
            "_model_name": "LayoutModel",
            "justify_items": null,
            "grid_row": null,
            "max_height": null,
            "align_content": null,
            "visibility": null,
            "align_self": null,
            "height": null,
            "min_height": null,
            "padding": null,
            "grid_auto_rows": null,
            "grid_gap": null,
            "max_width": null,
            "order": null,
            "_view_module_version": "1.2.0",
            "grid_template_areas": null,
            "object_position": null,
            "object_fit": null,
            "grid_auto_columns": null,
            "margin": null,
            "display": null,
            "left": null
          }
        },
        "42898a54ebbc439ebb46d29fced272bb": {
          "model_module": "@jupyter-widgets/controls",
          "model_name": "DescriptionStyleModel",
          "model_module_version": "1.5.0",
          "state": {
            "_view_name": "StyleView",
            "_model_name": "DescriptionStyleModel",
            "description_width": "",
            "_view_module": "@jupyter-widgets/base",
            "_model_module_version": "1.5.0",
            "_view_count": null,
            "_view_module_version": "1.2.0",
            "_model_module": "@jupyter-widgets/controls"
          }
        },
        "062e924bc505454eac89dd98af73efdf": {
          "model_module": "@jupyter-widgets/base",
          "model_name": "LayoutModel",
          "model_module_version": "1.2.0",
          "state": {
            "_view_name": "LayoutView",
            "grid_template_rows": null,
            "right": null,
            "justify_content": null,
            "_view_module": "@jupyter-widgets/base",
            "overflow": null,
            "_model_module_version": "1.2.0",
            "_view_count": null,
            "flex_flow": null,
            "width": null,
            "min_width": null,
            "border": null,
            "align_items": null,
            "bottom": null,
            "_model_module": "@jupyter-widgets/base",
            "top": null,
            "grid_column": null,
            "overflow_y": null,
            "overflow_x": null,
            "grid_auto_flow": null,
            "grid_area": null,
            "grid_template_columns": null,
            "flex": null,
            "_model_name": "LayoutModel",
            "justify_items": null,
            "grid_row": null,
            "max_height": null,
            "align_content": null,
            "visibility": null,
            "align_self": null,
            "height": null,
            "min_height": null,
            "padding": null,
            "grid_auto_rows": null,
            "grid_gap": null,
            "max_width": null,
            "order": null,
            "_view_module_version": "1.2.0",
            "grid_template_areas": null,
            "object_position": null,
            "object_fit": null,
            "grid_auto_columns": null,
            "margin": null,
            "display": null,
            "left": null
          }
        },
        "e236b39d7af941b78408888128728ebf": {
          "model_module": "@jupyter-widgets/controls",
          "model_name": "HBoxModel",
          "model_module_version": "1.5.0",
          "state": {
            "_view_name": "HBoxView",
            "_dom_classes": [],
            "_model_name": "HBoxModel",
            "_view_module": "@jupyter-widgets/controls",
            "_model_module_version": "1.5.0",
            "_view_count": null,
            "_view_module_version": "1.5.0",
            "box_style": "",
            "layout": "IPY_MODEL_62655145403c4bc0a14fed9e930b7e2e",
            "_model_module": "@jupyter-widgets/controls",
            "children": [
              "IPY_MODEL_abed9b61365a45f7b95bad2ca1b217ad",
              "IPY_MODEL_c709925b21b04b3b93042a52c9a6f501"
            ]
          }
        },
        "62655145403c4bc0a14fed9e930b7e2e": {
          "model_module": "@jupyter-widgets/base",
          "model_name": "LayoutModel",
          "model_module_version": "1.2.0",
          "state": {
            "_view_name": "LayoutView",
            "grid_template_rows": null,
            "right": null,
            "justify_content": null,
            "_view_module": "@jupyter-widgets/base",
            "overflow": null,
            "_model_module_version": "1.2.0",
            "_view_count": null,
            "flex_flow": null,
            "width": null,
            "min_width": null,
            "border": null,
            "align_items": null,
            "bottom": null,
            "_model_module": "@jupyter-widgets/base",
            "top": null,
            "grid_column": null,
            "overflow_y": null,
            "overflow_x": null,
            "grid_auto_flow": null,
            "grid_area": null,
            "grid_template_columns": null,
            "flex": null,
            "_model_name": "LayoutModel",
            "justify_items": null,
            "grid_row": null,
            "max_height": null,
            "align_content": null,
            "visibility": null,
            "align_self": null,
            "height": null,
            "min_height": null,
            "padding": null,
            "grid_auto_rows": null,
            "grid_gap": null,
            "max_width": null,
            "order": null,
            "_view_module_version": "1.2.0",
            "grid_template_areas": null,
            "object_position": null,
            "object_fit": null,
            "grid_auto_columns": null,
            "margin": null,
            "display": null,
            "left": null
          }
        },
        "abed9b61365a45f7b95bad2ca1b217ad": {
          "model_module": "@jupyter-widgets/controls",
          "model_name": "FloatProgressModel",
          "model_module_version": "1.5.0",
          "state": {
            "_view_name": "ProgressView",
            "style": "IPY_MODEL_a9fdc3e0ee6847ed8ee6ee6d543a59f3",
            "_dom_classes": [],
            "description": "Downloading: 100%",
            "_model_name": "FloatProgressModel",
            "bar_style": "success",
            "max": 1355256,
            "_view_module": "@jupyter-widgets/controls",
            "_model_module_version": "1.5.0",
            "value": 1355256,
            "_view_count": null,
            "_view_module_version": "1.5.0",
            "orientation": "horizontal",
            "min": 0,
            "description_tooltip": null,
            "_model_module": "@jupyter-widgets/controls",
            "layout": "IPY_MODEL_2c6f4150e55541ee964dd97a8f894aa1"
          }
        },
        "c709925b21b04b3b93042a52c9a6f501": {
          "model_module": "@jupyter-widgets/controls",
          "model_name": "HTMLModel",
          "model_module_version": "1.5.0",
          "state": {
            "_view_name": "HTMLView",
            "style": "IPY_MODEL_54a0a0bc617c4fd683d991fc202d386b",
            "_dom_classes": [],
            "description": "",
            "_model_name": "HTMLModel",
            "placeholder": "​",
            "_view_module": "@jupyter-widgets/controls",
            "_model_module_version": "1.5.0",
            "value": " 1.36M/1.36M [01:00&lt;00:00, 22.4kB/s]",
            "_view_count": null,
            "_view_module_version": "1.5.0",
            "description_tooltip": null,
            "_model_module": "@jupyter-widgets/controls",
            "layout": "IPY_MODEL_8908be9e6bee4e588ffb0749cb80a3eb"
          }
        },
        "a9fdc3e0ee6847ed8ee6ee6d543a59f3": {
          "model_module": "@jupyter-widgets/controls",
          "model_name": "ProgressStyleModel",
          "model_module_version": "1.5.0",
          "state": {
            "_view_name": "StyleView",
            "_model_name": "ProgressStyleModel",
            "description_width": "initial",
            "_view_module": "@jupyter-widgets/base",
            "_model_module_version": "1.5.0",
            "_view_count": null,
            "_view_module_version": "1.2.0",
            "bar_color": null,
            "_model_module": "@jupyter-widgets/controls"
          }
        },
        "2c6f4150e55541ee964dd97a8f894aa1": {
          "model_module": "@jupyter-widgets/base",
          "model_name": "LayoutModel",
          "model_module_version": "1.2.0",
          "state": {
            "_view_name": "LayoutView",
            "grid_template_rows": null,
            "right": null,
            "justify_content": null,
            "_view_module": "@jupyter-widgets/base",
            "overflow": null,
            "_model_module_version": "1.2.0",
            "_view_count": null,
            "flex_flow": null,
            "width": null,
            "min_width": null,
            "border": null,
            "align_items": null,
            "bottom": null,
            "_model_module": "@jupyter-widgets/base",
            "top": null,
            "grid_column": null,
            "overflow_y": null,
            "overflow_x": null,
            "grid_auto_flow": null,
            "grid_area": null,
            "grid_template_columns": null,
            "flex": null,
            "_model_name": "LayoutModel",
            "justify_items": null,
            "grid_row": null,
            "max_height": null,
            "align_content": null,
            "visibility": null,
            "align_self": null,
            "height": null,
            "min_height": null,
            "padding": null,
            "grid_auto_rows": null,
            "grid_gap": null,
            "max_width": null,
            "order": null,
            "_view_module_version": "1.2.0",
            "grid_template_areas": null,
            "object_position": null,
            "object_fit": null,
            "grid_auto_columns": null,
            "margin": null,
            "display": null,
            "left": null
          }
        },
        "54a0a0bc617c4fd683d991fc202d386b": {
          "model_module": "@jupyter-widgets/controls",
          "model_name": "DescriptionStyleModel",
          "model_module_version": "1.5.0",
          "state": {
            "_view_name": "StyleView",
            "_model_name": "DescriptionStyleModel",
            "description_width": "",
            "_view_module": "@jupyter-widgets/base",
            "_model_module_version": "1.5.0",
            "_view_count": null,
            "_view_module_version": "1.2.0",
            "_model_module": "@jupyter-widgets/controls"
          }
        },
        "8908be9e6bee4e588ffb0749cb80a3eb": {
          "model_module": "@jupyter-widgets/base",
          "model_name": "LayoutModel",
          "model_module_version": "1.2.0",
          "state": {
            "_view_name": "LayoutView",
            "grid_template_rows": null,
            "right": null,
            "justify_content": null,
            "_view_module": "@jupyter-widgets/base",
            "overflow": null,
            "_model_module_version": "1.2.0",
            "_view_count": null,
            "flex_flow": null,
            "width": null,
            "min_width": null,
            "border": null,
            "align_items": null,
            "bottom": null,
            "_model_module": "@jupyter-widgets/base",
            "top": null,
            "grid_column": null,
            "overflow_y": null,
            "overflow_x": null,
            "grid_auto_flow": null,
            "grid_area": null,
            "grid_template_columns": null,
            "flex": null,
            "_model_name": "LayoutModel",
            "justify_items": null,
            "grid_row": null,
            "max_height": null,
            "align_content": null,
            "visibility": null,
            "align_self": null,
            "height": null,
            "min_height": null,
            "padding": null,
            "grid_auto_rows": null,
            "grid_gap": null,
            "max_width": null,
            "order": null,
            "_view_module_version": "1.2.0",
            "grid_template_areas": null,
            "object_position": null,
            "object_fit": null,
            "grid_auto_columns": null,
            "margin": null,
            "display": null,
            "left": null
          }
        },
        "fc1fe31de64946d4a5e25202cb04dae7": {
          "model_module": "@jupyter-widgets/controls",
          "model_name": "HBoxModel",
          "model_module_version": "1.5.0",
          "state": {
            "_view_name": "HBoxView",
            "_dom_classes": [],
            "_model_name": "HBoxModel",
            "_view_module": "@jupyter-widgets/controls",
            "_model_module_version": "1.5.0",
            "_view_count": null,
            "_view_module_version": "1.5.0",
            "box_style": "",
            "layout": "IPY_MODEL_7e2efdc951594f7aacc4cf2353d30aa0",
            "_model_module": "@jupyter-widgets/controls",
            "children": [
              "IPY_MODEL_760249091da544c6ba9c7b2b11ebdf1a",
              "IPY_MODEL_cb7ff78e992b44f99cba4998966f27a2"
            ]
          }
        },
        "7e2efdc951594f7aacc4cf2353d30aa0": {
          "model_module": "@jupyter-widgets/base",
          "model_name": "LayoutModel",
          "model_module_version": "1.2.0",
          "state": {
            "_view_name": "LayoutView",
            "grid_template_rows": null,
            "right": null,
            "justify_content": null,
            "_view_module": "@jupyter-widgets/base",
            "overflow": null,
            "_model_module_version": "1.2.0",
            "_view_count": null,
            "flex_flow": null,
            "width": null,
            "min_width": null,
            "border": null,
            "align_items": null,
            "bottom": null,
            "_model_module": "@jupyter-widgets/base",
            "top": null,
            "grid_column": null,
            "overflow_y": null,
            "overflow_x": null,
            "grid_auto_flow": null,
            "grid_area": null,
            "grid_template_columns": null,
            "flex": null,
            "_model_name": "LayoutModel",
            "justify_items": null,
            "grid_row": null,
            "max_height": null,
            "align_content": null,
            "visibility": null,
            "align_self": null,
            "height": null,
            "min_height": null,
            "padding": null,
            "grid_auto_rows": null,
            "grid_gap": null,
            "max_width": null,
            "order": null,
            "_view_module_version": "1.2.0",
            "grid_template_areas": null,
            "object_position": null,
            "object_fit": null,
            "grid_auto_columns": null,
            "margin": null,
            "display": null,
            "left": null
          }
        },
        "760249091da544c6ba9c7b2b11ebdf1a": {
          "model_module": "@jupyter-widgets/controls",
          "model_name": "FloatProgressModel",
          "model_module_version": "1.5.0",
          "state": {
            "_view_name": "ProgressView",
            "style": "IPY_MODEL_60f76305c899475c9cbfdf4e8dfedab7",
            "_dom_classes": [],
            "description": "Downloading: 100%",
            "_model_name": "FloatProgressModel",
            "bar_style": "success",
            "max": 548118077,
            "_view_module": "@jupyter-widgets/controls",
            "_model_module_version": "1.5.0",
            "value": 548118077,
            "_view_count": null,
            "_view_module_version": "1.5.0",
            "orientation": "horizontal",
            "min": 0,
            "description_tooltip": null,
            "_model_module": "@jupyter-widgets/controls",
            "layout": "IPY_MODEL_40712783f789429ab7e9fb62c54fa8f4"
          }
        },
        "cb7ff78e992b44f99cba4998966f27a2": {
          "model_module": "@jupyter-widgets/controls",
          "model_name": "HTMLModel",
          "model_module_version": "1.5.0",
          "state": {
            "_view_name": "HTMLView",
            "style": "IPY_MODEL_ab035344ff71450eb022b54ce30ca279",
            "_dom_classes": [],
            "description": "",
            "_model_name": "HTMLModel",
            "placeholder": "​",
            "_view_module": "@jupyter-widgets/controls",
            "_model_module_version": "1.5.0",
            "value": " 548M/548M [00:11&lt;00:00, 47.9MB/s]",
            "_view_count": null,
            "_view_module_version": "1.5.0",
            "description_tooltip": null,
            "_model_module": "@jupyter-widgets/controls",
            "layout": "IPY_MODEL_9c63f96d1cef48c4a99a0efeb7a7f5dc"
          }
        },
        "60f76305c899475c9cbfdf4e8dfedab7": {
          "model_module": "@jupyter-widgets/controls",
          "model_name": "ProgressStyleModel",
          "model_module_version": "1.5.0",
          "state": {
            "_view_name": "StyleView",
            "_model_name": "ProgressStyleModel",
            "description_width": "initial",
            "_view_module": "@jupyter-widgets/base",
            "_model_module_version": "1.5.0",
            "_view_count": null,
            "_view_module_version": "1.2.0",
            "bar_color": null,
            "_model_module": "@jupyter-widgets/controls"
          }
        },
        "40712783f789429ab7e9fb62c54fa8f4": {
          "model_module": "@jupyter-widgets/base",
          "model_name": "LayoutModel",
          "model_module_version": "1.2.0",
          "state": {
            "_view_name": "LayoutView",
            "grid_template_rows": null,
            "right": null,
            "justify_content": null,
            "_view_module": "@jupyter-widgets/base",
            "overflow": null,
            "_model_module_version": "1.2.0",
            "_view_count": null,
            "flex_flow": null,
            "width": null,
            "min_width": null,
            "border": null,
            "align_items": null,
            "bottom": null,
            "_model_module": "@jupyter-widgets/base",
            "top": null,
            "grid_column": null,
            "overflow_y": null,
            "overflow_x": null,
            "grid_auto_flow": null,
            "grid_area": null,
            "grid_template_columns": null,
            "flex": null,
            "_model_name": "LayoutModel",
            "justify_items": null,
            "grid_row": null,
            "max_height": null,
            "align_content": null,
            "visibility": null,
            "align_self": null,
            "height": null,
            "min_height": null,
            "padding": null,
            "grid_auto_rows": null,
            "grid_gap": null,
            "max_width": null,
            "order": null,
            "_view_module_version": "1.2.0",
            "grid_template_areas": null,
            "object_position": null,
            "object_fit": null,
            "grid_auto_columns": null,
            "margin": null,
            "display": null,
            "left": null
          }
        },
        "ab035344ff71450eb022b54ce30ca279": {
          "model_module": "@jupyter-widgets/controls",
          "model_name": "DescriptionStyleModel",
          "model_module_version": "1.5.0",
          "state": {
            "_view_name": "StyleView",
            "_model_name": "DescriptionStyleModel",
            "description_width": "",
            "_view_module": "@jupyter-widgets/base",
            "_model_module_version": "1.5.0",
            "_view_count": null,
            "_view_module_version": "1.2.0",
            "_model_module": "@jupyter-widgets/controls"
          }
        },
        "9c63f96d1cef48c4a99a0efeb7a7f5dc": {
          "model_module": "@jupyter-widgets/base",
          "model_name": "LayoutModel",
          "model_module_version": "1.2.0",
          "state": {
            "_view_name": "LayoutView",
            "grid_template_rows": null,
            "right": null,
            "justify_content": null,
            "_view_module": "@jupyter-widgets/base",
            "overflow": null,
            "_model_module_version": "1.2.0",
            "_view_count": null,
            "flex_flow": null,
            "width": null,
            "min_width": null,
            "border": null,
            "align_items": null,
            "bottom": null,
            "_model_module": "@jupyter-widgets/base",
            "top": null,
            "grid_column": null,
            "overflow_y": null,
            "overflow_x": null,
            "grid_auto_flow": null,
            "grid_area": null,
            "grid_template_columns": null,
            "flex": null,
            "_model_name": "LayoutModel",
            "justify_items": null,
            "grid_row": null,
            "max_height": null,
            "align_content": null,
            "visibility": null,
            "align_self": null,
            "height": null,
            "min_height": null,
            "padding": null,
            "grid_auto_rows": null,
            "grid_gap": null,
            "max_width": null,
            "order": null,
            "_view_module_version": "1.2.0",
            "grid_template_areas": null,
            "object_position": null,
            "object_fit": null,
            "grid_auto_columns": null,
            "margin": null,
            "display": null,
            "left": null
          }
        }
      }
    },
    "accelerator": "GPU"
  },
  "cells": [
    {
      "cell_type": "markdown",
      "metadata": {
        "id": "DVE4_KIQN9tE"
      },
      "source": [
        "<div align=\"left\">\n",
        "  <h1>GPT2</h1> <a name=\"0-bullet\"></a>\n",
        "</div>\n"
      ]
    },
    {
      "cell_type": "markdown",
      "metadata": {
        "id": "Q6Med6bOORDd"
      },
      "source": [
        "---"
      ]
    },
    {
      "cell_type": "code",
      "metadata": {
        "id": "7m0rEjp7Ex4G",
        "colab": {
          "base_uri": "https://localhost:8080/"
        },
        "outputId": "927f96f8-f151-4d5e-c5d2-12400e9405ae"
      },
      "source": [
        "# in order to run the notebook it is mandatory to install transformers\n",
        "!pip install transformers"
      ],
      "execution_count": null,
      "outputs": [
        {
          "output_type": "stream",
          "text": [
            "Collecting transformers\n",
            "\u001b[?25l  Downloading https://files.pythonhosted.org/packages/fd/1a/41c644c963249fd7f3836d926afa1e3f1cc234a1c40d80c5f03ad8f6f1b2/transformers-4.8.2-py3-none-any.whl (2.5MB)\n",
            "\u001b[K     |████████████████████████████████| 2.5MB 7.3MB/s \n",
            "\u001b[?25hCollecting huggingface-hub==0.0.12\n",
            "  Downloading https://files.pythonhosted.org/packages/2f/ee/97e253668fda9b17e968b3f97b2f8e53aa0127e8807d24a547687423fe0b/huggingface_hub-0.0.12-py3-none-any.whl\n",
            "Requirement already satisfied: numpy>=1.17 in /usr/local/lib/python3.7/dist-packages (from transformers) (1.19.5)\n",
            "Requirement already satisfied: tqdm>=4.27 in /usr/local/lib/python3.7/dist-packages (from transformers) (4.41.1)\n",
            "Requirement already satisfied: regex!=2019.12.17 in /usr/local/lib/python3.7/dist-packages (from transformers) (2019.12.20)\n",
            "Collecting sacremoses\n",
            "\u001b[?25l  Downloading https://files.pythonhosted.org/packages/75/ee/67241dc87f266093c533a2d4d3d69438e57d7a90abb216fa076e7d475d4a/sacremoses-0.0.45-py3-none-any.whl (895kB)\n",
            "\u001b[K     |████████████████████████████████| 901kB 50.9MB/s \n",
            "\u001b[?25hRequirement already satisfied: pyyaml in /usr/local/lib/python3.7/dist-packages (from transformers) (3.13)\n",
            "Requirement already satisfied: requests in /usr/local/lib/python3.7/dist-packages (from transformers) (2.23.0)\n",
            "Collecting tokenizers<0.11,>=0.10.1\n",
            "\u001b[?25l  Downloading https://files.pythonhosted.org/packages/d4/e2/df3543e8ffdab68f5acc73f613de9c2b155ac47f162e725dcac87c521c11/tokenizers-0.10.3-cp37-cp37m-manylinux_2_5_x86_64.manylinux1_x86_64.manylinux_2_12_x86_64.manylinux2010_x86_64.whl (3.3MB)\n",
            "\u001b[K     |████████████████████████████████| 3.3MB 48.6MB/s \n",
            "\u001b[?25hRequirement already satisfied: filelock in /usr/local/lib/python3.7/dist-packages (from transformers) (3.0.12)\n",
            "Requirement already satisfied: importlib-metadata; python_version < \"3.8\" in /usr/local/lib/python3.7/dist-packages (from transformers) (4.6.0)\n",
            "Requirement already satisfied: packaging in /usr/local/lib/python3.7/dist-packages (from transformers) (20.9)\n",
            "Requirement already satisfied: typing-extensions in /usr/local/lib/python3.7/dist-packages (from huggingface-hub==0.0.12->transformers) (3.7.4.3)\n",
            "Requirement already satisfied: six in /usr/local/lib/python3.7/dist-packages (from sacremoses->transformers) (1.15.0)\n",
            "Requirement already satisfied: click in /usr/local/lib/python3.7/dist-packages (from sacremoses->transformers) (7.1.2)\n",
            "Requirement already satisfied: joblib in /usr/local/lib/python3.7/dist-packages (from sacremoses->transformers) (1.0.1)\n",
            "Requirement already satisfied: certifi>=2017.4.17 in /usr/local/lib/python3.7/dist-packages (from requests->transformers) (2021.5.30)\n",
            "Requirement already satisfied: idna<3,>=2.5 in /usr/local/lib/python3.7/dist-packages (from requests->transformers) (2.10)\n",
            "Requirement already satisfied: urllib3!=1.25.0,!=1.25.1,<1.26,>=1.21.1 in /usr/local/lib/python3.7/dist-packages (from requests->transformers) (1.24.3)\n",
            "Requirement already satisfied: chardet<4,>=3.0.2 in /usr/local/lib/python3.7/dist-packages (from requests->transformers) (3.0.4)\n",
            "Requirement already satisfied: zipp>=0.5 in /usr/local/lib/python3.7/dist-packages (from importlib-metadata; python_version < \"3.8\"->transformers) (3.4.1)\n",
            "Requirement already satisfied: pyparsing>=2.0.2 in /usr/local/lib/python3.7/dist-packages (from packaging->transformers) (2.4.7)\n",
            "Installing collected packages: huggingface-hub, sacremoses, tokenizers, transformers\n",
            "Successfully installed huggingface-hub-0.0.12 sacremoses-0.0.45 tokenizers-0.10.3 transformers-4.8.2\n"
          ],
          "name": "stdout"
        }
      ]
    },
    {
      "cell_type": "code",
      "metadata": {
        "id": "BvAEHzZ5c3_1"
      },
      "source": [
        "# libraries that has been applied for the preparation, finetuning and generation of text\n",
        "\n",
        "import pandas as pd\n",
        "from sklearn.feature_extraction.text import TfidfVectorizer\n",
        "import transformers\n",
        "from transformers import GPT2LMHeadModel, GPT2Tokenizer\n",
        "import numpy as np\n",
        "import random\n",
        "import torch\n",
        "from torch.utils.data import Dataset, DataLoader\n",
        "from transformers import GPT2Tokenizer, GPT2LMHeadModel, AdamW, get_linear_schedule_with_warmup\n",
        "from tqdm import tqdm, trange\n",
        "import torch.nn.functional as F\n",
        "import csv"
      ],
      "execution_count": null,
      "outputs": []
    },
    {
      "cell_type": "markdown",
      "metadata": {
        "id": "Yd7iKbfRPNXs"
      },
      "source": [
        "# GPT2 Fine Tuning"
      ]
    },
    {
      "cell_type": "markdown",
      "metadata": {
        "id": "ugqA8sTyorE7"
      },
      "source": [
        "### Prepare data"
      ]
    },
    {
      "cell_type": "code",
      "metadata": {
        "colab": {
          "base_uri": "https://localhost:8080/"
        },
        "id": "F9xyoL_VX1ag",
        "outputId": "16fca841-a342-4202-b20c-5ac449a8b7bb"
      },
      "source": [
        "# mounting the Drive folder\n",
        "from google.colab import drive\n",
        "drive.mount('/content/drive')"
      ],
      "execution_count": null,
      "outputs": [
        {
          "output_type": "stream",
          "text": [
            "Mounted at /content/drive\n"
          ],
          "name": "stdout"
        }
      ]
    },
    {
      "cell_type": "code",
      "metadata": {
        "id": "VA0fsB0kkO3P"
      },
      "source": [
        "# loading the lyric dataset by taking english songs only\n",
        "lyrics = pd.read_csv('/content/drive/MyDrive/Text_Analytics/Data/lyrics-data.csv')\n",
        "lyrics = lyrics[lyrics['Idiom']=='ENGLISH']"
      ],
      "execution_count": null,
      "outputs": []
    },
    {
      "cell_type": "code",
      "metadata": {
        "id": "XwAtlcoelmzH"
      },
      "source": [
        "#Only keep popular artists, with genre Rock/Pop and popularity high enough\n",
        "artists = pd.read_csv('/content/drive/MyDrive/Text_Analytics/Data/artists-data.csv')\n",
        "\n",
        "artists = artists[(artists['Genre'].isin(['Rock'])) & (artists['Popularity']>5)]"
      ],
      "execution_count": null,
      "outputs": []
    },
    {
      "cell_type": "code",
      "metadata": {
        "id": "qSqrEXq-nbdf"
      },
      "source": [
        "# merge of the datasets\n",
        "df = lyrics.merge(artists[['Artist', 'Genre', 'Link']], left_on='ALink', right_on='Link', how='inner')"
      ],
      "execution_count": null,
      "outputs": []
    },
    {
      "cell_type": "code",
      "metadata": {
        "id": "jcPK_kr2oEs4"
      },
      "source": [
        "# dropping all the columns that we will not use for this task\n",
        "df = df.drop(columns=['ALink','SLink','Idiom','Link'])"
      ],
      "execution_count": null,
      "outputs": []
    },
    {
      "cell_type": "code",
      "metadata": {
        "id": "4OiRCSfLDHV-"
      },
      "source": [
        "# taking only the lyrics with less than 350 chars, this will simple the fine-tuning phase\n",
        "df = df[df['Lyric'].apply(lambda x: len(x.split(' ')) < 350)]"
      ],
      "execution_count": null,
      "outputs": []
    },
    {
      "cell_type": "code",
      "metadata": {
        "colab": {
          "base_uri": "https://localhost:8080/",
          "height": 204
        },
        "id": "Pt0dHgftPqu1",
        "outputId": "f044c700-2894-4452-edd8-227eb11a578e"
      },
      "source": [
        "df.head()"
      ],
      "execution_count": null,
      "outputs": [
        {
          "output_type": "execute_result",
          "data": {
            "text/html": [
              "<div>\n",
              "<style scoped>\n",
              "    .dataframe tbody tr th:only-of-type {\n",
              "        vertical-align: middle;\n",
              "    }\n",
              "\n",
              "    .dataframe tbody tr th {\n",
              "        vertical-align: top;\n",
              "    }\n",
              "\n",
              "    .dataframe thead th {\n",
              "        text-align: right;\n",
              "    }\n",
              "</style>\n",
              "<table border=\"1\" class=\"dataframe\">\n",
              "  <thead>\n",
              "    <tr style=\"text-align: right;\">\n",
              "      <th></th>\n",
              "      <th>SName</th>\n",
              "      <th>Lyric</th>\n",
              "      <th>Artist</th>\n",
              "      <th>Genre</th>\n",
              "    </tr>\n",
              "  </thead>\n",
              "  <tbody>\n",
              "    <tr>\n",
              "      <th>0</th>\n",
              "      <td>What's Up</td>\n",
              "      <td>Twenty-five years and my life is still. Trying...</td>\n",
              "      <td>4 Non Blondes</td>\n",
              "      <td>Rock</td>\n",
              "    </tr>\n",
              "    <tr>\n",
              "      <th>1</th>\n",
              "      <td>Spaceman</td>\n",
              "      <td>Starry night bring me down. Till I realize the...</td>\n",
              "      <td>4 Non Blondes</td>\n",
              "      <td>Rock</td>\n",
              "    </tr>\n",
              "    <tr>\n",
              "      <th>2</th>\n",
              "      <td>Pleasantly Blue</td>\n",
              "      <td>Every time you wake in the mornin'. And you st...</td>\n",
              "      <td>4 Non Blondes</td>\n",
              "      <td>Rock</td>\n",
              "    </tr>\n",
              "    <tr>\n",
              "      <th>3</th>\n",
              "      <td>Train</td>\n",
              "      <td>What ya gonna do child. When your thoughts are...</td>\n",
              "      <td>4 Non Blondes</td>\n",
              "      <td>Rock</td>\n",
              "    </tr>\n",
              "    <tr>\n",
              "      <th>4</th>\n",
              "      <td>Calling All The People</td>\n",
              "      <td>How can you tell, when your wellness is not we...</td>\n",
              "      <td>4 Non Blondes</td>\n",
              "      <td>Rock</td>\n",
              "    </tr>\n",
              "  </tbody>\n",
              "</table>\n",
              "</div>"
            ],
            "text/plain": [
              "                    SName  ... Genre\n",
              "0               What's Up  ...  Rock\n",
              "1                Spaceman  ...  Rock\n",
              "2         Pleasantly Blue  ...  Rock\n",
              "3                   Train  ...  Rock\n",
              "4  Calling All The People  ...  Rock\n",
              "\n",
              "[5 rows x 4 columns]"
            ]
          },
          "metadata": {
            "tags": []
          },
          "execution_count": 9
        }
      ]
    },
    {
      "cell_type": "markdown",
      "metadata": {
        "id": "gqNpDGm_JnFk"
      },
      "source": [
        "### Prepare the dataset"
      ]
    },
    {
      "cell_type": "code",
      "metadata": {
        "id": "V71yg83t6Tlt"
      },
      "source": [
        "# creation of a class to tokeninize and generate the dataset that will be used to fine tune the model\n",
        "class SongLyrics(Dataset):\n",
        "    \n",
        "    def __init__(self, control_code, truncate=False, gpt2_type=\"gpt2\", max_length=1024):\n",
        "\n",
        "        self.tokenizer = GPT2Tokenizer.from_pretrained(gpt2_type)\n",
        "        self.lyrics = []\n",
        "\n",
        "        for row in df['Lyric']:\n",
        "          self.lyrics.append(torch.tensor(\n",
        "                self.tokenizer.encode(f\"<|{control_code}|>{row[:max_length]}<|endoftext|>\")\n",
        "            ))\n",
        "                \n",
        "        if truncate:\n",
        "            self.lyrics = self.lyrics[:20000]\n",
        "        self.lyrics_count = len(self.lyrics)\n",
        "        \n",
        "    def __len__(self):\n",
        "        return self.lyrics_count\n",
        "\n",
        "    def __getitem__(self, item):\n",
        "        return self.lyrics[item]"
      ],
      "execution_count": null,
      "outputs": []
    },
    {
      "cell_type": "code",
      "metadata": {
        "id": "wauU2WYi92dp",
        "colab": {
          "base_uri": "https://localhost:8080/",
          "height": 201,
          "referenced_widgets": [
            "44b59a6071ea413e9da59d2ee8c5be65",
            "033bda7bb3af44c181a81cd0b59caf57",
            "fc34a10f25b9465bb81014dfbe5297c2",
            "c2fff0a43ba54717a46ad00c99162261",
            "9e0f03a451174503b6cd4c3a69acfb56",
            "0c32706267ed4bc2a52ade1e437cad26",
            "1badad637d3f45ba82ee6e2ba3c6c256",
            "c8783540abff4b7eb106481097c1ffec",
            "77f57b2478b746ed9ab32531756bb9fb",
            "95b5c0eefb454304990ad750393574c1",
            "cf4cfdece6204cdca110a6970160390d",
            "fe9a15488cfd49fb86aa65cf4e441344",
            "466d7b38be6845ba8ef1c8996716b299",
            "8c2f1f85ba684a93bdfa225a00dee0c7",
            "878bf3d177d148f194eae9678e0788dc",
            "6cab5930ced84be6bc17c30881123127",
            "f1d58147ea1d4aee83c742d76fd5870b",
            "289ee854970141e6952a69b14764a376",
            "985e24e1a014463da3797384bffd426e",
            "abae80404a1f40e78d536b7f6a0a9230",
            "0ac10bc9492f45c2941ce5ae52b7acca",
            "0941e6801326474f93a9537bebc7e1b7",
            "7cf9180e85214357bd3f8d4824c1b8b8",
            "e9538b69635b48529ce98ed677056e24"
          ]
        },
        "outputId": "9183444d-6301-48e6-8489-15f0fade722c"
      },
      "source": [
        "dataset = SongLyrics(df['Lyric'], truncate=True, gpt2_type=\"gpt2\")"
      ],
      "execution_count": null,
      "outputs": [
        {
          "output_type": "display_data",
          "data": {
            "application/vnd.jupyter.widget-view+json": {
              "model_id": "44b59a6071ea413e9da59d2ee8c5be65",
              "version_minor": 0,
              "version_major": 2
            },
            "text/plain": [
              "HBox(children=(FloatProgress(value=0.0, description='Downloading', max=1042301.0, style=ProgressStyle(descript…"
            ]
          },
          "metadata": {
            "tags": []
          }
        },
        {
          "output_type": "stream",
          "text": [
            "\n"
          ],
          "name": "stdout"
        },
        {
          "output_type": "display_data",
          "data": {
            "application/vnd.jupyter.widget-view+json": {
              "model_id": "77f57b2478b746ed9ab32531756bb9fb",
              "version_minor": 0,
              "version_major": 2
            },
            "text/plain": [
              "HBox(children=(FloatProgress(value=0.0, description='Downloading', max=456318.0, style=ProgressStyle(descripti…"
            ]
          },
          "metadata": {
            "tags": []
          }
        },
        {
          "output_type": "stream",
          "text": [
            "\n"
          ],
          "name": "stdout"
        },
        {
          "output_type": "display_data",
          "data": {
            "application/vnd.jupyter.widget-view+json": {
              "model_id": "f1d58147ea1d4aee83c742d76fd5870b",
              "version_minor": 0,
              "version_major": 2
            },
            "text/plain": [
              "HBox(children=(FloatProgress(value=0.0, description='Downloading', max=1355256.0, style=ProgressStyle(descript…"
            ]
          },
          "metadata": {
            "tags": []
          }
        },
        {
          "output_type": "stream",
          "text": [
            "\n"
          ],
          "name": "stdout"
        },
        {
          "output_type": "stream",
          "text": [
            "Token indices sequence length is longer than the specified maximum sequence length for this model (252536 > 1024). Running this sequence through the model will result in indexing errors\n"
          ],
          "name": "stderr"
        }
      ]
    },
    {
      "cell_type": "markdown",
      "metadata": {
        "id": "MwIRpL_5MnIY"
      },
      "source": [
        "### Prepare training"
      ]
    },
    {
      "cell_type": "code",
      "metadata": {
        "id": "3fPgwmaNFTib",
        "colab": {
          "base_uri": "https://localhost:8080/",
          "height": 262,
          "referenced_widgets": [
            "108aafbdd4c341bea638aea9dc297410",
            "ca658e47392d4b6d89e162feb0d51e48",
            "5015684dadbd494ba4b2e76a6cf722d7",
            "f094b39adbe14180b89979e07ce93e61",
            "48dce15d533542c28f4710cee81d915b",
            "750f56f0b7a54df7ad98415bca8e2305",
            "f19084e542324204bb8c023e513c96b8",
            "6b0054652fce491f8c348b7d7d8ea35f",
            "1331fb76803f4b599187f66dc964302c",
            "353b819c332d4245bee285fa7ab34abd",
            "0f1513b2266f486e940df1ea98c0a190",
            "f56f4f5af41e48eb8062ffe6b0b134c4",
            "2530e00a746045a6a07ba0e00ce75c52",
            "997d6ddb41e44a0db7ea460f37b3c7be",
            "0e4574d9ecef4ed1a9741051f9d36c46",
            "4e797b011b9a468ca435824e66cb5a21",
            "c3a982a80baa4c1c9b14387a5e750029",
            "05d4267810d94171b5eb5366df80e3e6",
            "0d03959ca71f463aac14cc0f1d917956",
            "8d7d7006c43647feb0e460a2c4524178",
            "686b00b79ec544cb8a0dcb58ddbb5ee1",
            "8d8b0e0142b9483db6e96588009c352e",
            "bc9e3a5368a24af2a574bbe2cd36bd99",
            "668565d6b04c488980ac170e4332adf3",
            "726e86b7450d4ed4ac7afba3f33cbbdf",
            "1c4c39fb7be6463380362fe3d8037860",
            "ea25d1bfe83f4083bbca14b18f1ddb85",
            "ed95378dc6e44728871d270b4e9da8a5",
            "d95350b548e446d7aa4ae351266d1abf",
            "337fae8fab1d4c82a1501553cd830101",
            "6903837c7b1f446a89747c0b5b74246e",
            "affff42fd4294af1ac85bd316fa73ded",
            "eec8414ca5d64ccca7a02fc9f1b9113d",
            "8163dd29ca1047cd91efd466d829ce2b",
            "88480fc1e87b4e96a88447fc235275b6",
            "69a0bb101b424c159a48c9c50a60a821",
            "b4d61369be4b44c59d804d5751956cca",
            "4ad8c12611134e2388ac95e25855f396",
            "86e67ec8ee8640329be478f08d8d8b17",
            "d06cd2cb833b489ba1c9ca1a107125f5"
          ]
        },
        "outputId": "581ac5b3-c75b-48e9-f324-1dd55044ccd2"
      },
      "source": [
        "# loading the tokeninizer and the pretrained model\n",
        "tokenizer = GPT2Tokenizer.from_pretrained('gpt2')\n",
        "model = GPT2LMHeadModel.from_pretrained('gpt2')"
      ],
      "execution_count": null,
      "outputs": [
        {
          "output_type": "display_data",
          "data": {
            "application/vnd.jupyter.widget-view+json": {
              "model_id": "108aafbdd4c341bea638aea9dc297410",
              "version_minor": 0,
              "version_major": 2
            },
            "text/plain": [
              "HBox(children=(FloatProgress(value=0.0, description='Downloading', max=1042301.0, style=ProgressStyle(descript…"
            ]
          },
          "metadata": {
            "tags": []
          }
        },
        {
          "output_type": "stream",
          "text": [
            "\n"
          ],
          "name": "stdout"
        },
        {
          "output_type": "display_data",
          "data": {
            "application/vnd.jupyter.widget-view+json": {
              "model_id": "1331fb76803f4b599187f66dc964302c",
              "version_minor": 0,
              "version_major": 2
            },
            "text/plain": [
              "HBox(children=(FloatProgress(value=0.0, description='Downloading', max=456318.0, style=ProgressStyle(descripti…"
            ]
          },
          "metadata": {
            "tags": []
          }
        },
        {
          "output_type": "stream",
          "text": [
            "\n"
          ],
          "name": "stdout"
        },
        {
          "output_type": "display_data",
          "data": {
            "application/vnd.jupyter.widget-view+json": {
              "model_id": "c3a982a80baa4c1c9b14387a5e750029",
              "version_minor": 0,
              "version_major": 2
            },
            "text/plain": [
              "HBox(children=(FloatProgress(value=0.0, description='Downloading', max=1355256.0, style=ProgressStyle(descript…"
            ]
          },
          "metadata": {
            "tags": []
          }
        },
        {
          "output_type": "stream",
          "text": [
            "\n"
          ],
          "name": "stdout"
        },
        {
          "output_type": "display_data",
          "data": {
            "application/vnd.jupyter.widget-view+json": {
              "model_id": "726e86b7450d4ed4ac7afba3f33cbbdf",
              "version_minor": 0,
              "version_major": 2
            },
            "text/plain": [
              "HBox(children=(FloatProgress(value=0.0, description='Downloading', max=665.0, style=ProgressStyle(description_…"
            ]
          },
          "metadata": {
            "tags": []
          }
        },
        {
          "output_type": "stream",
          "text": [
            "\n"
          ],
          "name": "stdout"
        },
        {
          "output_type": "display_data",
          "data": {
            "application/vnd.jupyter.widget-view+json": {
              "model_id": "eec8414ca5d64ccca7a02fc9f1b9113d",
              "version_minor": 0,
              "version_major": 2
            },
            "text/plain": [
              "HBox(children=(FloatProgress(value=0.0, description='Downloading', max=548118077.0, style=ProgressStyle(descri…"
            ]
          },
          "metadata": {
            "tags": []
          }
        },
        {
          "output_type": "stream",
          "text": [
            "\n"
          ],
          "name": "stdout"
        }
      ]
    },
    {
      "cell_type": "code",
      "metadata": {
        "id": "Maf_wuBuJl2n"
      },
      "source": [
        "#Accumulated batch size (since GPT2 is so big)\n",
        "def pack_tensor(new_tensor, packed_tensor, max_seq_len):\n",
        "    if packed_tensor is None:\n",
        "        return new_tensor, True, None\n",
        "    if new_tensor.size()[1] + packed_tensor.size()[1] > max_seq_len:\n",
        "        return packed_tensor, False, new_tensor\n",
        "    else:\n",
        "        packed_tensor = torch.cat([new_tensor, packed_tensor[:, 1:]], dim=1)\n",
        "        return packed_tensor, True, None"
      ],
      "execution_count": null,
      "outputs": []
    },
    {
      "cell_type": "code",
      "metadata": {
        "id": "65ZWYy8EJl0D"
      },
      "source": [
        "# function used for the fine-tuning phase \n",
        "def train(\n",
        "    dataset, model, tokenizer,\n",
        "    batch_size=128, epochs=5, lr=2e-5,\n",
        "    max_seq_len=500, warmup_steps=200,\n",
        "    gpt2_type=\"gpt2\", output_dir=\".\", output_prefix=\"wreckgar\",\n",
        "    test_mode=False,save_model_on_epoch=False,\n",
        "):\n",
        "\n",
        "    acc_steps = 100\n",
        "    device=torch.device(\"cuda\")\n",
        "    model = model.cuda()\n",
        "    model.train()\n",
        "\n",
        "    optimizer = AdamW(model.parameters(), lr=lr)\n",
        "    scheduler = get_linear_schedule_with_warmup(\n",
        "        optimizer, num_warmup_steps=warmup_steps, num_training_steps=-1\n",
        "    )\n",
        "\n",
        "    train_dataloader = DataLoader(dataset, batch_size=1, shuffle=True)\n",
        "    loss=0\n",
        "    accumulating_batch_count = 0\n",
        "    input_tensor = None\n",
        "\n",
        "    for epoch in range(epochs):\n",
        "\n",
        "        print(f\"Training epoch {epoch}\")\n",
        "        print(loss)\n",
        "        for idx, entry in tqdm(enumerate(train_dataloader)):\n",
        "            (input_tensor, carry_on, remainder) = pack_tensor(entry, input_tensor, 768)\n",
        "\n",
        "            if carry_on and idx != len(train_dataloader) - 1:\n",
        "                continue\n",
        "\n",
        "            input_tensor = input_tensor.to(device)\n",
        "            outputs = model(input_tensor, labels=input_tensor)\n",
        "            loss = outputs[0]\n",
        "            loss.backward()\n",
        "\n",
        "            if (accumulating_batch_count % batch_size) == 0:\n",
        "                optimizer.step()\n",
        "                scheduler.step()\n",
        "                optimizer.zero_grad()\n",
        "                model.zero_grad()\n",
        "\n",
        "            accumulating_batch_count += 1\n",
        "            input_tensor = None\n",
        "        if save_model_on_epoch:\n",
        "            torch.save(\n",
        "                model.state_dict(),\n",
        "                os.path.join(output_dir, f\"{output_prefix}-{epoch}.pt\"),\n",
        "            )\n",
        "    return model"
      ],
      "execution_count": null,
      "outputs": []
    },
    {
      "cell_type": "code",
      "metadata": {
        "id": "5CHF85gdD44D"
      },
      "source": [
        "#Save the model to a pkl or something so it can be reused later on\n",
        "torch.save(model, '/content/drive/MyDrive/Text_Analytics/model_rock.pt')"
      ],
      "execution_count": null,
      "outputs": []
    },
    {
      "cell_type": "markdown",
      "metadata": {
        "id": "LIXXMDBONZtR"
      },
      "source": [
        "### Training"
      ]
    },
    {
      "cell_type": "code",
      "metadata": {
        "colab": {
          "base_uri": "https://localhost:8080/"
        },
        "id": "qY7dh37IvscH",
        "outputId": "0907c616-b23f-4f1a-b0ed-44651f804662"
      },
      "source": [
        "#Train the model on the specific data we have\n",
        "model = train(dataset, model, tokenizer)"
      ],
      "execution_count": null,
      "outputs": [
        {
          "output_type": "stream",
          "text": [
            "\r0it [00:00, ?it/s]"
          ],
          "name": "stderr"
        },
        {
          "output_type": "stream",
          "text": [
            "Training epoch 0\n",
            "0\n"
          ],
          "name": "stdout"
        },
        {
          "output_type": "stream",
          "text": [
            "12000it [18:00, 11.11it/s]\n",
            "0it [00:00, ?it/s]"
          ],
          "name": "stderr"
        },
        {
          "output_type": "stream",
          "text": [
            "Training epoch 1\n",
            "tensor(1.3729, device='cuda:0', grad_fn=<NllLossBackward>)\n"
          ],
          "name": "stdout"
        },
        {
          "output_type": "stream",
          "text": [
            "12000it [18:07, 11.03it/s]\n",
            "0it [00:00, ?it/s]"
          ],
          "name": "stderr"
        },
        {
          "output_type": "stream",
          "text": [
            "Training epoch 2\n",
            "tensor(1.9431, device='cuda:0', grad_fn=<NllLossBackward>)\n"
          ],
          "name": "stdout"
        },
        {
          "output_type": "stream",
          "text": [
            "12000it [18:08, 11.02it/s]\n",
            "0it [00:00, ?it/s]"
          ],
          "name": "stderr"
        },
        {
          "output_type": "stream",
          "text": [
            "Training epoch 3\n",
            "tensor(1.4939, device='cuda:0', grad_fn=<NllLossBackward>)\n"
          ],
          "name": "stdout"
        },
        {
          "output_type": "stream",
          "text": [
            "12000it [18:04, 11.06it/s]\n",
            "0it [00:00, ?it/s]"
          ],
          "name": "stderr"
        },
        {
          "output_type": "stream",
          "text": [
            "Training epoch 4\n",
            "tensor(1.5333, device='cuda:0', grad_fn=<NllLossBackward>)\n"
          ],
          "name": "stdout"
        },
        {
          "output_type": "stream",
          "text": [
            "12000it [18:07, 11.04it/s]\n"
          ],
          "name": "stderr"
        }
      ]
    },
    {
      "cell_type": "markdown",
      "metadata": {
        "id": "9BlNPVfXPNQf"
      },
      "source": [
        "### Text generation"
      ]
    },
    {
      "cell_type": "code",
      "metadata": {
        "id": "GI3VOzbVUN7v"
      },
      "source": [
        "#Load the model to use it\n",
        "model = torch.load('/content/drive/MyDrive/Text_Analytics/model_rock.pt', map_location=torch.device('cpu'))"
      ],
      "execution_count": null,
      "outputs": []
    },
    {
      "cell_type": "code",
      "metadata": {
        "id": "MQUN1Da2JluS"
      },
      "source": [
        "# function used for the generation of the text by using the model that has been fine-tuned in the previous section\n",
        "\n",
        "def generate(\n",
        "    model,\n",
        "    tokenizer,\n",
        "    prompt,\n",
        "    entry_count=1,\n",
        "    entry_length=30, #maximum number of words\n",
        "    top_p=0.8,\n",
        "    temperature=1.,\n",
        "):\n",
        "\n",
        "    model.eval()\n",
        "\n",
        "    generated_num = 0\n",
        "    generated_list = []\n",
        "\n",
        "    filter_value = -float(\"Inf\")\n",
        "\n",
        "    with torch.no_grad():\n",
        "\n",
        "        for entry_idx in trange(entry_count):\n",
        "\n",
        "            entry_finished = False\n",
        "\n",
        "            generated = torch.tensor(tokenizer.encode(prompt)).unsqueeze(0)\n",
        "\n",
        "            for i in range(entry_length):\n",
        "                outputs = model(generated, labels=generated)\n",
        "                loss, logits = outputs[:2]\n",
        "                logits = logits[:, -1, :] / (temperature if temperature > 0 else 1.0)\n",
        "\n",
        "                sorted_logits, sorted_indices = torch.sort(logits, descending=True)\n",
        "                cumulative_probs = torch.cumsum(F.softmax(sorted_logits, dim=-1), dim=-1)\n",
        "\n",
        "                sorted_indices_to_remove = cumulative_probs > top_p\n",
        "                sorted_indices_to_remove[..., 1:] = sorted_indices_to_remove[\n",
        "                    ..., :-1\n",
        "                ].clone()\n",
        "                sorted_indices_to_remove[..., 0] = 0\n",
        "\n",
        "                indices_to_remove = sorted_indices[sorted_indices_to_remove]\n",
        "                logits[:, indices_to_remove] = filter_value\n",
        "\n",
        "                next_token = torch.multinomial(F.softmax(logits, dim=-1), num_samples=1)\n",
        "                generated = torch.cat((generated, next_token), dim=1)\n",
        "\n",
        "                if next_token in tokenizer.encode(\"<EOT>\"):\n",
        "                    entry_finished = True\n",
        "\n",
        "                if entry_finished:\n",
        "\n",
        "                    generated_num = generated_num + 1\n",
        "\n",
        "                    output_list = list(generated.squeeze().numpy())\n",
        "                    output_text = tokenizer.decode(output_list)\n",
        "                    generated_list.append(output_text)\n",
        "                    break\n",
        "            \n",
        "            if not entry_finished:\n",
        "              output_list = list(generated.squeeze().numpy())\n",
        "              output_text = f\"{tokenizer.decode(output_list)}<EOT>\" \n",
        "              generated_list.append(output_text)\n",
        "                \n",
        "    return generated_list"
      ],
      "execution_count": null,
      "outputs": []
    },
    {
      "cell_type": "markdown",
      "metadata": {
        "id": "YuinjpGhA_y7"
      },
      "source": [
        "# Text generation"
      ]
    },
    {
      "cell_type": "markdown",
      "metadata": {
        "id": "fJjCrqlO-gtd"
      },
      "source": [
        "# Comparing ends of the lyrics "
      ]
    },
    {
      "cell_type": "code",
      "metadata": {
        "id": "WgQ_4jcD7-Ky",
        "colab": {
          "base_uri": "https://localhost:8080/"
        },
        "outputId": "acac8d18-577e-4d94-f120-807eee5f6ea7"
      },
      "source": [
        "# generating text by applying different temperatures\n",
        "\n",
        "for temperature in [0.2, 0.5, 0.8, 1.0, 1.2]:\n",
        "    print('----- temperature:', temperature)\n",
        "    generated = generate(model.to('cpu'), tokenizer, \"ut if there's a pill to help me forget. \", entry_length = 100, temperature = temperature)\n",
        "    generated = generated[0].split('.')\n",
        "\n",
        "    print('Generated text:')\n",
        "    print('\\n'.join(generated))\n"
      ],
      "execution_count": null,
      "outputs": [
        {
          "output_type": "stream",
          "text": [
            "\r  0%|          | 0/1 [00:00<?, ?it/s]"
          ],
          "name": "stderr"
        },
        {
          "output_type": "stream",
          "text": [
            "----- temperature: 0.2\n"
          ],
          "name": "stdout"
        },
        {
          "output_type": "stream",
          "text": [
            "100%|██████████| 1/1 [00:27<00:00, 27.60s/it]\n",
            "  0%|          | 0/1 [00:00<?, ?it/s]"
          ],
          "name": "stderr"
        },
        {
          "output_type": "stream",
          "text": [
            "Generated text:\n",
            "ut if there's a pill to help me forget\n",
            "  I'm not sure if I'm going to be able to get through this\n",
            "  I'm not sure if I'm going to be able to get through this\n",
            "  I'm not sure if I'm going to be able to get through this\n",
            "  I'm not sure if I'm going to be able to get through this\n",
            "  I'm not sure if I'm going to be able to get through this\n",
            "  I'm not sure if I'm going to<EOT>\n",
            "----- temperature: 0.5\n"
          ],
          "name": "stdout"
        },
        {
          "output_type": "stream",
          "text": [
            "100%|██████████| 1/1 [00:27<00:00, 27.59s/it]\n",
            "  0%|          | 0/1 [00:00<?, ?it/s]"
          ],
          "name": "stderr"
        },
        {
          "output_type": "stream",
          "text": [
            "Generated text:\n",
            "ut if there's a pill to help me forget\n",
            "  I'm not sure what to do\n",
            "  I'm not sure what to do\n",
            "  I'm not sure what to do\n",
            "  I'm not sure what to do\n",
            "  I'm not sure what to do\n",
            "  I'm not sure what to do\n",
            "  I'm not sure what to do\n",
            "  I'm not sure what to do\n",
            "  I'm not sure what to do\n",
            "  I'm not sure what to do\n",
            " <EOT>\n",
            "----- temperature: 0.8\n"
          ],
          "name": "stdout"
        },
        {
          "output_type": "stream",
          "text": [
            "100%|██████████| 1/1 [00:27<00:00, 27.59s/it]\n",
            "  0%|          | 0/1 [00:00<?, ?it/s]"
          ],
          "name": "stderr"
        },
        {
          "output_type": "stream",
          "text": [
            "Generated text:\n",
            "ut if there's a pill to help me forget\n",
            "  But the next time I wake up in the morning, I'll have to try and figure out what I should do\n",
            "  If I can't find a solution, what can I do?  Well, here's the way\n",
            "  If you're new to Buddhism, you might not be familiar with the Buddhist path\n",
            "  Well, you might not realize the Buddha was a Zen master\n",
            "  Well, you might not even know the Buddha's teaching\n",
            "  Well<EOT>\n",
            "----- temperature: 1.0\n"
          ],
          "name": "stdout"
        },
        {
          "output_type": "stream",
          "text": [
            "100%|██████████| 1/1 [00:27<00:00, 27.69s/it]\n",
            "  0%|          | 0/1 [00:00<?, ?it/s]"
          ],
          "name": "stderr"
        },
        {
          "output_type": "stream",
          "text": [
            "Generated text:\n",
            "ut if there's a pill to help me forget\n",
            "  I realize I'm probably not the only one that thinks this way\n",
            "  I think that  whatever there is to realize in the world is what we have to do to get there\n",
            "  I also realize that I will never be free\n",
            "  I will never be free\n",
            "  I will never be free\n",
            "  I will never be free\n",
            "  I will never be free\n",
            "  I will never be free\n",
            "  I will never be free\n",
            "<EOT>\n",
            "----- temperature: 1.2\n"
          ],
          "name": "stdout"
        },
        {
          "output_type": "stream",
          "text": [
            "100%|██████████| 1/1 [00:27<00:00, 27.77s/it]"
          ],
          "name": "stderr"
        },
        {
          "output_type": "stream",
          "text": [
            "Generated text:\n",
            "ut if there's a pill to help me forget\n",
            "  And those around me will always wake up and wonder where my yoga session is all\n",
            "  I want you to know that I love you so much\n",
            "  I love you so much\n",
            "  I want you to see me lead the way\n",
            "  I want you to see me play with love and technology while we are at it\n",
            "  I want you to connect with me for real and share this with those around you\n",
            "  So one more time\n",
            "  May<EOT>\n"
          ],
          "name": "stdout"
        },
        {
          "output_type": "stream",
          "text": [
            "\n"
          ],
          "name": "stderr"
        }
      ]
    },
    {
      "cell_type": "markdown",
      "metadata": {
        "id": "V3j3hSArFOYo"
      },
      "source": [
        "## Songs similarities"
      ]
    },
    {
      "cell_type": "code",
      "metadata": {
        "colab": {
          "base_uri": "https://localhost:8080/"
        },
        "id": "3__mF3TYUfh3",
        "outputId": "f0efcb1f-d51d-416e-f5b2-731dd4d604fd"
      },
      "source": [
        "# generation of the text with a title taken by an original song from the dataset\n",
        "\n",
        "generated = generate(model.to('cpu'), tokenizer, \"You've Got to Hide Your Love Away\", entry_length = 100)\n",
        "generated = generated[0].split('.')\n",
        "\n",
        "print('Generated text:')\n",
        "print('\\n'.join(generated))\n"
      ],
      "execution_count": null,
      "outputs": [
        {
          "output_type": "stream",
          "text": [
            "100%|██████████| 1/1 [00:36<00:00, 36.11s/it]"
          ],
          "name": "stderr"
        },
        {
          "output_type": "stream",
          "text": [
            "Generated text:\n",
            "You've Got to Hide Your Love Away\n",
            "\"\n",
            "\n",
            "Despite being in all the wrong places, Angelina Jolie says: \"She's so clever and so perfect\n",
            " It's just she's so real\n",
            " And that's one of the greatest things about her\n",
            " She can really make me miss her\n",
            " There's a line in her own mind that I would never know her\n",
            "\"\n",
            "\n",
            "Angelina Jolie talks about the 'perfect' times she's been in California in a recent episode of Westworld: \"There's this great old<EOT>\n"
          ],
          "name": "stdout"
        },
        {
          "output_type": "stream",
          "text": [
            "\n"
          ],
          "name": "stderr"
        }
      ]
    },
    {
      "cell_type": "code",
      "metadata": {
        "colab": {
          "base_uri": "https://localhost:8080/"
        },
        "id": "tVVO7ngNUlWQ",
        "outputId": "3d50cc89-e3ac-4f70-9640-52812d04575f"
      },
      "source": [
        "# this is a program used to calculate the similarity between the generated lyrics with the original ones\n",
        "\n",
        "lyrics = np.concatenate([generated, df['Lyric'].values]) # we need to put together the generated text and the original lyrics\n",
        "\n",
        "tfidf = TfidfVectorizer(stop_words=\"english\").fit_transform(lyrics) # vectorization process of the previous values\n",
        "\n",
        "pairwise_similarity = tfidf * tfidf.T # similarity matrix calculation \n",
        "\n",
        "pairwise_similarity = pairwise_similarity.toarray()[0] # converting it to an array\n",
        "    \n",
        "pairwise_similarity[0] = -1 # mask the diagonal element (the similarity to itself)\n",
        "    \n",
        "most_similar_idxs = pairwise_similarity.argsort()[-3:][::-1]  # get the top 3 most similar lyrics to the generated lyrics\n",
        "\n",
        "output = [', '.join(df.iloc[most_similar_idxs - 1].SName), # generate as output the title of the 3 most similar songs and their scores\n",
        "              *pairwise_similarity[most_similar_idxs], \n",
        "              most_similar_idxs - 1]\n",
        "\n",
        "print(\"similar to: {}\\n- scores: {}, {}, {}\".format(*output))"
      ],
      "execution_count": null,
      "outputs": [
        {
          "output_type": "stream",
          "text": [
            "similar to: Hitch Hike, If I Lose Myself, You've Got To Hide Your Love Away\n",
            "- scores: 0.6414909825309704, 0.6394604215311087, 0.610193487061056\n"
          ],
          "name": "stdout"
        }
      ]
    },
    {
      "cell_type": "code",
      "metadata": {
        "colab": {
          "base_uri": "https://localhost:8080/"
        },
        "id": "nKv86I_Ht5oC",
        "outputId": "ee418219-453c-46c4-a0bd-b78aab1c3a04"
      },
      "source": [
        "generated = generate(model.to('cpu'), tokenizer, \"The Wait\", entry_length = 100)\n",
        "generated = generated[0].split('.')\n",
        "\n",
        "print('Generated text:')\n",
        "print('\\n'.join(generated))\n"
      ],
      "execution_count": null,
      "outputs": [
        {
          "output_type": "stream",
          "text": [
            "100%|██████████| 1/1 [00:33<00:00, 33.08s/it]"
          ],
          "name": "stderr"
        },
        {
          "output_type": "stream",
          "text": [
            "Generated text:\n",
            "The Waitresses' Blame Are Pieces\n",
            "\n",
            "There's no denying the murder of Amy Grant, the show's very own celebrity advocate\n",
            "\n",
            "\n",
            "Here's some of the thing that some people, many in this world, don't understand\n",
            "\n",
            "\n",
            "How can we all help one another?\n",
            "\n",
            "Let me show you what it's like to be human\n",
            "\n",
            "\n",
            "Once you're inside the hole\n",
            "\n",
            "\n",
            "The fight is still there\n",
            "\n",
            "\n",
            "There are far too many people out there to learn<EOT>\n"
          ],
          "name": "stdout"
        },
        {
          "output_type": "stream",
          "text": [
            "\n"
          ],
          "name": "stderr"
        }
      ]
    },
    {
      "cell_type": "code",
      "metadata": {
        "colab": {
          "base_uri": "https://localhost:8080/"
        },
        "id": "t2ychGD7xkUW",
        "outputId": "0780740f-492c-4a48-ddae-39bb833a755b"
      },
      "source": [
        "# this is a program used to calculate the similarity between the generated lyrics with the original ones\n",
        "\n",
        "lyrics = np.concatenate([generated, df['Lyric'].values]) # we need to put together the generated text and the original lyrics\n",
        "\n",
        "tfidf = TfidfVectorizer(stop_words=\"english\").fit_transform(lyrics) # vectorization process of the previous values\n",
        "\n",
        "pairwise_similarity = tfidf * tfidf.T # similarity matrix calculation\n",
        "\n",
        "pairwise_similarity = pairwise_similarity.toarray()[0] # converting it to an array\n",
        "   \n",
        "pairwise_similarity[0] = -1 # mask the diagonal element (the similarity to itself)\n",
        "    \n",
        "most_similar_idxs = pairwise_similarity.argsort()[-3:][::-1]  # get the top 3 most similar lyrics to the generated lyrics\n",
        "\n",
        "output = [', '.join(df.iloc[most_similar_idxs - 1].SName), # generate as output the title of the 3 most similar songs and their scores\n",
        "              *pairwise_similarity[most_similar_idxs], \n",
        "              most_similar_idxs - 1]\n",
        "\n",
        "print(\"similar to: {}\\n- scores: {}, {}, {}\".format(*output))"
      ],
      "execution_count": null,
      "outputs": [
        {
          "output_type": "stream",
          "text": [
            "similar to: Double Crossing Time, Ashley, Where Will You Go (ep Version)\n",
            "- scores: 0.22669568893973846, 0.1977533715860892, 0.14743189356879532\n"
          ],
          "name": "stdout"
        }
      ]
    },
    {
      "cell_type": "markdown",
      "metadata": {
        "id": "4oF0r4YrFV50"
      },
      "source": [
        "## Generating text with different languages"
      ]
    },
    {
      "cell_type": "markdown",
      "metadata": {
        "id": "cFABcpKNgTlJ"
      },
      "source": [
        "Here we will test our model with different languages input seeds, in particular by using Italian, Spanish and French"
      ]
    },
    {
      "cell_type": "code",
      "metadata": {
        "colab": {
          "base_uri": "https://localhost:8080/"
        },
        "id": "1caAud107m2o",
        "outputId": "52a3e27f-46f4-40fa-ac9f-e94ab58fb9b3"
      },
      "source": [
        "generated = generate(model.to('cpu'), tokenizer, \"Siamo fuori di testa, ma diversi da loro\", entry_length = 100)\n",
        "generated = generated[0].split('.')\n",
        "\n",
        "print('Generated text:')\n",
        "print('\\n'.join(generated))"
      ],
      "execution_count": null,
      "outputs": [
        {
          "output_type": "stream",
          "text": [
            "100%|██████████| 1/1 [00:43<00:00, 43.26s/it]"
          ],
          "name": "stderr"
        },
        {
          "output_type": "stream",
          "text": [
            "Generated text:\n",
            "Siamo fuori di testa, ma diversi da loro\n",
            " Nuestra se le hora destiano aperra dono no se\n",
            " Tan na riadido de una testa\n",
            " Anar mi anarto de la mio\n",
            " No way no no da uno\n",
            " Da voie se litra de una testa\n",
            " My chance, di supereconido no da infamy\n",
            "<|endoftext|>Presents: The United States, Japan, Russia, Hong Kong, Canada, UK, Australia\n",
            "\n",
            "Duration: 1<EOT>\n"
          ],
          "name": "stdout"
        },
        {
          "output_type": "stream",
          "text": [
            "\n"
          ],
          "name": "stderr"
        }
      ]
    },
    {
      "cell_type": "code",
      "metadata": {
        "colab": {
          "base_uri": "https://localhost:8080/"
        },
        "id": "Q6Qm4oRpDYzJ",
        "outputId": "d1ddb364-2352-49b2-8ac6-7ac18f64c2b4"
      },
      "source": [
        "generated = generate(model.to('cpu'), tokenizer, \"Sí, sabes que ya llevo un rato mirándote\", entry_length = 100)\n",
        "generated = generated[0].split('.')\n",
        "\n",
        "print('Generated text:')\n",
        "print('\\n'.join(generated))"
      ],
      "execution_count": null,
      "outputs": [
        {
          "output_type": "stream",
          "text": [
            "100%|██████████| 1/1 [00:44<00:00, 44.07s/it]"
          ],
          "name": "stderr"
        },
        {
          "output_type": "stream",
          "text": [
            "Generated text:\n",
            "Sí, sabes que ya llevo un rato mirándote es mismo\n",
            "\n",
            "Be that as it may, sabes que ya llevo un rato mirándote es mismo<|endoftext|>Young child on its own\n",
            " Just not quite ready\n",
            " Still\n",
            " Trying to think through the thought process\n",
            " I don't know what it feels like\n",
            " What kind of thing it feels like\n",
            " I can't help thinking that maybe I should change\n",
            " I really don't want to try\n",
            " I really don't want to try\n",
            " I really don't want to<EOT>\n"
          ],
          "name": "stdout"
        },
        {
          "output_type": "stream",
          "text": [
            "\n"
          ],
          "name": "stderr"
        }
      ]
    },
    {
      "cell_type": "code",
      "metadata": {
        "colab": {
          "base_uri": "https://localhost:8080/"
        },
        "id": "Xoo9MIN7DYom",
        "outputId": "4c839a72-4e63-4173-ce8b-7acb4f06fd6f"
      },
      "source": [
        "generated = generate(model.to('cpu'), tokenizer, \"La vie c'est plus marrant\", entry_length = 100)\n",
        "generated = generated[0].split('.')\n",
        "\n",
        "print('Generated text:')\n",
        "print('\\n'.join(generated))"
      ],
      "execution_count": null,
      "outputs": [
        {
          "output_type": "stream",
          "text": [
            "100%|██████████| 1/1 [00:39<00:00, 39.78s/it]"
          ],
          "name": "stderr"
        },
        {
          "output_type": "stream",
          "text": [
            "Generated text:\n",
            "La vie c'est plus marranto!\" A silvestri se père m'enchanté\n",
            " C'est moi les cabs de que vous sommes quelques zez pas m'avez, l'enflançon des seilères\n",
            " Mi mécuisine est un voir\n",
            " Don't know if I'm going to kill you now, when I'm out here\n",
            "\n",
            "\n",
            "It's summer, so you'll have to take the jump\n",
            " At least let me<EOT>\n"
          ],
          "name": "stdout"
        },
        {
          "output_type": "stream",
          "text": [
            "\n"
          ],
          "name": "stderr"
        }
      ]
    },
    {
      "cell_type": "markdown",
      "metadata": {
        "id": "YW8cJBiMhfJi"
      },
      "source": [
        "## Word importance for text generation"
      ]
    },
    {
      "cell_type": "markdown",
      "metadata": {
        "id": "wqEvDT00gozG"
      },
      "source": [
        "Using the ECCO library to understand the genaration process of the text with a pretrained GPT2 model from HuggingFace"
      ]
    },
    {
      "cell_type": "code",
      "metadata": {
        "id": "6c_Srk_1fKdT"
      },
      "source": [
        "!pip install ecco"
      ],
      "execution_count": null,
      "outputs": []
    },
    {
      "cell_type": "code",
      "metadata": {
        "colab": {
          "base_uri": "https://localhost:8080/",
          "height": 262,
          "referenced_widgets": [
            "7bc055d60ce14e41b8bb25629502cf9c",
            "16b3636d0f154f71abceb24109c9e2b4",
            "f70707630b4246a78f9cb76c9999c888",
            "4d87822aa2a7471ea69fceab1b9da9eb",
            "cf64b2b89cba436486143d4f4ef718f5",
            "1944e44265704b66b437f28b07fb31a7",
            "4f4b34fad8664ba6b880041b99e3c08b",
            "9ce8bd4c1f3e4c34aacf5336fcf4b1a3",
            "b1e779543f034326af0f3f8349f833f3",
            "8611f0600596437a88a460a2aaf76531",
            "be3002fdcd66400aae70cef3b3914dd3",
            "e08647cb3a514483bc88286575c6a45d",
            "6a7f1e42ce6442dfb734dcc3a11c4b9f",
            "59f8468e1a19428d9d3b654da810f16c",
            "5d6af157d8394b49a13989ea0b94c259",
            "7837751d148742e69e714135f738f839",
            "8e8abb121850459aa8eaa082cd157bfe",
            "4630566271674da794c88275c06addc2",
            "f4b5229fba9349ee9cf9ab98cb6cb490",
            "c0067223a0174292ab5a2c7584c0c80d",
            "6ea4b71e5cff4f90963920888c8215fa",
            "52328ba8cb0b4c708f0bf73d9df4e8ed",
            "42898a54ebbc439ebb46d29fced272bb",
            "062e924bc505454eac89dd98af73efdf",
            "e236b39d7af941b78408888128728ebf",
            "62655145403c4bc0a14fed9e930b7e2e",
            "abed9b61365a45f7b95bad2ca1b217ad",
            "c709925b21b04b3b93042a52c9a6f501",
            "a9fdc3e0ee6847ed8ee6ee6d543a59f3",
            "2c6f4150e55541ee964dd97a8f894aa1",
            "54a0a0bc617c4fd683d991fc202d386b",
            "8908be9e6bee4e588ffb0749cb80a3eb",
            "fc1fe31de64946d4a5e25202cb04dae7",
            "7e2efdc951594f7aacc4cf2353d30aa0",
            "760249091da544c6ba9c7b2b11ebdf1a",
            "cb7ff78e992b44f99cba4998966f27a2",
            "60f76305c899475c9cbfdf4e8dfedab7",
            "40712783f789429ab7e9fb62c54fa8f4",
            "ab035344ff71450eb022b54ce30ca279",
            "9c63f96d1cef48c4a99a0efeb7a7f5dc"
          ]
        },
        "id": "wAW-z5kyfNBu",
        "outputId": "d87118ba-fb0b-4bfb-ef36-10161b16a689"
      },
      "source": [
        "import ecco\n",
        "lm = ecco.from_pretrained('gpt2')\n",
        "# model = GPT2LMHeadModel.from_pretrained('gpt2')"
      ],
      "execution_count": null,
      "outputs": [
        {
          "output_type": "display_data",
          "data": {
            "application/vnd.jupyter.widget-view+json": {
              "model_id": "7bc055d60ce14e41b8bb25629502cf9c",
              "version_minor": 0,
              "version_major": 2
            },
            "text/plain": [
              "HBox(children=(FloatProgress(value=0.0, description='Downloading', max=665.0, style=ProgressStyle(description_…"
            ]
          },
          "metadata": {
            "tags": []
          }
        },
        {
          "output_type": "stream",
          "text": [
            "\n"
          ],
          "name": "stdout"
        },
        {
          "output_type": "display_data",
          "data": {
            "application/vnd.jupyter.widget-view+json": {
              "model_id": "b1e779543f034326af0f3f8349f833f3",
              "version_minor": 0,
              "version_major": 2
            },
            "text/plain": [
              "HBox(children=(FloatProgress(value=0.0, description='Downloading', max=1042301.0, style=ProgressStyle(descript…"
            ]
          },
          "metadata": {
            "tags": []
          }
        },
        {
          "output_type": "stream",
          "text": [
            "\n"
          ],
          "name": "stdout"
        },
        {
          "output_type": "display_data",
          "data": {
            "application/vnd.jupyter.widget-view+json": {
              "model_id": "8e8abb121850459aa8eaa082cd157bfe",
              "version_minor": 0,
              "version_major": 2
            },
            "text/plain": [
              "HBox(children=(FloatProgress(value=0.0, description='Downloading', max=456318.0, style=ProgressStyle(descripti…"
            ]
          },
          "metadata": {
            "tags": []
          }
        },
        {
          "output_type": "stream",
          "text": [
            "\n"
          ],
          "name": "stdout"
        },
        {
          "output_type": "display_data",
          "data": {
            "application/vnd.jupyter.widget-view+json": {
              "model_id": "e236b39d7af941b78408888128728ebf",
              "version_minor": 0,
              "version_major": 2
            },
            "text/plain": [
              "HBox(children=(FloatProgress(value=0.0, description='Downloading', max=1355256.0, style=ProgressStyle(descript…"
            ]
          },
          "metadata": {
            "tags": []
          }
        },
        {
          "output_type": "stream",
          "text": [
            "\n"
          ],
          "name": "stdout"
        },
        {
          "output_type": "display_data",
          "data": {
            "application/vnd.jupyter.widget-view+json": {
              "model_id": "fc1fe31de64946d4a5e25202cb04dae7",
              "version_minor": 0,
              "version_major": 2
            },
            "text/plain": [
              "HBox(children=(FloatProgress(value=0.0, description='Downloading', max=548118077.0, style=ProgressStyle(descri…"
            ]
          },
          "metadata": {
            "tags": []
          }
        },
        {
          "output_type": "stream",
          "text": [
            "\n"
          ],
          "name": "stdout"
        }
      ]
    },
    {
      "cell_type": "code",
      "metadata": {
        "id": "T9bZBZLq-93C",
        "colab": {
          "base_uri": "https://localhost:8080/",
          "height": 110
        },
        "outputId": "9d1df6ec-3fdc-4428-9cff-7bfdfb877775"
      },
      "source": [
        "text= \"You've Got to Hide Your Love Away\"\n",
        "\n",
        "output = lm.generate(text, generate=20, do_sample=True)"
      ],
      "execution_count": null,
      "outputs": [
        {
          "output_type": "display_data",
          "data": {
            "text/html": [
              "<html lang=\"en\">\n",
              "<script src=\"https://requirejs.org/docs/release/2.3.6/minified/require.js\"></script>\n",
              "<script>\n",
              "    var ecco_url = 'https://storage.googleapis.com/ml-intro/ecco/'\n",
              "    // var ecco_url = 'http://localhost:8000/ecco/'\n",
              "\n",
              "    if (window.ecco === undefined) window.ecco = {}\n",
              "\n",
              "    requirejs.config({\n",
              "        urlArgs: \"bust=\" + (new Date()).getTime(),\n",
              "        nodeRequire: require,\n",
              "        paths: {\n",
              "            d3: \"https://d3js.org/d3.v5.min\",\n",
              "            \"d3-array\": \"https://d3js.org/d3-array.v2.min\",\n",
              "            jquery: \"https://code.jquery.com/jquery-3.5.1.min\",\n",
              "            // oldEcco: ecco_url + 'ecco',\n",
              "            ecco: ecco_url + 'js/0.0.4/ecco-bundle.min',\n",
              "            xregexp: 'https://cdnjs.cloudflare.com/ajax/libs/xregexp/3.2.0/xregexp-all.min'\n",
              "        }\n",
              "    });\n",
              "    requirejs(['d3'],\n",
              "        function (d3) {\n",
              "            d3.select('#css').attr('href', ecco_url + 'html/styles.css')\n",
              "        })\n",
              "\n",
              "    console.log('Ecco initialize.')\n",
              "</script>\n",
              "\n",
              "<head>\n",
              "    <link id='css' rel=\"stylesheet\" type=\"text/css\">\n",
              "</head>\n"
            ],
            "text/plain": [
              "<IPython.core.display.HTML object>"
            ]
          },
          "metadata": {
            "tags": []
          }
        },
        {
          "output_type": "display_data",
          "data": {
            "text/html": [
              "<script>\n",
              "    // console.log('defining basic')\n",
              "    define('basic', ['d3'],\n",
              "        function (d3) {\n",
              "            return {\n",
              "                init: function (viz_id = null) {\n",
              "\n",
              "                    // console.log('basic init')\n",
              "                    if (viz_id == null){\n",
              "                        viz_id = \"viz_\" + Math.round(Math.random() * 10000000)\n",
              "                    }\n",
              "                    const div = d3.select('#basic').attr('id', viz_id),\n",
              "                        div_parent = d3.select('#' + viz_id).node().parentNode\n",
              "\n",
              "                    // Link to CSS file\n",
              "                    d3.select(div_parent).insert('link')\n",
              "                        .attr('rel', 'stylesheet')\n",
              "                        .attr('type', 'text/css')\n",
              "                        .attr('href', ecco_url + 'html/styles.css')\n",
              "\n",
              "                    return viz_id\n",
              "                }\n",
              "            }\n",
              "        }, function (err) {console.log(err);}\n",
              "    )\n",
              "    // console.log('after defining basic')\n",
              "\n",
              "</script>\n",
              "<div id=\"basic\"></div>\n"
            ],
            "text/plain": [
              "<IPython.core.display.HTML object>"
            ]
          },
          "metadata": {
            "tags": []
          }
        },
        {
          "output_type": "display_data",
          "data": {
            "application/javascript": [
              "\n",
              "\n",
              "         requirejs( ['basic', 'ecco'], function(basic, ecco){\n",
              "            basic.init('viz_437743')\n",
              "\n",
              "            window.ecco['viz_437743'] = ecco.renderOutputSequence('viz_437743', {'tokens': [{'token': 'You', 'position': 0, 'token_id': 1639, 'type': 'input'}, {'token': \"'ve\", 'position': 1, 'token_id': 1053, 'type': 'input'}, {'token': ' Got', 'position': 2, 'token_id': 11853, 'type': 'input'}, {'token': ' to', 'position': 3, 'token_id': 284, 'type': 'input'}, {'token': ' Hide', 'position': 4, 'token_id': 10415, 'type': 'input'}, {'token': ' Your', 'position': 5, 'token_id': 3406, 'type': 'input'}, {'token': ' Love', 'position': 6, 'token_id': 5896, 'type': 'input'}, {'token': ' Away', 'position': 7, 'token_id': 21986, 'type': 'input'}]})\n",
              "         }, function (err) {\n",
              "            console.log(err);\n",
              "        })\n"
            ],
            "text/plain": [
              "<IPython.core.display.Javascript object>"
            ]
          },
          "metadata": {
            "tags": []
          }
        },
        {
          "output_type": "display_data",
          "data": {
            "application/javascript": [
              "\n",
              "        // We don't really need these require scripts. But this is to avert\n",
              "        //this code from running before display_input_sequence which DOES require external files\n",
              "        requirejs(['basic', 'ecco'], function(basic, ecco){\n",
              "                console.log('addToken viz_id', 'viz_437743');\n",
              "                window.ecco['viz_437743'].addToken({\"token\": \"\\n\", \"token_id\": 198, \"position\": 8, \"type\": \"output\"})\n",
              "                window.ecco['viz_437743'].redraw()\n",
              "        })\n",
              "        "
            ],
            "text/plain": [
              "<IPython.core.display.Javascript object>"
            ]
          },
          "metadata": {
            "tags": []
          }
        },
        {
          "output_type": "display_data",
          "data": {
            "application/javascript": [
              "\n",
              "        // We don't really need these require scripts. But this is to avert\n",
              "        //this code from running before display_input_sequence which DOES require external files\n",
              "        requirejs(['basic', 'ecco'], function(basic, ecco){\n",
              "                console.log('addToken viz_id', 'viz_437743');\n",
              "                window.ecco['viz_437743'].addToken({\"token\": \"\\n\", \"token_id\": 198, \"position\": 9, \"type\": \"output\"})\n",
              "                window.ecco['viz_437743'].redraw()\n",
              "        })\n",
              "        "
            ],
            "text/plain": [
              "<IPython.core.display.Javascript object>"
            ]
          },
          "metadata": {
            "tags": []
          }
        },
        {
          "output_type": "display_data",
          "data": {
            "application/javascript": [
              "\n",
              "        // We don't really need these require scripts. But this is to avert\n",
              "        //this code from running before display_input_sequence which DOES require external files\n",
              "        requirejs(['basic', 'ecco'], function(basic, ecco){\n",
              "                console.log('addToken viz_id', 'viz_437743');\n",
              "                window.ecco['viz_437743'].addToken({\"token\": \"The\", \"token_id\": 464, \"position\": 10, \"type\": \"output\"})\n",
              "                window.ecco['viz_437743'].redraw()\n",
              "        })\n",
              "        "
            ],
            "text/plain": [
              "<IPython.core.display.Javascript object>"
            ]
          },
          "metadata": {
            "tags": []
          }
        },
        {
          "output_type": "display_data",
          "data": {
            "application/javascript": [
              "\n",
              "        // We don't really need these require scripts. But this is to avert\n",
              "        //this code from running before display_input_sequence which DOES require external files\n",
              "        requirejs(['basic', 'ecco'], function(basic, ecco){\n",
              "                console.log('addToken viz_id', 'viz_437743');\n",
              "                window.ecco['viz_437743'].addToken({\"token\": \" last\", \"token_id\": 938, \"position\": 11, \"type\": \"output\"})\n",
              "                window.ecco['viz_437743'].redraw()\n",
              "        })\n",
              "        "
            ],
            "text/plain": [
              "<IPython.core.display.Javascript object>"
            ]
          },
          "metadata": {
            "tags": []
          }
        },
        {
          "output_type": "display_data",
          "data": {
            "application/javascript": [
              "\n",
              "        // We don't really need these require scripts. But this is to avert\n",
              "        //this code from running before display_input_sequence which DOES require external files\n",
              "        requirejs(['basic', 'ecco'], function(basic, ecco){\n",
              "                console.log('addToken viz_id', 'viz_437743');\n",
              "                window.ecco['viz_437743'].addToken({\"token\": \" few\", \"token_id\": 1178, \"position\": 12, \"type\": \"output\"})\n",
              "                window.ecco['viz_437743'].redraw()\n",
              "        })\n",
              "        "
            ],
            "text/plain": [
              "<IPython.core.display.Javascript object>"
            ]
          },
          "metadata": {
            "tags": []
          }
        },
        {
          "output_type": "display_data",
          "data": {
            "application/javascript": [
              "\n",
              "        // We don't really need these require scripts. But this is to avert\n",
              "        //this code from running before display_input_sequence which DOES require external files\n",
              "        requirejs(['basic', 'ecco'], function(basic, ecco){\n",
              "                console.log('addToken viz_id', 'viz_437743');\n",
              "                window.ecco['viz_437743'].addToken({\"token\": \" albums\", \"token_id\": 16788, \"position\": 13, \"type\": \"output\"})\n",
              "                window.ecco['viz_437743'].redraw()\n",
              "        })\n",
              "        "
            ],
            "text/plain": [
              "<IPython.core.display.Javascript object>"
            ]
          },
          "metadata": {
            "tags": []
          }
        },
        {
          "output_type": "display_data",
          "data": {
            "application/javascript": [
              "\n",
              "        // We don't really need these require scripts. But this is to avert\n",
              "        //this code from running before display_input_sequence which DOES require external files\n",
              "        requirejs(['basic', 'ecco'], function(basic, ecco){\n",
              "                console.log('addToken viz_id', 'viz_437743');\n",
              "                window.ecco['viz_437743'].addToken({\"token\": \" of\", \"token_id\": 286, \"position\": 14, \"type\": \"output\"})\n",
              "                window.ecco['viz_437743'].redraw()\n",
              "        })\n",
              "        "
            ],
            "text/plain": [
              "<IPython.core.display.Javascript object>"
            ]
          },
          "metadata": {
            "tags": []
          }
        },
        {
          "output_type": "display_data",
          "data": {
            "application/javascript": [
              "\n",
              "        // We don't really need these require scripts. But this is to avert\n",
              "        //this code from running before display_input_sequence which DOES require external files\n",
              "        requirejs(['basic', 'ecco'], function(basic, ecco){\n",
              "                console.log('addToken viz_id', 'viz_437743');\n",
              "                window.ecco['viz_437743'].addToken({\"token\": \" The\", \"token_id\": 383, \"position\": 15, \"type\": \"output\"})\n",
              "                window.ecco['viz_437743'].redraw()\n",
              "        })\n",
              "        "
            ],
            "text/plain": [
              "<IPython.core.display.Javascript object>"
            ]
          },
          "metadata": {
            "tags": []
          }
        },
        {
          "output_type": "display_data",
          "data": {
            "application/javascript": [
              "\n",
              "        // We don't really need these require scripts. But this is to avert\n",
              "        //this code from running before display_input_sequence which DOES require external files\n",
              "        requirejs(['basic', 'ecco'], function(basic, ecco){\n",
              "                console.log('addToken viz_id', 'viz_437743');\n",
              "                window.ecco['viz_437743'].addToken({\"token\": \" World\", \"token_id\": 2159, \"position\": 16, \"type\": \"output\"})\n",
              "                window.ecco['viz_437743'].redraw()\n",
              "        })\n",
              "        "
            ],
            "text/plain": [
              "<IPython.core.display.Javascript object>"
            ]
          },
          "metadata": {
            "tags": []
          }
        },
        {
          "output_type": "display_data",
          "data": {
            "application/javascript": [
              "\n",
              "        // We don't really need these require scripts. But this is to avert\n",
              "        //this code from running before display_input_sequence which DOES require external files\n",
              "        requirejs(['basic', 'ecco'], function(basic, ecco){\n",
              "                console.log('addToken viz_id', 'viz_437743');\n",
              "                window.ecco['viz_437743'].addToken({\"token\": \" According\", \"token_id\": 4784, \"position\": 17, \"type\": \"output\"})\n",
              "                window.ecco['viz_437743'].redraw()\n",
              "        })\n",
              "        "
            ],
            "text/plain": [
              "<IPython.core.display.Javascript object>"
            ]
          },
          "metadata": {
            "tags": []
          }
        },
        {
          "output_type": "display_data",
          "data": {
            "application/javascript": [
              "\n",
              "        // We don't really need these require scripts. But this is to avert\n",
              "        //this code from running before display_input_sequence which DOES require external files\n",
              "        requirejs(['basic', 'ecco'], function(basic, ecco){\n",
              "                console.log('addToken viz_id', 'viz_437743');\n",
              "                window.ecco['viz_437743'].addToken({\"token\": \" to\", \"token_id\": 284, \"position\": 18, \"type\": \"output\"})\n",
              "                window.ecco['viz_437743'].redraw()\n",
              "        })\n",
              "        "
            ],
            "text/plain": [
              "<IPython.core.display.Javascript object>"
            ]
          },
          "metadata": {
            "tags": []
          }
        },
        {
          "output_type": "display_data",
          "data": {
            "application/javascript": [
              "\n",
              "        // We don't really need these require scripts. But this is to avert\n",
              "        //this code from running before display_input_sequence which DOES require external files\n",
              "        requirejs(['basic', 'ecco'], function(basic, ecco){\n",
              "                console.log('addToken viz_id', 'viz_437743');\n",
              "                window.ecco['viz_437743'].addToken({\"token\": \" Rih\", \"token_id\": 44502, \"position\": 19, \"type\": \"output\"})\n",
              "                window.ecco['viz_437743'].redraw()\n",
              "        })\n",
              "        "
            ],
            "text/plain": [
              "<IPython.core.display.Javascript object>"
            ]
          },
          "metadata": {
            "tags": []
          }
        },
        {
          "output_type": "display_data",
          "data": {
            "application/javascript": [
              "\n",
              "        // We don't really need these require scripts. But this is to avert\n",
              "        //this code from running before display_input_sequence which DOES require external files\n",
              "        requirejs(['basic', 'ecco'], function(basic, ecco){\n",
              "                console.log('addToken viz_id', 'viz_437743');\n",
              "                window.ecco['viz_437743'].addToken({\"token\": \"anna\", \"token_id\": 7697, \"position\": 20, \"type\": \"output\"})\n",
              "                window.ecco['viz_437743'].redraw()\n",
              "        })\n",
              "        "
            ],
            "text/plain": [
              "<IPython.core.display.Javascript object>"
            ]
          },
          "metadata": {
            "tags": []
          }
        },
        {
          "output_type": "display_data",
          "data": {
            "application/javascript": [
              "\n",
              "        // We don't really need these require scripts. But this is to avert\n",
              "        //this code from running before display_input_sequence which DOES require external files\n",
              "        requirejs(['basic', 'ecco'], function(basic, ecco){\n",
              "                console.log('addToken viz_id', 'viz_437743');\n",
              "                window.ecco['viz_437743'].addToken({\"token\": \" were\", \"token_id\": 547, \"position\": 21, \"type\": \"output\"})\n",
              "                window.ecco['viz_437743'].redraw()\n",
              "        })\n",
              "        "
            ],
            "text/plain": [
              "<IPython.core.display.Javascript object>"
            ]
          },
          "metadata": {
            "tags": []
          }
        },
        {
          "output_type": "display_data",
          "data": {
            "application/javascript": [
              "\n",
              "        // We don't really need these require scripts. But this is to avert\n",
              "        //this code from running before display_input_sequence which DOES require external files\n",
              "        requirejs(['basic', 'ecco'], function(basic, ecco){\n",
              "                console.log('addToken viz_id', 'viz_437743');\n",
              "                window.ecco['viz_437743'].addToken({\"token\": \" a\", \"token_id\": 257, \"position\": 22, \"type\": \"output\"})\n",
              "                window.ecco['viz_437743'].redraw()\n",
              "        })\n",
              "        "
            ],
            "text/plain": [
              "<IPython.core.display.Javascript object>"
            ]
          },
          "metadata": {
            "tags": []
          }
        },
        {
          "output_type": "display_data",
          "data": {
            "application/javascript": [
              "\n",
              "        // We don't really need these require scripts. But this is to avert\n",
              "        //this code from running before display_input_sequence which DOES require external files\n",
              "        requirejs(['basic', 'ecco'], function(basic, ecco){\n",
              "                console.log('addToken viz_id', 'viz_437743');\n",
              "                window.ecco['viz_437743'].addToken({\"token\": \" few\", \"token_id\": 1178, \"position\": 23, \"type\": \"output\"})\n",
              "                window.ecco['viz_437743'].redraw()\n",
              "        })\n",
              "        "
            ],
            "text/plain": [
              "<IPython.core.display.Javascript object>"
            ]
          },
          "metadata": {
            "tags": []
          }
        },
        {
          "output_type": "display_data",
          "data": {
            "application/javascript": [
              "\n",
              "        // We don't really need these require scripts. But this is to avert\n",
              "        //this code from running before display_input_sequence which DOES require external files\n",
              "        requirejs(['basic', 'ecco'], function(basic, ecco){\n",
              "                console.log('addToken viz_id', 'viz_437743');\n",
              "                window.ecco['viz_437743'].addToken({\"token\": \" verses\", \"token_id\": 24752, \"position\": 24, \"type\": \"output\"})\n",
              "                window.ecco['viz_437743'].redraw()\n",
              "        })\n",
              "        "
            ],
            "text/plain": [
              "<IPython.core.display.Javascript object>"
            ]
          },
          "metadata": {
            "tags": []
          }
        },
        {
          "output_type": "display_data",
          "data": {
            "application/javascript": [
              "\n",
              "        // We don't really need these require scripts. But this is to avert\n",
              "        //this code from running before display_input_sequence which DOES require external files\n",
              "        requirejs(['basic', 'ecco'], function(basic, ecco){\n",
              "                console.log('addToken viz_id', 'viz_437743');\n",
              "                window.ecco['viz_437743'].addToken({\"token\": \" in\", \"token_id\": 287, \"position\": 25, \"type\": \"output\"})\n",
              "                window.ecco['viz_437743'].redraw()\n",
              "        })\n",
              "        "
            ],
            "text/plain": [
              "<IPython.core.display.Javascript object>"
            ]
          },
          "metadata": {
            "tags": []
          }
        },
        {
          "output_type": "display_data",
          "data": {
            "application/javascript": [
              "\n",
              "        // We don't really need these require scripts. But this is to avert\n",
              "        //this code from running before display_input_sequence which DOES require external files\n",
              "        requirejs(['basic', 'ecco'], function(basic, ecco){\n",
              "                console.log('addToken viz_id', 'viz_437743');\n",
              "                window.ecco['viz_437743'].addToken({\"token\": \" the\", \"token_id\": 262, \"position\": 26, \"type\": \"output\"})\n",
              "                window.ecco['viz_437743'].redraw()\n",
              "        })\n",
              "        "
            ],
            "text/plain": [
              "<IPython.core.display.Javascript object>"
            ]
          },
          "metadata": {
            "tags": []
          }
        },
        {
          "output_type": "display_data",
          "data": {
            "application/javascript": [
              "\n",
              "        // We don't really need these require scripts. But this is to avert\n",
              "        //this code from running before display_input_sequence which DOES require external files\n",
              "        requirejs(['basic', 'ecco'], function(basic, ecco){\n",
              "                console.log('addToken viz_id', 'viz_437743');\n",
              "                window.ecco['viz_437743'].addToken({\"token\": \" \\\"\", \"token_id\": 366, \"position\": 27, \"type\": \"output\"})\n",
              "                window.ecco['viz_437743'].redraw()\n",
              "        })\n",
              "        "
            ],
            "text/plain": [
              "<IPython.core.display.Javascript object>"
            ]
          },
          "metadata": {
            "tags": []
          }
        }
      ]
    },
    {
      "cell_type": "code",
      "metadata": {
        "id": "3a02pyc2WASq",
        "colab": {
          "base_uri": "https://localhost:8080/",
          "height": 80
        },
        "outputId": "5a7e82e5-629d-463a-e205-62a191c48e3c"
      },
      "source": [
        "output.saliency()"
      ],
      "execution_count": null,
      "outputs": [
        {
          "output_type": "display_data",
          "data": {
            "text/html": [
              "<html lang=\"en\">\n",
              "<script src=\"https://requirejs.org/docs/release/2.3.6/minified/require.js\"></script>\n",
              "<script>\n",
              "    var ecco_url = 'https://storage.googleapis.com/ml-intro/ecco/'\n",
              "    // var ecco_url = 'http://localhost:8000/ecco/'\n",
              "\n",
              "    if (window.ecco === undefined) window.ecco = {}\n",
              "\n",
              "    requirejs.config({\n",
              "        urlArgs: \"bust=\" + (new Date()).getTime(),\n",
              "        nodeRequire: require,\n",
              "        paths: {\n",
              "            d3: \"https://d3js.org/d3.v5.min\",\n",
              "            \"d3-array\": \"https://d3js.org/d3-array.v2.min\",\n",
              "            jquery: \"https://code.jquery.com/jquery-3.5.1.min\",\n",
              "            // oldEcco: ecco_url + 'ecco',\n",
              "            ecco: ecco_url + 'js/0.0.4/ecco-bundle.min',\n",
              "            xregexp: 'https://cdnjs.cloudflare.com/ajax/libs/xregexp/3.2.0/xregexp-all.min'\n",
              "        }\n",
              "    });\n",
              "    requirejs(['d3'],\n",
              "        function (d3) {\n",
              "            d3.select('#css').attr('href', ecco_url + 'html/styles.css')\n",
              "        })\n",
              "\n",
              "    console.log('Ecco initialize.')\n",
              "</script>\n",
              "\n",
              "<head>\n",
              "    <link id='css' rel=\"stylesheet\" type=\"text/css\">\n",
              "</head>\n"
            ],
            "text/plain": [
              "<IPython.core.display.HTML object>"
            ]
          },
          "metadata": {
            "tags": []
          }
        },
        {
          "output_type": "display_data",
          "data": {
            "text/html": [
              "<script>\n",
              "    // console.log('defining basic')\n",
              "    define('basic', ['d3'],\n",
              "        function (d3) {\n",
              "            return {\n",
              "                init: function (viz_id = null) {\n",
              "\n",
              "                    // console.log('basic init')\n",
              "                    if (viz_id == null){\n",
              "                        viz_id = \"viz_\" + Math.round(Math.random() * 10000000)\n",
              "                    }\n",
              "                    const div = d3.select('#basic').attr('id', viz_id),\n",
              "                        div_parent = d3.select('#' + viz_id).node().parentNode\n",
              "\n",
              "                    // Link to CSS file\n",
              "                    d3.select(div_parent).insert('link')\n",
              "                        .attr('rel', 'stylesheet')\n",
              "                        .attr('type', 'text/css')\n",
              "                        .attr('href', ecco_url + 'html/styles.css')\n",
              "\n",
              "                    return viz_id\n",
              "                }\n",
              "            }\n",
              "        }, function (err) {console.log(err);}\n",
              "    )\n",
              "    // console.log('after defining basic')\n",
              "\n",
              "</script>\n",
              "<div id=\"basic\"></div>\n"
            ],
            "text/plain": [
              "<IPython.core.display.HTML object>"
            ]
          },
          "metadata": {
            "tags": []
          }
        },
        {
          "output_type": "display_data",
          "data": {
            "application/javascript": [
              "\n",
              "             requirejs(['basic', 'ecco'], function(basic, ecco){\n",
              "                const viz_id = basic.init()\n",
              "                // ecco.interactiveTokens(viz_id, {})\n",
              "                window.ecco[viz_id] = new ecco.MinimalHighlighter({\n",
              "                parentDiv: viz_id,\n",
              "                data: {'tokens': [{'token': 'You', 'token_id': 1639, 'type': 'input', 'value': '0.09722087', 'position': 0}, {'token': \"'ve\", 'token_id': 1053, 'type': 'input', 'value': '0.06900729', 'position': 1}, {'token': ' Got', 'token_id': 11853, 'type': 'input', 'value': '0.14300217', 'position': 2}, {'token': ' to', 'token_id': 284, 'type': 'input', 'value': '0.06628015', 'position': 3}, {'token': ' Hide', 'token_id': 10415, 'type': 'input', 'value': '0.28045052', 'position': 4}, {'token': ' Your', 'token_id': 3406, 'type': 'input', 'value': '0.050368216', 'position': 5}, {'token': ' Love', 'token_id': 5896, 'type': 'input', 'value': '0.07784914', 'position': 6}, {'token': ' Away', 'token_id': 21986, 'type': 'input', 'value': '0.21582167', 'position': 7}, {'token': '\\n', 'token_id': 198, 'type': 'output', 'value': '0', 'position': 8}, {'token': '\\n', 'token_id': 198, 'type': 'output', 'value': '0', 'position': 9}, {'token': 'The', 'token_id': 464, 'type': 'output', 'value': '0', 'position': 10}, {'token': ' last', 'token_id': 938, 'type': 'output', 'value': '0', 'position': 11}, {'token': ' few', 'token_id': 1178, 'type': 'output', 'value': '0', 'position': 12}, {'token': ' albums', 'token_id': 16788, 'type': 'output', 'value': '0', 'position': 13}, {'token': ' of', 'token_id': 286, 'type': 'output', 'value': '0', 'position': 14}, {'token': ' The', 'token_id': 383, 'type': 'output', 'value': '0', 'position': 15}, {'token': ' World', 'token_id': 2159, 'type': 'output', 'value': '0', 'position': 16}, {'token': ' According', 'token_id': 4784, 'type': 'output', 'value': '0', 'position': 17}, {'token': ' to', 'token_id': 284, 'type': 'output', 'value': '0', 'position': 18}, {'token': ' Rih', 'token_id': 44502, 'type': 'output', 'value': '0', 'position': 19}, {'token': 'anna', 'token_id': 7697, 'type': 'output', 'value': '0', 'position': 20}, {'token': ' were', 'token_id': 547, 'type': 'output', 'value': '0', 'position': 21}, {'token': ' a', 'token_id': 257, 'type': 'output', 'value': '0', 'position': 22}, {'token': ' few', 'token_id': 1178, 'type': 'output', 'value': '0', 'position': 23}, {'token': ' verses', 'token_id': 24752, 'type': 'output', 'value': '0', 'position': 24}, {'token': ' in', 'token_id': 287, 'type': 'output', 'value': '0', 'position': 25}, {'token': ' the', 'token_id': 262, 'type': 'output', 'value': '0', 'position': 26}, {'token': ' \"', 'token_id': 366, 'type': 'output', 'value': '0', 'position': 27}], 'attributions': [[0.09722086787223816, 0.06900729238986969, 0.14300216734409332, 0.06628014892339706, 0.2804505228996277, 0.05036821588873863, 0.0778491422533989, 0.21582166850566864], [0.12432669848203659, 0.09215585142374039, 0.10842867940664291, 0.06375227123498917, 0.19711777567863464, 0.07104486227035522, 0.09954338520765305, 0.13430242240428925, 0.10932803153991699], [0.10530062019824982, 0.07462123781442642, 0.1257963627576828, 0.04734489694237709, 0.1547423154115677, 0.08461126685142517, 0.10608978569507599, 0.0921771377325058, 0.10409419238567352, 0.10522222518920898], [0.09706196933984756, 0.08681193739175797, 0.11958545446395874, 0.05616291984915733, 0.14142322540283203, 0.07967658340930939, 0.10189884901046753, 0.07981424778699875, 0.09674413502216339, 0.07121670991182327, 0.06960392743349075], [0.08297276496887207, 0.06945560872554779, 0.08971010893583298, 0.09599120169878006, 0.10385332256555557, 0.05370119586586952, 0.07122313976287842, 0.05814497172832489, 0.12145272642374039, 0.06662723422050476, 0.060318898409605026, 0.12654884159564972], [0.06581487506628036, 0.04789339005947113, 0.06062984839081764, 0.09629382938146591, 0.08283501118421555, 0.03828289359807968, 0.05643322318792343, 0.04751043766736984, 0.17697101831436157, 0.0625651478767395, 0.058685053139925, 0.07071526348590851, 0.13537000119686127], [0.060019779950380325, 0.052887074649333954, 0.048279594630002975, 0.07077272981405258, 0.07424234598875046, 0.026599403470754623, 0.03620913252234459, 0.03727623447775841, 0.03421494737267494, 0.03610910102725029, 0.04847632348537445, 0.06280648708343506, 0.07672428339719772, 0.3353825807571411], [0.055025093257427216, 0.04920058324933052, 0.05291988328099251, 0.03271487355232239, 0.08490487933158875, 0.045276839286088943, 0.057526398450136185, 0.04381115734577179, 0.03349576145410538, 0.03463604301214218, 0.03050616942346096, 0.03981238976120949, 0.04969184473156929, 0.3089570701122284, 0.08152110874652863], [0.062223438173532486, 0.04129672423005104, 0.04685810208320618, 0.0352480374276638, 0.07147406786680222, 0.035806283354759216, 0.04325753450393677, 0.04441171512007713, 0.045275039970874786, 0.02571028284728527, 0.08673650771379471, 0.037513017654418945, 0.04613737761974335, 0.24402275681495667, 0.03271286562085152, 0.10131627321243286], [0.04652965068817139, 0.028261959552764893, 0.04037729650735855, 0.09190189093351364, 0.051237814128398895, 0.025447087362408638, 0.02481696382164955, 0.024981724098324776, 0.09358878433704376, 0.03810230270028114, 0.039514895528554916, 0.025159060955047607, 0.031742680817842484, 0.13218747079372406, 0.04852514714002609, 0.06487642228603363, 0.19274884462356567], [0.029132109135389328, 0.02082139253616333, 0.03417247161269188, 0.027172723785042763, 0.04395264759659767, 0.022047048434615135, 0.025300879031419754, 0.024065174162387848, 0.03830375894904137, 0.023017384111881256, 0.03000154346227646, 0.020084748044610023, 0.02778131701052189, 0.08260888606309891, 0.028604401275515556, 0.05925211310386658, 0.13691873848438263, 0.32676270604133606], [0.040873728692531586, 0.022028353065252304, 0.03374365344643593, 0.06824732571840286, 0.046816036105155945, 0.023882359266281128, 0.02319205366075039, 0.022654075175523758, 0.06652665883302689, 0.042016517370939255, 0.028114058077335358, 0.022693051025271416, 0.024671168997883797, 0.0988987386226654, 0.04059764742851257, 0.05527094006538391, 0.0645579993724823, 0.13441284000873566, 0.14080290496349335], [0.024392440915107727, 0.014169111847877502, 0.021770596504211426, 0.03825481981039047, 0.03313744440674782, 0.015202082693576813, 0.024348290637135506, 0.014701559208333492, 0.023611417040228844, 0.021768055856227875, 0.016625897958874702, 0.01159610878676176, 0.016221532598137856, 0.060979679226875305, 0.04110321030020714, 0.04687502980232239, 0.05350435525178909, 0.08192909508943558, 0.03513244166970253, 0.4046768248081207], [0.02916661649942398, 0.024482283741235733, 0.02636812999844551, 0.04474729299545288, 0.04400838166475296, 0.020583394914865494, 0.021779092028737068, 0.026204504072666168, 0.031880348920822144, 0.023890407755970955, 0.027562089264392853, 0.033374443650245667, 0.0519818514585495, 0.1391693651676178, 0.03859037533402443, 0.021194662898778915, 0.030867625027894974, 0.0706949532032013, 0.026275036856532097, 0.14298266172409058, 0.12419645488262177], [0.0360160768032074, 0.027282273396849632, 0.03060956671833992, 0.053356241434812546, 0.05076586827635765, 0.020530639216303825, 0.02571612037718296, 0.030574096366763115, 0.07645554840564728, 0.04354254528880119, 0.03057205304503441, 0.042340297251939774, 0.035325463861227036, 0.11751041561365128, 0.043302591890096664, 0.027325568720698357, 0.01692907139658928, 0.04369866102933884, 0.026909027248620987, 0.0884421095252037, 0.039419565349817276, 0.09337624907493591], [0.03782203420996666, 0.025724193081259727, 0.03232463076710701, 0.0431416854262352, 0.049619242548942566, 0.0260693971067667, 0.02659640461206436, 0.025395475327968597, 0.025619670748710632, 0.030402032658457756, 0.0348447784781456, 0.048576146364212036, 0.04794134199619293, 0.16759048402309418, 0.04089372977614403, 0.02080967277288437, 0.012433020398020744, 0.03942490741610527, 0.01898319460451603, 0.05840891972184181, 0.03371167182922363, 0.04617641493678093, 0.10749100148677826], [0.027125166729092598, 0.02189546823501587, 0.02611478604376316, 0.05083686485886574, 0.04766382649540901, 0.022753240540623665, 0.025528190657496452, 0.02724282629787922, 0.06872928887605667, 0.026916490867733955, 0.023150868713855743, 0.030167799443006516, 0.04211324825882912, 0.09454146027565002, 0.018568338826298714, 0.01988641731441021, 0.02404908463358879, 0.05236012861132622, 0.01577575132250786, 0.06351672857999802, 0.03367038443684578, 0.03661354258656502, 0.04661423712968826, 0.1541658639907837], [0.022742800414562225, 0.020812951028347015, 0.023038750514388084, 0.03259021416306496, 0.03293577954173088, 0.01593364216387272, 0.018727006390690804, 0.02062178961932659, 0.01836423948407173, 0.01874510943889618, 0.01905507594347, 0.02136509120464325, 0.028722740709781647, 0.08840276300907135, 0.023964395746588707, 0.015867792069911957, 0.013811899349093437, 0.027212942019104958, 0.01582678034901619, 0.06286852806806564, 0.02723889984190464, 0.03141263127326965, 0.027473084628582, 0.05607107654213905, 0.31619399785995483], [0.029278341680765152, 0.018228601664304733, 0.01945948787033558, 0.022468477487564087, 0.026526479050517082, 0.013326125219464302, 0.017171960324048996, 0.017936158925294876, 0.01901404745876789, 0.01749853976070881, 0.016956331208348274, 0.021978138014674187, 0.038095854222774506, 0.06996133178472519, 0.016274459660053253, 0.020850013941526413, 0.02059450000524521, 0.0246136412024498, 0.012031438760459423, 0.09457949548959732, 0.03956221044063568, 0.03329304978251457, 0.04925575107336044, 0.07368431240320206, 0.20455142855644226, 0.0628097653388977], [0.026360969990491867, 0.018493391573429108, 0.02319181337952614, 0.011544075794517994, 0.033268824219703674, 0.014456824399530888, 0.01917153224349022, 0.021190982311964035, 0.026095187291502953, 0.023795345798134804, 0.018441885709762573, 0.0378309041261673, 0.035977039486169815, 0.08390191942453384, 0.016318777576088905, 0.015939032658934593, 0.020908871665596962, 0.04623492807149887, 0.017453934997320175, 0.08206567913293839, 0.03786587342619896, 0.04172009974718094, 0.04552582651376724, 0.041279423981904984, 0.16353082656860352, 0.01727338135242462, 0.06016267091035843]]},\n",
              "                preset: 'viridis'\n",
              "             })\n",
              "\n",
              "             window.ecco[viz_id].init();\n",
              "             window.ecco[viz_id].selectFirstToken();\n",
              "\n",
              "             }, function (err) {\n",
              "                console.log(err);\n",
              "            })"
            ],
            "text/plain": [
              "<IPython.core.display.Javascript object>"
            ]
          },
          "metadata": {
            "tags": []
          }
        }
      ]
    },
    {
      "cell_type": "code",
      "metadata": {
        "colab": {
          "base_uri": "https://localhost:8080/",
          "height": 119
        },
        "id": "rRM7NKV91TCk",
        "outputId": "5ca93574-3494-45dc-e420-0dd445bcaf08"
      },
      "source": [
        "output.saliency(style=\"detailed\")"
      ],
      "execution_count": null,
      "outputs": [
        {
          "output_type": "display_data",
          "data": {
            "text/html": [
              "<html lang=\"en\">\n",
              "<script src=\"https://requirejs.org/docs/release/2.3.6/minified/require.js\"></script>\n",
              "<script>\n",
              "    var ecco_url = 'https://storage.googleapis.com/ml-intro/ecco/'\n",
              "    // var ecco_url = 'http://localhost:8000/ecco/'\n",
              "\n",
              "    if (window.ecco === undefined) window.ecco = {}\n",
              "\n",
              "    requirejs.config({\n",
              "        urlArgs: \"bust=\" + (new Date()).getTime(),\n",
              "        nodeRequire: require,\n",
              "        paths: {\n",
              "            d3: \"https://d3js.org/d3.v5.min\",\n",
              "            \"d3-array\": \"https://d3js.org/d3-array.v2.min\",\n",
              "            jquery: \"https://code.jquery.com/jquery-3.5.1.min\",\n",
              "            // oldEcco: ecco_url + 'ecco',\n",
              "            ecco: ecco_url + 'js/0.0.4/ecco-bundle.min',\n",
              "            xregexp: 'https://cdnjs.cloudflare.com/ajax/libs/xregexp/3.2.0/xregexp-all.min'\n",
              "        }\n",
              "    });\n",
              "    requirejs(['d3'],\n",
              "        function (d3) {\n",
              "            d3.select('#css').attr('href', ecco_url + 'html/styles.css')\n",
              "        })\n",
              "\n",
              "    console.log('Ecco initialize.')\n",
              "</script>\n",
              "\n",
              "<head>\n",
              "    <link id='css' rel=\"stylesheet\" type=\"text/css\">\n",
              "</head>\n"
            ],
            "text/plain": [
              "<IPython.core.display.HTML object>"
            ]
          },
          "metadata": {
            "tags": []
          }
        },
        {
          "output_type": "display_data",
          "data": {
            "text/html": [
              "<script>\n",
              "    // console.log('defining basic')\n",
              "    define('basic', ['d3'],\n",
              "        function (d3) {\n",
              "            return {\n",
              "                init: function (viz_id = null) {\n",
              "\n",
              "                    // console.log('basic init')\n",
              "                    if (viz_id == null){\n",
              "                        viz_id = \"viz_\" + Math.round(Math.random() * 10000000)\n",
              "                    }\n",
              "                    const div = d3.select('#basic').attr('id', viz_id),\n",
              "                        div_parent = d3.select('#' + viz_id).node().parentNode\n",
              "\n",
              "                    // Link to CSS file\n",
              "                    d3.select(div_parent).insert('link')\n",
              "                        .attr('rel', 'stylesheet')\n",
              "                        .attr('type', 'text/css')\n",
              "                        .attr('href', ecco_url + 'html/styles.css')\n",
              "\n",
              "                    return viz_id\n",
              "                }\n",
              "            }\n",
              "        }, function (err) {console.log(err);}\n",
              "    )\n",
              "    // console.log('after defining basic')\n",
              "\n",
              "</script>\n",
              "<div id=\"basic\"></div>\n"
            ],
            "text/plain": [
              "<IPython.core.display.HTML object>"
            ]
          },
          "metadata": {
            "tags": []
          }
        },
        {
          "output_type": "display_data",
          "data": {
            "application/javascript": [
              "\n",
              "             requirejs(['basic', 'ecco'], function(basic, ecco){\n",
              "                const viz_id = basic.init()\n",
              "                window.ecco[viz_id] = ecco.interactiveTokens(viz_id, {'tokens': [{'token': 'You', 'token_id': 1639, 'type': 'input', 'value': '0.09722087', 'position': 0}, {'token': \"'ve\", 'token_id': 1053, 'type': 'input', 'value': '0.06900729', 'position': 1}, {'token': ' Got', 'token_id': 11853, 'type': 'input', 'value': '0.14300217', 'position': 2}, {'token': ' to', 'token_id': 284, 'type': 'input', 'value': '0.06628015', 'position': 3}, {'token': ' Hide', 'token_id': 10415, 'type': 'input', 'value': '0.28045052', 'position': 4}, {'token': ' Your', 'token_id': 3406, 'type': 'input', 'value': '0.050368216', 'position': 5}, {'token': ' Love', 'token_id': 5896, 'type': 'input', 'value': '0.07784914', 'position': 6}, {'token': ' Away', 'token_id': 21986, 'type': 'input', 'value': '0.21582167', 'position': 7}, {'token': '\\n', 'token_id': 198, 'type': 'output', 'value': '0', 'position': 8}, {'token': '\\n', 'token_id': 198, 'type': 'output', 'value': '0', 'position': 9}, {'token': 'The', 'token_id': 464, 'type': 'output', 'value': '0', 'position': 10}, {'token': ' last', 'token_id': 938, 'type': 'output', 'value': '0', 'position': 11}, {'token': ' few', 'token_id': 1178, 'type': 'output', 'value': '0', 'position': 12}, {'token': ' albums', 'token_id': 16788, 'type': 'output', 'value': '0', 'position': 13}, {'token': ' of', 'token_id': 286, 'type': 'output', 'value': '0', 'position': 14}, {'token': ' The', 'token_id': 383, 'type': 'output', 'value': '0', 'position': 15}, {'token': ' World', 'token_id': 2159, 'type': 'output', 'value': '0', 'position': 16}, {'token': ' According', 'token_id': 4784, 'type': 'output', 'value': '0', 'position': 17}, {'token': ' to', 'token_id': 284, 'type': 'output', 'value': '0', 'position': 18}, {'token': ' Rih', 'token_id': 44502, 'type': 'output', 'value': '0', 'position': 19}, {'token': 'anna', 'token_id': 7697, 'type': 'output', 'value': '0', 'position': 20}, {'token': ' were', 'token_id': 547, 'type': 'output', 'value': '0', 'position': 21}, {'token': ' a', 'token_id': 257, 'type': 'output', 'value': '0', 'position': 22}, {'token': ' few', 'token_id': 1178, 'type': 'output', 'value': '0', 'position': 23}, {'token': ' verses', 'token_id': 24752, 'type': 'output', 'value': '0', 'position': 24}, {'token': ' in', 'token_id': 287, 'type': 'output', 'value': '0', 'position': 25}, {'token': ' the', 'token_id': 262, 'type': 'output', 'value': '0', 'position': 26}, {'token': ' \"', 'token_id': 366, 'type': 'output', 'value': '0', 'position': 27}], 'attributions': [[0.09722086787223816, 0.06900729238986969, 0.14300216734409332, 0.06628014892339706, 0.2804505228996277, 0.05036821588873863, 0.0778491422533989, 0.21582166850566864], [0.12432669848203659, 0.09215585142374039, 0.10842867940664291, 0.06375227123498917, 0.19711777567863464, 0.07104486227035522, 0.09954338520765305, 0.13430242240428925, 0.10932803153991699], [0.10530062019824982, 0.07462123781442642, 0.1257963627576828, 0.04734489694237709, 0.1547423154115677, 0.08461126685142517, 0.10608978569507599, 0.0921771377325058, 0.10409419238567352, 0.10522222518920898], [0.09706196933984756, 0.08681193739175797, 0.11958545446395874, 0.05616291984915733, 0.14142322540283203, 0.07967658340930939, 0.10189884901046753, 0.07981424778699875, 0.09674413502216339, 0.07121670991182327, 0.06960392743349075], [0.08297276496887207, 0.06945560872554779, 0.08971010893583298, 0.09599120169878006, 0.10385332256555557, 0.05370119586586952, 0.07122313976287842, 0.05814497172832489, 0.12145272642374039, 0.06662723422050476, 0.060318898409605026, 0.12654884159564972], [0.06581487506628036, 0.04789339005947113, 0.06062984839081764, 0.09629382938146591, 0.08283501118421555, 0.03828289359807968, 0.05643322318792343, 0.04751043766736984, 0.17697101831436157, 0.0625651478767395, 0.058685053139925, 0.07071526348590851, 0.13537000119686127], [0.060019779950380325, 0.052887074649333954, 0.048279594630002975, 0.07077272981405258, 0.07424234598875046, 0.026599403470754623, 0.03620913252234459, 0.03727623447775841, 0.03421494737267494, 0.03610910102725029, 0.04847632348537445, 0.06280648708343506, 0.07672428339719772, 0.3353825807571411], [0.055025093257427216, 0.04920058324933052, 0.05291988328099251, 0.03271487355232239, 0.08490487933158875, 0.045276839286088943, 0.057526398450136185, 0.04381115734577179, 0.03349576145410538, 0.03463604301214218, 0.03050616942346096, 0.03981238976120949, 0.04969184473156929, 0.3089570701122284, 0.08152110874652863], [0.062223438173532486, 0.04129672423005104, 0.04685810208320618, 0.0352480374276638, 0.07147406786680222, 0.035806283354759216, 0.04325753450393677, 0.04441171512007713, 0.045275039970874786, 0.02571028284728527, 0.08673650771379471, 0.037513017654418945, 0.04613737761974335, 0.24402275681495667, 0.03271286562085152, 0.10131627321243286], [0.04652965068817139, 0.028261959552764893, 0.04037729650735855, 0.09190189093351364, 0.051237814128398895, 0.025447087362408638, 0.02481696382164955, 0.024981724098324776, 0.09358878433704376, 0.03810230270028114, 0.039514895528554916, 0.025159060955047607, 0.031742680817842484, 0.13218747079372406, 0.04852514714002609, 0.06487642228603363, 0.19274884462356567], [0.029132109135389328, 0.02082139253616333, 0.03417247161269188, 0.027172723785042763, 0.04395264759659767, 0.022047048434615135, 0.025300879031419754, 0.024065174162387848, 0.03830375894904137, 0.023017384111881256, 0.03000154346227646, 0.020084748044610023, 0.02778131701052189, 0.08260888606309891, 0.028604401275515556, 0.05925211310386658, 0.13691873848438263, 0.32676270604133606], [0.040873728692531586, 0.022028353065252304, 0.03374365344643593, 0.06824732571840286, 0.046816036105155945, 0.023882359266281128, 0.02319205366075039, 0.022654075175523758, 0.06652665883302689, 0.042016517370939255, 0.028114058077335358, 0.022693051025271416, 0.024671168997883797, 0.0988987386226654, 0.04059764742851257, 0.05527094006538391, 0.0645579993724823, 0.13441284000873566, 0.14080290496349335], [0.024392440915107727, 0.014169111847877502, 0.021770596504211426, 0.03825481981039047, 0.03313744440674782, 0.015202082693576813, 0.024348290637135506, 0.014701559208333492, 0.023611417040228844, 0.021768055856227875, 0.016625897958874702, 0.01159610878676176, 0.016221532598137856, 0.060979679226875305, 0.04110321030020714, 0.04687502980232239, 0.05350435525178909, 0.08192909508943558, 0.03513244166970253, 0.4046768248081207], [0.02916661649942398, 0.024482283741235733, 0.02636812999844551, 0.04474729299545288, 0.04400838166475296, 0.020583394914865494, 0.021779092028737068, 0.026204504072666168, 0.031880348920822144, 0.023890407755970955, 0.027562089264392853, 0.033374443650245667, 0.0519818514585495, 0.1391693651676178, 0.03859037533402443, 0.021194662898778915, 0.030867625027894974, 0.0706949532032013, 0.026275036856532097, 0.14298266172409058, 0.12419645488262177], [0.0360160768032074, 0.027282273396849632, 0.03060956671833992, 0.053356241434812546, 0.05076586827635765, 0.020530639216303825, 0.02571612037718296, 0.030574096366763115, 0.07645554840564728, 0.04354254528880119, 0.03057205304503441, 0.042340297251939774, 0.035325463861227036, 0.11751041561365128, 0.043302591890096664, 0.027325568720698357, 0.01692907139658928, 0.04369866102933884, 0.026909027248620987, 0.0884421095252037, 0.039419565349817276, 0.09337624907493591], [0.03782203420996666, 0.025724193081259727, 0.03232463076710701, 0.0431416854262352, 0.049619242548942566, 0.0260693971067667, 0.02659640461206436, 0.025395475327968597, 0.025619670748710632, 0.030402032658457756, 0.0348447784781456, 0.048576146364212036, 0.04794134199619293, 0.16759048402309418, 0.04089372977614403, 0.02080967277288437, 0.012433020398020744, 0.03942490741610527, 0.01898319460451603, 0.05840891972184181, 0.03371167182922363, 0.04617641493678093, 0.10749100148677826], [0.027125166729092598, 0.02189546823501587, 0.02611478604376316, 0.05083686485886574, 0.04766382649540901, 0.022753240540623665, 0.025528190657496452, 0.02724282629787922, 0.06872928887605667, 0.026916490867733955, 0.023150868713855743, 0.030167799443006516, 0.04211324825882912, 0.09454146027565002, 0.018568338826298714, 0.01988641731441021, 0.02404908463358879, 0.05236012861132622, 0.01577575132250786, 0.06351672857999802, 0.03367038443684578, 0.03661354258656502, 0.04661423712968826, 0.1541658639907837], [0.022742800414562225, 0.020812951028347015, 0.023038750514388084, 0.03259021416306496, 0.03293577954173088, 0.01593364216387272, 0.018727006390690804, 0.02062178961932659, 0.01836423948407173, 0.01874510943889618, 0.01905507594347, 0.02136509120464325, 0.028722740709781647, 0.08840276300907135, 0.023964395746588707, 0.015867792069911957, 0.013811899349093437, 0.027212942019104958, 0.01582678034901619, 0.06286852806806564, 0.02723889984190464, 0.03141263127326965, 0.027473084628582, 0.05607107654213905, 0.31619399785995483], [0.029278341680765152, 0.018228601664304733, 0.01945948787033558, 0.022468477487564087, 0.026526479050517082, 0.013326125219464302, 0.017171960324048996, 0.017936158925294876, 0.01901404745876789, 0.01749853976070881, 0.016956331208348274, 0.021978138014674187, 0.038095854222774506, 0.06996133178472519, 0.016274459660053253, 0.020850013941526413, 0.02059450000524521, 0.0246136412024498, 0.012031438760459423, 0.09457949548959732, 0.03956221044063568, 0.03329304978251457, 0.04925575107336044, 0.07368431240320206, 0.20455142855644226, 0.0628097653388977], [0.026360969990491867, 0.018493391573429108, 0.02319181337952614, 0.011544075794517994, 0.033268824219703674, 0.014456824399530888, 0.01917153224349022, 0.021190982311964035, 0.026095187291502953, 0.023795345798134804, 0.018441885709762573, 0.0378309041261673, 0.035977039486169815, 0.08390191942453384, 0.016318777576088905, 0.015939032658934593, 0.020908871665596962, 0.04623492807149887, 0.017453934997320175, 0.08206567913293839, 0.03786587342619896, 0.04172009974718094, 0.04552582651376724, 0.041279423981904984, 0.16353082656860352, 0.01727338135242462, 0.06016267091035843]]})\n",
              "\n",
              "             }, function (err) {\n",
              "                console.log(err);\n",
              "            })"
            ],
            "text/plain": [
              "<IPython.core.display.Javascript object>"
            ]
          },
          "metadata": {
            "tags": []
          }
        }
      ]
    }
  ]
}